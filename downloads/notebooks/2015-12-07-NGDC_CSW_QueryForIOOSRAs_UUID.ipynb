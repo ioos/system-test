{
 "metadata": {
  "kernelspec": {
   "display_name": "Python 2",
   "language": "python",
   "name": "python2"
  },
  "language_info": {
   "codemirror_mode": {
    "name": "ipython",
    "version": 2
   },
   "file_extension": ".py",
   "mimetype": "text/x-python",
   "name": "python",
   "nbconvert_exporter": "python",
   "pygments_lexer": "ipython2",
   "version": "2.7.10"
  },
  "name": "",
  "signature": "sha256:b73328d472350e5b10d80020a8e722a96c077c7efa120cfbe609bb221209dd91"
 },
 "nbformat": 3,
 "nbformat_minor": 0,
 "worksheets": [
  {
   "cells": [
    {
     "cell_type": "code",
     "collapsed": false,
     "input": [
      "\"\"\"\n",
      "The original notebook is NGDC_CSW_QueryForIOOSRAs_UUID.ipynb\n",
      "\n",
      "Created by Emilio Mayorga, 2/10/2014\n",
      "\"\"\"\n",
      "\n",
      "title = 'Catalog based search for the IOOS Regional Associations using UUID'\n",
      "name = '2015-12-07-NGDC_CSW_QueryForIOOSRAs_UUID'"
     ],
     "language": "python",
     "metadata": {},
     "outputs": [],
     "prompt_number": 1
    },
    {
     "cell_type": "code",
     "collapsed": false,
     "input": [
      "%matplotlib inline\n",
      "import seaborn\n",
      "seaborn.set(style='ticks')\n",
      "\n",
      "import os\n",
      "from datetime import datetime\n",
      "from IPython.core.display import HTML\n",
      "\n",
      "import warnings\n",
      "warnings.simplefilter(\"ignore\")\n",
      "\n",
      "# Metadata and markdown generation.\n",
      "hour = datetime.utcnow().strftime('%H:%M')\n",
      "comments = \"true\"\n",
      "\n",
      "date = '-'.join(name.split('-')[:3])\n",
      "slug = '-'.join(name.split('-')[3:])\n",
      "\n",
      "metadata = dict(title=title,\n",
      "                date=date,\n",
      "                hour=hour,\n",
      "                comments=comments,\n",
      "                slug=slug,\n",
      "                name=name)\n",
      "\n",
      "markdown = \"\"\"Title: {title}\n",
      "date:  {date} {hour}\n",
      "comments: {comments}\n",
      "slug: {slug}\n",
      "\n",
      "{{% notebook {name}.ipynb cells[2:] %}}\n",
      "\"\"\".format(**metadata)\n",
      "\n",
      "content = os.path.abspath(os.path.join(os.getcwd(), os.pardir,\n",
      "                                       os.pardir, '{}.md'.format(name)))\n",
      "\n",
      "with open('{}'.format(content), 'w') as f:\n",
      "    f.writelines(markdown)\n",
      "\n",
      "\n",
      "html = \"\"\"\n",
      "<small>\n",
      "<p> This post was written as an IPython notebook.  It is available for\n",
      "<a href=\"http://ioos.github.com/system-test/downloads/\n",
      "notebooks/%s.ipynb\">download</a>.  You can also try an interactive version on\n",
      "<a href=\"http://mybinder.org/repo/ioos/system-test/\">binder</a>.</p>\n",
      "<p></p>\n",
      "\"\"\" % (name)"
     ],
     "language": "python",
     "metadata": {},
     "outputs": [
      {
       "output_type": "stream",
       "stream": "stderr",
       "text": [
        "/home/filipe/miniconda/envs/ioos_blog/lib/python2.7/site-packages/matplotlib/__init__.py:872: UserWarning: axes.color_cycle is deprecated and replaced with axes.prop_cycle; please use the latter.\n",
        "  warnings.warn(self.msg_depr % (key, alt_key))\n"
       ]
      }
     ],
     "prompt_number": 2
    },
    {
     "cell_type": "markdown",
     "metadata": {},
     "source": [
      "In the [previous example](https://ioos.github.io/system-test/blog/2015/11/23/NGDC_CSW_QueryForIOOSRAs/) we investigated if it was possible to query the NGDC CSW Catalog to extract records matching an IOOS RA acronym.\n",
      "However, we could not trust the results.\n",
      "Some RAs results in just a few records or no record at all, like AOOS and PacIOOS respectively.\n",
      "\n",
      "We can make a more robust search using the [UUID](https://en.wikipedia.org/wiki/Universally_unique_identifier) rather than the acronym.\n",
      "The advantage is that all records will be associated to an UUID,\n",
      "hence a more robust search.\n",
      "The disadvantage is that we need to keep track of a long and unintelligible identification.\n",
      "\n",
      "As usual let's start by instantiating the csw catalog object."
     ]
    },
    {
     "cell_type": "code",
     "collapsed": false,
     "input": [
      "from owslib.csw import CatalogueServiceWeb\n",
      "\n",
      "endpoint = 'http://www.ngdc.noaa.gov/geoportal/csw'\n",
      "csw = CatalogueServiceWeb(endpoint, timeout=30)"
     ],
     "language": "python",
     "metadata": {},
     "outputs": [],
     "prompt_number": 3
    },
    {
     "cell_type": "markdown",
     "metadata": {},
     "source": [
      "We will use the same list of all the Regional Associations as before,\n",
      "but now we will match them with the corresponding UUID from the [IOOS registry](https://github.com/ioos/registry/blob/master/uuid.csv)."
     ]
    },
    {
     "cell_type": "code",
     "collapsed": false,
     "input": [
      "import pandas as pd\n",
      "\n",
      "ioos_ras = ['AOOS',      # Alaska\n",
      "            'CaRA',      # Caribbean\n",
      "            'CeNCOOS',   # Central and Northern California\n",
      "            'GCOOS',     # Gulf of Mexico\n",
      "            'GLOS',      # Great Lakes\n",
      "            'MARACOOS',  # Mid-Atlantic\n",
      "            'NANOOS',    # Pacific Northwest \n",
      "            'NERACOOS',  # Northeast Atlantic \n",
      "            'PacIOOS',   # Pacific Islands \n",
      "            'SCCOOS',    # Southern California\n",
      "            'SECOORA']   # Southeast Atlantic\n",
      "\n",
      "url = 'https://raw.githubusercontent.com/ioos/registry/master/uuid.csv'\n",
      "\n",
      "df = pd.read_csv(url, index_col=0, header=0, names=['UUID'])\n",
      "df['UUID'] = df['UUID'].str.strip()"
     ],
     "language": "python",
     "metadata": {},
     "outputs": [],
     "prompt_number": 4
    },
    {
     "cell_type": "markdown",
     "metadata": {},
     "source": [
      "The function below is similar to the one we used before.\n",
      "Note the same matching (`PropertyIsEqualTo`),\n",
      "but different property name (`sys.siteuuid` rather than `apiso:Keywords`).\n",
      "\n",
      "That is the key difference for the robustness of the search,\n",
      "keywords are not always defined and might return bogus matching.\n",
      "While UUID will always mean one RA."
     ]
    },
    {
     "cell_type": "code",
     "collapsed": false,
     "input": [
      "from owslib.fes import PropertyIsEqualTo\n",
      "\n",
      "def query_ra(csw, uuid):\n",
      "    q = PropertyIsEqualTo(propertyname='sys.siteuuid', literal='%s' % uuid)\n",
      "    csw.getrecords2(constraints=[q], maxrecords=2000, esn='full')\n",
      "    return csw"
     ],
     "language": "python",
     "metadata": {},
     "outputs": [],
     "prompt_number": 5
    },
    {
     "cell_type": "raw",
     "metadata": {},
     "source": [
      "Here is what we got:"
     ]
    },
    {
     "cell_type": "code",
     "collapsed": false,
     "input": [
      "for ra in ioos_ras:\n",
      "    try:\n",
      "        uuid = df.ix[ra]['UUID']\n",
      "        csw = query_ra(csw, uuid)\n",
      "        ret = csw.results['returned']\n",
      "        word = 'records' if ret > 1 else 'record'\n",
      "        print(\"{0:>8} has {1:>4} {2}\".format(ra, ret, word))\n",
      "        csw.records.clear()\n",
      "    except KeyError:\n",
      "        pass"
     ],
     "language": "python",
     "metadata": {},
     "outputs": [
      {
       "output_type": "stream",
       "stream": "stdout",
       "text": [
        "    AOOS has   74 records\n",
        "   GCOOS has    8 records"
       ]
      },
      {
       "output_type": "stream",
       "stream": "stdout",
       "text": [
        "\n",
        "    GLOS has   20 records"
       ]
      },
      {
       "output_type": "stream",
       "stream": "stdout",
       "text": [
        "\n",
        "MARACOOS has  468 records"
       ]
      },
      {
       "output_type": "stream",
       "stream": "stdout",
       "text": [
        "\n",
        "  NANOOS has    8 records"
       ]
      },
      {
       "output_type": "stream",
       "stream": "stdout",
       "text": [
        "\n",
        "NERACOOS has 1109 records"
       ]
      },
      {
       "output_type": "stream",
       "stream": "stdout",
       "text": [
        "\n",
        " PacIOOS has  192 records"
       ]
      },
      {
       "output_type": "stream",
       "stream": "stdout",
       "text": [
        "\n",
        "  SCCOOS has   23 records"
       ]
      },
      {
       "output_type": "stream",
       "stream": "stdout",
       "text": [
        "\n",
        " SECOORA has  100 records"
       ]
      },
      {
       "output_type": "stream",
       "stream": "stdout",
       "text": [
        "\n"
       ]
      }
     ],
     "prompt_number": 6
    },
    {
     "cell_type": "markdown",
     "metadata": {},
     "source": [
      "Compare the results above with `cell [6]` [from before](https://ioos.github.io/system-test/blog/2015/11/23/NGDC_CSW_QueryForIOOSRAs/).  Note that now we got 192 for PacIOOS and 74 for AOOS now!\n",
      "\n",
      "You can see the original notebook [here](https://www.wakari.io/sharing/bundle/emayorga/NGDC_CSW_QueryForIOOSRAs_UUID)."
     ]
    },
    {
     "cell_type": "code",
     "collapsed": false,
     "input": [
      "HTML(html)"
     ],
     "language": "python",
     "metadata": {},
     "outputs": [
      {
       "html": [
        "\n",
        "<small>\n",
        "<p> This post was written as an IPython notebook.  It is available for\n",
        "<a href=\"http://ioos.github.com/system-test/downloads/\n",
        "notebooks/2015-12-07-NGDC_CSW_QueryForIOOSRAs_UUID.ipynb\">download</a>.  You can also try an interactive version on\n",
        "<a href=\"http://mybinder.org/repo/ioos/system-test/\">binder</a>.</p>\n",
        "<p></p>\n"
       ],
       "metadata": {},
       "output_type": "pyout",
       "prompt_number": 7,
       "text": [
        "<IPython.core.display.HTML at 0x7f00310c7650>"
       ]
      }
     ],
     "prompt_number": 7
    }
   ],
   "metadata": {}
  }
 ]
}