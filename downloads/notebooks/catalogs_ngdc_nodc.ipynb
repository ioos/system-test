{
 "metadata": {
  "kernelspec": {
   "display_name": "Python 2",
   "language": "python",
   "name": "python2"
  },
  "language_info": {
   "codemirror_mode": {
    "name": "ipython",
    "version": 2
   },
   "file_extension": ".py",
   "mimetype": "text/x-python",
   "name": "python",
   "nbconvert_exporter": "python",
   "pygments_lexer": "ipython2",
   "version": "2.7.10"
  },
  "name": "",
  "signature": "sha256:013de781979c9779a861ba196f8f6c4242edeafc79e8708c11f93961414b2785"
 },
 "nbformat": 3,
 "nbformat_minor": 0,
 "worksheets": [
  {
   "cells": [
    {
     "cell_type": "code",
     "collapsed": false,
     "input": [
      "from datetime import datetime, timedelta\n",
      "\n",
      "event_date = datetime(2015, 8, 15)\n",
      "\n",
      "start = event_date - timedelta(days=4)\n",
      "stop = event_date + timedelta(days=4)"
     ],
     "language": "python",
     "metadata": {},
     "outputs": [],
     "prompt_number": 1
    },
    {
     "cell_type": "code",
     "collapsed": false,
     "input": [
      "spacing = 0.25\n",
      "\n",
      "bbox = [-71.05-spacing, 42.28-spacing,\n",
      "        -70.82+spacing, 42.38+spacing]"
     ],
     "language": "python",
     "metadata": {},
     "outputs": [],
     "prompt_number": 2
    },
    {
     "cell_type": "code",
     "collapsed": false,
     "input": [
      "import iris\n",
      "from utilities import CF_names\n",
      "\n",
      "sos_name = 'sea_water_temperature'\n",
      "name_list = CF_names[sos_name]\n",
      "\n",
      "units = iris.unit.Unit('celsius')"
     ],
     "language": "python",
     "metadata": {},
     "outputs": [],
     "prompt_number": 3
    },
    {
     "cell_type": "code",
     "collapsed": false,
     "input": [
      "from owslib import fes\n",
      "from utilities import fes_date_filter\n",
      "\n",
      "kw = dict(wildCard='*',\n",
      "          escapeChar='\\\\',\n",
      "          singleChar='?',\n",
      "          propertyname='apiso:AnyText')\n",
      "\n",
      "or_filt = fes.Or([fes.PropertyIsLike(literal=('*%s*' % val), **kw)\n",
      "                  for val in name_list])\n",
      "\n",
      "# Exclude ROMS Averages and History files.\n",
      "not_filt = fes.Not([fes.PropertyIsLike(literal='*Averages*', **kw)])\n",
      "\n",
      "begin, end = fes_date_filter(start, stop)\n",
      "filter_list = [fes.And([fes.BBox(bbox), begin, end, or_filt, not_filt])]"
     ],
     "language": "python",
     "metadata": {},
     "outputs": [],
     "prompt_number": 4
    },
    {
     "cell_type": "code",
     "collapsed": false,
     "input": [
      "from owslib.csw import CatalogueServiceWeb\n",
      "\n",
      "url = dict(ngdc='http://www.ngdc.noaa.gov/geoportal/csw',\n",
      "           nodc='http://data.nodc.noaa.gov/geoportal/csw')\n",
      "\n",
      "csw = CatalogueServiceWeb(url['nodc'],\n",
      "                          timeout=60)\n",
      "\n",
      "csw.getrecords2(constraints=filter_list, maxrecords=1000, esn='full')\n",
      "\n",
      "fmt = '{:*^64}'.format\n",
      "print(fmt(' Catalog information '))\n",
      "print(\"CSW version: {}\".format(csw.version))\n",
      "print(\"Number of datasets available: {}\".format(len(csw.records.keys())))"
     ],
     "language": "python",
     "metadata": {
      "code_folding": []
     },
     "outputs": [
      {
       "output_type": "stream",
       "stream": "stdout",
       "text": [
        "********************* Catalog information **********************\n",
        "CSW version: 2.0.2\n",
        "Number of datasets available: 2\n"
       ]
      }
     ],
     "prompt_number": 5
    },
    {
     "cell_type": "code",
     "collapsed": false,
     "input": [
      "for key, rec in csw.records.items():\n",
      "    services = [d['scheme'] for d in rec.references]\n",
      "    print('{} has: \\n\\t{} services'.format(key, '\\n\\t'.join(services)))"
     ],
     "language": "python",
     "metadata": {},
     "outputs": [
      {
       "output_type": "stream",
       "stream": "stdout",
       "text": [
        "gov.noaa.nodc:0131704 has: \n",
        "\turn:x-esri:specification:ServiceType:ArcIMS:Metadata:Onlink\n",
        "\turn:x-esri:specification:ServiceType:ArcIMS:Metadata:Thumbnail\n",
        "\turn:x-esri:specification:ServiceType:ArcIMS:Metadata:Thumbnail\n",
        "\turn:x-esri:specification:ServiceType:ArcIMS:Metadata:Document\n",
        "\turn:x-esri:specification:ServiceType:TDS\n",
        "\turn:x-esri:specification:ServiceType:FTP\n",
        "\turn:x-esri:specification:ServiceType:OPeNDAP\n",
        "\turn:x-esri:specification:ServiceType:Download services\n",
        "gov.noaa.nodc:0131931 has: \n",
        "\turn:x-esri:specification:ServiceType:ArcIMS:Metadata:Onlink\n",
        "\turn:x-esri:specification:ServiceType:ArcIMS:Metadata:Thumbnail\n",
        "\turn:x-esri:specification:ServiceType:ArcIMS:Metadata:Thumbnail\n",
        "\turn:x-esri:specification:ServiceType:ArcIMS:Metadata:Document\n",
        "\turn:x-esri:specification:ServiceType:TDS\n",
        "\turn:x-esri:specification:ServiceType:FTP\n",
        "\turn:x-esri:specification:ServiceType:OPeNDAP\n",
        "\turn:x-esri:specification:ServiceType:Download services\n"
       ]
      }
     ],
     "prompt_number": 6
    },
    {
     "cell_type": "markdown",
     "metadata": {},
     "source": [
      "How `utilities.service_urls` function expects `urn:x-esri:specification:ServiceType:odp:url`, but we have `urn:x-esri:specification:ServiceType:OPeNDAP` in the NODC catalog.\n",
      "\n",
      "(See https://ioos.github.io/system-test/blog/2015/11/09/Scenario_1A_Model_Strings/)"
     ]
    }
   ],
   "metadata": {}
  }
 ]
}