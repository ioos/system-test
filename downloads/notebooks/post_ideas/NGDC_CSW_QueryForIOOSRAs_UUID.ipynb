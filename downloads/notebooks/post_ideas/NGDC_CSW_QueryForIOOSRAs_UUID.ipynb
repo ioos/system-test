{
 "metadata": {
  "name": "NGDC_CSW_QueryForIOOSRAs_UUID"
 },
 "nbformat": 3,
 "nbformat_minor": 0,
 "worksheets": [
  {
   "cells": [
    {
     "cell_type": "markdown",
     "metadata": {},
     "source": [
      "# Query NGDC Catalog CSW end point to extract records matching an IOOS RA acronym\n",
      "Emilio Mayorga, 2/10/2014\n",
      "\n",
      "Updated by Derrick Snowden 2/11/2014: Attempting to do similar RA specific query using the `sys.siteuuid` key."
     ]
    },
    {
     "cell_type": "code",
     "collapsed": false,
     "input": [
      "from owslib.csw import CatalogueServiceWeb\n",
      "from owslib import fes"
     ],
     "language": "python",
     "metadata": {},
     "outputs": [],
     "prompt_number": 1
    },
    {
     "cell_type": "code",
     "collapsed": false,
     "input": [
      "# NGDC catalog\n",
      "endpoint1 = 'http://www.ngdc.noaa.gov/geoportal/csw'\n",
      "csw1 = CatalogueServiceWeb(endpoint1, timeout=30)"
     ],
     "language": "python",
     "metadata": {},
     "outputs": [],
     "prompt_number": 3
    },
    {
     "cell_type": "code",
     "collapsed": false,
     "input": [
      "# Will query for a subset of RA's (West of the Rockies ...)\n",
      "ioosras = ['SCCOOS', 'CENCOOS', 'NANOOS', 'AOOS', 'PacIOOS']\n"
     ],
     "language": "python",
     "metadata": {},
     "outputs": [],
     "prompt_number": 13
    },
    {
     "cell_type": "markdown",
     "metadata": {},
     "source": [
      "The UUIDs for IOOS RA collections within the NGDC Geoportal are listed on the [NOAA EDM Wiki](https://geo-ide.noaa.gov/wiki/index.php?title=ESRI_Geoportal#IOOS_WAFs) (formerly the geo-ide wiki).\n",
      "                  "
     ]
    },
    {
     "cell_type": "code",
     "collapsed": false,
     "input": [
      "d = {}\n",
      "d={'AOOS': 'text','BOOS':'text2'}\n",
      "   \n",
      "print d['AOOS']"
     ],
     "language": "python",
     "metadata": {},
     "outputs": [
      {
       "output_type": "stream",
       "stream": "stdout",
       "text": [
        "text\n"
       ]
      }
     ],
     "prompt_number": 5
    },
    {
     "cell_type": "code",
     "collapsed": false,
     "input": [
      "ioosra_uuids = {}\n",
      "ioosra_uuids = {\n",
      "'AOOS':'1706F520-2647-4A33-B7BF-592FAFDE4B45',\n",
      "'CARICOOS':'117F1684-A5E3-400E-98D8-A270BDBA1603',\n",
      "'CENCOOS':'4BA5624D-A61F-4C7E-BAEE-7F8BDDB8D9C4',\n",
      "'GCOOS':'003747E7-4818-43CD-937D-44D5B8E2F4E9',\n",
      "'GLOS':'B664427E-6953-4517-A874-78DDBBD3893E',\n",
      "'MARACOOS':'C664F631-6E53-4108-B8DD-EFADF558E408',\n",
      "'MODELING_TESTBED':'1706F520-2647-4A33-B7BF-592FAFDE4B45',\n",
      "'NANOOS':'254CCFC0-E408-4E13-BD62-87567E7586BB',\n",
      "'NAVY':'3B94DAAE-B7E9-4789-993B-0045AD9149D9',\n",
      "'NDBC':'828981B0-0039-4360-9788-E788FA6B0875',\n",
      "'NERACOOS':'E41F4FCD-0297-415D-AC53-967B970C3A3E',\n",
      "'NOS/CO-OPS':'72E748DF-23B1-4E80-A2C4-81E70783094A',\n",
      "'PacIOOS':'68FF11D8-D66B-45EE-B33A-21919BB26421',\n",
      "'SCCOOS':'B70B3E3C-3851-4BA9-8E9B-C9F195DCEAC7',\n",
      "'SECOORA':'B3EA8869-B726-4E39-898A-299E53ABBC98',\n",
      "'USACE':'73019DFF-2E01-4800-91CD-0B3F812256A7',\n",
      "'USGS/CMGP':'C6F11F00-C2BD-4AC6-8E2C-013E16F4932E'\n",
      "}\n"
     ],
     "language": "python",
     "metadata": {},
     "outputs": [],
     "prompt_number": 14
    },
    {
     "cell_type": "code",
     "collapsed": false,
     "input": [
      "def query_and_list_ioosra(uuid,ra_acronym):\n",
      "    \"\"\" Query on apiso:Keywords \"IsEqualTo\" ra_acronym\n",
      "    \"\"\"\n",
      "    #searchfes = fes.PropertyIsEqualTo(propertyname='apiso:Keywords', literal=ra_acronym)\n",
      "    searchfes = fes.PropertyIsEqualTo(propertyname='sys.siteuuid', literal=uuid)\n",
      "    # propertyname='dc:subject' also works (RA acronym is stored as a dc:subject entry)\n",
      "    csw1.getrecords2(constraints=[searchfes], maxrecords=100, esn='full')\n",
      "    recs_returned = csw1.results['returned']\n",
      "    print \" == RA: %s. %d records matched and returned ====== \" % (ra_acronym, recs_returned)\n",
      "    cswkeys_lst = csw1.records.keys()\n",
      "    recssubset = [csw1.records[cswkeys_lst[i]] for i in range(len(cswkeys_lst))]\n",
      "    for reckey in csw1.records.keys():\n",
      "        print '     Record Key: ', reckey\n",
      "        print '          Title: ', csw1.records[reckey].title"
     ],
     "language": "python",
     "metadata": {},
     "outputs": [],
     "prompt_number": 15
    },
    {
     "cell_type": "markdown",
     "metadata": {},
     "source": [
      "Loop through each RA in the list, issue query, and print out results summary"
     ]
    },
    {
     "cell_type": "code",
     "collapsed": false,
     "input": [
      "for ioosra in ioosras:\n",
      "    query_and_list_ioosra(ioosra_uuids[ioosra],ioosra)"
     ],
     "language": "python",
     "metadata": {},
     "outputs": [
      {
       "output_type": "stream",
       "stream": "stdout",
       "text": [
        " == RA: SCCOOS. 0 records matched and returned ====== \n",
        " == RA: CENCOOS. 0 records matched and returned ====== "
       ]
      },
      {
       "output_type": "stream",
       "stream": "stdout",
       "text": [
        "\n",
        " == RA: NANOOS. 0 records matched and returned ====== "
       ]
      },
      {
       "output_type": "stream",
       "stream": "stdout",
       "text": [
        "\n",
        " == RA: AOOS. 0 records matched and returned ====== "
       ]
      },
      {
       "output_type": "stream",
       "stream": "stdout",
       "text": [
        "\n",
        " == RA: PacIOOS. 0 records matched and returned ====== "
       ]
      },
      {
       "output_type": "stream",
       "stream": "stdout",
       "text": [
        "\n"
       ]
      }
     ],
     "prompt_number": 16
    },
    {
     "cell_type": "code",
     "collapsed": false,
     "input": [],
     "language": "python",
     "metadata": {},
     "outputs": []
    }
   ],
   "metadata": {}
  }
 ]
}