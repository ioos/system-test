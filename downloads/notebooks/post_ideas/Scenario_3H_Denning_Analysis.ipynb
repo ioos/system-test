{
 "metadata": {
  "name": ""
 },
 "nbformat": 3,
 "nbformat_minor": 0,
 "worksheets": [
  {
   "cells": [
    {
     "cell_type": "markdown",
     "metadata": {},
     "source": [
      "# IOOS System Test - Theme 3 - Scenario H - [Description](https://github.com/ioos/system-test/wiki/Development-of-Test-Themes#scenario3H)\n",
      "\n",
      "## Exploring Environmental Changes Affecting Polar Bears, part 1: Denning Analysis\n",
      "\n",
      "## Questions\n",
      "1. Can we discover, access and map polar bear denning locations?\n",
      "2. Can we discover, access and map the sea ice edge using NSIDC passive microwave satellite data?\n",
      "3. What is the distance between polar bear denning locations and the closest sea ice edge through time?"
     ]
    },
    {
     "cell_type": "markdown",
     "metadata": {},
     "source": [
      "## Q1 Can we discover, access and map polar bear denning locations? "
     ]
    },
    {
     "cell_type": "code",
     "collapsed": false,
     "input": [],
     "language": "python",
     "metadata": {},
     "outputs": []
    },
    {
     "cell_type": "code",
     "collapsed": false,
     "input": [],
     "language": "python",
     "metadata": {},
     "outputs": []
    }
   ],
   "metadata": {}
  }
 ]
}