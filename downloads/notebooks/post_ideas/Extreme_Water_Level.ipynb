{
 "metadata": {
  "name": "",
  "signature": "sha256:668ec01bc06f11f9c739d47609390ab8eec8a60a8652983fff022c7c75946840"
 },
 "nbformat": 3,
 "nbformat_minor": 0,
 "worksheets": [
  {
   "cells": [
    {
     "cell_type": "markdown",
     "metadata": {},
     "source": [
      "># IOOS System Test: [Extreme Events Theme:](https://github.com/ioos/system-test/wiki/Development-of-Test-Themes#theme-2-extreme-events) Inundation"
     ]
    },
    {
     "cell_type": "markdown",
     "metadata": {},
     "source": [
      "### Can we estimate the return period of a water level by comparing modeled and/or observed water levels with NOAA Annual Exceedance Probability Curves?"
     ]
    },
    {
     "cell_type": "markdown",
     "metadata": {},
     "source": [
      "Methodology:\n",
      "\n",
      "* Define temporal and spatial bounds of interest, as well as parameters of interest\n",
      "* Search for available service endpoints in the NGDC CSW catalog, then inform the user of the DAP (model) and SOS (observation) services endpoints available\n",
      "* Obtain the stations in the spatial boundaries, and processed to obtain observation data for temporal constraints, identifying the yearly max\n",
      "* Plot observation stations on a map and indicate to the user if the minimum number of years has been met for extreme value analysis (red marker if condition is false)\n",
      "* Using DAP (model) endpoints find all available models data sets that fall in the area of interest, for the specified time range, and extract a model grid cell closest all the given station locations\n",
      "* Plot the annual max for each station as a timeseries plot\n",
      "* Plot the annual exceedance probability curve for the Nantucket Island, Ma station and compare to NOAA Tides and Currents plot\n",
      "* The annual exceedance probability curve can be used to estimate the return period of a particular water level, whether it be modeled or observed data.\n"
     ]
    },
    {
     "cell_type": "heading",
     "level": 4,
     "metadata": {},
     "source": [
      "import required libraries"
     ]
    },
    {
     "cell_type": "code",
     "collapsed": false,
     "input": [
      "from datetime import datetime, timedelta\n",
      "import requests\n",
      "from warnings import warn\n",
      "\n",
      "import folium\n",
      "from IPython.display import Image\n",
      "import iris\n",
      "from iris.exceptions import CoordinateNotFoundError, ConstraintMismatchError\n",
      "import matplotlib.pyplot as plt\n",
      "import numpy as np\n",
      "from owslib import fes\n",
      "# from shapely.geometry import Point  # For lat lon points.\n",
      "from owslib.csw import CatalogueServiceWeb\n",
      "import pandas as pd\n",
      "import prettyplotlib as ppl\n",
      "from pyoos.collectors.coops.coops_sos import CoopsSos\n",
      "import scipy.stats as stats\n",
      "\n",
      "from utilities import (get_Coops_longName, fes_date_filter, get_coordinates, service_urls, inline_map, coops2data, find_timevar, \n",
      "                        find_ij, nearxy, mod_df)\n",
      " "
     ],
     "language": "python",
     "metadata": {},
     "outputs": [],
     "prompt_number": 1
    },
    {
     "cell_type": "heading",
     "level": 4,
     "metadata": {},
     "source": [
      "Specify Temporal and Spatial conditions."
     ]
    },
    {
     "cell_type": "code",
     "collapsed": false,
     "input": [
      "# Bounding box of interest,[bottom right[lat,lon], top left[lat,lon]].\n",
      "bounding_box_type = \"box\"\n",
      "# Build a bounding box around Long Island Sound\n",
      "bounding_box = [[-75.94, 39.67],\n",
      "                [-66.94, 41.5]]\n",
      "\n",
      "# Temporal range. Get 30+ yrs obs data for extremal analysis and recent modeled data to compare\n",
      "start_date = datetime(1980, 5, 1).strftime('%Y-%m-%d %H:00')\n",
      "end_date = datetime(2014, 5, 1).strftime('%Y-%m-%d %H:00')\n",
      "time_date_range = [start_date, end_date]\n",
      "\n",
      "jd_now = datetime.utcnow()\n",
      "jd_start,  jd_stop = jd_now - timedelta(days=3), jd_now + timedelta(days=3)\n",
      "\n",
      "jd_start = datetime.strptime(jd_start.strftime('%Y-%m-%d %H:00'), '%Y-%m-%d %H:%M')\n",
      "jd_stop = datetime.strptime(jd_stop.strftime('%Y-%m-%d %H:00'), '%Y-%m-%d %H:%M')\n",
      "\n",
      "print('%s to %s' % (start_date, end_date))"
     ],
     "language": "python",
     "metadata": {},
     "outputs": [
      {
       "output_type": "stream",
       "stream": "stdout",
       "text": [
        "1980-05-01 00:00 to 2014-05-01 00:00\n"
       ]
      }
     ],
     "prompt_number": 2
    },
    {
     "cell_type": "markdown",
     "metadata": {},
     "source": [
      "#### Specify a list of standard names to search for"
     ]
    },
    {
     "cell_type": "code",
     "collapsed": false,
     "input": [
      "name_list = ['water level',\n",
      "             'sea_surface_height',\n",
      "             'sea_surface_elevation',\n",
      "             'sea_surface_height_above_geoid',\n",
      "             'sea_surface_height_above_sea_level',\n",
      "             'water_surface_height_above_reference_datum',\n",
      "             'sea_surface_height_above_reference_ellipsoid',\n",
      "             'sea_surface_height_above_reference_level']\n",
      "\n",
      "sos_name = 'water_surface_height_above_reference_datum'"
     ],
     "language": "python",
     "metadata": {},
     "outputs": [],
     "prompt_number": 3
    },
    {
     "cell_type": "markdown",
     "metadata": {},
     "source": [
      "#### Define the CSW geoportal endpoint "
     ]
    },
    {
     "cell_type": "code",
     "collapsed": false,
     "input": [
      "endpoint = 'http://www.ngdc.noaa.gov/geoportal/csw'  # NGDC Geoportal.\n",
      "csw = CatalogueServiceWeb(endpoint, timeout=60)\n",
      "\n",
      "for oper in csw.operations:\n",
      "    if oper.name == 'GetRecords':\n",
      "        print('\\nISO Queryables:\\n%s' %\n",
      "              '\\n'.join(oper.constraints['SupportedISOQueryables']['values']))\n",
      "\n",
      "# Put the names in a dict for ease of access.\n",
      "data_dict = {}\n",
      "data_dict[\"water\"] = {\"names\": name_list,\n",
      "                      \"sos_name\": sos_name}"
     ],
     "language": "python",
     "metadata": {},
     "outputs": [
      {
       "output_type": "stream",
       "stream": "stdout",
       "text": [
        "\n",
        "ISO Queryables:\n",
        "apiso:Subject\n",
        "apiso:Title\n",
        "apiso:Abstract\n",
        "apiso:AnyText\n",
        "apiso:Format\n",
        "apiso:Identifier\n",
        "apiso:Modified\n",
        "apiso:Type\n",
        "apiso:BoundingBox\n",
        "apiso:CRS.Authority\n",
        "apiso:CRS.ID\n",
        "apiso:CRS.Version\n",
        "apiso:RevisionDate\n",
        "apiso:AlternateTitle\n",
        "apiso:CreationDate\n",
        "apiso:PublicationDate\n",
        "apiso:OrganizationName\n",
        "apiso:HasSecurityConstraints\n",
        "apiso:Language\n",
        "apiso:ResourceIdentifier\n",
        "apiso:ParentIdentifier\n",
        "apiso:KeywordType\n",
        "apiso:TopicCategory\n",
        "apiso:ResourceLanguage\n",
        "apiso:GeographicDescriptionCode\n",
        "apiso:Denominator\n",
        "apiso:DistanceValue\n",
        "apiso:DistanceUOM\n",
        "apiso:TempExtent_begin\n",
        "apiso:TempExtent_end\n",
        "apiso:ServiceType\n",
        "apiso:ServiceTypeVersion\n",
        "apiso:Operation\n",
        "apiso:OperatesOn\n",
        "apiso:OperatesOnIdentifier\n",
        "apiso:OperatesOnName\n",
        "apiso:CouplingType\n"
       ]
      }
     ],
     "prompt_number": 4
    },
    {
     "cell_type": "markdown",
     "metadata": {},
     "source": [
      "#### Convert User Input into FES filters."
     ]
    },
    {
     "cell_type": "code",
     "collapsed": false,
     "input": [
      "start, stop = fes_date_filter(start_date, end_date)\n",
      "box = []\n",
      "box.append(bounding_box[0][0])\n",
      "box.append(bounding_box[0][1])\n",
      "box.append(bounding_box[1][0])\n",
      "box.append(bounding_box[1][1])\n",
      "bbox = fes.BBox(box)\n",
      "\n",
      "or_filt = fes.Or([fes.PropertyIsLike(propertyname='apiso:AnyText',\n",
      "                                     literal=('*%s*' % val),\n",
      "                                     escapeChar='\\\\',\n",
      "                                     wildCard='*',\n",
      "                                     singleChar='?') for val in name_list])\n",
      "val = 'Averages'\n",
      "not_filt = fes.Not([fes.PropertyIsLike(propertyname='apiso:AnyText',\n",
      "                                       literal=('*%s*' % val),\n",
      "                                       escapeChar='\\\\',\n",
      "                                       wildCard='*',\n",
      "                                       singleChar='?')])"
     ],
     "language": "python",
     "metadata": {},
     "outputs": [],
     "prompt_number": 5
    },
    {
     "cell_type": "code",
     "collapsed": false,
     "input": [
      "filter_list = [fes.And([bbox, start, stop, or_filt, not_filt])]\n",
      "# connect to CSW, explore it's properties\n",
      "# try request using multiple filters \"and\" syntax: [[filter1,filter2]]\n",
      "csw.getrecords2(constraints=filter_list,\n",
      "                maxrecords=1000,\n",
      "                esn='full')"
     ],
     "language": "python",
     "metadata": {},
     "outputs": [],
     "prompt_number": 6
    },
    {
     "cell_type": "code",
     "collapsed": false,
     "input": [
      "# Print records that are available:\n",
      "print(\"number of datasets available: %s\" % len(csw.records.keys()))"
     ],
     "language": "python",
     "metadata": {},
     "outputs": [
      {
       "output_type": "stream",
       "stream": "stdout",
       "text": [
        "number of datasets available: 417\n"
       ]
      }
     ],
     "prompt_number": 7
    },
    {
     "cell_type": "markdown",
     "metadata": {},
     "source": [
      "Print all the records (should you want too)."
     ]
    },
    {
     "cell_type": "code",
     "collapsed": false,
     "input": [
      "# print(\"\\n\".join(csw.records))"
     ],
     "language": "python",
     "metadata": {},
     "outputs": [],
     "prompt_number": 8
    },
    {
     "cell_type": "markdown",
     "metadata": {},
     "source": [
      "#### DAP URLs:"
     ]
    },
    {
     "cell_type": "code",
     "collapsed": false,
     "input": [
      "dap_urls = service_urls(csw.records, service='odp:url')\n",
      "\n",
      "# Remove duplicates and organize.\n",
      "dap_urls = sorted(set(dap_urls))\n",
      "print(\"Total DAP: %s\" % len(dap_urls))\n",
      "\n",
      "# print the dap urls...\n",
      "print(\"\\n\".join(dap_urls))"
     ],
     "language": "python",
     "metadata": {},
     "outputs": [
      {
       "output_type": "stream",
       "stream": "stdout",
       "text": [
        "Total DAP: 106\n",
        "http://comt.sura.org/thredds/dodsC/data/comt_1_archive/inundation_tropical/VIMS_SELFE/Hurricane_Ike_2D_final_run_with_waves\n",
        "http://comt.sura.org/thredds/dodsC/data/comt_1_archive/inundation_tropical/VIMS_SELFE/Hurricane_Ike_2D_final_run_without_waves\n",
        "http://comt.sura.org/thredds/dodsC/data/comt_1_archive/inundation_tropical/VIMS_SELFE/Hurricane_Ike_3D_final_run_with_waves\n",
        "http://comt.sura.org/thredds/dodsC/data/comt_1_archive/inundation_tropical/VIMS_SELFE/Hurricane_Ike_3D_final_run_without_waves\n",
        "http://comt.sura.org/thredds/dodsC/data/comt_1_archive/inundation_tropical/VIMS_SELFE/Hurricane_Rita_2D_final_run_with_waves\n",
        "http://comt.sura.org/thredds/dodsC/data/comt_1_archive/inundation_tropical/VIMS_SELFE/Hurricane_Rita_2D_final_run_without_waves\n",
        "http://comt.sura.org/thredds/dodsC/data/comt_1_archive/inundation_tropical/VIMS_SELFE/Hurricane_Rita_3D_final_run_with_waves\n",
        "http://comt.sura.org/thredds/dodsC/data/comt_1_archive/inundation_tropical/VIMS_SELFE/Hurricane_Rita_3D_final_run_without_waves\n",
        "http://data.ioos.us/thredds/dodsC/rutgers/ru23-20131017T1614.nc3.nc.ncml\n",
        "http://geoport-dev.whoi.edu/thredds/dodsC/estofs/atlantic\n",
        "http://geoport.whoi.edu/thredds/dodsC/coawst_4/use/fmrc/coawst_4_use_best.ncd\n",
        "http://oos.soest.hawaii.edu/thredds/dodsC/dist2coast_1deg\n",
        "http://oos.soest.hawaii.edu/thredds/dodsC/dist2coast_4deg\n",
        "http://oos.soest.hawaii.edu/thredds/dodsC/hioos/tide_pac\n",
        "http://oos.soest.hawaii.edu/thredds/dodsC/pacioos/hycom/global\n",
        "http://sos.maracoos.org/stable/dodsC/stationHRPIER84-agg.ncml\n",
        "http://sos.maracoos.org/stable/dodsC/stationHRPMNTH-agg.ncml\n",
        "http://sos.maracoos.org/stable/dodsC/stationHRWSTPTH-agg.ncml\n",
        "http://tds.marine.rutgers.edu/thredds/dodsC/roms/espresso/2013_da/his_Best/ESPRESSO_Real-Time_v2_History_Best_Available_best.ncd\n",
        "http://thredds.axiomalaska.com/thredds/dodsC/Aquarius_V3_SSS_Daily.nc\n",
        "http://thredds.axiomalaska.com/thredds/dodsC/Aquarius_V3_SSS_Monthly.nc\n",
        "http://thredds.axiomalaska.com/thredds/dodsC/Aquarius_V3_SSS_Weekly.nc\n",
        "http://thredds.axiomalaska.com/thredds/dodsC/Aquarius_V3_scat_wind_speed_Daily.nc\n",
        "http://thredds.axiomalaska.com/thredds/dodsC/Aquarius_V3_scat_wind_speed_Monthly.nc\n",
        "http://thredds.axiomalaska.com/thredds/dodsC/Aquarius_V3_scat_wind_speed_Weekly.nc\n",
        "http://thredds.axiomalaska.com/thredds/dodsC/Aquarius_scat_wind_speed_Daily.nc\n",
        "http://thredds.axiomalaska.com/thredds/dodsC/Aquarius_scat_wind_speed_Monthly.nc\n",
        "http://thredds.axiomalaska.com/thredds/dodsC/Aquarius_scat_wind_speed_Trimonthly.nc\n",
        "http://thredds.axiomalaska.com/thredds/dodsC/Aquarius_scat_wind_speed_Weekly.nc\n",
        "http://thredds.cdip.ucsd.edu/thredds/dodsC/cdip/archive/028p1/028p1_d03.nc\n",
        "http://thredds.cdip.ucsd.edu/thredds/dodsC/cdip/archive/028p1/028p1_d07.nc\n",
        "http://thredds.cdip.ucsd.edu/thredds/dodsC/cdip/archive/028p1/028p1_d08.nc\n",
        "http://thredds.cdip.ucsd.edu/thredds/dodsC/cdip/archive/029p1/029p1_d06.nc\n",
        "http://thredds.cdip.ucsd.edu/thredds/dodsC/cdip/archive/029p1/029p1_d13.nc\n",
        "http://thredds.cdip.ucsd.edu/thredds/dodsC/cdip/archive/029p1/029p1_historic.nc\n",
        "http://thredds.cdip.ucsd.edu/thredds/dodsC/cdip/archive/036p1/036p1_d32.nc\n",
        "http://thredds.cdip.ucsd.edu/thredds/dodsC/cdip/archive/045p1/045p1_d12.nc\n",
        "http://thredds.cdip.ucsd.edu/thredds/dodsC/cdip/archive/067p1/067p1_d16.nc\n",
        "http://thredds.cdip.ucsd.edu/thredds/dodsC/cdip/archive/067p1/067p1_historic.nc\n",
        "http://thredds.cdip.ucsd.edu/thredds/dodsC/cdip/archive/071p1/071p1_d07.nc\n",
        "http://thredds.cdip.ucsd.edu/thredds/dodsC/cdip/archive/071p1/071p1_d08.nc\n",
        "http://thredds.cdip.ucsd.edu/thredds/dodsC/cdip/archive/071p1/071p1_historic.nc\n",
        "http://thredds.cdip.ucsd.edu/thredds/dodsC/cdip/archive/091p1/091p1_d14.nc\n",
        "http://thredds.cdip.ucsd.edu/thredds/dodsC/cdip/archive/092p1/092p1_d12.nc\n",
        "http://thredds.cdip.ucsd.edu/thredds/dodsC/cdip/archive/094p1/094p1_d01.nc\n",
        "http://thredds.cdip.ucsd.edu/thredds/dodsC/cdip/archive/094p1/094p1_d04.nc\n",
        "http://thredds.cdip.ucsd.edu/thredds/dodsC/cdip/archive/094p1/094p1_d05.nc\n",
        "http://thredds.cdip.ucsd.edu/thredds/dodsC/cdip/archive/094p1/094p1_d06.nc\n",
        "http://thredds.cdip.ucsd.edu/thredds/dodsC/cdip/archive/094p1/094p1_d07.nc\n",
        "http://thredds.cdip.ucsd.edu/thredds/dodsC/cdip/archive/094p1/094p1_d10.nc\n",
        "http://thredds.cdip.ucsd.edu/thredds/dodsC/cdip/archive/094p1/094p1_d11.nc\n",
        "http://thredds.cdip.ucsd.edu/thredds/dodsC/cdip/archive/094p1/094p1_d12.nc\n",
        "http://thredds.cdip.ucsd.edu/thredds/dodsC/cdip/archive/094p1/094p1_historic.nc\n",
        "http://thredds.cdip.ucsd.edu/thredds/dodsC/cdip/archive/095p1/095p1_d05.nc\n",
        "http://thredds.cdip.ucsd.edu/thredds/dodsC/cdip/archive/095p1/095p1_d06.nc\n",
        "http://thredds.cdip.ucsd.edu/thredds/dodsC/cdip/archive/096p1/096p1_d08.nc\n",
        "http://thredds.cdip.ucsd.edu/thredds/dodsC/cdip/archive/096p1/096p1_d09.nc\n",
        "http://thredds.cdip.ucsd.edu/thredds/dodsC/cdip/archive/096p1/096p1_historic.nc\n",
        "http://thredds.cdip.ucsd.edu/thredds/dodsC/cdip/archive/098p1/098p1_d06.nc\n",
        "http://thredds.cdip.ucsd.edu/thredds/dodsC/cdip/archive/098p1/098p1_d08.nc\n",
        "http://thredds.cdip.ucsd.edu/thredds/dodsC/cdip/archive/098p1/098p1_d12.nc\n",
        "http://thredds.cdip.ucsd.edu/thredds/dodsC/cdip/archive/100p1/100p1_d02.nc\n",
        "http://thredds.cdip.ucsd.edu/thredds/dodsC/cdip/archive/100p1/100p1_d03.nc\n",
        "http://thredds.cdip.ucsd.edu/thredds/dodsC/cdip/archive/100p1/100p1_d05.nc\n",
        "http://thredds.cdip.ucsd.edu/thredds/dodsC/cdip/archive/100p1/100p1_historic.nc\n",
        "http://thredds.cdip.ucsd.edu/thredds/dodsC/cdip/archive/101p1/101p1_d01.nc\n",
        "http://thredds.cdip.ucsd.edu/thredds/dodsC/cdip/archive/102p1/102p1_d01.nc\n",
        "http://thredds.cdip.ucsd.edu/thredds/dodsC/cdip/archive/111p1/111p1_d02.nc\n",
        "http://thredds.cdip.ucsd.edu/thredds/dodsC/cdip/archive/111p1/111p1_d07.nc\n",
        "http://thredds.cdip.ucsd.edu/thredds/dodsC/cdip/archive/114p1/114p1_d04.nc\n",
        "http://thredds.cdip.ucsd.edu/thredds/dodsC/cdip/archive/118p1/118p1_d01.nc\n",
        "http://thredds.cdip.ucsd.edu/thredds/dodsC/cdip/archive/126p1/126p1_d02.nc\n",
        "http://thredds.cdip.ucsd.edu/thredds/dodsC/cdip/archive/128p1/128p1_d07.nc\n",
        "http://thredds.cdip.ucsd.edu/thredds/dodsC/cdip/archive/139p1/139p1_d02.nc\n",
        "http://thredds.cdip.ucsd.edu/thredds/dodsC/cdip/archive/139p1/139p1_d06.nc\n",
        "http://thredds.cdip.ucsd.edu/thredds/dodsC/cdip/archive/139p1/139p1_historic.nc\n",
        "http://thredds.cdip.ucsd.edu/thredds/dodsC/cdip/archive/151p1/151p1_d01.nc\n",
        "http://thredds.cdip.ucsd.edu/thredds/dodsC/cdip/archive/151p1/151p1_historic.nc\n",
        "http://thredds.cdip.ucsd.edu/thredds/dodsC/cdip/archive/152p1/152p1_d01.nc\n",
        "http://thredds.cdip.ucsd.edu/thredds/dodsC/cdip/archive/152p1/152p1_d02.nc\n",
        "http://thredds.cdip.ucsd.edu/thredds/dodsC/cdip/archive/154p1/154p1_d01.nc\n",
        "http://thredds.cdip.ucsd.edu/thredds/dodsC/cdip/archive/154p1/154p1_d02.nc\n",
        "http://thredds.cdip.ucsd.edu/thredds/dodsC/cdip/archive/154p1/154p1_d03.nc\n",
        "http://thredds.cdip.ucsd.edu/thredds/dodsC/cdip/archive/154p1/154p1_d04.nc\n",
        "http://thredds.cdip.ucsd.edu/thredds/dodsC/cdip/archive/154p1/154p1_d05.nc\n",
        "http://thredds.cdip.ucsd.edu/thredds/dodsC/cdip/archive/154p1/154p1_historic.nc\n",
        "http://thredds.cdip.ucsd.edu/thredds/dodsC/cdip/archive/156p1/156p1_d02.nc\n",
        "http://thredds.cdip.ucsd.edu/thredds/dodsC/cdip/archive/162p1/162p1_d02.nc\n",
        "http://thredds.cdip.ucsd.edu/thredds/dodsC/cdip/archive/162p1/162p1_d03.nc\n",
        "http://thredds.cdip.ucsd.edu/thredds/dodsC/cdip/archive/166p1/166p1_d01.nc\n",
        "http://thredds.cdip.ucsd.edu/thredds/dodsC/cdip/archive/168p1/168p1_d05.nc\n",
        "http://thredds.cdip.ucsd.edu/thredds/dodsC/cdip/archive/172p1/172p1_d01.nc\n",
        "http://thredds.cdip.ucsd.edu/thredds/dodsC/cdip/archive/174p1/174p1_d01.nc\n",
        "http://thredds.cdip.ucsd.edu/thredds/dodsC/cdip/archive/175p1/175p1_d01.nc\n",
        "http://thredds.cdip.ucsd.edu/thredds/dodsC/cdip/archive/175p1/175p1_d02.nc\n",
        "http://thredds.cdip.ucsd.edu/thredds/dodsC/cdip/archive/175p1/175p1_d03.nc\n",
        "http://thredds.cdip.ucsd.edu/thredds/dodsC/cdip/archive/175p1/175p1_d04.nc\n",
        "http://thredds.cdip.ucsd.edu/thredds/dodsC/cdip/archive/179p1/179p1_combo_tmp.nc\n",
        "http://thredds.cdip.ucsd.edu/thredds/dodsC/cdip/archive/179p1/179p1_d01.nc\n",
        "http://thredds.cdip.ucsd.edu/thredds/dodsC/cdip/archive/179p1/179p1_d02.nc\n",
        "http://thredds.cdip.ucsd.edu/thredds/dodsC/cdip/archive/179p1/179p1_d03.nc\n",
        "http://thredds.cdip.ucsd.edu/thredds/dodsC/cdip/archive/179p1/179p1_d04.nc\n",
        "http://thredds.cdip.ucsd.edu/thredds/dodsC/cdip/archive/195p1/195p1_d01.nc\n",
        "http://thredds.cdip.ucsd.edu/thredds/dodsC/cdip/archive/204p1/204p1_d01.nc\n",
        "http://thredds.cdip.ucsd.edu/thredds/dodsC/cdip/archive/207p1/207p1_d01.nc\n",
        "http://thredds.cdip.ucsd.edu/thredds/dodsC/cdip/archive/207p1/207p1_historic.nc\n"
       ]
      }
     ],
     "prompt_number": 9
    },
    {
     "cell_type": "markdown",
     "metadata": {},
     "source": [
      "#### SOS URLs:"
     ]
    },
    {
     "cell_type": "code",
     "collapsed": false,
     "input": [
      "sos_urls = service_urls(csw.records, service='sos:url')\n",
      "\n",
      "# Remove duplicates and organize.\n",
      "sos_urls = sorted(set(sos_urls))\n",
      "print(\"Total SOS: %s\" % len(sos_urls))\n",
      "print(\"\\n\".join(sos_urls))"
     ],
     "language": "python",
     "metadata": {},
     "outputs": [
      {
       "output_type": "stream",
       "stream": "stdout",
       "text": [
        "Total SOS: 79\n",
        "http://data.ioos.us/thredds/sos/rutgers/ru23-20131017T1614.nc3.nc.ncml?service=SOS&version=1.0.0&request=GetCapabilities\n",
        "http://opendap.co-ops.nos.noaa.gov/ioos-dif-sos/SOS?service=SOS&request=GetCapabilities\n",
        "http://thredds.cdip.ucsd.edu/thredds/sos/cdip/archive/028p1/028p1_d03.nc?service=SOS&version=1.0.0&request=GetCapabilities\n",
        "http://thredds.cdip.ucsd.edu/thredds/sos/cdip/archive/028p1/028p1_d07.nc?service=SOS&version=1.0.0&request=GetCapabilities\n",
        "http://thredds.cdip.ucsd.edu/thredds/sos/cdip/archive/028p1/028p1_d08.nc?service=SOS&version=1.0.0&request=GetCapabilities\n",
        "http://thredds.cdip.ucsd.edu/thredds/sos/cdip/archive/029p1/029p1_d06.nc?service=SOS&version=1.0.0&request=GetCapabilities\n",
        "http://thredds.cdip.ucsd.edu/thredds/sos/cdip/archive/029p1/029p1_d13.nc?service=SOS&version=1.0.0&request=GetCapabilities\n",
        "http://thredds.cdip.ucsd.edu/thredds/sos/cdip/archive/029p1/029p1_historic.nc?service=SOS&version=1.0.0&request=GetCapabilities\n",
        "http://thredds.cdip.ucsd.edu/thredds/sos/cdip/archive/036p1/036p1_d32.nc?service=SOS&version=1.0.0&request=GetCapabilities\n",
        "http://thredds.cdip.ucsd.edu/thredds/sos/cdip/archive/045p1/045p1_d12.nc?service=SOS&version=1.0.0&request=GetCapabilities\n",
        "http://thredds.cdip.ucsd.edu/thredds/sos/cdip/archive/067p1/067p1_d16.nc?service=SOS&version=1.0.0&request=GetCapabilities\n",
        "http://thredds.cdip.ucsd.edu/thredds/sos/cdip/archive/067p1/067p1_historic.nc?service=SOS&version=1.0.0&request=GetCapabilities\n",
        "http://thredds.cdip.ucsd.edu/thredds/sos/cdip/archive/071p1/071p1_d07.nc?service=SOS&version=1.0.0&request=GetCapabilities\n",
        "http://thredds.cdip.ucsd.edu/thredds/sos/cdip/archive/071p1/071p1_d08.nc?service=SOS&version=1.0.0&request=GetCapabilities\n",
        "http://thredds.cdip.ucsd.edu/thredds/sos/cdip/archive/071p1/071p1_historic.nc?service=SOS&version=1.0.0&request=GetCapabilities\n",
        "http://thredds.cdip.ucsd.edu/thredds/sos/cdip/archive/091p1/091p1_d14.nc?service=SOS&version=1.0.0&request=GetCapabilities\n",
        "http://thredds.cdip.ucsd.edu/thredds/sos/cdip/archive/092p1/092p1_d12.nc?service=SOS&version=1.0.0&request=GetCapabilities\n",
        "http://thredds.cdip.ucsd.edu/thredds/sos/cdip/archive/094p1/094p1_d01.nc?service=SOS&version=1.0.0&request=GetCapabilities\n",
        "http://thredds.cdip.ucsd.edu/thredds/sos/cdip/archive/094p1/094p1_d04.nc?service=SOS&version=1.0.0&request=GetCapabilities\n",
        "http://thredds.cdip.ucsd.edu/thredds/sos/cdip/archive/094p1/094p1_d05.nc?service=SOS&version=1.0.0&request=GetCapabilities\n",
        "http://thredds.cdip.ucsd.edu/thredds/sos/cdip/archive/094p1/094p1_d06.nc?service=SOS&version=1.0.0&request=GetCapabilities\n",
        "http://thredds.cdip.ucsd.edu/thredds/sos/cdip/archive/094p1/094p1_d07.nc?service=SOS&version=1.0.0&request=GetCapabilities\n",
        "http://thredds.cdip.ucsd.edu/thredds/sos/cdip/archive/094p1/094p1_d10.nc?service=SOS&version=1.0.0&request=GetCapabilities\n",
        "http://thredds.cdip.ucsd.edu/thredds/sos/cdip/archive/094p1/094p1_d11.nc?service=SOS&version=1.0.0&request=GetCapabilities\n",
        "http://thredds.cdip.ucsd.edu/thredds/sos/cdip/archive/094p1/094p1_d12.nc?service=SOS&version=1.0.0&request=GetCapabilities\n",
        "http://thredds.cdip.ucsd.edu/thredds/sos/cdip/archive/094p1/094p1_historic.nc?service=SOS&version=1.0.0&request=GetCapabilities\n",
        "http://thredds.cdip.ucsd.edu/thredds/sos/cdip/archive/095p1/095p1_d05.nc?service=SOS&version=1.0.0&request=GetCapabilities\n",
        "http://thredds.cdip.ucsd.edu/thredds/sos/cdip/archive/095p1/095p1_d06.nc?service=SOS&version=1.0.0&request=GetCapabilities\n",
        "http://thredds.cdip.ucsd.edu/thredds/sos/cdip/archive/096p1/096p1_d08.nc?service=SOS&version=1.0.0&request=GetCapabilities\n",
        "http://thredds.cdip.ucsd.edu/thredds/sos/cdip/archive/096p1/096p1_d09.nc?service=SOS&version=1.0.0&request=GetCapabilities\n",
        "http://thredds.cdip.ucsd.edu/thredds/sos/cdip/archive/096p1/096p1_historic.nc?service=SOS&version=1.0.0&request=GetCapabilities\n",
        "http://thredds.cdip.ucsd.edu/thredds/sos/cdip/archive/098p1/098p1_d06.nc?service=SOS&version=1.0.0&request=GetCapabilities\n",
        "http://thredds.cdip.ucsd.edu/thredds/sos/cdip/archive/098p1/098p1_d08.nc?service=SOS&version=1.0.0&request=GetCapabilities\n",
        "http://thredds.cdip.ucsd.edu/thredds/sos/cdip/archive/098p1/098p1_d12.nc?service=SOS&version=1.0.0&request=GetCapabilities\n",
        "http://thredds.cdip.ucsd.edu/thredds/sos/cdip/archive/100p1/100p1_d02.nc?service=SOS&version=1.0.0&request=GetCapabilities\n",
        "http://thredds.cdip.ucsd.edu/thredds/sos/cdip/archive/100p1/100p1_d03.nc?service=SOS&version=1.0.0&request=GetCapabilities\n",
        "http://thredds.cdip.ucsd.edu/thredds/sos/cdip/archive/100p1/100p1_d05.nc?service=SOS&version=1.0.0&request=GetCapabilities\n",
        "http://thredds.cdip.ucsd.edu/thredds/sos/cdip/archive/100p1/100p1_historic.nc?service=SOS&version=1.0.0&request=GetCapabilities\n",
        "http://thredds.cdip.ucsd.edu/thredds/sos/cdip/archive/101p1/101p1_d01.nc?service=SOS&version=1.0.0&request=GetCapabilities\n",
        "http://thredds.cdip.ucsd.edu/thredds/sos/cdip/archive/102p1/102p1_d01.nc?service=SOS&version=1.0.0&request=GetCapabilities\n",
        "http://thredds.cdip.ucsd.edu/thredds/sos/cdip/archive/111p1/111p1_d02.nc?service=SOS&version=1.0.0&request=GetCapabilities\n",
        "http://thredds.cdip.ucsd.edu/thredds/sos/cdip/archive/111p1/111p1_d07.nc?service=SOS&version=1.0.0&request=GetCapabilities\n",
        "http://thredds.cdip.ucsd.edu/thredds/sos/cdip/archive/114p1/114p1_d04.nc?service=SOS&version=1.0.0&request=GetCapabilities\n",
        "http://thredds.cdip.ucsd.edu/thredds/sos/cdip/archive/118p1/118p1_d01.nc?service=SOS&version=1.0.0&request=GetCapabilities\n",
        "http://thredds.cdip.ucsd.edu/thredds/sos/cdip/archive/126p1/126p1_d02.nc?service=SOS&version=1.0.0&request=GetCapabilities\n",
        "http://thredds.cdip.ucsd.edu/thredds/sos/cdip/archive/128p1/128p1_d07.nc?service=SOS&version=1.0.0&request=GetCapabilities\n",
        "http://thredds.cdip.ucsd.edu/thredds/sos/cdip/archive/139p1/139p1_d02.nc?service=SOS&version=1.0.0&request=GetCapabilities\n",
        "http://thredds.cdip.ucsd.edu/thredds/sos/cdip/archive/139p1/139p1_d06.nc?service=SOS&version=1.0.0&request=GetCapabilities\n",
        "http://thredds.cdip.ucsd.edu/thredds/sos/cdip/archive/139p1/139p1_historic.nc?service=SOS&version=1.0.0&request=GetCapabilities\n",
        "http://thredds.cdip.ucsd.edu/thredds/sos/cdip/archive/151p1/151p1_d01.nc?service=SOS&version=1.0.0&request=GetCapabilities\n",
        "http://thredds.cdip.ucsd.edu/thredds/sos/cdip/archive/151p1/151p1_historic.nc?service=SOS&version=1.0.0&request=GetCapabilities\n",
        "http://thredds.cdip.ucsd.edu/thredds/sos/cdip/archive/152p1/152p1_d01.nc?service=SOS&version=1.0.0&request=GetCapabilities\n",
        "http://thredds.cdip.ucsd.edu/thredds/sos/cdip/archive/152p1/152p1_d02.nc?service=SOS&version=1.0.0&request=GetCapabilities\n",
        "http://thredds.cdip.ucsd.edu/thredds/sos/cdip/archive/154p1/154p1_d01.nc?service=SOS&version=1.0.0&request=GetCapabilities\n",
        "http://thredds.cdip.ucsd.edu/thredds/sos/cdip/archive/154p1/154p1_d02.nc?service=SOS&version=1.0.0&request=GetCapabilities\n",
        "http://thredds.cdip.ucsd.edu/thredds/sos/cdip/archive/154p1/154p1_d03.nc?service=SOS&version=1.0.0&request=GetCapabilities\n",
        "http://thredds.cdip.ucsd.edu/thredds/sos/cdip/archive/154p1/154p1_d04.nc?service=SOS&version=1.0.0&request=GetCapabilities\n",
        "http://thredds.cdip.ucsd.edu/thredds/sos/cdip/archive/154p1/154p1_d05.nc?service=SOS&version=1.0.0&request=GetCapabilities\n",
        "http://thredds.cdip.ucsd.edu/thredds/sos/cdip/archive/154p1/154p1_historic.nc?service=SOS&version=1.0.0&request=GetCapabilities\n",
        "http://thredds.cdip.ucsd.edu/thredds/sos/cdip/archive/156p1/156p1_d02.nc?service=SOS&version=1.0.0&request=GetCapabilities\n",
        "http://thredds.cdip.ucsd.edu/thredds/sos/cdip/archive/162p1/162p1_d02.nc?service=SOS&version=1.0.0&request=GetCapabilities\n",
        "http://thredds.cdip.ucsd.edu/thredds/sos/cdip/archive/162p1/162p1_d03.nc?service=SOS&version=1.0.0&request=GetCapabilities\n",
        "http://thredds.cdip.ucsd.edu/thredds/sos/cdip/archive/166p1/166p1_d01.nc?service=SOS&version=1.0.0&request=GetCapabilities\n",
        "http://thredds.cdip.ucsd.edu/thredds/sos/cdip/archive/168p1/168p1_d05.nc?service=SOS&version=1.0.0&request=GetCapabilities\n",
        "http://thredds.cdip.ucsd.edu/thredds/sos/cdip/archive/172p1/172p1_d01.nc?service=SOS&version=1.0.0&request=GetCapabilities\n",
        "http://thredds.cdip.ucsd.edu/thredds/sos/cdip/archive/174p1/174p1_d01.nc?service=SOS&version=1.0.0&request=GetCapabilities\n",
        "http://thredds.cdip.ucsd.edu/thredds/sos/cdip/archive/175p1/175p1_d01.nc?service=SOS&version=1.0.0&request=GetCapabilities\n",
        "http://thredds.cdip.ucsd.edu/thredds/sos/cdip/archive/175p1/175p1_d02.nc?service=SOS&version=1.0.0&request=GetCapabilities\n",
        "http://thredds.cdip.ucsd.edu/thredds/sos/cdip/archive/175p1/175p1_d03.nc?service=SOS&version=1.0.0&request=GetCapabilities\n",
        "http://thredds.cdip.ucsd.edu/thredds/sos/cdip/archive/175p1/175p1_d04.nc?service=SOS&version=1.0.0&request=GetCapabilities\n",
        "http://thredds.cdip.ucsd.edu/thredds/sos/cdip/archive/179p1/179p1_combo_tmp.nc?service=SOS&version=1.0.0&request=GetCapabilities\n",
        "http://thredds.cdip.ucsd.edu/thredds/sos/cdip/archive/179p1/179p1_d01.nc?service=SOS&version=1.0.0&request=GetCapabilities\n",
        "http://thredds.cdip.ucsd.edu/thredds/sos/cdip/archive/179p1/179p1_d02.nc?service=SOS&version=1.0.0&request=GetCapabilities\n",
        "http://thredds.cdip.ucsd.edu/thredds/sos/cdip/archive/179p1/179p1_d03.nc?service=SOS&version=1.0.0&request=GetCapabilities\n",
        "http://thredds.cdip.ucsd.edu/thredds/sos/cdip/archive/179p1/179p1_d04.nc?service=SOS&version=1.0.0&request=GetCapabilities\n",
        "http://thredds.cdip.ucsd.edu/thredds/sos/cdip/archive/195p1/195p1_d01.nc?service=SOS&version=1.0.0&request=GetCapabilities\n",
        "http://thredds.cdip.ucsd.edu/thredds/sos/cdip/archive/204p1/204p1_d01.nc?service=SOS&version=1.0.0&request=GetCapabilities\n",
        "http://thredds.cdip.ucsd.edu/thredds/sos/cdip/archive/207p1/207p1_d01.nc?service=SOS&version=1.0.0&request=GetCapabilities\n",
        "http://thredds.cdip.ucsd.edu/thredds/sos/cdip/archive/207p1/207p1_historic.nc?service=SOS&version=1.0.0&request=GetCapabilities\n"
       ]
      }
     ],
     "prompt_number": 10
    },
    {
     "cell_type": "markdown",
     "metadata": {},
     "source": [
      "### SOS Requirements\n",
      "#### Use Pyoos SOS collector to obtain Observation data from COOPS."
     ]
    },
    {
     "cell_type": "code",
     "collapsed": false,
     "input": [
      "start_time = datetime.strptime(start_date, '%Y-%m-%d %H:%M')\n",
      "end_time = datetime.strptime(end_date, '%Y-%m-%d %H:%M')"
     ],
     "language": "python",
     "metadata": {},
     "outputs": [],
     "prompt_number": 11
    },
    {
     "cell_type": "code",
     "collapsed": false,
     "input": [
      "iso_start = start_time.strftime('%Y-%m-%dT%H:%M:%SZ')\n",
      "iso_end = end_time.strftime('%Y-%m-%dT%H:%M:%SZ')\n",
      "\n",
      "collector = CoopsSos()\n",
      "collector.set_datum('NAVD')\n",
      "collector.server.identification.title\n",
      "collector.start_time = start_time\n",
      "collector.end_time = end_time\n",
      "collector.variables = [data_dict[\"water\"][\"sos_name\"]]"
     ],
     "language": "python",
     "metadata": {},
     "outputs": [],
     "prompt_number": 12
    },
    {
     "cell_type": "code",
     "collapsed": false,
     "input": [
      "print(\"Date: %s to %s\" % (iso_start, iso_end))\n",
      "box_str = ','.join(str(e) for e in box)\n",
      "print(\"Lat/Lon Box: %s\" % box_str)"
     ],
     "language": "python",
     "metadata": {},
     "outputs": [
      {
       "output_type": "stream",
       "stream": "stdout",
       "text": [
        "Date: 1980-05-01T00:00:00Z to 2014-05-01T00:00:00Z\n",
        "Lat/Lon Box: -75.94,39.67,-66.94,41.5\n"
       ]
      }
     ],
     "prompt_number": 13
    },
    {
     "cell_type": "code",
     "collapsed": false,
     "input": [
      "# Grab the opendap sos url and use it for the service.\n",
      "for sos_url in sos_urls:\n",
      "    if 'opendap' in sos_url:\n",
      "        break\n",
      "        \n",
      "url = (sos_url.split(\"?\")[0] + '?'\n",
      "       'service=SOS&request=GetObservation&version=1.0.0&'\n",
      "       'observedProperty=%s&'\n",
      "       'offering=urn:ioos:network:NOAA.NOS.CO-OPS:WaterLevelActive&'\n",
      "       'featureOfInterest=BBOX:%s&responseFormat=text/tab-separated-values&'\n",
      "       'eventTime=%s') % (sos_name, box_str, iso_end)\n",
      "\n",
      "r = requests.get(url)\n",
      "data = r.text\n",
      "# Get the headers for the col.\n",
      "data = data.split(\"\\n\")\n",
      "headers = data[0]\n",
      "station_list_dict = dict()\n",
      "# Parse the headers so I can create a dict.\n",
      "c = 0\n",
      "for h in headers.split(\"\\t\"):\n",
      "    field = h.split(\":\")[0].split(\" \")[0]\n",
      "    station_list_dict[field] = {\"id\": c}\n",
      "    c += 1"
     ],
     "language": "python",
     "metadata": {},
     "outputs": [],
     "prompt_number": 14
    },
    {
     "cell_type": "code",
     "collapsed": false,
     "input": [
      "# Create dict of stations.\n",
      "station_list = []\n",
      "for i in range(1, len(data)):\n",
      "    station_info = data[i].split(\"\\t\")\n",
      "    station = dict()\n",
      "    for field in station_list_dict.keys():\n",
      "        col = station_list_dict[field][\"id\"]\n",
      "        if col < len(station_info):\n",
      "            station[field] = station_info[col]\n",
      "    station[\"type\"] = \"obs\"\n",
      "    if \"latitude\" not in station:\n",
      "        continue\n",
      "    station_list.append(station)\n"
     ],
     "language": "python",
     "metadata": {
      "code_folding": [
       0
      ]
     },
     "outputs": [],
     "prompt_number": 15
    },
    {
     "cell_type": "markdown",
     "metadata": {},
     "source": [
      "#### Go through stations and parse data"
     ]
    },
    {
     "cell_type": "code",
     "collapsed": false,
     "input": [
      "station_yearly_max = []\n",
      "for s in station_list:\n",
      "    if s[\"type\"] is \"obs\" and s['station_id']:  # If its an obs station.\n",
      "        # Get the long name.\n",
      "        sta = s['station_id'].split(':')[-1]\n",
      "        s[\"long_name\"] = get_Coops_longName(sta)\n",
      "        s[\"station_num\"] = str(s['station_id']).split(':')[-1]\n",
      "        # This is different than sos name, hourly height is hourly water level.\n",
      "        s[\"data\"] = coops2data(collector, s[\"station_num\"], \"high_low\")"
     ],
     "language": "python",
     "metadata": {
      "code_folding": [
       0,
       5
      ]
     },
     "outputs": [],
     "prompt_number": 16
    },
    {
     "cell_type": "code",
     "collapsed": false,
     "input": [
      "# Store data in a pandas DataFrame\n",
      "col = 'water_surface_height_above_reference_datum (m)'\n",
      "\n",
      "obs_df = []\n",
      "for s in station_list:\n",
      "    years = s[\"data\"].keys()\n",
      "    xx = []\n",
      "    yx = []\n",
      "    for y in years:\n",
      "        xx.append(int(y))\n",
      "        val = s[\"data\"][y][\"max\"]\n",
      "        yx.append(val)\n",
      "    col = 'Observed Data'\n",
      "    df = pd.DataFrame(np.array(yx),columns=[col],index=years)\n",
      "    df.name = s[\"long_name\"]\n",
      "    obs_df.append(df)\n",
      "    obs_df[-1].name = df.name"
     ],
     "language": "python",
     "metadata": {},
     "outputs": [],
     "prompt_number": 17
    },
    {
     "cell_type": "markdown",
     "metadata": {},
     "source": [
      "### Plot stations on an interactive map"
     ]
    },
    {
     "cell_type": "code",
     "collapsed": false,
     "input": [
      "def add_invalid_marker(m, s, popup_string):\n",
      "    m.circle_marker(location=[s[\"latitude\"], s[\"longitude\"]],\n",
      "                    popup=popup_string, fill_color='#ff0000',\n",
      "                    radius=10000, line_color='#ff0000')"
     ],
     "language": "python",
     "metadata": {},
     "outputs": [],
     "prompt_number": 18
    },
    {
     "cell_type": "code",
     "collapsed": false,
     "input": [
      "# Number of years required for analysis\n",
      "num_years_required = 30\n",
      "\n",
      "#find center of bounding box\n",
      "lat_center = abs(bounding_box[1][1] - bounding_box[0][1])/2 + bounding_box[0][1]\n",
      "lon_center = abs(bounding_box[0][0]-bounding_box[1][0])/2 + bounding_box[0][0]\n",
      "m = folium.Map(location=[lat_center, lon_center], zoom_start=6)\n",
      "\n",
      "for s in station_list:\n",
      "    if \"latitude\" in s:\n",
      "        if len(s[\"data\"].keys()) >= num_years_required:\n",
      "            popup_string = ('<b>Station:</b><br>' + str(s['station_id']) +\n",
      "                            \"<br><b>Long Name:</b><br>\" +\n",
      "                            str(s[\"long_name\"]))\n",
      "            m.simple_marker(location=[s[\"latitude\"], s[\"longitude\"]],\n",
      "                            popup=popup_string)\n",
      "        else:\n",
      "            popup_string = ('<b>Not Enough Station Data for Num of years'\n",
      "                            'requested</b><br><br>Num requested:' +\n",
      "                            str(num_years_required) +\n",
      "                            '<br>Num Available:' +\n",
      "                            str(len(s[\"data\"].keys())) +\n",
      "                            '<br><b>Station:</b><br>' +\n",
      "                            str(s['station_id']) +\n",
      "                            \"<br><b>Long Name:</b><br>\" +\n",
      "                            str(s[\"long_name\"]))\n",
      "            add_invalid_marker(m, s, popup_string)\n",
      "\n",
      "m.line(get_coordinates(bounding_box,bounding_box_type), line_color='#FF0000', line_weight=5)\n",
      "\n",
      "inline_map(m)"
     ],
     "language": "python",
     "metadata": {},
     "outputs": [
      {
       "html": [
        "<iframe srcdoc=\"<!DOCTYPE html>\n",
        "<head>\n",
        "   <meta http-equiv=&quot;content-type&quot; content=&quot;text/html; charset=UTF-8&quot; />\n",
        "   <link rel=&quot;stylesheet&quot; href=&quot;http://cdn.leafletjs.com/leaflet-0.7.3/leaflet.css&quot; />\n",
        "   <script src=&quot;http://cdn.leafletjs.com/leaflet-0.7.3/leaflet.js&quot;></script>\n",
        "\n",
        "   <script src=&quot;https://ajax.googleapis.com/ajax/libs/jquery/1.11.1/jquery.min.js&quot;></script>\n",
        "\n",
        "   <link rel=&quot;stylesheet&quot; href=&quot;//maxcdn.bootstrapcdn.com/bootstrap/3.2.0/css/bootstrap.min.css&quot;>\n",
        "   <link rel=&quot;stylesheet&quot; href=&quot;//maxcdn.bootstrapcdn.com/bootstrap/3.2.0/css/bootstrap-theme.min.css&quot;>\n",
        "   <script src=&quot;//maxcdn.bootstrapcdn.com/bootstrap/3.2.0/js/bootstrap.min.js&quot;></script>\n",
        "\n",
        "   <link href=&quot;//maxcdn.bootstrapcdn.com/font-awesome/4.1.0/css/font-awesome.min.css&quot; rel=&quot;stylesheet&quot;>\n",
        "\n",
        "   <link rel=&quot;stylesheet&quot; href=&quot;https://rawgit.com/lvoogdt/Leaflet.awesome-markers/2.0/develop/dist/leaflet.awesome-markers.css&quot;>\n",
        "   <script src=&quot;https://rawgithub.com/lvoogdt/Leaflet.awesome-markers/2.0/develop/dist/leaflet.awesome-markers.js&quot;></script>\n",
        "\n",
        "\n",
        "   <link rel=&quot;stylesheet&quot; href=&quot;//cdnjs.cloudflare.com/ajax/libs/leaflet.markercluster/0.4.0/MarkerCluster.Default.css&quot;>\n",
        "   <link rel=&quot;stylesheet&quot; href=&quot;//cdnjs.cloudflare.com/ajax/libs/leaflet.markercluster/0.4.0/MarkerCluster.css&quot;>\n",
        "   <script src=&quot;//cdnjs.cloudflare.com/ajax/libs/leaflet.markercluster/0.4.0/leaflet.markercluster-src.js&quot;></script>\n",
        "   <script src=&quot;//cdnjs.cloudflare.com/ajax/libs/leaflet.markercluster/0.4.0/leaflet.markercluster.js&quot;></script>\n",
        "\n",
        "   <link rel=&quot;stylesheet&quot; href=&quot;http://birdage.github.io/Leaflet.awesome-markers/dist/leaflet.awesome.rotate.css&quot;>\n",
        "\n",
        "   \n",
        "   \n",
        "   \n",
        "   \n",
        "\n",
        "   <style>\n",
        "\n",
        "      #map {\n",
        "        position:absolute;\n",
        "        top:0;\n",
        "        bottom:0;\n",
        "        right:0;\n",
        "        left:0;\n",
        "      }\n",
        "\n",
        "   </style>\n",
        "</head>\n",
        "\n",
        "<body>\n",
        "\n",
        "   <div class=&quot;folium-map&quot; id=&quot;folium_9ebf155655c944b28d57ebf7040ec2ec&quot; style=&quot;width: 960px; height: 500px&quot;></div>\n",
        "\n",
        "   <script>\n",
        "\n",
        "      \n",
        "\n",
        "      var base_tile = L.tileLayer('http://{s}.tile.openstreetmap.org/{z}/{x}/{y}.png', {\n",
        "          maxZoom: 18,\n",
        "          attribution: 'Map data (c) <a href=&quot;http://openstreetmap.org&quot;>OpenStreetMap</a> contributors'\n",
        "      });\n",
        "\n",
        "      var baseLayer = {        \n",
        "        &quot;Base Layer&quot;: base_tile\n",
        "      };\n",
        "\n",
        "      /*\n",
        "      addition of the wms layers\n",
        "      */ \n",
        "\n",
        "      \n",
        "      \n",
        "      /*\n",
        "      addition of the tile layers\n",
        "      */\n",
        "      \n",
        "\n",
        "      /*\n",
        "      list of layers to be added\n",
        "      */ \n",
        "      var layer_list = {\n",
        "      \n",
        "      };\n",
        "\n",
        "      /*\n",
        "      Creates the map and adds the selected layers\n",
        "      */\n",
        "      var map = L.map('folium_9ebf155655c944b28d57ebf7040ec2ec', {\n",
        "                                       center:[40.585, -71.44],\n",
        "                                       zoom: 6,\n",
        "                                       layers: [base_tile]\n",
        "                                     });\n",
        "\n",
        "      L.control.layers(baseLayer, layer_list).addTo(map);\n",
        "\n",
        "      //cluster group\n",
        "      var clusteredmarkers = L.markerClusterGroup();\n",
        "      //section for adding clustered markers\n",
        "      \n",
        "      //add the clustered markers to the group anyway\n",
        "      map.addLayer(clusteredmarkers);\n",
        "\n",
        "      \n",
        "      var marker_1_icon = L.AwesomeMarkers.icon({ icon: 'info-sign',markerColor: 'blue',prefix: 'glyphicon',extraClasses: 'fa-rotate-0'});\n",
        "      var marker_1 = L.marker([41.2850, \n",
        "\t\t\t\t\t\t\t-70.0967],\n",
        "\t\t\t\t\t\t\t{'icon':marker_1_icon}\n",
        "\t\t\t\t\t\t\t);\n",
        "      marker_1.bindPopup(&quot;<b>Station:</b><br>urn:ioos:station:NOAA.NOS.CO-OPS:8449130<br><b>Long Name:</b><br>Nantucket Island, MA&quot;);\n",
        "      map.addLayer(marker_1)\n",
        "      \n",
        "      var marker_2_icon = L.AwesomeMarkers.icon({ icon: 'info-sign',markerColor: 'blue',prefix: 'glyphicon',extraClasses: 'fa-rotate-0'});\n",
        "      var marker_2 = L.marker([41.3614, \n",
        "\t\t\t\t\t\t\t-72.0900],\n",
        "\t\t\t\t\t\t\t{'icon':marker_2_icon}\n",
        "\t\t\t\t\t\t\t);\n",
        "      marker_2.bindPopup(&quot;<b>Station:</b><br>urn:ioos:station:NOAA.NOS.CO-OPS:8461490<br><b>Long Name:</b><br>New London, CT&quot;);\n",
        "      map.addLayer(marker_2)\n",
        "      \n",
        "      var marker_3_icon = L.AwesomeMarkers.icon({ icon: 'info-sign',markerColor: 'blue',prefix: 'glyphicon',extraClasses: 'fa-rotate-0'});\n",
        "      var marker_3 = L.marker([40.7006, \n",
        "\t\t\t\t\t\t\t-74.0142],\n",
        "\t\t\t\t\t\t\t{'icon':marker_3_icon}\n",
        "\t\t\t\t\t\t\t);\n",
        "      marker_3.bindPopup(&quot;<b>Station:</b><br>urn:ioos:station:NOAA.NOS.CO-OPS:8518750<br><b>Long Name:</b><br>The Battery, NY&quot;);\n",
        "      map.addLayer(marker_3)\n",
        "      \n",
        "      var marker_4_icon = L.AwesomeMarkers.icon({ icon: 'info-sign',markerColor: 'blue',prefix: 'glyphicon',extraClasses: 'fa-rotate-0'});\n",
        "      var marker_4 = L.marker([40.6367, \n",
        "\t\t\t\t\t\t\t-74.1417],\n",
        "\t\t\t\t\t\t\t{'icon':marker_4_icon}\n",
        "\t\t\t\t\t\t\t);\n",
        "      marker_4.bindPopup(&quot;<b>Station:</b><br>urn:ioos:station:NOAA.NOS.CO-OPS:8519483<br><b>Long Name:</b><br>Bergen Point West Reach, NY&quot;);\n",
        "      map.addLayer(marker_4)\n",
        "      \n",
        "      var marker_5_icon = L.AwesomeMarkers.icon({ icon: 'info-sign',markerColor: 'blue',prefix: 'glyphicon',extraClasses: 'fa-rotate-0'});\n",
        "      var marker_5 = L.marker([40.4669, \n",
        "\t\t\t\t\t\t\t-74.0094],\n",
        "\t\t\t\t\t\t\t{'icon':marker_5_icon}\n",
        "\t\t\t\t\t\t\t);\n",
        "      marker_5.bindPopup(&quot;<b>Station:</b><br>urn:ioos:station:NOAA.NOS.CO-OPS:8531680<br><b>Long Name:</b><br>Sandy Hook, NJ&quot;);\n",
        "      map.addLayer(marker_5)\n",
        "      \n",
        "\n",
        "      \n",
        "      var circle_1 = L.circle([41.2833, -72.9083], 10000, {\n",
        "                            color: '#ff0000',\n",
        "                            fillColor: '#ff0000',\n",
        "                            fillOpacity: 0.6\n",
        "                            });\n",
        "      circle_1.bindPopup(&quot;<b>Not Enough Station Data for Num of yearsrequested</b><br><br>Num requested:30<br>Num Available:16<br><b>Station:</b><br>urn:ioos:station:NOAA.NOS.CO-OPS:8465705<br><b>Long Name:</b><br>New Haven, CT&quot;);\n",
        "      map.addLayer(circle_1)\n",
        "      \n",
        "      var circle_2 = L.circle([41.1733, -73.1817], 10000, {\n",
        "                            color: '#ff0000',\n",
        "                            fillColor: '#ff0000',\n",
        "                            fillOpacity: 0.6\n",
        "                            });\n",
        "      circle_2.bindPopup(&quot;<b>Not Enough Station Data for Num of yearsrequested</b><br><br>Num requested:30<br>Num Available:19<br><b>Station:</b><br>urn:ioos:station:NOAA.NOS.CO-OPS:8467150<br><b>Long Name:</b><br>Bridgeport, CT&quot;);\n",
        "      map.addLayer(circle_2)\n",
        "      \n",
        "      var circle_3 = L.circle([40.8103, -73.7649], 10000, {\n",
        "                            color: '#ff0000',\n",
        "                            fillColor: '#ff0000',\n",
        "                            fillOpacity: 0.6\n",
        "                            });\n",
        "      circle_3.bindPopup(&quot;<b>Not Enough Station Data for Num of yearsrequested</b><br><br>Num requested:30<br>Num Available:17<br><b>Station:</b><br>urn:ioos:station:NOAA.NOS.CO-OPS:8516945<br><b>Long Name:</b><br>Kings Point, NY&quot;);\n",
        "      map.addLayer(circle_3)\n",
        "      \n",
        "      var circle_4 = L.circle([40.0817, -74.8697], 10000, {\n",
        "                            color: '#ff0000',\n",
        "                            fillColor: '#ff0000',\n",
        "                            fillOpacity: 0.6\n",
        "                            });\n",
        "      circle_4.bindPopup(&quot;<b>Not Enough Station Data for Num of yearsrequested</b><br><br>Num requested:30<br>Num Available:13<br><b>Station:</b><br>urn:ioos:station:NOAA.NOS.CO-OPS:8539094<br><b>Long Name:</b><br>Burlington, Delaware River, NJ&quot;);\n",
        "      map.addLayer(circle_4)\n",
        "      \n",
        "      var circle_5 = L.circle([39.8117, -75.4100], 10000, {\n",
        "                            color: '#ff0000',\n",
        "                            fillColor: '#ff0000',\n",
        "                            fillOpacity: 0.6\n",
        "                            });\n",
        "      circle_5.bindPopup(&quot;<b>Not Enough Station Data for Num of yearsrequested</b><br><br>Num requested:30<br>Num Available:13<br><b>Station:</b><br>urn:ioos:station:NOAA.NOS.CO-OPS:8540433<br><b>Long Name:</b><br>Marcus Hook, PA&quot;);\n",
        "      map.addLayer(circle_5)\n",
        "      \n",
        "      var circle_6 = L.circle([39.9333, -75.1417], 10000, {\n",
        "                            color: '#ff0000',\n",
        "                            fillColor: '#ff0000',\n",
        "                            fillOpacity: 0.6\n",
        "                            });\n",
        "      circle_6.bindPopup(&quot;<b>Not Enough Station Data for Num of yearsrequested</b><br><br>Num requested:30<br>Num Available:19<br><b>Station:</b><br>urn:ioos:station:NOAA.NOS.CO-OPS:8545240<br><b>Long Name:</b><br>Philadelphia, PA&quot;);\n",
        "      map.addLayer(circle_6)\n",
        "      \n",
        "      var circle_7 = L.circle([40.1367, -74.7517], 10000, {\n",
        "                            color: '#ff0000',\n",
        "                            fillColor: '#ff0000',\n",
        "                            fillOpacity: 0.6\n",
        "                            });\n",
        "      circle_7.bindPopup(&quot;<b>Not Enough Station Data for Num of yearsrequested</b><br><br>Num requested:30<br>Num Available:14<br><b>Station:</b><br>urn:ioos:station:NOAA.NOS.CO-OPS:8548989<br><b>Long Name:</b><br>Newbold, PA&quot;);\n",
        "      map.addLayer(circle_7)\n",
        "      \n",
        "\n",
        "      \n",
        "      var latLngs = [ [39.67, -75.94],  [39.67, -66.94],  [41.5, -66.94],  [41.5, -75.94],  [39.67, -75.94], ];\n",
        "var line_1 = L.polyline(latLngs,{\n",
        "color: '#FF0000',\n",
        "weight: 5,\n",
        "\n",
        "});\n",
        "      map.addLayer(line_1);\n",
        "      \n",
        "\n",
        "      \n",
        "\n",
        "      \n",
        "\n",
        "   </script>\n",
        "\n",
        "</body>\" style=\"width: 100%; height: 500px; border: none\"></iframe>"
       ],
       "metadata": {},
       "output_type": "pyout",
       "prompt_number": 19,
       "text": [
        "<IPython.core.display.HTML at 0x11f563310>"
       ]
      }
     ],
     "prompt_number": 19
    },
    {
     "cell_type": "markdown",
     "metadata": {},
     "source": [
      "### Creates a time series plot with stations that have enough data"
     ]
    },
    {
     "cell_type": "code",
     "collapsed": false,
     "input": [
      "# Set the random seed for consistency\n",
      "np.random.seed(12)\n",
      "\n",
      "fig, ax = plt.subplots()\n",
      "\n",
      "# Show the whole color range\n",
      "for s in station_list:\n",
      "    if \"data\" in s:\n",
      "        years = s[\"data\"].keys()\n",
      "        # Only show the stations with enough data.\n",
      "        if len(s[\"data\"].keys()) >= num_years_required:\n",
      "            xx = []\n",
      "            yx = []\n",
      "            for y in years:\n",
      "                xx.append(int(y))\n",
      "                val = s[\"data\"][y][\"max\"]\n",
      "                yx.append(val)\n",
      "\n",
      "            ax.scatter(xx, yx, marker='o')\n",
      "            ppl.scatter(ax, xx, yx, alpha=0.8, edgecolor='black',\n",
      "                        linewidth=0.15, label=str(s[\"station_num\"]))\n",
      "            ppl.legend(ax, loc='right', ncol=1)\n",
      "            ax.set_xlabel('Year')\n",
      "            ax.set_ylabel('water level (m)')\n",
      "\n",
      "ax.set_title(\"Stations exceeding \" +\n",
      "             str(num_years_required) +\n",
      "             \" years worth of water level data (MHHW)\")\n",
      "fig.set_size_inches(14, 8)\n"
     ],
     "language": "python",
     "metadata": {
      "code_folding": [
       6
      ]
     },
     "outputs": [
      {
       "metadata": {},
       "output_type": "display_data",
       "png": "[encoded data removed]",
       "text": [
        "<matplotlib.figure.Figure at 0x11f563fd0>"
       ]
      }
     ],
     "prompt_number": 20
    },
    {
     "cell_type": "markdown",
     "metadata": {},
     "source": [
      "### Number of stations available by number of years"
     ]
    },
    {
     "cell_type": "code",
     "collapsed": false,
     "input": [
      "fig, ax = plt.subplots(1)\n",
      "year_list_map = []\n",
      "for s in station_list:\n",
      "    if \"data\" in s:\n",
      "        years = s[\"data\"].keys()\n",
      "        year_list_map.append(len(years))\n",
      "\n",
      "ppl.hist(ax, np.array(year_list_map), grid='y')\n",
      "plt.plot([num_years_required, num_years_required], [0, 8], 'r-', lw=2)\n",
      "ax.set_ylabel(\"Number of Stations\")\n",
      "ax.set_xlabel(\"Number of Years Available\")\n",
      "ax.set_title('Number of available stations vs available years\\n'\n",
      "             '(for bounding box) - red is minimum requested years')"
     ],
     "language": "python",
     "metadata": {},
     "outputs": [
      {
       "metadata": {},
       "output_type": "pyout",
       "prompt_number": 21,
       "text": [
        "<matplotlib.text.Text at 0x11f900e90>"
       ]
      },
      {
       "metadata": {},
       "output_type": "display_data",
       "png": "[encoded data removed]",
       "text": [
        "<matplotlib.figure.Figure at 0x110df6c10>"
       ]
      }
     ],
     "prompt_number": 21
    },
    {
     "cell_type": "markdown",
     "metadata": {},
     "source": [
      "## Get model output from OPeNDAP URLS\n",
      "### Try to open all the OPeNDAP URLS using Iris from the British Met Office. If we can open in Iris, we know it's a model result.\n",
      "\n",
      "#### Construct an Iris contraint to load only cubes that match the standard names:"
     ]
    },
    {
     "cell_type": "code",
     "collapsed": false,
     "input": [
      "print data_dict['water']['names']\n",
      "name_in_list = lambda cube: cube.standard_name in data_dict['water']['names']\n",
      "constraint = iris.Constraint(cube_func=name_in_list)\n",
      "\n",
      "# station_list[0]"
     ],
     "language": "python",
     "metadata": {},
     "outputs": [
      {
       "output_type": "stream",
       "stream": "stdout",
       "text": [
        "['water level', 'sea_surface_height', 'sea_surface_elevation', 'sea_surface_height_above_geoid', 'sea_surface_height_above_sea_level', 'water_surface_height_above_reference_datum', 'sea_surface_height_above_reference_ellipsoid', 'sea_surface_height_above_reference_level']\n"
       ]
      }
     ],
     "prompt_number": 22
    },
    {
     "cell_type": "code",
     "collapsed": false,
     "input": [
      "# Create time index for model DataFrame\n",
      "ts_rng = pd.date_range(start=jd_start, end=jd_stop, freq='6Min')\n",
      "ts = pd.DataFrame(index=ts_rng)\n",
      "\n",
      "#Get the station lat/lon into lists and create list of model DataFrames for each station\n",
      "obs_lon = []\n",
      "obs_lat = []\n",
      "model_df = []\n",
      "for sta in station_list:\n",
      "    obs_lon.append(float(sta['longitude']))\n",
      "    obs_lat.append(float(sta['latitude']))\n",
      "    model_df.append(pd.DataFrame(index=ts.index))\n",
      "    model_df[-1].name = sta['long_name']\n",
      "\n",
      "# Use only data within 0.04 degrees (about 4 km).\n",
      "max_dist = 0.04\n",
      "# Use only data where the standard deviation of the time series exceeds 0.01 m (1 cm).\n",
      "# This eliminates flat line model time series that come from land points that should have had missing values.\n",
      "min_var = 0.01\n",
      "for url in dap_urls:\n",
      "    try:\n",
      "        print 'Attemping to load {0}'.format(url)\n",
      "        a = iris.load_cube(url, constraint)\n",
      "        # convert to units of meters\n",
      "        # a.convert_units('m')     # this isn't working for unstructured data\n",
      "        # take first 20 chars for model name\n",
      "        mod_name = a.attributes['title'][0:20]\n",
      "        r = a.shape\n",
      "        timevar = find_timevar(a)\n",
      "        lat = a.coord(axis='Y').points\n",
      "        lon = a.coord(axis='X').points\n",
      "        jd = timevar.units.num2date(timevar.points)\n",
      "        start = timevar.units.date2num(jd_start)\n",
      "        istart = timevar.nearest_neighbour_index(start)\n",
      "        stop = timevar.units.date2num(jd_stop)\n",
      "        istop = timevar.nearest_neighbour_index(stop)\n",
      "\n",
      "        # Only proceed if we have data in the range requested.\n",
      "        if istart != istop:\n",
      "            nsta = len(station_list)\n",
      "            if len(r) == 3:\n",
      "                print('[Structured grid model]:', url)\n",
      "                d = a[0, :, :].data\n",
      "                # Find the closest non-land point from a structured grid model.\n",
      "                if len(lon.shape) == 1:\n",
      "                    lon, lat = np.meshgrid(lon, lat)\n",
      "                j, i, dd = find_ij(lon, lat, d, obs_lon, obs_lat)\n",
      "                for n in range(nsta):\n",
      "                    # Only use if model cell is within 0.04 degree of requested\n",
      "                    # location.\n",
      "                    if dd[n] <= max_dist:\n",
      "                        arr = a[istart:istop, j[n], i[n]].data\n",
      "                        if arr.std() >= min_var:\n",
      "                            c = mod_df(arr, timevar, istart, istop,\n",
      "                                       mod_name, ts)\n",
      "                            name = station_list[n]['long_name']\n",
      "                            model_df[n] = pd.concat([model_df[n], c], axis=1)\n",
      "                            model_df[n].name = name\n",
      "                            \n",
      "            elif len(r) == 2:\n",
      "                print('[Unstructured grid model]:', url)\n",
      "                # Find the closest point from an unstructured grid model.\n",
      "                index, dd = nearxy(lon.flatten(), lat.flatten(),\n",
      "                                   obs_lon, obs_lat)\n",
      "                for n in range(nsta):\n",
      "                    # Only use if model cell is within 0.04 degree of requested\n",
      "                    # location.\n",
      "                    if dd[n] <= max_dist:\n",
      "                        arr = a[istart:istop, index[n]].data\n",
      "                        if arr.std() >= min_var:\n",
      "                            c = mod_df(arr, timevar, istart, istop,\n",
      "                                       mod_name, ts)\n",
      "                            name = station_list[n]['long_name']\n",
      "                            model_df[n] = pd.concat([model_df[n], c], axis=1)\n",
      "                            model_df[n].name = name\n",
      "            elif len(r) == 1:\n",
      "                print('[Data]:', url)\n",
      "    except (ValueError, RuntimeError, CoordinateNotFoundError,\n",
      "            ConstraintMismatchError) as e:\n",
      "        warn(\"\\n%s\\n\" % e)\n",
      "        pass"
     ],
     "language": "python",
     "metadata": {},
     "outputs": [
      {
       "output_type": "stream",
       "stream": "stdout",
       "text": [
        "Attemping to load http://comt.sura.org/thredds/dodsC/data/comt_1_archive/inundation_tropical/VIMS_SELFE/Hurricane_Ike_2D_final_run_with_waves\n",
        "Attemping to load http://comt.sura.org/thredds/dodsC/data/comt_1_archive/inundation_tropical/VIMS_SELFE/Hurricane_Ike_2D_final_run_without_waves"
       ]
      },
      {
       "output_type": "stream",
       "stream": "stderr",
       "text": [
        "/Users/bobfratantonio/anaconda/envs/waves_notebook/lib/python2.7/site-packages/Iris-1.8.0_DEV-py2.7.egg/iris/fileformats/_pyke_rules/compiled_krb/fc_rules_cf_fc.py:1196: UserWarning: Ignoring netCDF variable 'ele' invalid units 'non-dimensional'\n",
        "  warnings.warn(msg.format(msg_name, msg_units))\n",
        "/Users/bobfratantonio/anaconda/envs/waves_notebook/lib/python2.7/site-packages/Iris-1.8.0_DEV-py2.7.egg/iris/fileformats/_pyke_rules/compiled_krb/fc_rules_cf_fc.py:1196: UserWarning: Ignoring netCDF variable 'Cs' invalid units 'non-dimensional'\n",
        "  warnings.warn(msg.format(msg_name, msg_units))\n",
        "/Users/bobfratantonio/anaconda/envs/waves_notebook/lib/python2.7/site-packages/Iris-1.8.0_DEV-py2.7.egg/iris/fileformats/_pyke_rules/compiled_krb/fc_rules_cf_fc.py:1196: UserWarning: Ignoring netCDF variable 'sigma' invalid units 'non-dimensional'\n",
        "  warnings.warn(msg.format(msg_name, msg_units))\n",
        "-c:80: UserWarning: \n",
        "failed to merge into a single cube.\n",
        "  cube.long_name differs: u'free_surface_elevation' != u'maximum_free_surface_elevation'\n",
        "  cube.var_name differs: u'elev' != u'elevmax'\n",
        "  cube.attributes keys differ: 'coverage_content_type'\n",
        "  cube.shape differs: (720, 592761) != (592761,)\n",
        "\n"
       ]
      },
      {
       "output_type": "stream",
       "stream": "stdout",
       "text": [
        "\n",
        "Attemping to load http://comt.sura.org/thredds/dodsC/data/comt_1_archive/inundation_tropical/VIMS_SELFE/Hurricane_Ike_3D_final_run_with_waves"
       ]
      },
      {
       "output_type": "stream",
       "stream": "stdout",
       "text": [
        "\n",
        "Attemping to load http://comt.sura.org/thredds/dodsC/data/comt_1_archive/inundation_tropical/VIMS_SELFE/Hurricane_Ike_3D_final_run_without_waves"
       ]
      },
      {
       "output_type": "stream",
       "stream": "stdout",
       "text": [
        "\n",
        "Attemping to load http://comt.sura.org/thredds/dodsC/data/comt_1_archive/inundation_tropical/VIMS_SELFE/Hurricane_Rita_2D_final_run_with_waves"
       ]
      },
      {
       "output_type": "stream",
       "stream": "stderr",
       "text": [
        "-c:80: UserWarning: \n",
        "Missing data dimensions for multi-valued coordinate u'time'\n",
        "\n",
        "-c:80: UserWarning: \n",
        "failed to merge into a single cube.\n",
        "  cube.long_name differs: u'maximum_free_surface_elevation' != u'free_surface_elevation'\n",
        "  cube.var_name differs: u'elevmax' != u'elev'\n",
        "  cube.attributes keys differ: 'coverage_content_type'\n",
        "  cube.shape differs: (592761,) != (168, 592761)\n",
        "\n"
       ]
      },
      {
       "output_type": "stream",
       "stream": "stdout",
       "text": [
        "\n",
        "Attemping to load http://comt.sura.org/thredds/dodsC/data/comt_1_archive/inundation_tropical/VIMS_SELFE/Hurricane_Rita_2D_final_run_without_waves"
       ]
      },
      {
       "output_type": "stream",
       "stream": "stdout",
       "text": [
        "\n",
        "Attemping to load http://comt.sura.org/thredds/dodsC/data/comt_1_archive/inundation_tropical/VIMS_SELFE/Hurricane_Rita_3D_final_run_with_waves"
       ]
      },
      {
       "output_type": "stream",
       "stream": "stdout",
       "text": [
        "\n",
        "Attemping to load http://comt.sura.org/thredds/dodsC/data/comt_1_archive/inundation_tropical/VIMS_SELFE/Hurricane_Rita_3D_final_run_without_waves"
       ]
      },
      {
       "output_type": "stream",
       "stream": "stdout",
       "text": [
        "\n",
        "Attemping to load http://data.ioos.us/thredds/dodsC/rutgers/ru23-20131017T1614.nc3.nc.ncml"
       ]
      },
      {
       "output_type": "stream",
       "stream": "stderr",
       "text": [
        "-c:80: UserWarning: \n",
        "failed to merge into a single cube.\n",
        "  cube.long_name differs: u'maximum_free_surface_elevation' != u'free_surface_elevation'\n",
        "  cube.var_name differs: u'elevmax' != u'elev'\n",
        "  cube.attributes keys differ: 'coverage_content_type'\n",
        "  cube.shape differs: (592761,) != (1008, 592761)\n",
        "\n",
        "/Users/bobfratantonio/anaconda/envs/waves_notebook/lib/python2.7/site-packages/Iris-1.8.0_DEV-py2.7.egg/iris/fileformats/cf.py:269: UserWarning: Missing CF-netCDF ancillary data variable u'lat_qc', referenced by netCDF variable u'precise_lat'\n",
        "  warnings.warn(message % (name, nc_var_name))\n"
       ]
      },
      {
       "output_type": "stream",
       "stream": "stderr",
       "text": [
        "/Users/bobfratantonio/anaconda/envs/waves_notebook/lib/python2.7/site-packages/Iris-1.8.0_DEV-py2.7.egg/iris/fileformats/cf.py:269: UserWarning: Missing CF-netCDF ancillary data variable u'lon_qc', referenced by netCDF variable u'precise_lon'\n",
        "  warnings.warn(message % (name, nc_var_name))\n",
        "-c:80: UserWarning: \n",
        "no cubes found\n",
        "\n"
       ]
      },
      {
       "output_type": "stream",
       "stream": "stdout",
       "text": [
        "\n",
        "Attemping to load http://geoport-dev.whoi.edu/thredds/dodsC/estofs/atlantic"
       ]
      },
      {
       "output_type": "stream",
       "stream": "stderr",
       "text": [
        "/Users/bobfratantonio/anaconda/envs/waves_notebook/lib/python2.7/site-packages/Iris-1.8.0_DEV-py2.7.egg/iris/fileformats/_pyke_rules/compiled_krb/fc_rules_cf_fc.py:1196: UserWarning: Ignoring netCDF variable 'nbdv' invalid units 'nondimensional'\n",
        "  warnings.warn(msg.format(msg_name, msg_units))\n",
        "/Users/bobfratantonio/anaconda/envs/waves_notebook/lib/python2.7/site-packages/Iris-1.8.0_DEV-py2.7.egg/iris/fileformats/_pyke_rules/compiled_krb/fc_rules_cf_fc.py:1196: UserWarning: Ignoring netCDF variable 'neta' invalid units 'nondimensional'\n",
        "  warnings.warn(msg.format(msg_name, msg_units))\n",
        "/Users/bobfratantonio/anaconda/envs/waves_notebook/lib/python2.7/site-packages/Iris-1.8.0_DEV-py2.7.egg/iris/fileformats/_pyke_rules/compiled_krb/fc_rules_cf_fc.py:1196: UserWarning: Ignoring netCDF variable 'ibtypee' invalid units 'nondimensional'\n",
        "  warnings.warn(msg.format(msg_name, msg_units))\n"
       ]
      },
      {
       "output_type": "stream",
       "stream": "stdout",
       "text": [
        "\n",
        "('[Unstructured grid model]:', 'http://geoport-dev.whoi.edu/thredds/dodsC/estofs/atlantic')"
       ]
      },
      {
       "output_type": "stream",
       "stream": "stdout",
       "text": [
        "\n",
        "Attemping to load http://geoport.whoi.edu/thredds/dodsC/coawst_4/use/fmrc/coawst_4_use_best.ncd"
       ]
      },
      {
       "output_type": "stream",
       "stream": "stderr",
       "text": [
        "/Users/bobfratantonio/anaconda/envs/waves_notebook/lib/python2.7/site-packages/Iris-1.8.0_DEV-py2.7.egg/iris/fileformats/_pyke_rules/compiled_krb/fc_rules_cf_fc.py:1196: UserWarning: Ignoring netCDF variable 'nvell' invalid units 'nondimensional'\n",
        "  warnings.warn(msg.format(msg_name, msg_units))\n",
        "/Users/bobfratantonio/anaconda/envs/waves_notebook/lib/python2.7/site-packages/Iris-1.8.0_DEV-py2.7.egg/iris/fileformats/_pyke_rules/compiled_krb/fc_rules_cf_fc.py:1196: UserWarning: Ignoring netCDF variable 'ibtype' invalid units 'nondimensional'\n",
        "  warnings.warn(msg.format(msg_name, msg_units))\n",
        "/Users/bobfratantonio/anaconda/envs/waves_notebook/lib/python2.7/site-packages/Iris-1.8.0_DEV-py2.7.egg/iris/fileformats/_pyke_rules/compiled_krb/fc_rules_cf_fc.py:1196: UserWarning: Ignoring netCDF variable 'nbvv' invalid units 'nondimensional'\n",
        "  warnings.warn(msg.format(msg_name, msg_units))\n",
        "/Users/bobfratantonio/anaconda/envs/waves_notebook/lib/python2.7/site-packages/Iris-1.8.0_DEV-py2.7.egg/iris/fileformats/_pyke_rules/compiled_krb/fc_rules_cf_fc.py:1196: UserWarning: Ignoring netCDF variable 'nvel' invalid units 'nondimensional'\n",
        "  warnings.warn(msg.format(msg_name, msg_units))\n",
        "/Users/bobfratantonio/anaconda/envs/waves_notebook/lib/python2.7/site-packages/Iris-1.8.0_DEV-py2.7.egg/iris/fileformats/_pyke_rules/compiled_krb/fc_rules_cf_fc.py:1196: UserWarning: Ignoring netCDF variable 'nvdll' invalid units 'nondimensional'\n",
        "  warnings.warn(msg.format(msg_name, msg_units))\n",
        "/Users/bobfratantonio/anaconda/envs/waves_notebook/lib/python2.7/site-packages/Iris-1.8.0_DEV-py2.7.egg/iris/fileformats/cf.py:1038: UserWarning: Ignoring formula terms variable u'h' referenced by data variable u'v' via variable u's_rho': Dimensions (u'eta_rho', u'xi_rho') do not span (u'time', u's_rho', u'eta_v', u'xi_v')\n",
        "  warnings.warn(msg)\n"
       ]
      },
      {
       "output_type": "stream",
       "stream": "stderr",
       "text": [
        "/Users/bobfratantonio/anaconda/envs/waves_notebook/lib/python2.7/site-packages/Iris-1.8.0_DEV-py2.7.egg/iris/fileformats/cf.py:1038: UserWarning: Ignoring formula terms variable u'zeta' referenced by data variable u'v' via variable u's_rho': Dimensions (u'time', u'eta_rho', u'xi_rho') do not span (u'time', u's_rho', u'eta_v', u'xi_v')\n",
        "  warnings.warn(msg)\n",
        "/Users/bobfratantonio/anaconda/envs/waves_notebook/lib/python2.7/site-packages/Iris-1.8.0_DEV-py2.7.egg/iris/fileformats/cf.py:1038: UserWarning: Ignoring formula terms variable u'h' referenced by data variable u'u' via variable u's_rho': Dimensions (u'eta_rho', u'xi_rho') do not span (u'time', u's_rho', u'eta_u', u'xi_u')\n",
        "  warnings.warn(msg)\n"
       ]
      },
      {
       "output_type": "stream",
       "stream": "stderr",
       "text": [
        "/Users/bobfratantonio/anaconda/envs/waves_notebook/lib/python2.7/site-packages/Iris-1.8.0_DEV-py2.7.egg/iris/fileformats/cf.py:1038: UserWarning: Ignoring formula terms variable u'zeta' referenced by data variable u'u' via variable u's_rho': Dimensions (u'time', u'eta_rho', u'xi_rho') do not span (u'time', u's_rho', u'eta_u', u'xi_u')\n",
        "  warnings.warn(msg)\n",
        "/Users/bobfratantonio/anaconda/envs/waves_notebook/lib/python2.7/site-packages/Iris-1.8.0_DEV-py2.7.egg/iris/fileformats/_pyke_rules/compiled_krb/fc_rules_cf_fc.py:1291: UserWarning: Gracefully filling 'time' dimension coordinate masked points\n",
        "  warnings.warn(msg.format(str(cf_coord_var.cf_name)))\n"
       ]
      },
      {
       "output_type": "stream",
       "stream": "stdout",
       "text": [
        "\n",
        "Attemping to load http://oos.soest.hawaii.edu/thredds/dodsC/dist2coast_1deg"
       ]
      },
      {
       "output_type": "stream",
       "stream": "stdout",
       "text": [
        "\n",
        "Attemping to load http://oos.soest.hawaii.edu/thredds/dodsC/dist2coast_4deg"
       ]
      },
      {
       "output_type": "stream",
       "stream": "stdout",
       "text": [
        "\n",
        "Attemping to load http://oos.soest.hawaii.edu/thredds/dodsC/hioos/tide_pac"
       ]
      },
      {
       "output_type": "stream",
       "stream": "stdout",
       "text": [
        "\n",
        "('[Structured grid model]:', 'http://oos.soest.hawaii.edu/thredds/dodsC/hioos/tide_pac')"
       ]
      },
      {
       "output_type": "stream",
       "stream": "stdout",
       "text": [
        "\n",
        "Attemping to load http://oos.soest.hawaii.edu/thredds/dodsC/pacioos/hycom/global"
       ]
      },
      {
       "output_type": "stream",
       "stream": "stdout",
       "text": [
        "\n",
        "('[Structured grid model]:', 'http://oos.soest.hawaii.edu/thredds/dodsC/pacioos/hycom/global')"
       ]
      },
      {
       "output_type": "stream",
       "stream": "stdout",
       "text": [
        "\n",
        "Attemping to load http://sos.maracoos.org/stable/dodsC/stationHRPIER84-agg.ncml"
       ]
      },
      {
       "output_type": "stream",
       "stream": "stdout",
       "text": [
        "\n",
        "Attemping to load http://sos.maracoos.org/stable/dodsC/stationHRPMNTH-agg.ncml"
       ]
      },
      {
       "output_type": "stream",
       "stream": "stderr",
       "text": [
        "-c:80: UserWarning: \n",
        "NetCDF: Malformed or inaccessible DAP DDS\n",
        "\n",
        "Exception "
       ]
      },
      {
       "output_type": "stream",
       "stream": "stdout",
       "text": [
        "\n",
        "Attemping to load http://sos.maracoos.org/stable/dodsC/stationHRWSTPTH-agg.ncml"
       ]
      },
      {
       "output_type": "stream",
       "stream": "stderr",
       "text": [
        "AttributeError: \"'CFReader' object has no attribute '_dataset'\" in <bound method CFReader.__del__ of CFReader('http://sos.maracoos.org/stable/dodsC/stationHRPIER84-agg.ncml')> ignored\n",
        "Exception "
       ]
      },
      {
       "output_type": "stream",
       "stream": "stdout",
       "text": [
        "\n",
        "Attemping to load http://tds.marine.rutgers.edu/thredds/dodsC/roms/espresso/2013_da/his_Best/ESPRESSO_Real-Time_v2_History_Best_Available_best.ncd"
       ]
      },
      {
       "output_type": "stream",
       "stream": "stderr",
       "text": [
        "AttributeError: \"'CFReader' object has no attribute '_dataset'\" in <bound method CFReader.__del__ of CFReader('http://sos.maracoos.org/stable/dodsC/stationHRPMNTH-agg.ncml')> ignored\n",
        "Exception "
       ]
      },
      {
       "output_type": "stream",
       "stream": "stdout",
       "text": [
        "\n",
        "Attemping to load http://thredds.axiomalaska.com/thredds/dodsC/Aquarius_V3_SSS_Daily.nc"
       ]
      },
      {
       "output_type": "stream",
       "stream": "stdout",
       "text": [
        "\n",
        "Attemping to load http://thredds.axiomalaska.com/thredds/dodsC/Aquarius_V3_SSS_Monthly.nc"
       ]
      },
      {
       "output_type": "stream",
       "stream": "stdout",
       "text": [
        "\n",
        "Attemping to load http://thredds.axiomalaska.com/thredds/dodsC/Aquarius_V3_SSS_Weekly.nc"
       ]
      },
      {
       "output_type": "stream",
       "stream": "stdout",
       "text": [
        "\n",
        "Attemping to load http://thredds.axiomalaska.com/thredds/dodsC/Aquarius_V3_scat_wind_speed_Daily.nc"
       ]
      },
      {
       "output_type": "stream",
       "stream": "stdout",
       "text": [
        "\n",
        "Attemping to load http://thredds.axiomalaska.com/thredds/dodsC/Aquarius_V3_scat_wind_speed_Monthly.nc"
       ]
      },
      {
       "output_type": "stream",
       "stream": "stdout",
       "text": [
        "\n",
        "Attemping to load http://thredds.axiomalaska.com/thredds/dodsC/Aquarius_V3_scat_wind_speed_Weekly.nc"
       ]
      },
      {
       "output_type": "stream",
       "stream": "stdout",
       "text": [
        "\n",
        "Attemping to load http://thredds.axiomalaska.com/thredds/dodsC/Aquarius_scat_wind_speed_Daily.nc"
       ]
      },
      {
       "output_type": "stream",
       "stream": "stdout",
       "text": [
        "\n",
        "Attemping to load http://thredds.axiomalaska.com/thredds/dodsC/Aquarius_scat_wind_speed_Monthly.nc"
       ]
      },
      {
       "output_type": "stream",
       "stream": "stderr",
       "text": [
        "AttributeError: \"'CFReader' object has no attribute '_dataset'\" in <bound method CFReader.__del__ of CFReader('http://sos.maracoos.org/stable/dodsC/stationHRWSTPTH-agg.ncml')> ignored\n",
        "Exception "
       ]
      },
      {
       "output_type": "stream",
       "stream": "stdout",
       "text": [
        "\n",
        "Attemping to load http://thredds.axiomalaska.com/thredds/dodsC/Aquarius_scat_wind_speed_Trimonthly.nc"
       ]
      },
      {
       "output_type": "stream",
       "stream": "stderr",
       "text": [
        "AttributeError: \"'CFReader' object has no attribute '_dataset'\" in <bound method CFReader.__del__ of CFReader('http://thredds.axiomalaska.com/thredds/dodsC/Aquarius_scat_wind_speed_Daily.nc')> ignored\n",
        "Exception "
       ]
      },
      {
       "output_type": "stream",
       "stream": "stdout",
       "text": [
        "\n",
        "Attemping to load http://thredds.axiomalaska.com/thredds/dodsC/Aquarius_scat_wind_speed_Weekly.nc"
       ]
      },
      {
       "output_type": "stream",
       "stream": "stderr",
       "text": [
        "AttributeError: \"'CFReader' object has no attribute '_dataset'\" in <bound method CFReader.__del__ of CFReader('http://thredds.axiomalaska.com/thredds/dodsC/Aquarius_scat_wind_speed_Monthly.nc')> ignored\n",
        "Exception "
       ]
      },
      {
       "output_type": "stream",
       "stream": "stdout",
       "text": [
        "\n",
        "Attemping to load http://thredds.cdip.ucsd.edu/thredds/dodsC/cdip/archive/028p1/028p1_d03.nc"
       ]
      },
      {
       "output_type": "stream",
       "stream": "stderr",
       "text": [
        "AttributeError: \"'CFReader' object has no attribute '_dataset'\" in <bound method CFReader.__del__ of CFReader('http://thredds.axiomalaska.com/thredds/dodsC/Aquarius_scat_wind_speed_Trimonthly.nc')> ignored\n",
        "Exception "
       ]
      },
      {
       "output_type": "stream",
       "stream": "stdout",
       "text": [
        "\n",
        "Attemping to load http://thredds.cdip.ucsd.edu/thredds/dodsC/cdip/archive/028p1/028p1_d07.nc"
       ]
      },
      {
       "output_type": "stream",
       "stream": "stdout",
       "text": [
        "\n",
        "Attemping to load http://thredds.cdip.ucsd.edu/thredds/dodsC/cdip/archive/028p1/028p1_d08.nc"
       ]
      },
      {
       "output_type": "stream",
       "stream": "stdout",
       "text": [
        "\n",
        "Attemping to load http://thredds.cdip.ucsd.edu/thredds/dodsC/cdip/archive/029p1/029p1_d06.nc"
       ]
      },
      {
       "output_type": "stream",
       "stream": "stdout",
       "text": [
        "\n",
        "Attemping to load http://thredds.cdip.ucsd.edu/thredds/dodsC/cdip/archive/029p1/029p1_d13.nc"
       ]
      },
      {
       "output_type": "stream",
       "stream": "stdout",
       "text": [
        "\n",
        "Attemping to load http://thredds.cdip.ucsd.edu/thredds/dodsC/cdip/archive/029p1/029p1_historic.nc"
       ]
      },
      {
       "output_type": "stream",
       "stream": "stdout",
       "text": [
        "\n",
        "Attemping to load http://thredds.cdip.ucsd.edu/thredds/dodsC/cdip/archive/036p1/036p1_d32.nc"
       ]
      },
      {
       "output_type": "stream",
       "stream": "stdout",
       "text": [
        "\n",
        "Attemping to load http://thredds.cdip.ucsd.edu/thredds/dodsC/cdip/archive/045p1/045p1_d12.nc"
       ]
      },
      {
       "output_type": "stream",
       "stream": "stdout",
       "text": [
        "\n",
        "Attemping to load http://thredds.cdip.ucsd.edu/thredds/dodsC/cdip/archive/067p1/067p1_d16.nc"
       ]
      },
      {
       "output_type": "stream",
       "stream": "stdout",
       "text": [
        "\n",
        "Attemping to load http://thredds.cdip.ucsd.edu/thredds/dodsC/cdip/archive/067p1/067p1_historic.nc"
       ]
      },
      {
       "output_type": "stream",
       "stream": "stderr",
       "text": [
        "AttributeError: \"'CFReader' object has no attribute '_dataset'\" in <bound method CFReader.__del__ of CFReader('http://thredds.axiomalaska.com/thredds/dodsC/Aquarius_scat_wind_speed_Weekly.nc')> ignored\n",
        "/Users/bobfratantonio/anaconda/envs/waves_notebook/lib/python2.7/site-packages/Iris-1.8.0_DEV-py2.7.egg/iris/fileformats/_pyke_rules/compiled_krb/fc_rules_cf_fc.py:1337: UserWarning: Failed to create 'waveTime' dimension coordinate: The points array must be strictly monotonic.\n",
        "Gracefully creating 'waveTime' auxiliary coordinate instead.\n",
        "  error=e_msg))\n"
       ]
      },
      {
       "output_type": "stream",
       "stream": "stderr",
       "text": [
        "/Users/bobfratantonio/anaconda/envs/waves_notebook/lib/python2.7/site-packages/Iris-1.8.0_DEV-py2.7.egg/iris/fileformats/_pyke_rules/compiled_krb/fc_rules_cf_fc.py:1337: UserWarning: Failed to create 'sstTime' dimension coordinate: The points array must be strictly monotonic.\n",
        "Gracefully creating 'sstTime' auxiliary coordinate instead.\n",
        "  error=e_msg))\n",
        "/Users/bobfratantonio/anaconda/envs/waves_notebook/lib/python2.7/site-packages/Iris-1.8.0_DEV-py2.7.egg/iris/fileformats/_pyke_rules/compiled_krb/fc_rules_cf_fc.py:1337: UserWarning: Failed to create 'dwrTime' dimension coordinate: The points array must be strictly monotonic.\n",
        "Gracefully creating 'dwrTime' auxiliary coordinate instead.\n",
        "  error=e_msg))\n"
       ]
      },
      {
       "output_type": "stream",
       "stream": "stdout",
       "text": [
        "\n",
        "Attemping to load http://thredds.cdip.ucsd.edu/thredds/dodsC/cdip/archive/071p1/071p1_d07.nc"
       ]
      },
      {
       "output_type": "stream",
       "stream": "stdout",
       "text": [
        "\n",
        "Attemping to load http://thredds.cdip.ucsd.edu/thredds/dodsC/cdip/archive/071p1/071p1_d08.nc"
       ]
      },
      {
       "output_type": "stream",
       "stream": "stdout",
       "text": [
        "\n",
        "Attemping to load http://thredds.cdip.ucsd.edu/thredds/dodsC/cdip/archive/071p1/071p1_historic.nc"
       ]
      },
      {
       "output_type": "stream",
       "stream": "stdout",
       "text": [
        "\n",
        "Attemping to load http://thredds.cdip.ucsd.edu/thredds/dodsC/cdip/archive/091p1/091p1_d14.nc"
       ]
      },
      {
       "output_type": "stream",
       "stream": "stdout",
       "text": [
        "\n",
        "Attemping to load http://thredds.cdip.ucsd.edu/thredds/dodsC/cdip/archive/092p1/092p1_d12.nc"
       ]
      },
      {
       "output_type": "stream",
       "stream": "stdout",
       "text": [
        "\n",
        "Attemping to load http://thredds.cdip.ucsd.edu/thredds/dodsC/cdip/archive/094p1/094p1_d01.nc"
       ]
      },
      {
       "output_type": "stream",
       "stream": "stdout",
       "text": [
        "\n",
        "Attemping to load http://thredds.cdip.ucsd.edu/thredds/dodsC/cdip/archive/094p1/094p1_d04.nc"
       ]
      },
      {
       "output_type": "stream",
       "stream": "stdout",
       "text": [
        "\n",
        "Attemping to load http://thredds.cdip.ucsd.edu/thredds/dodsC/cdip/archive/094p1/094p1_d05.nc"
       ]
      },
      {
       "output_type": "stream",
       "stream": "stdout",
       "text": [
        "\n",
        "Attemping to load http://thredds.cdip.ucsd.edu/thredds/dodsC/cdip/archive/094p1/094p1_d06.nc"
       ]
      },
      {
       "output_type": "stream",
       "stream": "stdout",
       "text": [
        "\n",
        "Attemping to load http://thredds.cdip.ucsd.edu/thredds/dodsC/cdip/archive/094p1/094p1_d07.nc"
       ]
      },
      {
       "output_type": "stream",
       "stream": "stdout",
       "text": [
        "\n",
        "Attemping to load http://thredds.cdip.ucsd.edu/thredds/dodsC/cdip/archive/094p1/094p1_d10.nc"
       ]
      },
      {
       "output_type": "stream",
       "stream": "stdout",
       "text": [
        "\n",
        "Attemping to load http://thredds.cdip.ucsd.edu/thredds/dodsC/cdip/archive/094p1/094p1_d11.nc"
       ]
      },
      {
       "output_type": "stream",
       "stream": "stdout",
       "text": [
        "\n",
        "Attemping to load http://thredds.cdip.ucsd.edu/thredds/dodsC/cdip/archive/094p1/094p1_d12.nc"
       ]
      },
      {
       "output_type": "stream",
       "stream": "stdout",
       "text": [
        "\n",
        "Attemping to load http://thredds.cdip.ucsd.edu/thredds/dodsC/cdip/archive/094p1/094p1_historic.nc"
       ]
      },
      {
       "output_type": "stream",
       "stream": "stdout",
       "text": [
        "\n",
        "Attemping to load http://thredds.cdip.ucsd.edu/thredds/dodsC/cdip/archive/095p1/095p1_d05.nc"
       ]
      },
      {
       "output_type": "stream",
       "stream": "stdout",
       "text": [
        "\n",
        "Attemping to load http://thredds.cdip.ucsd.edu/thredds/dodsC/cdip/archive/095p1/095p1_d06.nc"
       ]
      },
      {
       "output_type": "stream",
       "stream": "stdout",
       "text": [
        "\n",
        "Attemping to load http://thredds.cdip.ucsd.edu/thredds/dodsC/cdip/archive/096p1/096p1_d08.nc"
       ]
      },
      {
       "output_type": "stream",
       "stream": "stdout",
       "text": [
        "\n",
        "Attemping to load http://thredds.cdip.ucsd.edu/thredds/dodsC/cdip/archive/096p1/096p1_d09.nc"
       ]
      },
      {
       "output_type": "stream",
       "stream": "stdout",
       "text": [
        "\n",
        "Attemping to load http://thredds.cdip.ucsd.edu/thredds/dodsC/cdip/archive/096p1/096p1_historic.nc"
       ]
      },
      {
       "output_type": "stream",
       "stream": "stdout",
       "text": [
        "\n",
        "Attemping to load http://thredds.cdip.ucsd.edu/thredds/dodsC/cdip/archive/098p1/098p1_d06.nc"
       ]
      },
      {
       "output_type": "stream",
       "stream": "stdout",
       "text": [
        "\n",
        "Attemping to load http://thredds.cdip.ucsd.edu/thredds/dodsC/cdip/archive/098p1/098p1_d08.nc"
       ]
      },
      {
       "output_type": "stream",
       "stream": "stdout",
       "text": [
        "\n",
        "Attemping to load http://thredds.cdip.ucsd.edu/thredds/dodsC/cdip/archive/098p1/098p1_d12.nc"
       ]
      },
      {
       "output_type": "stream",
       "stream": "stdout",
       "text": [
        "\n",
        "Attemping to load http://thredds.cdip.ucsd.edu/thredds/dodsC/cdip/archive/100p1/100p1_d02.nc"
       ]
      },
      {
       "output_type": "stream",
       "stream": "stdout",
       "text": [
        "\n",
        "Attemping to load http://thredds.cdip.ucsd.edu/thredds/dodsC/cdip/archive/100p1/100p1_d03.nc"
       ]
      },
      {
       "output_type": "stream",
       "stream": "stdout",
       "text": [
        "\n",
        "Attemping to load http://thredds.cdip.ucsd.edu/thredds/dodsC/cdip/archive/100p1/100p1_d05.nc"
       ]
      },
      {
       "output_type": "stream",
       "stream": "stdout",
       "text": [
        "\n",
        "Attemping to load http://thredds.cdip.ucsd.edu/thredds/dodsC/cdip/archive/100p1/100p1_historic.nc"
       ]
      },
      {
       "output_type": "stream",
       "stream": "stdout",
       "text": [
        "\n",
        "Attemping to load http://thredds.cdip.ucsd.edu/thredds/dodsC/cdip/archive/101p1/101p1_d01.nc"
       ]
      },
      {
       "output_type": "stream",
       "stream": "stdout",
       "text": [
        "\n",
        "Attemping to load http://thredds.cdip.ucsd.edu/thredds/dodsC/cdip/archive/102p1/102p1_d01.nc"
       ]
      },
      {
       "output_type": "stream",
       "stream": "stdout",
       "text": [
        "\n",
        "Attemping to load http://thredds.cdip.ucsd.edu/thredds/dodsC/cdip/archive/111p1/111p1_d02.nc"
       ]
      },
      {
       "output_type": "stream",
       "stream": "stdout",
       "text": [
        "\n",
        "Attemping to load http://thredds.cdip.ucsd.edu/thredds/dodsC/cdip/archive/111p1/111p1_d07.nc"
       ]
      },
      {
       "output_type": "stream",
       "stream": "stdout",
       "text": [
        "\n",
        "Attemping to load http://thredds.cdip.ucsd.edu/thredds/dodsC/cdip/archive/114p1/114p1_d04.nc"
       ]
      },
      {
       "output_type": "stream",
       "stream": "stdout",
       "text": [
        "\n",
        "Attemping to load http://thredds.cdip.ucsd.edu/thredds/dodsC/cdip/archive/118p1/118p1_d01.nc"
       ]
      },
      {
       "output_type": "stream",
       "stream": "stdout",
       "text": [
        "\n",
        "Attemping to load http://thredds.cdip.ucsd.edu/thredds/dodsC/cdip/archive/126p1/126p1_d02.nc"
       ]
      },
      {
       "output_type": "stream",
       "stream": "stdout",
       "text": [
        "\n",
        "Attemping to load http://thredds.cdip.ucsd.edu/thredds/dodsC/cdip/archive/128p1/128p1_d07.nc"
       ]
      },
      {
       "output_type": "stream",
       "stream": "stdout",
       "text": [
        "\n",
        "Attemping to load http://thredds.cdip.ucsd.edu/thredds/dodsC/cdip/archive/139p1/139p1_d02.nc"
       ]
      },
      {
       "output_type": "stream",
       "stream": "stdout",
       "text": [
        "\n",
        "Attemping to load http://thredds.cdip.ucsd.edu/thredds/dodsC/cdip/archive/139p1/139p1_d06.nc"
       ]
      },
      {
       "output_type": "stream",
       "stream": "stdout",
       "text": [
        "\n",
        "Attemping to load http://thredds.cdip.ucsd.edu/thredds/dodsC/cdip/archive/139p1/139p1_historic.nc"
       ]
      },
      {
       "output_type": "stream",
       "stream": "stdout",
       "text": [
        "\n",
        "Attemping to load http://thredds.cdip.ucsd.edu/thredds/dodsC/cdip/archive/151p1/151p1_d01.nc"
       ]
      },
      {
       "output_type": "stream",
       "stream": "stdout",
       "text": [
        "\n",
        "Attemping to load http://thredds.cdip.ucsd.edu/thredds/dodsC/cdip/archive/151p1/151p1_historic.nc"
       ]
      },
      {
       "output_type": "stream",
       "stream": "stdout",
       "text": [
        "\n",
        "Attemping to load http://thredds.cdip.ucsd.edu/thredds/dodsC/cdip/archive/152p1/152p1_d01.nc"
       ]
      },
      {
       "output_type": "stream",
       "stream": "stdout",
       "text": [
        "\n",
        "Attemping to load http://thredds.cdip.ucsd.edu/thredds/dodsC/cdip/archive/152p1/152p1_d02.nc"
       ]
      },
      {
       "output_type": "stream",
       "stream": "stdout",
       "text": [
        "\n",
        "Attemping to load http://thredds.cdip.ucsd.edu/thredds/dodsC/cdip/archive/154p1/154p1_d01.nc"
       ]
      },
      {
       "output_type": "stream",
       "stream": "stdout",
       "text": [
        "\n",
        "Attemping to load http://thredds.cdip.ucsd.edu/thredds/dodsC/cdip/archive/154p1/154p1_d02.nc"
       ]
      },
      {
       "output_type": "stream",
       "stream": "stdout",
       "text": [
        "\n",
        "Attemping to load http://thredds.cdip.ucsd.edu/thredds/dodsC/cdip/archive/154p1/154p1_d03.nc"
       ]
      },
      {
       "output_type": "stream",
       "stream": "stdout",
       "text": [
        "\n",
        "Attemping to load http://thredds.cdip.ucsd.edu/thredds/dodsC/cdip/archive/154p1/154p1_d04.nc"
       ]
      },
      {
       "output_type": "stream",
       "stream": "stdout",
       "text": [
        "\n",
        "Attemping to load http://thredds.cdip.ucsd.edu/thredds/dodsC/cdip/archive/154p1/154p1_d05.nc"
       ]
      },
      {
       "output_type": "stream",
       "stream": "stdout",
       "text": [
        "\n",
        "Attemping to load http://thredds.cdip.ucsd.edu/thredds/dodsC/cdip/archive/154p1/154p1_historic.nc"
       ]
      },
      {
       "output_type": "stream",
       "stream": "stdout",
       "text": [
        "\n",
        "Attemping to load http://thredds.cdip.ucsd.edu/thredds/dodsC/cdip/archive/156p1/156p1_d02.nc"
       ]
      },
      {
       "output_type": "stream",
       "stream": "stdout",
       "text": [
        "\n",
        "Attemping to load http://thredds.cdip.ucsd.edu/thredds/dodsC/cdip/archive/162p1/162p1_d02.nc"
       ]
      },
      {
       "output_type": "stream",
       "stream": "stdout",
       "text": [
        "\n",
        "Attemping to load http://thredds.cdip.ucsd.edu/thredds/dodsC/cdip/archive/162p1/162p1_d03.nc"
       ]
      },
      {
       "output_type": "stream",
       "stream": "stdout",
       "text": [
        "\n",
        "Attemping to load http://thredds.cdip.ucsd.edu/thredds/dodsC/cdip/archive/166p1/166p1_d01.nc"
       ]
      },
      {
       "output_type": "stream",
       "stream": "stdout",
       "text": [
        "\n",
        "Attemping to load http://thredds.cdip.ucsd.edu/thredds/dodsC/cdip/archive/168p1/168p1_d05.nc"
       ]
      },
      {
       "output_type": "stream",
       "stream": "stdout",
       "text": [
        "\n",
        "Attemping to load http://thredds.cdip.ucsd.edu/thredds/dodsC/cdip/archive/172p1/172p1_d01.nc"
       ]
      },
      {
       "output_type": "stream",
       "stream": "stdout",
       "text": [
        "\n",
        "Attemping to load http://thredds.cdip.ucsd.edu/thredds/dodsC/cdip/archive/174p1/174p1_d01.nc"
       ]
      },
      {
       "output_type": "stream",
       "stream": "stdout",
       "text": [
        "\n",
        "Attemping to load http://thredds.cdip.ucsd.edu/thredds/dodsC/cdip/archive/175p1/175p1_d01.nc"
       ]
      },
      {
       "output_type": "stream",
       "stream": "stdout",
       "text": [
        "\n",
        "Attemping to load http://thredds.cdip.ucsd.edu/thredds/dodsC/cdip/archive/175p1/175p1_d02.nc"
       ]
      },
      {
       "output_type": "stream",
       "stream": "stdout",
       "text": [
        "\n",
        "Attemping to load http://thredds.cdip.ucsd.edu/thredds/dodsC/cdip/archive/175p1/175p1_d03.nc"
       ]
      },
      {
       "output_type": "stream",
       "stream": "stdout",
       "text": [
        "\n",
        "Attemping to load http://thredds.cdip.ucsd.edu/thredds/dodsC/cdip/archive/175p1/175p1_d04.nc"
       ]
      },
      {
       "output_type": "stream",
       "stream": "stdout",
       "text": [
        "\n",
        "Attemping to load http://thredds.cdip.ucsd.edu/thredds/dodsC/cdip/archive/179p1/179p1_combo_tmp.nc"
       ]
      },
      {
       "output_type": "stream",
       "stream": "stdout",
       "text": [
        "\n",
        "Attemping to load http://thredds.cdip.ucsd.edu/thredds/dodsC/cdip/archive/179p1/179p1_d01.nc"
       ]
      },
      {
       "output_type": "stream",
       "stream": "stdout",
       "text": [
        "\n",
        "Attemping to load http://thredds.cdip.ucsd.edu/thredds/dodsC/cdip/archive/179p1/179p1_d02.nc"
       ]
      },
      {
       "output_type": "stream",
       "stream": "stdout",
       "text": [
        "\n",
        "Attemping to load http://thredds.cdip.ucsd.edu/thredds/dodsC/cdip/archive/179p1/179p1_d03.nc"
       ]
      },
      {
       "output_type": "stream",
       "stream": "stdout",
       "text": [
        "\n",
        "Attemping to load http://thredds.cdip.ucsd.edu/thredds/dodsC/cdip/archive/179p1/179p1_d04.nc"
       ]
      },
      {
       "output_type": "stream",
       "stream": "stdout",
       "text": [
        "\n",
        "Attemping to load http://thredds.cdip.ucsd.edu/thredds/dodsC/cdip/archive/195p1/195p1_d01.nc"
       ]
      },
      {
       "output_type": "stream",
       "stream": "stdout",
       "text": [
        "\n",
        "Attemping to load http://thredds.cdip.ucsd.edu/thredds/dodsC/cdip/archive/204p1/204p1_d01.nc"
       ]
      },
      {
       "output_type": "stream",
       "stream": "stdout",
       "text": [
        "\n",
        "Attemping to load http://thredds.cdip.ucsd.edu/thredds/dodsC/cdip/archive/207p1/207p1_d01.nc"
       ]
      },
      {
       "output_type": "stream",
       "stream": "stdout",
       "text": [
        "\n",
        "Attemping to load http://thredds.cdip.ucsd.edu/thredds/dodsC/cdip/archive/207p1/207p1_historic.nc"
       ]
      },
      {
       "output_type": "stream",
       "stream": "stdout",
       "text": [
        "\n"
       ]
      },
      {
       "output_type": "stream",
       "stream": "stderr",
       "text": [
        "Exception AttributeError: \"'CFReader' object has no attribute '_dataset'\" in <bound method CFReader.__del__ of CFReader('http://thredds.cdip.ucsd.edu/thredds/dodsC/cdip/archive/179p1/179p1_combo_tmp.nc')> ignored\n"
       ]
      }
     ],
     "prompt_number": 23
    },
    {
     "cell_type": "markdown",
     "metadata": {},
     "source": [
      "### Plot all the model Time Series data near each obs station"
     ]
    },
    {
     "cell_type": "code",
     "collapsed": false,
     "input": [
      "for df in model_df:\n",
      "    if 'Nantucket Island, MA' in df.name:\n",
      "        ax = df.plot(figsize=(14, 6), title=df.name, legend=False)\n",
      "        plt.setp(ax.lines[0], linewidth=4.0, color='0.7', zorder=1)\n",
      "        ax.legend()\n",
      "        ax.set_ylabel('m')\n",
      "        break\n",
      "model_max = list(set(df.max().values))"
     ],
     "language": "python",
     "metadata": {},
     "outputs": [
      {
       "metadata": {},
       "output_type": "display_data",
       "png": "[encoded data removed]",
       "text": [
        "<matplotlib.figure.Figure at 0x11f7c3a50>"
       ]
      }
     ],
     "prompt_number": 24
    },
    {
     "cell_type": "markdown",
     "metadata": {},
     "source": [
      "## Extreme Value Analysis:\n",
      "#### Plot return periods for the observed data at the Nantucket Island, Ma station"
     ]
    },
    {
     "cell_type": "code",
     "collapsed": false,
     "input": [
      "# Get the annual maximums from the DataFrame\n",
      "for df in obs_df:\n",
      "    if 'Nantucket Island, MA' in df.name:\n",
      "        annual_max_levels = df[\"Observed Data\"].values\n",
      "        name = df.name"
     ],
     "language": "python",
     "metadata": {},
     "outputs": [],
     "prompt_number": 25
    },
    {
     "cell_type": "heading",
     "level": 4,
     "metadata": {},
     "source": [
      "Fit data to GEV distribution"
     ]
    },
    {
     "cell_type": "code",
     "collapsed": false,
     "input": [
      "def sea_levels_gev_pdf(x):\n",
      "    return stats.genextreme.pdf(x, xi, loc=mu, scale=sigma)"
     ],
     "language": "python",
     "metadata": {},
     "outputs": [],
     "prompt_number": 26
    },
    {
     "cell_type": "code",
     "collapsed": false,
     "input": [
      "mle = stats.genextreme.fit(sorted(annual_max_levels), 0)\n",
      "mu = mle[1]\n",
      "sigma = mle[2]\n",
      "xi = mle[0]\n",
      "print(\"The mean, sigma, and shape parameters are %s, %s, and %s, resp.\" %\n",
      "      (mu, sigma, xi))"
     ],
     "language": "python",
     "metadata": {},
     "outputs": [
      {
       "output_type": "stream",
       "stream": "stdout",
       "text": [
        "The mean, sigma, and shape parameters are 0.536747818328, 0.150074678247, and 0.00121088811397, resp.\n"
       ]
      }
     ],
     "prompt_number": 27
    },
    {
     "cell_type": "heading",
     "level": 4,
     "metadata": {},
     "source": [
      "Probability Density Plot"
     ]
    },
    {
     "cell_type": "code",
     "collapsed": false,
     "input": [
      "min_x = min(annual_max_levels) - 0.5\n",
      "max_x = max(annual_max_levels) + 0.5\n",
      "x = np.linspace(min_x, max_x, num=100)\n",
      "y = [sea_levels_gev_pdf(z) for z in x]\n",
      "\n",
      "fig = plt.figure(figsize=(12, 6))\n",
      "axes = fig.add_axes([0.1, 0.1, 0.8, 0.8])\n",
      "xlabel = (name + \" - Annual max water level (m)\")\n",
      "axes.set_title(\"Probability Density & Normalized Histogram\")\n",
      "axes.set_xlabel(xlabel)\n",
      "axes.plot(x, y, color='Red')\n",
      "axes.hist(annual_max_levels,\n",
      "          bins=np.arange(min_x, max_x, abs((max_x-min_x)/10)),\n",
      "          normed=1, color='Yellow')"
     ],
     "language": "python",
     "metadata": {},
     "outputs": [
      {
       "metadata": {},
       "output_type": "pyout",
       "prompt_number": 28,
       "text": [
        "(array([ 0.        ,  0.        ,  0.86931324,  1.88351203,  1.59374094,\n",
        "         0.57954216,  0.        ,  0.14488554,  0.        ]),\n",
        " array([-0.163 ,  0.0342,  0.2314,  0.4286,  0.6258,  0.823 ,  1.0202,\n",
        "         1.2174,  1.4146,  1.6118]),\n",
        " <a list of 9 Patch objects>)"
       ]
      },
      {
       "metadata": {},
       "output_type": "display_data",
       "png": "[encoded data removed]",
       "text": [
        "<matplotlib.figure.Figure at 0x108007f10>"
       ]
      }
     ],
     "prompt_number": 28
    },
    {
     "cell_type": "heading",
     "level": 4,
     "metadata": {},
     "source": [
      "Return Value Plot"
     ]
    },
    {
     "cell_type": "markdown",
     "metadata": {},
     "source": [
      "This plot should match NOAA's [Annual Exceedance Probability Curves for station 8449130](http://tidesandcurrents.noaa.gov/est/curves.shtml?stnid=8449130)."
     ]
    },
    {
     "cell_type": "code",
     "collapsed": false,
     "input": [
      "noaa_station_id = 8449130\n",
      "Image(url='http://tidesandcurrents.noaa.gov/est/curves/high/' +\n",
      "      str(noaa_station_id)+'.png')"
     ],
     "language": "python",
     "metadata": {},
     "outputs": [
      {
       "html": [
        "<img src=\"http://tidesandcurrents.noaa.gov/est/curves/high/8449130.png\"/>"
       ],
       "metadata": {},
       "output_type": "pyout",
       "prompt_number": 29,
       "text": [
        "<IPython.core.display.Image at 0x11f7eb950>"
       ]
      }
     ],
     "prompt_number": 29
    },
    {
     "cell_type": "code",
     "collapsed": false,
     "input": [
      "Image(url='http://tidesandcurrents.noaa.gov/est/images/color_legend.png')"
     ],
     "language": "python",
     "metadata": {},
     "outputs": [
      {
       "html": [
        "<img src=\"http://tidesandcurrents.noaa.gov/est/images/color_legend.png\"/>"
       ],
       "metadata": {},
       "output_type": "pyout",
       "prompt_number": 30,
       "text": [
        "<IPython.core.display.Image at 0x11f7f4cd0>"
       ]
      }
     ],
     "prompt_number": 30
    },
    {
     "cell_type": "markdown",
     "metadata": {},
     "source": [
      "<script type=\"text/javascript\">\n",
      "    $('div.input').show();       \n",
      "</script>"
     ]
    },
    {
     "cell_type": "code",
     "collapsed": false,
     "input": [
      "fig = plt.figure(figsize=(20, 6))\n",
      "axes = fig.add_axes([0.1, 0.1, 0.8, 0.8])\n",
      "T = np.r_[1:250]\n",
      "sT = stats.genextreme.isf(1./T, 0, mu, sigma)\n",
      "axes.semilogx(T, sT, 'r')\n",
      "N = np.r_[1:len(annual_max_levels)+1]\n",
      "Nmax = max(N)\n",
      "axes.plot(Nmax/N, sorted(annual_max_levels)[::-1], 'bo')\n",
      "title = name\n",
      "axes.set_title(title)\n",
      "axes.set_xlabel('Return Period (yrs)')\n",
      "axes.set_ylabel('Meters above MHHW')\n",
      "axes.set_xticklabels([0, 1, 10, 100, 1000])\n",
      "axes.set_xlim([0, 260])\n",
      "axes.set_ylim([0, 1.8])\n",
      "axes.grid(True)\n",
      "\n",
      "# Now plot the max height from the event onto this plot\n",
      "event = np.ones(len(T))*model_max\n",
      "axes.plot(T, event, 'g--')"
     ],
     "language": "python",
     "metadata": {},
     "outputs": [
      {
       "metadata": {},
       "output_type": "pyout",
       "prompt_number": 31,
       "text": [
        "[<matplotlib.lines.Line2D at 0x11f5f8810>]"
       ]
      },
      {
       "metadata": {},
       "output_type": "display_data",
       "png": "[encoded data removed]",
       "text": [
        "<matplotlib.figure.Figure at 0x11f9b26d0>"
       ]
      }
     ],
     "prompt_number": 31
    },
    {
     "cell_type": "markdown",
     "metadata": {},
     "source": [
      "This plot does not match exactly.  NOAA's curves were calculated using the\n",
      "Extremes Toolkit software package in R whereas this notebook uses scipy.\n",
      "There is a python package based on the Extremes Toolkit called pywafo but\n",
      "this is experimental and isn't building properly on Mac OS X."
     ]
    }
   ],
   "metadata": {}
  }
 ]
}