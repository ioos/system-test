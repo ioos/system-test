{
 "metadata": {
  "name": "",
  "signature": "sha256:36adde301942cdf7c90ac3debfa5530ccc3afed6370766adda793adb84283c54"
 },
 "nbformat": 3,
 "nbformat_minor": 0,
 "worksheets": [
  {
   "cells": [
    {
     "cell_type": "code",
     "collapsed": false,
     "input": [
      "from utilities import css_styles\n",
      "css_styles()"
     ],
     "language": "python",
     "metadata": {},
     "outputs": [
      {
       "html": [
        "\n",
        "        <style>\n",
        "        .info {\n",
        "            background-color: #fcf8e3; border-color: #faebcc; border-left: 5px solid #8a6d3b; padding: 0.5em; color: #8a6d3b;\n",
        "        }\n",
        "        .success {\n",
        "            background-color: #d9edf7; border-color: #bce8f1; border-left: 5px solid #31708f; padding: 0.5em; color: #31708f;\n",
        "        }\n",
        "        .error {\n",
        "            background-color: #f2dede; border-color: #ebccd1; border-left: 5px solid #a94442; padding: 0.5em; color: #a94442;\n",
        "        }\n",
        "        .warning {\n",
        "            background-color: #fcf8e3; border-color: #faebcc; border-left: 5px solid #8a6d3b; padding: 0.5em; color: #8a6d3b;\n",
        "        }\n",
        "        </style>\n",
        "    "
       ],
       "metadata": {},
       "output_type": "pyout",
       "prompt_number": 1,
       "text": [
        "<IPython.core.display.HTML at 0x7f526edab550>"
       ]
      }
     ],
     "prompt_number": 1
    },
    {
     "cell_type": "markdown",
     "metadata": {},
     "source": [
      "## Accessing NERRS dissolved oxygen station data with Pyoos\n",
      "This notebook is largely based on Emilio Mayorga's excellent [pyoos_nerrs_pandas_demo1/ipynb](https://gist.github.com/emiliom/57e84aee123ca60c4fa3). It's currently very weak on the discovery phase (I knew the prefix code for the area I wanted, and even then more station codes were returned than actually are returning data.) But it tweaks Emilio's code to plot dissolved oxygen data from NERRS stations.\n",
      "\n",
      "It will not work unless your IP has been registered by the NERRS/CDMO office, for which you need to [contact them](http://nerrsdata.org/contact.cfm)."
     ]
    },
    {
     "cell_type": "code",
     "collapsed": false,
     "input": [
      "from datetime import datetime, timedelta\n",
      "import pandas as pd\n",
      "from pyoos.collectors.nerrs.nerrs_soap import NerrsSoap"
     ],
     "language": "python",
     "metadata": {},
     "outputs": [],
     "prompt_number": 2
    },
    {
     "cell_type": "code",
     "collapsed": false,
     "input": [
      "# FROM pyoos SOS handling\n",
      "# Convenience function to build record style time series representation\n",
      "def flatten_element(p):\n",
      "    rd = {'time':p.time}\n",
      "    for m in p.members:\n",
      "        rd[m['standard']] = m['value']\n",
      "    return rd\n",
      "\n",
      "# sta.get_unique_members() serves the same function as the pyoos SOS get_unique_members method\n",
      "# Convenience function to extract a dict of unique members (observed properties) by standard name\n",
      "obsprops_bystdname = lambda sta: {m['standard']:m for m in sta.get_unique_members()}"
     ],
     "language": "python",
     "metadata": {},
     "outputs": [],
     "prompt_number": 3
    },
    {
     "cell_type": "code",
     "collapsed": false,
     "input": [
      "# pyoos NERRS collector\n",
      "nerrsData = NerrsSoap()"
     ],
     "language": "python",
     "metadata": {},
     "outputs": [],
     "prompt_number": 4
    },
    {
     "cell_type": "code",
     "collapsed": false,
     "input": [
      "# Get all the Alaska stations (ka)\n",
      "stations = [featureid for featureid in nerrsData.list_features()\n",
      " if featureid.startswith('kac') and featureid.endswith('wq')]\n",
      "\n",
      "for i in range(0, len(stations)):\n",
      "    print '[' + str(i) + ']: ' + stations[i]"
     ],
     "language": "python",
     "metadata": {},
     "outputs": [
      {
       "output_type": "stream",
       "stream": "stdout",
       "text": [
        "[0]: kacbcwq\n",
        "[1]: kacdlwq\n",
        "[2]: kach3wq\n",
        "[3]: kachdwq\n",
        "[4]: kachowq\n",
        "[5]: kachswq\n",
        "[6]: kacpgwq\n",
        "[7]: kacsdwq\n",
        "[8]: kacsewq\n",
        "[9]: kacsswq\n"
       ]
      }
     ],
     "prompt_number": 5
    },
    {
     "cell_type": "markdown",
     "metadata": {},
     "source": [
      "I'm not sure how to determine the ones that have data via this method, maybe Kyle can help here? I know from the [CDMO](http://cdmo.baruch.sc.edu/get/realTime.cfm) that only [Seldovia Deep - KACSDWQ](http://nerrsdata.org/get/realTime.cfm?stationCode=KACHDWQ) and [Homer Dolphin Deep - KACHDWQ](http://nerrsdata.org/get/realTime.cfm?stationCode=KACHDWQ) actually have DO data."
     ]
    },
    {
     "cell_type": "code",
     "collapsed": false,
     "input": [
      "# Access pdbpfmet station, for the last 7 days (roughly)\n",
      "nerrsData.filter(features=[stations[3]],\n",
      "                  start=datetime.utcnow() - timedelta(days=7),\n",
      "                  end=datetime.utcnow()  - timedelta(hours=12))\n",
      "#nerrsData.filter(variables=[\"ATemp\"])\n",
      "response = nerrsData.collect()"
     ],
     "language": "python",
     "metadata": {},
     "outputs": [],
     "prompt_number": 6
    },
    {
     "cell_type": "code",
     "collapsed": false,
     "input": [
      "# The raw response (a string) is not used outside this cell. The collect method response is what's used\n",
      "# I'm showing the raw response here, just for reference\n",
      "raw = nerrsData.raw()\n",
      "type(raw), raw.keys()"
     ],
     "language": "python",
     "metadata": {},
     "outputs": [
      {
       "metadata": {},
       "output_type": "pyout",
       "prompt_number": 7,
       "text": [
        "(dict, ['kachdwq'])"
       ]
      }
     ],
     "prompt_number": 7
    },
    {
     "cell_type": "code",
     "collapsed": false,
     "input": [
      "# response.elements is a one-element array with a paegan.cdm.dsg.features.station.Station element\n",
      "response.elements"
     ],
     "language": "python",
     "metadata": {},
     "outputs": [
      {
       "metadata": {},
       "output_type": "pyout",
       "prompt_number": 8,
       "text": [
        "[<paegan.cdm.dsg.features.station.Station at 0x7f5265081fd0>]"
       ]
      }
     ],
     "prompt_number": 8
    },
    {
     "cell_type": "code",
     "collapsed": false,
     "input": [
      "# Looks like the station in the response doesn't include any info about the Reserve it belongs to. Too bad.\n",
      "# Or is one of the pieces of information below the NERRS site?\n",
      "sta = response.elements[0]\n",
      "sta.__dict__.keys()"
     ],
     "language": "python",
     "metadata": {},
     "outputs": [
      {
       "metadata": {},
       "output_type": "pyout",
       "prompt_number": 9,
       "text": [
        "['_type',\n",
        " '_location',\n",
        " '_description',\n",
        " '_name',\n",
        " '_uid',\n",
        " '_elements',\n",
        " '_properties']"
       ]
      }
     ],
     "prompt_number": 9
    },
    {
     "cell_type": "code",
     "collapsed": false,
     "input": [
      "sta.uid, sta.name, sta.description, sta.type, sta.location, sta.properties"
     ],
     "language": "python",
     "metadata": {},
     "outputs": [
      {
       "metadata": {},
       "output_type": "pyout",
       "prompt_number": 10,
       "text": [
        "('kachdwq',\n",
        " 'Homer Dolphin Deep',\n",
        " None,\n",
        " 'timeSeries',\n",
        " <shapely.geometry.point.Point at 0x7f5264ad38d0>,\n",
        " <bound method Station.properties of <paegan.cdm.dsg.features.station.Station object at 0x7f5265081fd0>>)"
       ]
      }
     ],
     "prompt_number": 10
    },
    {
     "cell_type": "code",
     "collapsed": false,
     "input": [
      "# 'siteid' and 'location_description' seem to refer to the NERRS reserve/site\n",
      "sta.get_property('siteid'), sta._properties"
     ],
     "language": "python",
     "metadata": {},
     "outputs": [
      {
       "metadata": {},
       "output_type": "pyout",
       "prompt_number": 11,
       "text": [
        "('kac',\n",
        " {'horizontal_crs': 'EPSG:4326',\n",
        "  'location_description': 'Kachemak Bay',\n",
        "  'siteid': 'kac',\n",
        "  'state': 'ak',\n",
        "  'vertical_crs': 'EPSG:4297',\n",
        "  'vertical_units': 'm'})"
       ]
      }
     ],
     "prompt_number": 11
    },
    {
     "cell_type": "code",
     "collapsed": false,
     "input": [
      "staloc = sta.get_location()\n",
      "print staloc, '||', staloc.type, '||', staloc.xy"
     ],
     "language": "python",
     "metadata": {},
     "outputs": [
      {
       "output_type": "stream",
       "stream": "stdout",
       "text": [
        "POINT Z (151.40878 59.60201 0) || Point || (array('d', [151.40878]), array('d', [59.60201]))\n"
       ]
      }
     ],
     "prompt_number": 12
    },
    {
     "cell_type": "code",
     "collapsed": false,
     "input": [
      "obsprops_bystdname_dict = obsprops_bystdname(sta)\n",
      "obsprops_bystdname_dict['oxygen_concentration_in_sea_water']"
     ],
     "language": "python",
     "metadata": {},
     "outputs": [
      {
       "metadata": {},
       "output_type": "pyout",
       "prompt_number": 13,
       "text": [
        "{'description': 'DO_mgl',\n",
        " 'name': 'DO_mgl',\n",
        " 'standard': 'oxygen_concentration_in_sea_water',\n",
        " 'unit': 'mg/L'}"
       ]
      }
     ],
     "prompt_number": 13
    },
    {
     "cell_type": "code",
     "collapsed": false,
     "input": [
      "# The individual observations are returned in the station \"elements\"\n",
      "stael = sta.elements\n",
      "type(stael), len(stael)"
     ],
     "language": "python",
     "metadata": {},
     "outputs": [
      {
       "metadata": {},
       "output_type": "pyout",
       "prompt_number": 14,
       "text": [
        "(list, 606)"
       ]
      }
     ],
     "prompt_number": 14
    },
    {
     "cell_type": "code",
     "collapsed": false,
     "input": [
      "stael0 = stael[0]\n",
      "stael0.time\n",
      "# See sta.get_unique_members(), above\n",
      "# stael0.get_member_names() returns a list of member names for this station 'element'"
     ],
     "language": "python",
     "metadata": {},
     "outputs": [
      {
       "metadata": {},
       "output_type": "pyout",
       "prompt_number": 15,
       "text": [
        "datetime.datetime(2014, 8, 6, 23, 15, tzinfo=<UTC>)"
       ]
      }
     ],
     "prompt_number": 15
    },
    {
     "cell_type": "code",
     "collapsed": false,
     "input": [
      "stael0.members"
     ],
     "language": "python",
     "metadata": {},
     "outputs": [
      {
       "metadata": {},
       "output_type": "pyout",
       "prompt_number": 16,
       "text": [
        "[{'description': 'Depth',\n",
        "  'name': 'Depth',\n",
        "  'standard': None,\n",
        "  'unit': None,\n",
        "  'value': 11.94},\n",
        " {'description': 'DO_mgl',\n",
        "  'name': 'DO_mgl',\n",
        "  'standard': 'oxygen_concentration_in_sea_water',\n",
        "  'unit': 'mg/L',\n",
        "  'value': 10.2},\n",
        " {'description': 'DO_pct',\n",
        "  'name': 'DO_pct',\n",
        "  'standard': 'oxygen_concentration_in_sea_water',\n",
        "  'unit': '%',\n",
        "  'value': 111.3},\n",
        " {'description': 'pH',\n",
        "  'name': 'pH',\n",
        "  'standard': 'sea_water_acidity',\n",
        "  'unit': '',\n",
        "  'value': 8.1},\n",
        " {'description': 'Sal',\n",
        "  'name': 'Sal',\n",
        "  'standard': 'sea_water_salinity',\n",
        "  'unit': 'ppt',\n",
        "  'value': 31.3},\n",
        " {'description': 'SpCond',\n",
        "  'name': 'SpCond',\n",
        "  'standard': 'specific_conductance',\n",
        "  'unit': 'mS/cm',\n",
        "  'value': 48.29},\n",
        " {'description': 'Temp',\n",
        "  'name': 'Temp',\n",
        "  'standard': 'sea_water_temperature',\n",
        "  'unit': '\\xc2\\xb0C',\n",
        "  'value': 10.4},\n",
        " {'description': 'Turb',\n",
        "  'name': 'Turb',\n",
        "  'standard': 'sea_water_turbidity',\n",
        "  'unit': 'NTU',\n",
        "  'value': 2.0}]"
       ]
      }
     ],
     "prompt_number": 16
    },
    {
     "cell_type": "code",
     "collapsed": false,
     "input": [
      "# From paegan: flatten Returns a Generator of Points that are part of this collection\n",
      "# Just exploring what this does...\n",
      "response.flatten"
     ],
     "language": "python",
     "metadata": {},
     "outputs": [
      {
       "metadata": {},
       "output_type": "pyout",
       "prompt_number": 17,
       "text": [
        "<bound method StationCollection.flatten of <paegan.cdm.dsg.collections.station_collection.StationCollection object at 0x7f5264ad3950>>"
       ]
      }
     ],
     "prompt_number": 17
    },
    {
     "cell_type": "code",
     "collapsed": false,
     "input": [
      "# FROM pyoos SOS handling\n",
      "# For first (and only) station\n",
      "flattenedsta_0 = map(flatten_element, sta.elements)\n",
      "sta_0df = pd.DataFrame.from_records(flattenedsta_0, index=['time'])\n",
      "sta_0df.head()"
     ],
     "language": "python",
     "metadata": {},
     "outputs": [
      {
       "html": [
        "<div style=\"max-height:1000px;max-width:1500px;overflow:auto;\">\n",
        "<table border=\"1\" class=\"dataframe\">\n",
        "  <thead>\n",
        "    <tr style=\"text-align: right;\">\n",
        "      <th></th>\n",
        "      <th>None</th>\n",
        "      <th>oxygen_concentration_in_sea_water</th>\n",
        "      <th>sea_water_acidity</th>\n",
        "      <th>sea_water_salinity</th>\n",
        "      <th>sea_water_temperature</th>\n",
        "      <th>sea_water_turbidity</th>\n",
        "      <th>specific_conductance</th>\n",
        "    </tr>\n",
        "    <tr>\n",
        "      <th>time</th>\n",
        "      <th></th>\n",
        "      <th></th>\n",
        "      <th></th>\n",
        "      <th></th>\n",
        "      <th></th>\n",
        "      <th></th>\n",
        "      <th></th>\n",
        "    </tr>\n",
        "  </thead>\n",
        "  <tbody>\n",
        "    <tr>\n",
        "      <th>2014-08-06 23:15:00+00:00</th>\n",
        "      <td> 11.94</td>\n",
        "      <td> 111.3</td>\n",
        "      <td> 8.1</td>\n",
        "      <td> 31.3</td>\n",
        "      <td> 10.4</td>\n",
        "      <td> 2</td>\n",
        "      <td> 48.29</td>\n",
        "    </tr>\n",
        "    <tr>\n",
        "      <th>2014-08-06 23:00:00+00:00</th>\n",
        "      <td> 12.17</td>\n",
        "      <td> 107.5</td>\n",
        "      <td> 8.0</td>\n",
        "      <td> 31.4</td>\n",
        "      <td> 10.2</td>\n",
        "      <td> 2</td>\n",
        "      <td> 48.45</td>\n",
        "    </tr>\n",
        "    <tr>\n",
        "      <th>2014-08-06 22:45:00+00:00</th>\n",
        "      <td> 12.34</td>\n",
        "      <td>  98.5</td>\n",
        "      <td> 8.0</td>\n",
        "      <td> 31.6</td>\n",
        "      <td> 10.0</td>\n",
        "      <td> 1</td>\n",
        "      <td> 48.66</td>\n",
        "    </tr>\n",
        "    <tr>\n",
        "      <th>2014-08-06 22:30:00+00:00</th>\n",
        "      <td> 12.52</td>\n",
        "      <td>  90.7</td>\n",
        "      <td> 7.9</td>\n",
        "      <td> 31.7</td>\n",
        "      <td>  9.8</td>\n",
        "      <td> 1</td>\n",
        "      <td> 48.88</td>\n",
        "    </tr>\n",
        "    <tr>\n",
        "      <th>2014-08-06 21:15:00+00:00</th>\n",
        "      <td> 13.29</td>\n",
        "      <td>  89.9</td>\n",
        "      <td> 7.9</td>\n",
        "      <td> 31.8</td>\n",
        "      <td>  9.6</td>\n",
        "      <td> 1</td>\n",
        "      <td> 48.96</td>\n",
        "    </tr>\n",
        "  </tbody>\n",
        "</table>\n",
        "</div>"
       ],
       "metadata": {},
       "output_type": "pyout",
       "prompt_number": 18,
       "text": [
        "                             NaN  oxygen_concentration_in_sea_water  \\\n",
        "time                                                                  \n",
        "2014-08-06 23:15:00+00:00  11.94                              111.3   \n",
        "2014-08-06 23:00:00+00:00  12.17                              107.5   \n",
        "2014-08-06 22:45:00+00:00  12.34                               98.5   \n",
        "2014-08-06 22:30:00+00:00  12.52                               90.7   \n",
        "2014-08-06 21:15:00+00:00  13.29                               89.9   \n",
        "\n",
        "                           sea_water_acidity  sea_water_salinity  \\\n",
        "time                                                               \n",
        "2014-08-06 23:15:00+00:00                8.1                31.3   \n",
        "2014-08-06 23:00:00+00:00                8.0                31.4   \n",
        "2014-08-06 22:45:00+00:00                8.0                31.6   \n",
        "2014-08-06 22:30:00+00:00                7.9                31.7   \n",
        "2014-08-06 21:15:00+00:00                7.9                31.8   \n",
        "\n",
        "                           sea_water_temperature  sea_water_turbidity  \\\n",
        "time                                                                    \n",
        "2014-08-06 23:15:00+00:00                   10.4                    2   \n",
        "2014-08-06 23:00:00+00:00                   10.2                    2   \n",
        "2014-08-06 22:45:00+00:00                   10.0                    1   \n",
        "2014-08-06 22:30:00+00:00                    9.8                    1   \n",
        "2014-08-06 21:15:00+00:00                    9.6                    1   \n",
        "\n",
        "                           specific_conductance  \n",
        "time                                             \n",
        "2014-08-06 23:15:00+00:00                 48.29  \n",
        "2014-08-06 23:00:00+00:00                 48.45  \n",
        "2014-08-06 22:45:00+00:00                 48.66  \n",
        "2014-08-06 22:30:00+00:00                 48.88  \n",
        "2014-08-06 21:15:00+00:00                 48.96  "
       ]
      }
     ],
     "prompt_number": 18
    },
    {
     "cell_type": "code",
     "collapsed": false,
     "input": [
      "# Time series plot.\n",
      "obsprop_name = 'oxygen_concentration_in_sea_water'\n",
      "obsprop = obsprops_bystdname_dict[obsprop_name]\n",
      "sta_0df[obsprop_name].plot()\n",
      "ylabel(obsprop_name + ' ('+obsprop['unit']+')');"
     ],
     "language": "python",
     "metadata": {},
     "outputs": [
      {
       "metadata": {},
       "output_type": "display_data",
       "png": "[encoded data removed]",
       "text": [
        "<matplotlib.figure.Figure at 0x7f52648dab10>"
       ]
      }
     ],
     "prompt_number": 19
    },
    {
     "cell_type": "code",
     "collapsed": false,
     "input": [],
     "language": "python",
     "metadata": {},
     "outputs": []
    }
   ],
   "metadata": {}
  }
 ]
}