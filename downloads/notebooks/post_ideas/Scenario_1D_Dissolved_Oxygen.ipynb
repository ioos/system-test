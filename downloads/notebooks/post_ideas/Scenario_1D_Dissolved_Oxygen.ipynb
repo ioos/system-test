{
 "metadata": {
  "name": "",
  "signature": "sha256:1b6a438c070466f1c3bfe02e2b022472fdb0c88e4a2853b8ead87f68043f5cff"
 },
 "nbformat": 3,
 "nbformat_minor": 0,
 "worksheets": [
  {
   "cells": [
    {
     "cell_type": "code",
     "collapsed": false,
     "input": [
      "from utilities import * \n",
      "css_styles()"
     ],
     "language": "python",
     "metadata": {},
     "outputs": [
      {
       "html": [
        "\n",
        "        <style>\n",
        "        .info {\n",
        "            background-color: #fcf8e3; border-color: #faebcc; border-left: 5px solid #8a6d3b; padding: 0.5em; color: #8a6d3b;\n",
        "        }\n",
        "        .success {\n",
        "            background-color: #d9edf7; border-color: #bce8f1; border-left: 5px solid #31708f; padding: 0.5em; color: #31708f;\n",
        "        }\n",
        "        .error {\n",
        "            background-color: #f2dede; border-color: #ebccd1; border-left: 5px solid #a94442; padding: 0.5em; color: #a94442;\n",
        "        }\n",
        "        .warning {\n",
        "            background-color: #fcf8e3; border-color: #faebcc; border-left: 5px solid #8a6d3b; padding: 0.5em; color: #8a6d3b;\n",
        "        }\n",
        "        </style>\n",
        "    "
       ],
       "metadata": {},
       "output_type": "pyout",
       "prompt_number": 1,
       "text": [
        "<IPython.core.display.HTML at 0x17c0dd0>"
       ]
      }
     ],
     "prompt_number": 1
    },
    {
     "cell_type": "markdown",
     "metadata": {},
     "source": [
      "# IOOS System Test - Theme 1 - Scenario D - [Description](https://github.com/ioos/system-test/wiki/Development-of-Test-Themes#theme1)\n",
      "## Exploring Dissolved Oxygen Data\n",
      "Dissolved oxygen is a comon indicator of water quality and measures how much oxygen is dissolved in water samples. This test searches dissolved oxygen data in real-time sensors and models, and tries to ask if all the values are in the same units for comparison.\n",
      "\n",
      "## Guiding Questions\n",
      "1. Can we discover, access, and overlay dissolved oxygen information in sensors?\n",
      "2. Can we discover, access, and overlay dissolved oxygen information from models?\n",
      "3. Is data from different sensors and satellite data (or models) directly comparable? Same units? Same scales?\n",
      "4. If not, how much work is necessary to aggregate these streams?\n",
      "5. Is metadata for these data intelligable?"
     ]
    },
    {
     "cell_type": "markdown",
     "metadata": {},
     "source": [
      "## Q1 - Can we discover, access, and overlay salinity information?"
     ]
    },
    {
     "cell_type": "code",
     "collapsed": false,
     "input": [
      "from pylab import *\n",
      "from IPython.display import HTML"
     ],
     "language": "python",
     "metadata": {},
     "outputs": [],
     "prompt_number": 5
    },
    {
     "cell_type": "markdown",
     "metadata": {},
     "source": [
      "#### Query MMI for CF standard names related to the IOOS Core Variables"
     ]
    },
    {
     "cell_type": "code",
     "collapsed": false,
     "input": [
      "import pandas as pd\n",
      "pd.set_option('display.max_columns', 20)\n",
      "pd.set_option('display.max_rows', 500)\n",
      "from SPARQLWrapper import SPARQLWrapper, JSON\n",
      "sparql = SPARQLWrapper(\"http://mmisw.org/sparql\")\n",
      "\n",
      "query = \"\"\"\n",
      "PREFIX ioos: <http://mmisw.org/ont/ioos/parameter/>\n",
      "SELECT DISTINCT ?cat ?parameter ?property ?value \n",
      "WHERE {?parameter a ioos:Parameter .\n",
      "       ?parameter ?property ?value .\n",
      "       ?cat skos:narrowMatch ?parameter .\n",
      "       FILTER  (regex(str(?property), \"Match\", \"i\") && regex(str(?value), \"cf\", \"i\") )\n",
      "      } \n",
      "ORDER BY ?cat ?parameter\n",
      "\"\"\"\n",
      "    \n",
      "sparql.setQuery(query)\n",
      "sparql.setReturnFormat(JSON)\n",
      "j = sparql.query().convert()\n",
      "\n",
      "cf_standard_uris  = list(set([ x[\"value\"][\"value\"] for x in j.get(\"results\").get(\"bindings\") ]))\n",
      "cf_standard_names = map(lambda x: x.split(\"/\")[-1], cf_standard_uris)\n",
      "pd.DataFrame.from_records(zip(cf_standard_names, cf_standard_uris), columns=(\"CF Name\", \"CF URI\",))"
     ],
     "language": "python",
     "metadata": {},
     "outputs": [
      {
       "output_type": "stream",
       "stream": "stderr",
       "text": [
        "/home/will/anaconda/lib/python2.7/site-packages/SPARQLWrapper/Wrapper.py:88: RuntimeWarning: JSON-LD disabled because no suitable support has been found\n",
        "  warnings.warn(\"JSON-LD disabled because no suitable support has been found\", RuntimeWarning)\n"
       ]
      },
      {
       "html": [
        "<div style=\"max-height:1000px;max-width:1500px;overflow:auto;\">\n",
        "<table border=\"1\" class=\"dataframe\">\n",
        "  <thead>\n",
        "    <tr style=\"text-align: right;\">\n",
        "      <th></th>\n",
        "      <th>CF Name</th>\n",
        "      <th>CF URI</th>\n",
        "    </tr>\n",
        "  </thead>\n",
        "  <tbody>\n",
        "    <tr>\n",
        "      <th>0  </th>\n",
        "      <td> sea_surface_height_correction_due_to_air_press...</td>\n",
        "      <td> http://mmisw.org/ont/cf/parameter/sea_surface_...</td>\n",
        "    </tr>\n",
        "    <tr>\n",
        "      <th>1  </th>\n",
        "      <td>               lagrangian_tendency_of_air_pressure</td>\n",
        "      <td> http://mmisw.org/ont/cf/parameter/lagrangian_t...</td>\n",
        "    </tr>\n",
        "    <tr>\n",
        "      <th>2  </th>\n",
        "      <td>                              radiation_wavelength</td>\n",
        "      <td> http://mmisw.org/ont/cf/parameter/radiation_wa...</td>\n",
        "    </tr>\n",
        "    <tr>\n",
        "      <th>3  </th>\n",
        "      <td>      mole_concentration_of_phosphate_in_sea_water</td>\n",
        "      <td> http://mmisw.org/ont/cf/parameter/mole_concent...</td>\n",
        "    </tr>\n",
        "    <tr>\n",
        "      <th>4  </th>\n",
        "      <td>                                   platform_course</td>\n",
        "      <td> http://mmisw.org/ont/cf/parameter/platform_course</td>\n",
        "    </tr>\n",
        "    <tr>\n",
        "      <th>5  </th>\n",
        "      <td> sea_surface_swell_wave_mean_period_from_varian...</td>\n",
        "      <td> http://mmisw.org/ont/cf/parameter/sea_surface_...</td>\n",
        "    </tr>\n",
        "    <tr>\n",
        "      <th>6  </th>\n",
        "      <td>                                 wind_to_direction</td>\n",
        "      <td> http://mmisw.org/ont/cf/parameter/wind_to_dire...</td>\n",
        "    </tr>\n",
        "    <tr>\n",
        "      <th>7  </th>\n",
        "      <td>             air_pressure_at_convective_cloud_base</td>\n",
        "      <td> http://mmisw.org/ont/cf/parameter/air_pressure...</td>\n",
        "    </tr>\n",
        "    <tr>\n",
        "      <th>8  </th>\n",
        "      <td> surface_partial_pressure_of_carbon_dioxide_in_...</td>\n",
        "      <td> http://mmisw.org/ont/cf/parameter/surface_part...</td>\n",
        "    </tr>\n",
        "    <tr>\n",
        "      <th>9  </th>\n",
        "      <td>                          tendency_of_air_pressure</td>\n",
        "      <td> http://mmisw.org/ont/cf/parameter/tendency_of_...</td>\n",
        "    </tr>\n",
        "    <tr>\n",
        "      <th>10 </th>\n",
        "      <td>         sea_surface_swell_wave_significant_height</td>\n",
        "      <td> http://mmisw.org/ont/cf/parameter/sea_surface_...</td>\n",
        "    </tr>\n",
        "    <tr>\n",
        "      <th>11 </th>\n",
        "      <td>       moles_of_nitrate_per_unit_mass_in_sea_water</td>\n",
        "      <td> http://mmisw.org/ont/cf/parameter/moles_of_nit...</td>\n",
        "    </tr>\n",
        "    <tr>\n",
        "      <th>12 </th>\n",
        "      <td> sea_surface_height_correction_due_to_air_press...</td>\n",
        "      <td> http://mmisw.org/ont/cf/parameter/sea_surface_...</td>\n",
        "    </tr>\n",
        "    <tr>\n",
        "      <th>13 </th>\n",
        "      <td>    sea_surface_height_amplitude_due_to_earth_tide</td>\n",
        "      <td> http://mmisw.org/ont/cf/parameter/sea_surface_...</td>\n",
        "    </tr>\n",
        "    <tr>\n",
        "      <th>14 </th>\n",
        "      <td> mole_concentration_of_dissolved_organic_carbon...</td>\n",
        "      <td> http://mmisw.org/ont/cf/parameter/mole_concent...</td>\n",
        "    </tr>\n",
        "    <tr>\n",
        "      <th>15 </th>\n",
        "      <td>                       eastward_sea_water_velocity</td>\n",
        "      <td> http://mmisw.org/ont/cf/parameter/eastward_sea...</td>\n",
        "    </tr>\n",
        "    <tr>\n",
        "      <th>16 </th>\n",
        "      <td>        water_surface_height_above_reference_datum</td>\n",
        "      <td> http://mmisw.org/ont/cf/parameter/water_surfac...</td>\n",
        "    </tr>\n",
        "    <tr>\n",
        "      <th>17 </th>\n",
        "      <td>                    sound_intensity_level_in_water</td>\n",
        "      <td> http://mmisw.org/ont/cf/parameter/sound_intens...</td>\n",
        "    </tr>\n",
        "    <tr>\n",
        "      <th>18 </th>\n",
        "      <td> sea_surface_wave_mean_period_from_variance_spe...</td>\n",
        "      <td> http://mmisw.org/ont/cf/parameter/sea_surface_...</td>\n",
        "    </tr>\n",
        "    <tr>\n",
        "      <th>19 </th>\n",
        "      <td> sea_surface_wave_mean_period_from_variance_spe...</td>\n",
        "      <td> http://mmisw.org/ont/cf/parameter/sea_surface_...</td>\n",
        "    </tr>\n",
        "    <tr>\n",
        "      <th>20 </th>\n",
        "      <td>        mole_concentration_of_nitrate_in_sea_water</td>\n",
        "      <td> http://mmisw.org/ont/cf/parameter/mole_concent...</td>\n",
        "    </tr>\n",
        "    <tr>\n",
        "      <th>21 </th>\n",
        "      <td>                                    northward_wind</td>\n",
        "      <td>  http://mmisw.org/ont/cf/parameter/northward_wind</td>\n",
        "    </tr>\n",
        "    <tr>\n",
        "      <th>22 </th>\n",
        "      <td>                           freezing_level_altitude</td>\n",
        "      <td> http://mmisw.org/ont/cf/parameter/freezing_lev...</td>\n",
        "    </tr>\n",
        "    <tr>\n",
        "      <th>23 </th>\n",
        "      <td>      mass_concentration_of_phosphate_in_sea_water</td>\n",
        "      <td> http://mmisw.org/ont/cf/parameter/mass_concent...</td>\n",
        "    </tr>\n",
        "    <tr>\n",
        "      <th>24 </th>\n",
        "      <td>                            height_above_sea_floor</td>\n",
        "      <td> http://mmisw.org/ont/cf/parameter/height_above...</td>\n",
        "    </tr>\n",
        "    <tr>\n",
        "      <th>25 </th>\n",
        "      <td>                                     eastward_wind</td>\n",
        "      <td>   http://mmisw.org/ont/cf/parameter/eastward_wind</td>\n",
        "    </tr>\n",
        "    <tr>\n",
        "      <th>26 </th>\n",
        "      <td>                      sound_intensity_level_in_air</td>\n",
        "      <td> http://mmisw.org/ont/cf/parameter/sound_intens...</td>\n",
        "    </tr>\n",
        "    <tr>\n",
        "      <th>27 </th>\n",
        "      <td>                                   air_temperature</td>\n",
        "      <td> http://mmisw.org/ont/cf/parameter/air_temperature</td>\n",
        "    </tr>\n",
        "    <tr>\n",
        "      <th>28 </th>\n",
        "      <td>                                 depth_below_geoid</td>\n",
        "      <td> http://mmisw.org/ont/cf/parameter/depth_below_...</td>\n",
        "    </tr>\n",
        "    <tr>\n",
        "      <th>29 </th>\n",
        "      <td>                                          altitude</td>\n",
        "      <td>        http://mmisw.org/ont/cf/parameter/altitude</td>\n",
        "    </tr>\n",
        "    <tr>\n",
        "      <th>30 </th>\n",
        "      <td> sea_surface_wind_wave_mean_period_from_varianc...</td>\n",
        "      <td> http://mmisw.org/ont/cf/parameter/sea_surface_...</td>\n",
        "    </tr>\n",
        "    <tr>\n",
        "      <th>31 </th>\n",
        "      <td> product_of_eastward_sea_water_velocity_and_sal...</td>\n",
        "      <td> http://mmisw.org/ont/cf/parameter/product_of_e...</td>\n",
        "    </tr>\n",
        "    <tr>\n",
        "      <th>32 </th>\n",
        "      <td> surface_geostrophic_northward_sea_water_veloci...</td>\n",
        "      <td> http://mmisw.org/ont/cf/parameter/surface_geos...</td>\n",
        "    </tr>\n",
        "    <tr>\n",
        "      <th>33 </th>\n",
        "      <td>                               height_at_cloud_top</td>\n",
        "      <td> http://mmisw.org/ont/cf/parameter/height_at_cl...</td>\n",
        "    </tr>\n",
        "    <tr>\n",
        "      <th>34 </th>\n",
        "      <td>        sea_surface_wave_variance_spectral_density</td>\n",
        "      <td> http://mmisw.org/ont/cf/parameter/sea_surface_...</td>\n",
        "    </tr>\n",
        "    <tr>\n",
        "      <th>35 </th>\n",
        "      <td>          sea_surface_wind_wave_significant_height</td>\n",
        "      <td> http://mmisw.org/ont/cf/parameter/sea_surface_...</td>\n",
        "    </tr>\n",
        "    <tr>\n",
        "      <th>36 </th>\n",
        "      <td>                   sea_floor_depth_below_sea_level</td>\n",
        "      <td> http://mmisw.org/ont/cf/parameter/sea_floor_de...</td>\n",
        "    </tr>\n",
        "    <tr>\n",
        "      <th>37 </th>\n",
        "      <td> sea_surface_wind_wave_mean_period_from_varianc...</td>\n",
        "      <td> http://mmisw.org/ont/cf/parameter/sea_surface_...</td>\n",
        "    </tr>\n",
        "    <tr>\n",
        "      <th>38 </th>\n",
        "      <td>                      northward_sea_water_velocity</td>\n",
        "      <td> http://mmisw.org/ont/cf/parameter/northward_se...</td>\n",
        "    </tr>\n",
        "    <tr>\n",
        "      <th>39 </th>\n",
        "      <td> sea_water_alkalinity_expressed_as_mole_equivalent</td>\n",
        "      <td> http://mmisw.org/ont/cf/parameter/sea_water_al...</td>\n",
        "    </tr>\n",
        "    <tr>\n",
        "      <th>40 </th>\n",
        "      <td>                                             depth</td>\n",
        "      <td>           http://mmisw.org/ont/cf/parameter/depth</td>\n",
        "    </tr>\n",
        "    <tr>\n",
        "      <th>41 </th>\n",
        "      <td>                   sea_surface_subskin_temperature</td>\n",
        "      <td> http://mmisw.org/ont/cf/parameter/sea_surface_...</td>\n",
        "    </tr>\n",
        "    <tr>\n",
        "      <th>42 </th>\n",
        "      <td>                                  surface_altitude</td>\n",
        "      <td> http://mmisw.org/ont/cf/parameter/surface_alti...</td>\n",
        "    </tr>\n",
        "    <tr>\n",
        "      <th>43 </th>\n",
        "      <td>              air_pressure_at_convective_cloud_top</td>\n",
        "      <td> http://mmisw.org/ont/cf/parameter/air_pressure...</td>\n",
        "    </tr>\n",
        "    <tr>\n",
        "      <th>44 </th>\n",
        "      <td>              sea_water_ph_reported_on_total_scale</td>\n",
        "      <td> http://mmisw.org/ont/cf/parameter/sea_water_ph...</td>\n",
        "    </tr>\n",
        "    <tr>\n",
        "      <th>45 </th>\n",
        "      <td>                   sea_surface_wave_from_direction</td>\n",
        "      <td> http://mmisw.org/ont/cf/parameter/sea_surface_...</td>\n",
        "    </tr>\n",
        "    <tr>\n",
        "      <th>46 </th>\n",
        "      <td>                    upward_latent_heat_flux_in_air</td>\n",
        "      <td> http://mmisw.org/ont/cf/parameter/upward_laten...</td>\n",
        "    </tr>\n",
        "    <tr>\n",
        "      <th>47 </th>\n",
        "      <td>                 surface_downward_northward_stress</td>\n",
        "      <td> http://mmisw.org/ont/cf/parameter/surface_down...</td>\n",
        "    </tr>\n",
        "    <tr>\n",
        "      <th>48 </th>\n",
        "      <td>                sea_surface_wind_wave_to_direction</td>\n",
        "      <td> http://mmisw.org/ont/cf/parameter/sea_surface_...</td>\n",
        "    </tr>\n",
        "    <tr>\n",
        "      <th>49 </th>\n",
        "      <td> sea_surface_wind_wave_mean_period_from_varianc...</td>\n",
        "      <td> http://mmisw.org/ont/cf/parameter/sea_surface_...</td>\n",
        "    </tr>\n",
        "    <tr>\n",
        "      <th>50 </th>\n",
        "      <td>                         air_pressure_at_sea_level</td>\n",
        "      <td> http://mmisw.org/ont/cf/parameter/air_pressure...</td>\n",
        "    </tr>\n",
        "    <tr>\n",
        "      <th>51 </th>\n",
        "      <td>                                        wind_speed</td>\n",
        "      <td>      http://mmisw.org/ont/cf/parameter/wind_speed</td>\n",
        "    </tr>\n",
        "    <tr>\n",
        "      <th>52 </th>\n",
        "      <td>                              platform_pitch_angle</td>\n",
        "      <td> http://mmisw.org/ont/cf/parameter/platform_pit...</td>\n",
        "    </tr>\n",
        "    <tr>\n",
        "      <th>53 </th>\n",
        "      <td>       mass_fraction_of_chlorophyll_a_in_sea_water</td>\n",
        "      <td> http://mmisw.org/ont/cf/parameter/mass_fractio...</td>\n",
        "    </tr>\n",
        "    <tr>\n",
        "      <th>54 </th>\n",
        "      <td>    radial_sea_water_velocity_away_from_instrument</td>\n",
        "      <td> http://mmisw.org/ont/cf/parameter/radial_sea_w...</td>\n",
        "    </tr>\n",
        "    <tr>\n",
        "      <th>55 </th>\n",
        "      <td>                                cloud_top_altitude</td>\n",
        "      <td> http://mmisw.org/ont/cf/parameter/cloud_top_al...</td>\n",
        "    </tr>\n",
        "    <tr>\n",
        "      <th>56 </th>\n",
        "      <td>                   sea_water_pressure_at_sea_floor</td>\n",
        "      <td> http://mmisw.org/ont/cf/parameter/sea_water_pr...</td>\n",
        "    </tr>\n",
        "    <tr>\n",
        "      <th>57 </th>\n",
        "      <td> moles_of_nitrate_and_nitrite_per_unit_mass_in_...</td>\n",
        "      <td> http://mmisw.org/ont/cf/parameter/moles_of_nit...</td>\n",
        "    </tr>\n",
        "    <tr>\n",
        "      <th>58 </th>\n",
        "      <td> volume_absorption_coefficient_of_radiative_flu...</td>\n",
        "      <td> http://mmisw.org/ont/cf/parameter/volume_absor...</td>\n",
        "    </tr>\n",
        "    <tr>\n",
        "      <th>59 </th>\n",
        "      <td>   direction_of_radial_vector_away_from_instrument</td>\n",
        "      <td> http://mmisw.org/ont/cf/parameter/direction_of...</td>\n",
        "    </tr>\n",
        "    <tr>\n",
        "      <th>60 </th>\n",
        "      <td>                  upward_sensible_heat_flux_in_air</td>\n",
        "      <td> http://mmisw.org/ont/cf/parameter/upward_sensi...</td>\n",
        "    </tr>\n",
        "    <tr>\n",
        "      <th>61 </th>\n",
        "      <td> sea_surface_wave_period_at_variance_spectral_d...</td>\n",
        "      <td> http://mmisw.org/ont/cf/parameter/sea_surface_...</td>\n",
        "    </tr>\n",
        "    <tr>\n",
        "      <th>62 </th>\n",
        "      <td>                               cloud_base_altitude</td>\n",
        "      <td> http://mmisw.org/ont/cf/parameter/cloud_base_a...</td>\n",
        "    </tr>\n",
        "    <tr>\n",
        "      <th>63 </th>\n",
        "      <td>                      air_temperature_at_cloud_top</td>\n",
        "      <td> http://mmisw.org/ont/cf/parameter/air_temperat...</td>\n",
        "    </tr>\n",
        "    <tr>\n",
        "      <th>64 </th>\n",
        "      <td>   upward_heat_flux_in_sea_water_due_to_convection</td>\n",
        "      <td> http://mmisw.org/ont/cf/parameter/upward_heat_...</td>\n",
        "    </tr>\n",
        "    <tr>\n",
        "      <th>65 </th>\n",
        "      <td>                 altitude_at_top_of_dry_convection</td>\n",
        "      <td> http://mmisw.org/ont/cf/parameter/altitude_at_...</td>\n",
        "    </tr>\n",
        "    <tr>\n",
        "      <th>66 </th>\n",
        "      <td>                         equilibrium_line_altitude</td>\n",
        "      <td> http://mmisw.org/ont/cf/parameter/equilibrium_...</td>\n",
        "    </tr>\n",
        "    <tr>\n",
        "      <th>67 </th>\n",
        "      <td>                         upward_sea_water_velocity</td>\n",
        "      <td> http://mmisw.org/ont/cf/parameter/upward_sea_w...</td>\n",
        "    </tr>\n",
        "    <tr>\n",
        "      <th>68 </th>\n",
        "      <td>                              sea_surface_salinity</td>\n",
        "      <td> http://mmisw.org/ont/cf/parameter/sea_surface_...</td>\n",
        "    </tr>\n",
        "    <tr>\n",
        "      <th>69 </th>\n",
        "      <td>               sea_surface_swell_wave_to_direction</td>\n",
        "      <td> http://mmisw.org/ont/cf/parameter/sea_surface_...</td>\n",
        "    </tr>\n",
        "    <tr>\n",
        "      <th>70 </th>\n",
        "      <td>                              surface_air_pressure</td>\n",
        "      <td> http://mmisw.org/ont/cf/parameter/surface_air_...</td>\n",
        "    </tr>\n",
        "    <tr>\n",
        "      <th>71 </th>\n",
        "      <td>                 sea_water_electrical_conductivity</td>\n",
        "      <td> http://mmisw.org/ont/cf/parameter/sea_water_el...</td>\n",
        "    </tr>\n",
        "    <tr>\n",
        "      <th>72 </th>\n",
        "      <td>                      sea_water_practical_salinity</td>\n",
        "      <td> http://mmisw.org/ont/cf/parameter/sea_water_pr...</td>\n",
        "    </tr>\n",
        "    <tr>\n",
        "      <th>73 </th>\n",
        "      <td> sea_surface_height_amplitude_due_to_equilibriu...</td>\n",
        "      <td> http://mmisw.org/ont/cf/parameter/sea_surface_...</td>\n",
        "    </tr>\n",
        "    <tr>\n",
        "      <th>74 </th>\n",
        "      <td>   surface_geostrophic_eastward_sea_water_velocity</td>\n",
        "      <td> http://mmisw.org/ont/cf/parameter/surface_geos...</td>\n",
        "    </tr>\n",
        "    <tr>\n",
        "      <th>75 </th>\n",
        "      <td>                         secchi_depth_of_sea_water</td>\n",
        "      <td> http://mmisw.org/ont/cf/parameter/secchi_depth...</td>\n",
        "    </tr>\n",
        "    <tr>\n",
        "      <th>76 </th>\n",
        "      <td> mass_concentration_of_inorganic_nitrogen_in_se...</td>\n",
        "      <td> http://mmisw.org/ont/cf/parameter/mass_concent...</td>\n",
        "    </tr>\n",
        "    <tr>\n",
        "      <th>77 </th>\n",
        "      <td>                             sea_water_temperature</td>\n",
        "      <td> http://mmisw.org/ont/cf/parameter/sea_water_te...</td>\n",
        "    </tr>\n",
        "    <tr>\n",
        "      <th>78 </th>\n",
        "      <td>                                 sea_water_density</td>\n",
        "      <td> http://mmisw.org/ont/cf/parameter/sea_water_de...</td>\n",
        "    </tr>\n",
        "    <tr>\n",
        "      <th>79 </th>\n",
        "      <td>               sea_water_pressure_due_to_sea_water</td>\n",
        "      <td> http://mmisw.org/ont/cf/parameter/sea_water_pr...</td>\n",
        "    </tr>\n",
        "    <tr>\n",
        "      <th>80 </th>\n",
        "      <td> surface_carbon_dioxide_partial_pressure_differ...</td>\n",
        "      <td> http://mmisw.org/ont/cf/parameter/surface_carb...</td>\n",
        "    </tr>\n",
        "    <tr>\n",
        "      <th>81 </th>\n",
        "      <td>                      thickness_of_rainfall_amount</td>\n",
        "      <td> http://mmisw.org/ont/cf/parameter/thickness_of...</td>\n",
        "    </tr>\n",
        "    <tr>\n",
        "      <th>82 </th>\n",
        "      <td>     temperature_of_sensor_for_oxygen_in_sea_water</td>\n",
        "      <td> http://mmisw.org/ont/cf/parameter/temperature_...</td>\n",
        "    </tr>\n",
        "    <tr>\n",
        "      <th>83 </th>\n",
        "      <td>                           air_temperature_anomaly</td>\n",
        "      <td> http://mmisw.org/ont/cf/parameter/air_temperat...</td>\n",
        "    </tr>\n",
        "    <tr>\n",
        "      <th>84 </th>\n",
        "      <td>           sea_water_pressure_at_sea_water_surface</td>\n",
        "      <td> http://mmisw.org/ont/cf/parameter/sea_water_pr...</td>\n",
        "    </tr>\n",
        "    <tr>\n",
        "      <th>85 </th>\n",
        "      <td>                               upward_air_velocity</td>\n",
        "      <td> http://mmisw.org/ont/cf/parameter/upward_air_v...</td>\n",
        "    </tr>\n",
        "    <tr>\n",
        "      <th>86 </th>\n",
        "      <td>                                wind_speed_of_gust</td>\n",
        "      <td> http://mmisw.org/ont/cf/parameter/wind_speed_o...</td>\n",
        "    </tr>\n",
        "    <tr>\n",
        "      <th>87 </th>\n",
        "      <td>                                sea_water_pressure</td>\n",
        "      <td> http://mmisw.org/ont/cf/parameter/sea_water_pr...</td>\n",
        "    </tr>\n",
        "    <tr>\n",
        "      <th>88 </th>\n",
        "      <td>                 bolus_eastward_sea_water_velocity</td>\n",
        "      <td> http://mmisw.org/ont/cf/parameter/bolus_eastwa...</td>\n",
        "    </tr>\n",
        "    <tr>\n",
        "      <th>89 </th>\n",
        "      <td>                                platform_yaw_angle</td>\n",
        "      <td> http://mmisw.org/ont/cf/parameter/platform_yaw...</td>\n",
        "    </tr>\n",
        "    <tr>\n",
        "      <th>90 </th>\n",
        "      <td>               sea_surface_wave_significant_height</td>\n",
        "      <td> http://mmisw.org/ont/cf/parameter/sea_surface_...</td>\n",
        "    </tr>\n",
        "    <tr>\n",
        "      <th>91 </th>\n",
        "      <td>                       sea_floor_depth_below_geoid</td>\n",
        "      <td> http://mmisw.org/ont/cf/parameter/sea_floor_de...</td>\n",
        "    </tr>\n",
        "    <tr>\n",
        "      <th>92 </th>\n",
        "      <td>                sea_surface_height_above_sea_level</td>\n",
        "      <td> http://mmisw.org/ont/cf/parameter/sea_surface_...</td>\n",
        "    </tr>\n",
        "    <tr>\n",
        "      <th>93 </th>\n",
        "      <td>   difference_of_air_pressure_from_model_reference</td>\n",
        "      <td> http://mmisw.org/ont/cf/parameter/difference_o...</td>\n",
        "    </tr>\n",
        "    <tr>\n",
        "      <th>94 </th>\n",
        "      <td>                     sea_surface_wave_to_direction</td>\n",
        "      <td> http://mmisw.org/ont/cf/parameter/sea_surface_...</td>\n",
        "    </tr>\n",
        "    <tr>\n",
        "      <th>95 </th>\n",
        "      <td>      fractional_saturation_of_oxygen_in_sea_water</td>\n",
        "      <td> http://mmisw.org/ont/cf/parameter/fractional_s...</td>\n",
        "    </tr>\n",
        "    <tr>\n",
        "      <th>96 </th>\n",
        "      <td>                        geostrophic_northward_wind</td>\n",
        "      <td> http://mmisw.org/ont/cf/parameter/geostrophic_...</td>\n",
        "    </tr>\n",
        "    <tr>\n",
        "      <th>97 </th>\n",
        "      <td>       mole_concentration_of_ammonium_in_sea_water</td>\n",
        "      <td> http://mmisw.org/ont/cf/parameter/mole_concent...</td>\n",
        "    </tr>\n",
        "    <tr>\n",
        "      <th>98 </th>\n",
        "      <td>                bolus_northward_sea_water_velocity</td>\n",
        "      <td> http://mmisw.org/ont/cf/parameter/bolus_northw...</td>\n",
        "    </tr>\n",
        "    <tr>\n",
        "      <th>99 </th>\n",
        "      <td>                   model_level_number_at_sea_floor</td>\n",
        "      <td> http://mmisw.org/ont/cf/parameter/model_level_...</td>\n",
        "    </tr>\n",
        "    <tr>\n",
        "      <th>100</th>\n",
        "      <td>     sea_surface_swell_wave_zero_upcrossing_period</td>\n",
        "      <td> http://mmisw.org/ont/cf/parameter/sea_surface_...</td>\n",
        "    </tr>\n",
        "    <tr>\n",
        "      <th>101</th>\n",
        "      <td> depth_of_isosurface_of_sea_water_potential_tem...</td>\n",
        "      <td> http://mmisw.org/ont/cf/parameter/depth_of_iso...</td>\n",
        "    </tr>\n",
        "    <tr>\n",
        "      <th>102</th>\n",
        "      <td>            baroclinic_eastward_sea_water_velocity</td>\n",
        "      <td> http://mmisw.org/ont/cf/parameter/baroclinic_e...</td>\n",
        "    </tr>\n",
        "    <tr>\n",
        "      <th>103</th>\n",
        "      <td>                         geostrophic_eastward_wind</td>\n",
        "      <td> http://mmisw.org/ont/cf/parameter/geostrophic_...</td>\n",
        "    </tr>\n",
        "    <tr>\n",
        "      <th>104</th>\n",
        "      <td>                            platform_azimuth_angle</td>\n",
        "      <td> http://mmisw.org/ont/cf/parameter/platform_azi...</td>\n",
        "    </tr>\n",
        "    <tr>\n",
        "      <th>105</th>\n",
        "      <td>                               sea_water_turbidity</td>\n",
        "      <td> http://mmisw.org/ont/cf/parameter/sea_water_tu...</td>\n",
        "    </tr>\n",
        "    <tr>\n",
        "      <th>106</th>\n",
        "      <td>            barotropic_eastward_sea_water_velocity</td>\n",
        "      <td> http://mmisw.org/ont/cf/parameter/barotropic_e...</td>\n",
        "    </tr>\n",
        "    <tr>\n",
        "      <th>107</th>\n",
        "      <td>                              air_pressure_anomaly</td>\n",
        "      <td> http://mmisw.org/ont/cf/parameter/air_pressure...</td>\n",
        "    </tr>\n",
        "    <tr>\n",
        "      <th>108</th>\n",
        "      <td>        mole_concentration_of_nitrite_in_sea_water</td>\n",
        "      <td> http://mmisw.org/ont/cf/parameter/mole_concent...</td>\n",
        "    </tr>\n",
        "    <tr>\n",
        "      <th>109</th>\n",
        "      <td>                                            height</td>\n",
        "      <td>          http://mmisw.org/ont/cf/parameter/height</td>\n",
        "    </tr>\n",
        "    <tr>\n",
        "      <th>110</th>\n",
        "      <td>      sea_surface_height_above_reference_ellipsoid</td>\n",
        "      <td> http://mmisw.org/ont/cf/parameter/sea_surface_...</td>\n",
        "    </tr>\n",
        "    <tr>\n",
        "      <th>111</th>\n",
        "      <td>                        air_temperature_lapse_rate</td>\n",
        "      <td> http://mmisw.org/ont/cf/parameter/air_temperat...</td>\n",
        "    </tr>\n",
        "    <tr>\n",
        "      <th>112</th>\n",
        "      <td>       moles_of_nitrite_per_unit_mass_in_sea_water</td>\n",
        "      <td> http://mmisw.org/ont/cf/parameter/moles_of_nit...</td>\n",
        "    </tr>\n",
        "    <tr>\n",
        "      <th>113</th>\n",
        "      <td>                        tropopause_air_temperature</td>\n",
        "      <td> http://mmisw.org/ont/cf/parameter/tropopause_a...</td>\n",
        "    </tr>\n",
        "    <tr>\n",
        "      <th>114</th>\n",
        "      <td>    mass_concentration_of_chlorophyll_in_sea_water</td>\n",
        "      <td> http://mmisw.org/ont/cf/parameter/mass_concent...</td>\n",
        "    </tr>\n",
        "    <tr>\n",
        "      <th>115</th>\n",
        "      <td>                               platform_roll_angle</td>\n",
        "      <td> http://mmisw.org/ont/cf/parameter/platform_rol...</td>\n",
        "    </tr>\n",
        "    <tr>\n",
        "      <th>116</th>\n",
        "      <td> sea_surface_height_bias_due_to_sea_surface_rou...</td>\n",
        "      <td> http://mmisw.org/ont/cf/parameter/sea_surface_...</td>\n",
        "    </tr>\n",
        "    <tr>\n",
        "      <th>117</th>\n",
        "      <td> surface_partial_pressure_of_carbon_dioxide_in_air</td>\n",
        "      <td> http://mmisw.org/ont/cf/parameter/surface_part...</td>\n",
        "    </tr>\n",
        "    <tr>\n",
        "      <th>118</th>\n",
        "      <td> mole_concentration_of_bacteria_expressed_as_ca...</td>\n",
        "      <td> http://mmisw.org/ont/cf/parameter/mole_concent...</td>\n",
        "    </tr>\n",
        "    <tr>\n",
        "      <th>119</th>\n",
        "      <td>           sea_surface_wave_zero_upcrossing_period</td>\n",
        "      <td> http://mmisw.org/ont/cf/parameter/sea_surface_...</td>\n",
        "    </tr>\n",
        "    <tr>\n",
        "      <th>120</th>\n",
        "      <td> surface_geostrophic_eastward_sea_water_velocit...</td>\n",
        "      <td> http://mmisw.org/ont/cf/parameter/surface_geos...</td>\n",
        "    </tr>\n",
        "    <tr>\n",
        "      <th>121</th>\n",
        "      <td>                                          latitude</td>\n",
        "      <td>        http://mmisw.org/ont/cf/parameter/latitude</td>\n",
        "    </tr>\n",
        "    <tr>\n",
        "      <th>122</th>\n",
        "      <td> mole_concentration_of_nitrate_and_nitrite_in_s...</td>\n",
        "      <td> http://mmisw.org/ont/cf/parameter/mole_concent...</td>\n",
        "    </tr>\n",
        "    <tr>\n",
        "      <th>123</th>\n",
        "      <td>              magnitude_of_surface_downward_stress</td>\n",
        "      <td> http://mmisw.org/ont/cf/parameter/magnitude_of...</td>\n",
        "    </tr>\n",
        "    <tr>\n",
        "      <th>124</th>\n",
        "      <td> sea_surface_wave_mean_period_from_variance_spe...</td>\n",
        "      <td> http://mmisw.org/ont/cf/parameter/sea_surface_...</td>\n",
        "    </tr>\n",
        "    <tr>\n",
        "      <th>125</th>\n",
        "      <td> sea_surface_swell_wave_mean_period_from_varian...</td>\n",
        "      <td> http://mmisw.org/ont/cf/parameter/sea_surface_...</td>\n",
        "    </tr>\n",
        "    <tr>\n",
        "      <th>126</th>\n",
        "      <td>                 sea_floor_depth_below_sea_surface</td>\n",
        "      <td> http://mmisw.org/ont/cf/parameter/sea_floor_de...</td>\n",
        "    </tr>\n",
        "    <tr>\n",
        "      <th>127</th>\n",
        "      <td>                        air_pressure_at_cloud_base</td>\n",
        "      <td> http://mmisw.org/ont/cf/parameter/air_pressure...</td>\n",
        "    </tr>\n",
        "    <tr>\n",
        "      <th>128</th>\n",
        "      <td>                      thickness_of_snowfall_amount</td>\n",
        "      <td> http://mmisw.org/ont/cf/parameter/thickness_of...</td>\n",
        "    </tr>\n",
        "    <tr>\n",
        "      <th>129</th>\n",
        "      <td>                      sea_surface_skin_temperature</td>\n",
        "      <td> http://mmisw.org/ont/cf/parameter/sea_surface_...</td>\n",
        "    </tr>\n",
        "    <tr>\n",
        "      <th>130</th>\n",
        "      <td>     sea_surface_height_amplitude_due_to_pole_tide</td>\n",
        "      <td> http://mmisw.org/ont/cf/parameter/sea_surface_...</td>\n",
        "    </tr>\n",
        "    <tr>\n",
        "      <th>131</th>\n",
        "      <td>                         air_pressure_at_cloud_top</td>\n",
        "      <td> http://mmisw.org/ont/cf/parameter/air_pressure...</td>\n",
        "    </tr>\n",
        "    <tr>\n",
        "      <th>132</th>\n",
        "      <td>         mass_concentration_of_oxygen_in_sea_water</td>\n",
        "      <td> http://mmisw.org/ont/cf/parameter/mass_concent...</td>\n",
        "    </tr>\n",
        "    <tr>\n",
        "      <th>133</th>\n",
        "      <td>   mole_ratio_of_nitrate_to_phosphate_in_sea_water</td>\n",
        "      <td> http://mmisw.org/ont/cf/parameter/mole_ratio_o...</td>\n",
        "    </tr>\n",
        "    <tr>\n",
        "      <th>134</th>\n",
        "      <td>                           sea_surface_temperature</td>\n",
        "      <td> http://mmisw.org/ont/cf/parameter/sea_surface_...</td>\n",
        "    </tr>\n",
        "    <tr>\n",
        "      <th>135</th>\n",
        "      <td>               surface_eastward_sea_water_velocity</td>\n",
        "      <td> http://mmisw.org/ont/cf/parameter/surface_east...</td>\n",
        "    </tr>\n",
        "    <tr>\n",
        "      <th>136</th>\n",
        "      <td>           barotropic_northward_sea_water_velocity</td>\n",
        "      <td> http://mmisw.org/ont/cf/parameter/barotropic_n...</td>\n",
        "    </tr>\n",
        "    <tr>\n",
        "      <th>137</th>\n",
        "      <td>                                         longitude</td>\n",
        "      <td>       http://mmisw.org/ont/cf/parameter/longitude</td>\n",
        "    </tr>\n",
        "    <tr>\n",
        "      <th>138</th>\n",
        "      <td>                                sea_water_salinity</td>\n",
        "      <td> http://mmisw.org/ont/cf/parameter/sea_water_sa...</td>\n",
        "    </tr>\n",
        "    <tr>\n",
        "      <th>139</th>\n",
        "      <td>                                      air_pressure</td>\n",
        "      <td>    http://mmisw.org/ont/cf/parameter/air_pressure</td>\n",
        "    </tr>\n",
        "    <tr>\n",
        "      <th>140</th>\n",
        "      <td>                  surface_downward_eastward_stress</td>\n",
        "      <td> http://mmisw.org/ont/cf/parameter/surface_down...</td>\n",
        "    </tr>\n",
        "    <tr>\n",
        "      <th>141</th>\n",
        "      <td> sea_surface_wave_directional_variance_spectral...</td>\n",
        "      <td> http://mmisw.org/ont/cf/parameter/sea_surface_...</td>\n",
        "    </tr>\n",
        "    <tr>\n",
        "      <th>142</th>\n",
        "      <td>                                    wave_frequency</td>\n",
        "      <td>  http://mmisw.org/ont/cf/parameter/wave_frequency</td>\n",
        "    </tr>\n",
        "    <tr>\n",
        "      <th>143</th>\n",
        "      <td>                               wind_from_direction</td>\n",
        "      <td> http://mmisw.org/ont/cf/parameter/wind_from_di...</td>\n",
        "    </tr>\n",
        "    <tr>\n",
        "      <th>144</th>\n",
        "      <td>                           tropopause_air_pressure</td>\n",
        "      <td> http://mmisw.org/ont/cf/parameter/tropopause_a...</td>\n",
        "    </tr>\n",
        "    <tr>\n",
        "      <th>145</th>\n",
        "      <td> sea_surface_swell_wave_mean_period_from_varian...</td>\n",
        "      <td> http://mmisw.org/ont/cf/parameter/sea_surface_...</td>\n",
        "    </tr>\n",
        "    <tr>\n",
        "      <th>146</th>\n",
        "      <td>                    sea_surface_height_above_geoid</td>\n",
        "      <td> http://mmisw.org/ont/cf/parameter/sea_surface_...</td>\n",
        "    </tr>\n",
        "    <tr>\n",
        "      <th>147</th>\n",
        "      <td>                   direction_of_sea_water_velocity</td>\n",
        "      <td> http://mmisw.org/ont/cf/parameter/direction_of...</td>\n",
        "    </tr>\n",
        "    <tr>\n",
        "      <th>148</th>\n",
        "      <td>                                   sea_water_speed</td>\n",
        "      <td> http://mmisw.org/ont/cf/parameter/sea_water_speed</td>\n",
        "    </tr>\n",
        "    <tr>\n",
        "      <th>149</th>\n",
        "      <td> sea_surface_height_amplitude_due_to_geocentric...</td>\n",
        "      <td> http://mmisw.org/ont/cf/parameter/sea_surface_...</td>\n",
        "    </tr>\n",
        "    <tr>\n",
        "      <th>150</th>\n",
        "      <td>             change_over_time_in_sea_water_density</td>\n",
        "      <td> http://mmisw.org/ont/cf/parameter/change_over_...</td>\n",
        "    </tr>\n",
        "    <tr>\n",
        "      <th>151</th>\n",
        "      <td> mole_concentration_of_particulate_organic_matt...</td>\n",
        "      <td> http://mmisw.org/ont/cf/parameter/mole_concent...</td>\n",
        "    </tr>\n",
        "    <tr>\n",
        "      <th>152</th>\n",
        "      <td>  mass_concentration_of_chlorophyll_a_in_sea_water</td>\n",
        "      <td> http://mmisw.org/ont/cf/parameter/mass_concent...</td>\n",
        "    </tr>\n",
        "    <tr>\n",
        "      <th>153</th>\n",
        "      <td>  surface_geostrophic_northward_sea_water_velocity</td>\n",
        "      <td> http://mmisw.org/ont/cf/parameter/surface_geos...</td>\n",
        "    </tr>\n",
        "    <tr>\n",
        "      <th>154</th>\n",
        "      <td>     moles_of_phosphate_per_unit_mass_in_sea_water</td>\n",
        "      <td> http://mmisw.org/ont/cf/parameter/moles_of_pho...</td>\n",
        "    </tr>\n",
        "    <tr>\n",
        "      <th>155</th>\n",
        "      <td>                  height_above_reference_ellipsoid</td>\n",
        "      <td> http://mmisw.org/ont/cf/parameter/height_above...</td>\n",
        "    </tr>\n",
        "    <tr>\n",
        "      <th>156</th>\n",
        "      <td>      eastward_sea_water_velocity_assuming_no_tide</td>\n",
        "      <td> http://mmisw.org/ont/cf/parameter/eastward_sea...</td>\n",
        "    </tr>\n",
        "    <tr>\n",
        "      <th>157</th>\n",
        "      <td>     northward_sea_water_velocity_assuming_no_tide</td>\n",
        "      <td> http://mmisw.org/ont/cf/parameter/northward_se...</td>\n",
        "    </tr>\n",
        "    <tr>\n",
        "      <th>158</th>\n",
        "      <td>                    air_pressure_at_freezing_level</td>\n",
        "      <td> http://mmisw.org/ont/cf/parameter/air_pressure...</td>\n",
        "    </tr>\n",
        "    <tr>\n",
        "      <th>159</th>\n",
        "      <td> mole_concentration_of_dissolved_inorganic_carb...</td>\n",
        "      <td> http://mmisw.org/ont/cf/parameter/mole_concent...</td>\n",
        "    </tr>\n",
        "    <tr>\n",
        "      <th>160</th>\n",
        "      <td>                         platform_speed_wrt_ground</td>\n",
        "      <td> http://mmisw.org/ont/cf/parameter/platform_spe...</td>\n",
        "    </tr>\n",
        "    <tr>\n",
        "      <th>161</th>\n",
        "      <td> surface_carbon_dioxide_partial_pressure_differ...</td>\n",
        "      <td> http://mmisw.org/ont/cf/parameter/surface_carb...</td>\n",
        "    </tr>\n",
        "    <tr>\n",
        "      <th>162</th>\n",
        "      <td>              surface_northward_sea_water_velocity</td>\n",
        "      <td> http://mmisw.org/ont/cf/parameter/surface_nort...</td>\n",
        "    </tr>\n",
        "    <tr>\n",
        "      <th>163</th>\n",
        "      <td>                    convective_cloud_base_altitude</td>\n",
        "      <td> http://mmisw.org/ont/cf/parameter/convective_c...</td>\n",
        "    </tr>\n",
        "    <tr>\n",
        "      <th>164</th>\n",
        "      <td>                      sea_surface_wind_wave_period</td>\n",
        "      <td> http://mmisw.org/ont/cf/parameter/sea_surface_...</td>\n",
        "    </tr>\n",
        "    <tr>\n",
        "      <th>165</th>\n",
        "      <td>                     sea_surface_swell_wave_period</td>\n",
        "      <td> http://mmisw.org/ont/cf/parameter/sea_surface_...</td>\n",
        "    </tr>\n",
        "    <tr>\n",
        "      <th>166</th>\n",
        "      <td>           baroclinic_northward_sea_water_velocity</td>\n",
        "      <td> http://mmisw.org/ont/cf/parameter/baroclinic_n...</td>\n",
        "    </tr>\n",
        "    <tr>\n",
        "      <th>167</th>\n",
        "      <td> sea_surface_height_amplitude_due_to_non_equili...</td>\n",
        "      <td> http://mmisw.org/ont/cf/parameter/sea_surface_...</td>\n",
        "    </tr>\n",
        "    <tr>\n",
        "      <th>168</th>\n",
        "      <td>      sea_surface_wind_wave_zero_upcrossing_period</td>\n",
        "      <td> http://mmisw.org/ont/cf/parameter/sea_surface_...</td>\n",
        "    </tr>\n",
        "    <tr>\n",
        "      <th>169</th>\n",
        "      <td>                         air_temperature_threshold</td>\n",
        "      <td> http://mmisw.org/ont/cf/parameter/air_temperat...</td>\n",
        "    </tr>\n",
        "  </tbody>\n",
        "</table>\n",
        "</div>"
       ],
       "metadata": {},
       "output_type": "pyout",
       "prompt_number": 6,
       "text": [
        "                                               CF Name  \\\n",
        "0    sea_surface_height_correction_due_to_air_press...   \n",
        "1                  lagrangian_tendency_of_air_pressure   \n",
        "2                                 radiation_wavelength   \n",
        "3         mole_concentration_of_phosphate_in_sea_water   \n",
        "4                                      platform_course   \n",
        "5    sea_surface_swell_wave_mean_period_from_varian...   \n",
        "6                                    wind_to_direction   \n",
        "7                air_pressure_at_convective_cloud_base   \n",
        "8    surface_partial_pressure_of_carbon_dioxide_in_...   \n",
        "9                             tendency_of_air_pressure   \n",
        "10           sea_surface_swell_wave_significant_height   \n",
        "11         moles_of_nitrate_per_unit_mass_in_sea_water   \n",
        "12   sea_surface_height_correction_due_to_air_press...   \n",
        "13      sea_surface_height_amplitude_due_to_earth_tide   \n",
        "14   mole_concentration_of_dissolved_organic_carbon...   \n",
        "15                         eastward_sea_water_velocity   \n",
        "16          water_surface_height_above_reference_datum   \n",
        "17                      sound_intensity_level_in_water   \n",
        "18   sea_surface_wave_mean_period_from_variance_spe...   \n",
        "19   sea_surface_wave_mean_period_from_variance_spe...   \n",
        "20          mole_concentration_of_nitrate_in_sea_water   \n",
        "21                                      northward_wind   \n",
        "22                             freezing_level_altitude   \n",
        "23        mass_concentration_of_phosphate_in_sea_water   \n",
        "24                              height_above_sea_floor   \n",
        "25                                       eastward_wind   \n",
        "26                        sound_intensity_level_in_air   \n",
        "27                                     air_temperature   \n",
        "28                                   depth_below_geoid   \n",
        "29                                            altitude   \n",
        "30   sea_surface_wind_wave_mean_period_from_varianc...   \n",
        "31   product_of_eastward_sea_water_velocity_and_sal...   \n",
        "32   surface_geostrophic_northward_sea_water_veloci...   \n",
        "33                                 height_at_cloud_top   \n",
        "34          sea_surface_wave_variance_spectral_density   \n",
        "35            sea_surface_wind_wave_significant_height   \n",
        "36                     sea_floor_depth_below_sea_level   \n",
        "37   sea_surface_wind_wave_mean_period_from_varianc...   \n",
        "38                        northward_sea_water_velocity   \n",
        "39   sea_water_alkalinity_expressed_as_mole_equivalent   \n",
        "40                                               depth   \n",
        "41                     sea_surface_subskin_temperature   \n",
        "42                                    surface_altitude   \n",
        "43                air_pressure_at_convective_cloud_top   \n",
        "44                sea_water_ph_reported_on_total_scale   \n",
        "45                     sea_surface_wave_from_direction   \n",
        "46                      upward_latent_heat_flux_in_air   \n",
        "47                   surface_downward_northward_stress   \n",
        "48                  sea_surface_wind_wave_to_direction   \n",
        "49   sea_surface_wind_wave_mean_period_from_varianc...   \n",
        "50                           air_pressure_at_sea_level   \n",
        "51                                          wind_speed   \n",
        "52                                platform_pitch_angle   \n",
        "53         mass_fraction_of_chlorophyll_a_in_sea_water   \n",
        "54      radial_sea_water_velocity_away_from_instrument   \n",
        "55                                  cloud_top_altitude   \n",
        "56                     sea_water_pressure_at_sea_floor   \n",
        "57   moles_of_nitrate_and_nitrite_per_unit_mass_in_...   \n",
        "58   volume_absorption_coefficient_of_radiative_flu...   \n",
        "59     direction_of_radial_vector_away_from_instrument   \n",
        "60                    upward_sensible_heat_flux_in_air   \n",
        "61   sea_surface_wave_period_at_variance_spectral_d...   \n",
        "62                                 cloud_base_altitude   \n",
        "63                        air_temperature_at_cloud_top   \n",
        "64     upward_heat_flux_in_sea_water_due_to_convection   \n",
        "65                   altitude_at_top_of_dry_convection   \n",
        "66                           equilibrium_line_altitude   \n",
        "67                           upward_sea_water_velocity   \n",
        "68                                sea_surface_salinity   \n",
        "69                 sea_surface_swell_wave_to_direction   \n",
        "70                                surface_air_pressure   \n",
        "71                   sea_water_electrical_conductivity   \n",
        "72                        sea_water_practical_salinity   \n",
        "73   sea_surface_height_amplitude_due_to_equilibriu...   \n",
        "74     surface_geostrophic_eastward_sea_water_velocity   \n",
        "75                           secchi_depth_of_sea_water   \n",
        "76   mass_concentration_of_inorganic_nitrogen_in_se...   \n",
        "77                               sea_water_temperature   \n",
        "78                                   sea_water_density   \n",
        "79                 sea_water_pressure_due_to_sea_water   \n",
        "80   surface_carbon_dioxide_partial_pressure_differ...   \n",
        "81                        thickness_of_rainfall_amount   \n",
        "82       temperature_of_sensor_for_oxygen_in_sea_water   \n",
        "83                             air_temperature_anomaly   \n",
        "84             sea_water_pressure_at_sea_water_surface   \n",
        "85                                 upward_air_velocity   \n",
        "86                                  wind_speed_of_gust   \n",
        "87                                  sea_water_pressure   \n",
        "88                   bolus_eastward_sea_water_velocity   \n",
        "89                                  platform_yaw_angle   \n",
        "90                 sea_surface_wave_significant_height   \n",
        "91                         sea_floor_depth_below_geoid   \n",
        "92                  sea_surface_height_above_sea_level   \n",
        "93     difference_of_air_pressure_from_model_reference   \n",
        "94                       sea_surface_wave_to_direction   \n",
        "95        fractional_saturation_of_oxygen_in_sea_water   \n",
        "96                          geostrophic_northward_wind   \n",
        "97         mole_concentration_of_ammonium_in_sea_water   \n",
        "98                  bolus_northward_sea_water_velocity   \n",
        "99                     model_level_number_at_sea_floor   \n",
        "100      sea_surface_swell_wave_zero_upcrossing_period   \n",
        "101  depth_of_isosurface_of_sea_water_potential_tem...   \n",
        "102             baroclinic_eastward_sea_water_velocity   \n",
        "103                          geostrophic_eastward_wind   \n",
        "104                             platform_azimuth_angle   \n",
        "105                                sea_water_turbidity   \n",
        "106             barotropic_eastward_sea_water_velocity   \n",
        "107                               air_pressure_anomaly   \n",
        "108         mole_concentration_of_nitrite_in_sea_water   \n",
        "109                                             height   \n",
        "110       sea_surface_height_above_reference_ellipsoid   \n",
        "111                         air_temperature_lapse_rate   \n",
        "112        moles_of_nitrite_per_unit_mass_in_sea_water   \n",
        "113                         tropopause_air_temperature   \n",
        "114     mass_concentration_of_chlorophyll_in_sea_water   \n",
        "115                                platform_roll_angle   \n",
        "116  sea_surface_height_bias_due_to_sea_surface_rou...   \n",
        "117  surface_partial_pressure_of_carbon_dioxide_in_air   \n",
        "118  mole_concentration_of_bacteria_expressed_as_ca...   \n",
        "119            sea_surface_wave_zero_upcrossing_period   \n",
        "120  surface_geostrophic_eastward_sea_water_velocit...   \n",
        "121                                           latitude   \n",
        "122  mole_concentration_of_nitrate_and_nitrite_in_s...   \n",
        "123               magnitude_of_surface_downward_stress   \n",
        "124  sea_surface_wave_mean_period_from_variance_spe...   \n",
        "125  sea_surface_swell_wave_mean_period_from_varian...   \n",
        "126                  sea_floor_depth_below_sea_surface   \n",
        "127                         air_pressure_at_cloud_base   \n",
        "128                       thickness_of_snowfall_amount   \n",
        "129                       sea_surface_skin_temperature   \n",
        "130      sea_surface_height_amplitude_due_to_pole_tide   \n",
        "131                          air_pressure_at_cloud_top   \n",
        "132          mass_concentration_of_oxygen_in_sea_water   \n",
        "133    mole_ratio_of_nitrate_to_phosphate_in_sea_water   \n",
        "134                            sea_surface_temperature   \n",
        "135                surface_eastward_sea_water_velocity   \n",
        "136            barotropic_northward_sea_water_velocity   \n",
        "137                                          longitude   \n",
        "138                                 sea_water_salinity   \n",
        "139                                       air_pressure   \n",
        "140                   surface_downward_eastward_stress   \n",
        "141  sea_surface_wave_directional_variance_spectral...   \n",
        "142                                     wave_frequency   \n",
        "143                                wind_from_direction   \n",
        "144                            tropopause_air_pressure   \n",
        "145  sea_surface_swell_wave_mean_period_from_varian...   \n",
        "146                     sea_surface_height_above_geoid   \n",
        "147                    direction_of_sea_water_velocity   \n",
        "148                                    sea_water_speed   \n",
        "149  sea_surface_height_amplitude_due_to_geocentric...   \n",
        "150              change_over_time_in_sea_water_density   \n",
        "151  mole_concentration_of_particulate_organic_matt...   \n",
        "152   mass_concentration_of_chlorophyll_a_in_sea_water   \n",
        "153   surface_geostrophic_northward_sea_water_velocity   \n",
        "154      moles_of_phosphate_per_unit_mass_in_sea_water   \n",
        "155                   height_above_reference_ellipsoid   \n",
        "156       eastward_sea_water_velocity_assuming_no_tide   \n",
        "157      northward_sea_water_velocity_assuming_no_tide   \n",
        "158                     air_pressure_at_freezing_level   \n",
        "159  mole_concentration_of_dissolved_inorganic_carb...   \n",
        "160                          platform_speed_wrt_ground   \n",
        "161  surface_carbon_dioxide_partial_pressure_differ...   \n",
        "162               surface_northward_sea_water_velocity   \n",
        "163                     convective_cloud_base_altitude   \n",
        "164                       sea_surface_wind_wave_period   \n",
        "165                      sea_surface_swell_wave_period   \n",
        "166            baroclinic_northward_sea_water_velocity   \n",
        "167  sea_surface_height_amplitude_due_to_non_equili...   \n",
        "168       sea_surface_wind_wave_zero_upcrossing_period   \n",
        "169                          air_temperature_threshold   \n",
        "\n",
        "                                                CF URI  \n",
        "0    http://mmisw.org/ont/cf/parameter/sea_surface_...  \n",
        "1    http://mmisw.org/ont/cf/parameter/lagrangian_t...  \n",
        "2    http://mmisw.org/ont/cf/parameter/radiation_wa...  \n",
        "3    http://mmisw.org/ont/cf/parameter/mole_concent...  \n",
        "4    http://mmisw.org/ont/cf/parameter/platform_course  \n",
        "5    http://mmisw.org/ont/cf/parameter/sea_surface_...  \n",
        "6    http://mmisw.org/ont/cf/parameter/wind_to_dire...  \n",
        "7    http://mmisw.org/ont/cf/parameter/air_pressure...  \n",
        "8    http://mmisw.org/ont/cf/parameter/surface_part...  \n",
        "9    http://mmisw.org/ont/cf/parameter/tendency_of_...  \n",
        "10   http://mmisw.org/ont/cf/parameter/sea_surface_...  \n",
        "11   http://mmisw.org/ont/cf/parameter/moles_of_nit...  \n",
        "12   http://mmisw.org/ont/cf/parameter/sea_surface_...  \n",
        "13   http://mmisw.org/ont/cf/parameter/sea_surface_...  \n",
        "14   http://mmisw.org/ont/cf/parameter/mole_concent...  \n",
        "15   http://mmisw.org/ont/cf/parameter/eastward_sea...  \n",
        "16   http://mmisw.org/ont/cf/parameter/water_surfac...  \n",
        "17   http://mmisw.org/ont/cf/parameter/sound_intens...  \n",
        "18   http://mmisw.org/ont/cf/parameter/sea_surface_...  \n",
        "19   http://mmisw.org/ont/cf/parameter/sea_surface_...  \n",
        "20   http://mmisw.org/ont/cf/parameter/mole_concent...  \n",
        "21    http://mmisw.org/ont/cf/parameter/northward_wind  \n",
        "22   http://mmisw.org/ont/cf/parameter/freezing_lev...  \n",
        "23   http://mmisw.org/ont/cf/parameter/mass_concent...  \n",
        "24   http://mmisw.org/ont/cf/parameter/height_above...  \n",
        "25     http://mmisw.org/ont/cf/parameter/eastward_wind  \n",
        "26   http://mmisw.org/ont/cf/parameter/sound_intens...  \n",
        "27   http://mmisw.org/ont/cf/parameter/air_temperature  \n",
        "28   http://mmisw.org/ont/cf/parameter/depth_below_...  \n",
        "29          http://mmisw.org/ont/cf/parameter/altitude  \n",
        "30   http://mmisw.org/ont/cf/parameter/sea_surface_...  \n",
        "31   http://mmisw.org/ont/cf/parameter/product_of_e...  \n",
        "32   http://mmisw.org/ont/cf/parameter/surface_geos...  \n",
        "33   http://mmisw.org/ont/cf/parameter/height_at_cl...  \n",
        "34   http://mmisw.org/ont/cf/parameter/sea_surface_...  \n",
        "35   http://mmisw.org/ont/cf/parameter/sea_surface_...  \n",
        "36   http://mmisw.org/ont/cf/parameter/sea_floor_de...  \n",
        "37   http://mmisw.org/ont/cf/parameter/sea_surface_...  \n",
        "38   http://mmisw.org/ont/cf/parameter/northward_se...  \n",
        "39   http://mmisw.org/ont/cf/parameter/sea_water_al...  \n",
        "40             http://mmisw.org/ont/cf/parameter/depth  \n",
        "41   http://mmisw.org/ont/cf/parameter/sea_surface_...  \n",
        "42   http://mmisw.org/ont/cf/parameter/surface_alti...  \n",
        "43   http://mmisw.org/ont/cf/parameter/air_pressure...  \n",
        "44   http://mmisw.org/ont/cf/parameter/sea_water_ph...  \n",
        "45   http://mmisw.org/ont/cf/parameter/sea_surface_...  \n",
        "46   http://mmisw.org/ont/cf/parameter/upward_laten...  \n",
        "47   http://mmisw.org/ont/cf/parameter/surface_down...  \n",
        "48   http://mmisw.org/ont/cf/parameter/sea_surface_...  \n",
        "49   http://mmisw.org/ont/cf/parameter/sea_surface_...  \n",
        "50   http://mmisw.org/ont/cf/parameter/air_pressure...  \n",
        "51        http://mmisw.org/ont/cf/parameter/wind_speed  \n",
        "52   http://mmisw.org/ont/cf/parameter/platform_pit...  \n",
        "53   http://mmisw.org/ont/cf/parameter/mass_fractio...  \n",
        "54   http://mmisw.org/ont/cf/parameter/radial_sea_w...  \n",
        "55   http://mmisw.org/ont/cf/parameter/cloud_top_al...  \n",
        "56   http://mmisw.org/ont/cf/parameter/sea_water_pr...  \n",
        "57   http://mmisw.org/ont/cf/parameter/moles_of_nit...  \n",
        "58   http://mmisw.org/ont/cf/parameter/volume_absor...  \n",
        "59   http://mmisw.org/ont/cf/parameter/direction_of...  \n",
        "60   http://mmisw.org/ont/cf/parameter/upward_sensi...  \n",
        "61   http://mmisw.org/ont/cf/parameter/sea_surface_...  \n",
        "62   http://mmisw.org/ont/cf/parameter/cloud_base_a...  \n",
        "63   http://mmisw.org/ont/cf/parameter/air_temperat...  \n",
        "64   http://mmisw.org/ont/cf/parameter/upward_heat_...  \n",
        "65   http://mmisw.org/ont/cf/parameter/altitude_at_...  \n",
        "66   http://mmisw.org/ont/cf/parameter/equilibrium_...  \n",
        "67   http://mmisw.org/ont/cf/parameter/upward_sea_w...  \n",
        "68   http://mmisw.org/ont/cf/parameter/sea_surface_...  \n",
        "69   http://mmisw.org/ont/cf/parameter/sea_surface_...  \n",
        "70   http://mmisw.org/ont/cf/parameter/surface_air_...  \n",
        "71   http://mmisw.org/ont/cf/parameter/sea_water_el...  \n",
        "72   http://mmisw.org/ont/cf/parameter/sea_water_pr...  \n",
        "73   http://mmisw.org/ont/cf/parameter/sea_surface_...  \n",
        "74   http://mmisw.org/ont/cf/parameter/surface_geos...  \n",
        "75   http://mmisw.org/ont/cf/parameter/secchi_depth...  \n",
        "76   http://mmisw.org/ont/cf/parameter/mass_concent...  \n",
        "77   http://mmisw.org/ont/cf/parameter/sea_water_te...  \n",
        "78   http://mmisw.org/ont/cf/parameter/sea_water_de...  \n",
        "79   http://mmisw.org/ont/cf/parameter/sea_water_pr...  \n",
        "80   http://mmisw.org/ont/cf/parameter/surface_carb...  \n",
        "81   http://mmisw.org/ont/cf/parameter/thickness_of...  \n",
        "82   http://mmisw.org/ont/cf/parameter/temperature_...  \n",
        "83   http://mmisw.org/ont/cf/parameter/air_temperat...  \n",
        "84   http://mmisw.org/ont/cf/parameter/sea_water_pr...  \n",
        "85   http://mmisw.org/ont/cf/parameter/upward_air_v...  \n",
        "86   http://mmisw.org/ont/cf/parameter/wind_speed_o...  \n",
        "87   http://mmisw.org/ont/cf/parameter/sea_water_pr...  \n",
        "88   http://mmisw.org/ont/cf/parameter/bolus_eastwa...  \n",
        "89   http://mmisw.org/ont/cf/parameter/platform_yaw...  \n",
        "90   http://mmisw.org/ont/cf/parameter/sea_surface_...  \n",
        "91   http://mmisw.org/ont/cf/parameter/sea_floor_de...  \n",
        "92   http://mmisw.org/ont/cf/parameter/sea_surface_...  \n",
        "93   http://mmisw.org/ont/cf/parameter/difference_o...  \n",
        "94   http://mmisw.org/ont/cf/parameter/sea_surface_...  \n",
        "95   http://mmisw.org/ont/cf/parameter/fractional_s...  \n",
        "96   http://mmisw.org/ont/cf/parameter/geostrophic_...  \n",
        "97   http://mmisw.org/ont/cf/parameter/mole_concent...  \n",
        "98   http://mmisw.org/ont/cf/parameter/bolus_northw...  \n",
        "99   http://mmisw.org/ont/cf/parameter/model_level_...  \n",
        "100  http://mmisw.org/ont/cf/parameter/sea_surface_...  \n",
        "101  http://mmisw.org/ont/cf/parameter/depth_of_iso...  \n",
        "102  http://mmisw.org/ont/cf/parameter/baroclinic_e...  \n",
        "103  http://mmisw.org/ont/cf/parameter/geostrophic_...  \n",
        "104  http://mmisw.org/ont/cf/parameter/platform_azi...  \n",
        "105  http://mmisw.org/ont/cf/parameter/sea_water_tu...  \n",
        "106  http://mmisw.org/ont/cf/parameter/barotropic_e...  \n",
        "107  http://mmisw.org/ont/cf/parameter/air_pressure...  \n",
        "108  http://mmisw.org/ont/cf/parameter/mole_concent...  \n",
        "109           http://mmisw.org/ont/cf/parameter/height  \n",
        "110  http://mmisw.org/ont/cf/parameter/sea_surface_...  \n",
        "111  http://mmisw.org/ont/cf/parameter/air_temperat...  \n",
        "112  http://mmisw.org/ont/cf/parameter/moles_of_nit...  \n",
        "113  http://mmisw.org/ont/cf/parameter/tropopause_a...  \n",
        "114  http://mmisw.org/ont/cf/parameter/mass_concent...  \n",
        "115  http://mmisw.org/ont/cf/parameter/platform_rol...  \n",
        "116  http://mmisw.org/ont/cf/parameter/sea_surface_...  \n",
        "117  http://mmisw.org/ont/cf/parameter/surface_part...  \n",
        "118  http://mmisw.org/ont/cf/parameter/mole_concent...  \n",
        "119  http://mmisw.org/ont/cf/parameter/sea_surface_...  \n",
        "120  http://mmisw.org/ont/cf/parameter/surface_geos...  \n",
        "121         http://mmisw.org/ont/cf/parameter/latitude  \n",
        "122  http://mmisw.org/ont/cf/parameter/mole_concent...  \n",
        "123  http://mmisw.org/ont/cf/parameter/magnitude_of...  \n",
        "124  http://mmisw.org/ont/cf/parameter/sea_surface_...  \n",
        "125  http://mmisw.org/ont/cf/parameter/sea_surface_...  \n",
        "126  http://mmisw.org/ont/cf/parameter/sea_floor_de...  \n",
        "127  http://mmisw.org/ont/cf/parameter/air_pressure...  \n",
        "128  http://mmisw.org/ont/cf/parameter/thickness_of...  \n",
        "129  http://mmisw.org/ont/cf/parameter/sea_surface_...  \n",
        "130  http://mmisw.org/ont/cf/parameter/sea_surface_...  \n",
        "131  http://mmisw.org/ont/cf/parameter/air_pressure...  \n",
        "132  http://mmisw.org/ont/cf/parameter/mass_concent...  \n",
        "133  http://mmisw.org/ont/cf/parameter/mole_ratio_o...  \n",
        "134  http://mmisw.org/ont/cf/parameter/sea_surface_...  \n",
        "135  http://mmisw.org/ont/cf/parameter/surface_east...  \n",
        "136  http://mmisw.org/ont/cf/parameter/barotropic_n...  \n",
        "137        http://mmisw.org/ont/cf/parameter/longitude  \n",
        "138  http://mmisw.org/ont/cf/parameter/sea_water_sa...  \n",
        "139     http://mmisw.org/ont/cf/parameter/air_pressure  \n",
        "140  http://mmisw.org/ont/cf/parameter/surface_down...  \n",
        "141  http://mmisw.org/ont/cf/parameter/sea_surface_...  \n",
        "142   http://mmisw.org/ont/cf/parameter/wave_frequency  \n",
        "143  http://mmisw.org/ont/cf/parameter/wind_from_di...  \n",
        "144  http://mmisw.org/ont/cf/parameter/tropopause_a...  \n",
        "145  http://mmisw.org/ont/cf/parameter/sea_surface_...  \n",
        "146  http://mmisw.org/ont/cf/parameter/sea_surface_...  \n",
        "147  http://mmisw.org/ont/cf/parameter/direction_of...  \n",
        "148  http://mmisw.org/ont/cf/parameter/sea_water_speed  \n",
        "149  http://mmisw.org/ont/cf/parameter/sea_surface_...  \n",
        "150  http://mmisw.org/ont/cf/parameter/change_over_...  \n",
        "151  http://mmisw.org/ont/cf/parameter/mole_concent...  \n",
        "152  http://mmisw.org/ont/cf/parameter/mass_concent...  \n",
        "153  http://mmisw.org/ont/cf/parameter/surface_geos...  \n",
        "154  http://mmisw.org/ont/cf/parameter/moles_of_pho...  \n",
        "155  http://mmisw.org/ont/cf/parameter/height_above...  \n",
        "156  http://mmisw.org/ont/cf/parameter/eastward_sea...  \n",
        "157  http://mmisw.org/ont/cf/parameter/northward_se...  \n",
        "158  http://mmisw.org/ont/cf/parameter/air_pressure...  \n",
        "159  http://mmisw.org/ont/cf/parameter/mole_concent...  \n",
        "160  http://mmisw.org/ont/cf/parameter/platform_spe...  \n",
        "161  http://mmisw.org/ont/cf/parameter/surface_carb...  \n",
        "162  http://mmisw.org/ont/cf/parameter/surface_nort...  \n",
        "163  http://mmisw.org/ont/cf/parameter/convective_c...  \n",
        "164  http://mmisw.org/ont/cf/parameter/sea_surface_...  \n",
        "165  http://mmisw.org/ont/cf/parameter/sea_surface_...  \n",
        "166  http://mmisw.org/ont/cf/parameter/baroclinic_n...  \n",
        "167  http://mmisw.org/ont/cf/parameter/sea_surface_...  \n",
        "168  http://mmisw.org/ont/cf/parameter/sea_surface_...  \n",
        "169  http://mmisw.org/ont/cf/parameter/air_temperat...  "
       ]
      }
     ],
     "prompt_number": 6
    },
    {
     "cell_type": "markdown",
     "metadata": {},
     "source": [
      "#### Geographic subset\n",
      "This test looks at the East Coast of the United States."
     ]
    },
    {
     "cell_type": "code",
     "collapsed": false,
     "input": [
      "bounding_box = [ -81.03, 27.59, -66.14, 44.92]  # East Coast\n",
      "\n",
      "\"Geographic subset: {!s}\".format(bounding_box)"
     ],
     "language": "python",
     "metadata": {},
     "outputs": [
      {
       "metadata": {},
       "output_type": "pyout",
       "prompt_number": 7,
       "text": [
        "'Geographic subset: [-81.03, 27.59, -66.14, 44.92]'"
       ]
      }
     ],
     "prompt_number": 7
    },
    {
     "cell_type": "markdown",
     "metadata": {},
     "source": [
      "#### Temporal subset\n",
      "January 1, 2014 to August 1, 2014"
     ]
    },
    {
     "cell_type": "code",
     "collapsed": false,
     "input": [
      "from datetime import datetime\n",
      "start_date = datetime(2014,1,1)\n",
      "start_date_string = start_date.strftime('%Y-%m-%d %H:00')\n",
      "\n",
      "end_date = datetime(2014,8,1)\n",
      "end_date_string = end_date.strftime('%Y-%m-%d %H:00')\n",
      "\n",
      "\"Temporal subset: ( {!s} to {!s} )\".format(start_date_string, end_date_string)"
     ],
     "language": "python",
     "metadata": {},
     "outputs": [
      {
       "metadata": {},
       "output_type": "pyout",
       "prompt_number": 8,
       "text": [
        "'Temporal subset: ( 2014-01-01 00:00 to 2014-08-01 00:00 )'"
       ]
      }
     ],
     "prompt_number": 8
    },
    {
     "cell_type": "markdown",
     "metadata": {},
     "source": [
      "#### Set variable subset\n",
      "\n",
      "Define the variables. It turns out that dissolved oxygen is not an IOOS Core Variable in MMI, so we need to append it to the list of other standard names that are standard."
     ]
    },
    {
     "cell_type": "code",
     "collapsed": false,
     "input": [
      "variables_to_query = [ x for x in cf_standard_names if \"oxygen\" in x ]\n",
      "custom_variables   = ['dissolved_oxygen', 'oxygen']  # Do we need any, or are they all extractable from MMI?\n",
      "\n",
      "variables_to_query += custom_variables\n",
      "\"Variable subset: {!s}\".format(\" , \".join(variables_to_query))"
     ],
     "language": "python",
     "metadata": {},
     "outputs": [
      {
       "metadata": {},
       "output_type": "pyout",
       "prompt_number": 9,
       "text": [
        "'Variable subset: temperature_of_sensor_for_oxygen_in_sea_water , fractional_saturation_of_oxygen_in_sea_water , mass_concentration_of_oxygen_in_sea_water , dissolved_oxygen , oxygen'"
       ]
      }
     ],
     "prompt_number": 9
    },
    {
     "cell_type": "markdown",
     "metadata": {},
     "source": [
      "#### Define all known the CSW endpoints"
     ]
    },
    {
     "cell_type": "code",
     "collapsed": false,
     "input": [
      "# https://github.com/ioos/system-test/wiki/Service-Registries-and-Data-Catalogs\n",
      "known_csw_servers = ['http://data.nodc.noaa.gov/geoportal/csw',\n",
      "                     'http://www.nodc.noaa.gov/geoportal/csw',\n",
      "                     'http://www.ngdc.noaa.gov/geoportal/csw',\n",
      "                     'http://cwic.csiss.gmu.edu/cwicv1/discovery',\n",
      "                     'http://geoport.whoi.edu/geoportal/csw',\n",
      "                     'https://edg.epa.gov/metadata/csw',\n",
      "                     'http://cmgds.marine.usgs.gov/geonetwork/srv/en/csw',\n",
      "                     'http://cida.usgs.gov/gdp/geonetwork/srv/en/csw',\n",
      "                     'http://geodiscover.cgdi.ca/wes/serviceManagerCSW/csw',\n",
      "                     'http://geoport.whoi.edu/gi-cat/services/cswiso',\n",
      "                     'https://data.noaa.gov/csw',\n",
      "                     ]"
     ],
     "language": "python",
     "metadata": {},
     "outputs": [],
     "prompt_number": 10
    },
    {
     "cell_type": "markdown",
     "metadata": {},
     "source": [
      "#### Construct CSW Filters"
     ]
    },
    {
     "cell_type": "code",
     "collapsed": false,
     "input": [
      "from owslib import fes\n",
      "def fes_date_filter(start_date='1900-01-01',stop_date='2100-01-01',constraint='overlaps'):\n",
      "    if constraint == 'overlaps':\n",
      "        start = fes.PropertyIsGreaterThanOrEqualTo(propertyname='apiso:TempExtent_end', literal=start_date)\n",
      "        stop = fes.PropertyIsLessThanOrEqualTo(propertyname='apiso:TempExtent_begin', literal=stop_date)\n",
      "    elif constraint == 'within':\n",
      "        start = fes.PropertyIsGreaterThanOrEqualTo(propertyname='apiso:TempExtent_begin', literal=start_date)\n",
      "        stop = fes.PropertyIsLessThanOrEqualTo(propertyname='apiso:TempExtent_end', literal=stop_date)\n",
      "    return fes.And([start, stop])"
     ],
     "language": "python",
     "metadata": {},
     "outputs": [],
     "prompt_number": 11
    },
    {
     "cell_type": "code",
     "collapsed": false,
     "input": [
      "# Standard Name filters\n",
      "cf_name_filters = []\n",
      "for cf_name in variables_to_query:\n",
      "    text_filter   = fes.PropertyIsLike(propertyname='apiso:AnyText', literal=\"*%s*\" % cf_name, wildCard='*')\n",
      "    cf_name_filters.append(text_filter)\n",
      "cf_name_filters = fes.Or(cf_name_filters)\n",
      "\n",
      "# Geographic filters\n",
      "geographic_filter = fes.BBox(bbox=bounding_box)\n",
      "\n",
      "# Temporal filters\n",
      "temporal_filter = fes_date_filter(start_date_string, end_date_string)\n",
      "\n",
      "filters = fes.And([cf_name_filters, geographic_filter, temporal_filter])"
     ],
     "language": "python",
     "metadata": {},
     "outputs": [],
     "prompt_number": 12
    },
    {
     "cell_type": "markdown",
     "metadata": {},
     "source": [
      "##### The actual CSW filter POST envelope looks like this"
     ]
    },
    {
     "cell_type": "code",
     "collapsed": false,
     "input": [
      "from owslib.etree import etree\n",
      "print etree.tostring(filters.toXML(), pretty_print=True)"
     ],
     "language": "python",
     "metadata": {},
     "outputs": [
      {
       "output_type": "stream",
       "stream": "stdout",
       "text": [
        "<ogc:And xmlns:ogc=\"http://www.opengis.net/ogc\">\n",
        "  <ogc:Or>\n",
        "    <ogc:PropertyIsLike wildCard=\"*\" singleChar=\"_\" escapeChar=\"\\\">\n",
        "      <ogc:PropertyName>apiso:AnyText</ogc:PropertyName>\n",
        "      <ogc:Literal>*temperature_of_sensor_for_oxygen_in_sea_water*</ogc:Literal>\n",
        "    </ogc:PropertyIsLike>\n",
        "    <ogc:PropertyIsLike wildCard=\"*\" singleChar=\"_\" escapeChar=\"\\\">\n",
        "      <ogc:PropertyName>apiso:AnyText</ogc:PropertyName>\n",
        "      <ogc:Literal>*fractional_saturation_of_oxygen_in_sea_water*</ogc:Literal>\n",
        "    </ogc:PropertyIsLike>\n",
        "    <ogc:PropertyIsLike wildCard=\"*\" singleChar=\"_\" escapeChar=\"\\\">\n",
        "      <ogc:PropertyName>apiso:AnyText</ogc:PropertyName>\n",
        "      <ogc:Literal>*mass_concentration_of_oxygen_in_sea_water*</ogc:Literal>\n",
        "    </ogc:PropertyIsLike>\n",
        "    <ogc:PropertyIsLike wildCard=\"*\" singleChar=\"_\" escapeChar=\"\\\">\n",
        "      <ogc:PropertyName>apiso:AnyText</ogc:PropertyName>\n",
        "      <ogc:Literal>*dissolved_oxygen*</ogc:Literal>\n",
        "    </ogc:PropertyIsLike>\n",
        "    <ogc:PropertyIsLike wildCard=\"*\" singleChar=\"_\" escapeChar=\"\\\">\n",
        "      <ogc:PropertyName>apiso:AnyText</ogc:PropertyName>\n",
        "      <ogc:Literal>*oxygen*</ogc:Literal>\n",
        "    </ogc:PropertyIsLike>\n",
        "  </ogc:Or>\n",
        "  <ogc:BBOX>\n",
        "    <ogc:PropertyName>ows:BoundingBox</ogc:PropertyName>\n",
        "    <gml311:Envelope xmlns:gml311=\"http://www.opengis.net/gml\">\n",
        "      <gml311:lowerCorner>-81.03 27.59</gml311:lowerCorner>\n",
        "      <gml311:upperCorner>-66.14 44.92</gml311:upperCorner>\n",
        "    </gml311:Envelope>\n",
        "  </ogc:BBOX>\n",
        "  <ogc:And>\n",
        "    <ogc:PropertyIsGreaterThanOrEqualTo>\n",
        "      <ogc:PropertyName>apiso:TempExtent_end</ogc:PropertyName>\n",
        "      <ogc:Literal>2014-01-01 00:00</ogc:Literal>\n",
        "    </ogc:PropertyIsGreaterThanOrEqualTo>\n",
        "    <ogc:PropertyIsLessThanOrEqualTo>\n",
        "      <ogc:PropertyName>apiso:TempExtent_begin</ogc:PropertyName>\n",
        "      <ogc:Literal>2014-08-01 00:00</ogc:Literal>\n",
        "    </ogc:PropertyIsLessThanOrEqualTo>\n",
        "  </ogc:And>\n",
        "</ogc:And>\n",
        "\n"
       ]
      }
     ],
     "prompt_number": 13
    },
    {
     "cell_type": "markdown",
     "metadata": {},
     "source": [
      "##### Filter out CSW servers that do not support a BBOX query"
     ]
    },
    {
     "cell_type": "code",
     "collapsed": false,
     "input": [
      "from owslib.csw import CatalogueServiceWeb\n",
      "bbox_endpoints = []\n",
      "for url in known_csw_servers:\n",
      "    queryables = []\n",
      "    try:\n",
      "        csw = CatalogueServiceWeb(url, timeout=20)\n",
      "    except BaseException:\n",
      "        print \"Failure - %s - Timed out\" % url\n",
      "    if \"BBOX\" in csw.filters.spatial_operators:\n",
      "        print \"Success - %s - BBOX Query supported\" % url\n",
      "        bbox_endpoints.append(url)    \n",
      "    else:\n",
      "        print \"Failure - %s - BBOX Query NOT supported\" % url"
     ],
     "language": "python",
     "metadata": {},
     "outputs": [
      {
       "output_type": "stream",
       "stream": "stdout",
       "text": [
        "Success - http://data.nodc.noaa.gov/geoportal/csw - BBOX Query supported\n",
        "Success - http://www.nodc.noaa.gov/geoportal/csw - BBOX Query supported"
       ]
      },
      {
       "output_type": "stream",
       "stream": "stdout",
       "text": [
        "\n",
        "Success - http://www.ngdc.noaa.gov/geoportal/csw - BBOX Query supported"
       ]
      },
      {
       "output_type": "stream",
       "stream": "stdout",
       "text": [
        "\n",
        "Success - http://cwic.csiss.gmu.edu/cwicv1/discovery - BBOX Query supported"
       ]
      },
      {
       "output_type": "stream",
       "stream": "stdout",
       "text": [
        "\n",
        "Success - http://geoport.whoi.edu/geoportal/csw - BBOX Query supported"
       ]
      },
      {
       "output_type": "stream",
       "stream": "stdout",
       "text": [
        "\n",
        "Success - https://edg.epa.gov/metadata/csw - BBOX Query supported"
       ]
      },
      {
       "output_type": "stream",
       "stream": "stdout",
       "text": [
        "\n",
        "Success - http://cmgds.marine.usgs.gov/geonetwork/srv/en/csw - BBOX Query supported"
       ]
      },
      {
       "output_type": "stream",
       "stream": "stdout",
       "text": [
        "\n",
        "Success - http://cida.usgs.gov/gdp/geonetwork/srv/en/csw - BBOX Query supported"
       ]
      },
      {
       "output_type": "stream",
       "stream": "stdout",
       "text": [
        "\n",
        "Success - http://geodiscover.cgdi.ca/wes/serviceManagerCSW/csw - BBOX Query supported"
       ]
      },
      {
       "output_type": "stream",
       "stream": "stdout",
       "text": [
        "\n",
        "Failure - http://geoport.whoi.edu/gi-cat/services/cswiso - Timed out"
       ]
      },
      {
       "output_type": "stream",
       "stream": "stdout",
       "text": [
        "\n",
        "Success - http://geoport.whoi.edu/gi-cat/services/cswiso - BBOX Query supported\n",
        "Success - https://data.noaa.gov/csw - BBOX Query supported"
       ]
      },
      {
       "output_type": "stream",
       "stream": "stdout",
       "text": [
        "\n"
       ]
      }
     ],
     "prompt_number": 14
    },
    {
     "cell_type": "markdown",
     "metadata": {},
     "source": [
      "#### Query CSW Servers using filters"
     ]
    },
    {
     "cell_type": "code",
     "collapsed": false,
     "input": [
      "urls = []\n",
      "service_types = []\n",
      "servers = []\n",
      "for url in bbox_endpoints:\n",
      "    print \"*\", url\n",
      "    try:\n",
      "        csw = CatalogueServiceWeb(url, timeout=20)\n",
      "        csw.getrecords2(constraints=[filters], maxrecords=200, esn='full')\n",
      "        for record, item in csw.records.items():\n",
      "            # Get URLs\n",
      "            service_url, scheme = next(((d['url'], d['scheme']) for d in item.references), None)\n",
      "            if service_url:\n",
      "                if len(item.title) > 100:\n",
      "                    title = \"{!s}...{!s}\".format(item.title[0:50], item.title[-50:])\n",
      "                else:\n",
      "                    title = item.title    \n",
      "                print \"    [x] {!s}\".format(title)\n",
      "                \n",
      "                urls.append(service_url)\n",
      "                service_types.append(scheme)\n",
      "                servers.append(url)\n",
      "    except BaseException as e:\n",
      "        print \"    [-] FAILED: {!s}\".format(e)"
     ],
     "language": "python",
     "metadata": {},
     "outputs": [
      {
       "output_type": "stream",
       "stream": "stdout",
       "text": [
        "* http://data.nodc.noaa.gov/geoportal/csw\n",
        "    [x] Temperature, salinity, oxygen, chlorophyll, and pr...from 1985 through present (NODC Accession 0068584)"
       ]
      },
      {
       "output_type": "stream",
       "stream": "stdout",
       "text": [
        "\n",
        "    [x] OC334L01: WHOI cruise 334 leg 01 aboard the R/V Oc...m 1998-11-30 - 2020-12-01 (NODC Accession 0078935)\n",
        "    [x] Temperature, salinity, and other profile data coll...rom 07/24/1972 to present (NODC Accession 0038589)\n",
        "    [x] Temperature, salinity and dissolved oxygen profile... 1995-09-07 to 2014-10-31 (NODC Accession 0042682)\n",
        "    [x] Oceanographic and surface meteorological data coll... 2014-02-13 to 2014-10-31 (NODC Accession 0118793)\n",
        "    [x] Oceanographic and surface meteorological data coll... 2014-02-13 to 2014-10-31 (NODC Accession 0118794)\n",
        "    [x] Oceanographic and surface meteorological data coll... 2014-02-13 to 2014-10-31 (NODC Accession 0118795)\n",
        "* http://www.nodc.noaa.gov/geoportal/csw\n",
        "    [-] FAILED: timed out"
       ]
      },
      {
       "output_type": "stream",
       "stream": "stdout",
       "text": [
        "\n",
        "* http://www.ngdc.noaa.gov/geoportal/csw\n",
        "    [x] HRECOS Aggregated Station HRALBPH Data"
       ]
      },
      {
       "output_type": "stream",
       "stream": "stdout",
       "text": [
        "\n",
        "    [x] HRECOS Aggregated Station HRLCK8H Data\n",
        "    [x] HRECOS Aggregated Station HRMARPH Data\n",
        "    [x] HRECOS Aggregated Station HRPIER84 Data\n",
        "    [x] HRECOS Aggregated Station HRWSTPTH Data\n",
        "    [x] lbhmc.2ndave.pier\n",
        "    [x] lbhmc.apachepier.pier\n",
        "    [x] lbhmc.cherrygrove.pier\n",
        "    [x] HRECOS Aggregated Station HRPMNTH Data\n",
        "    [x] NERACOOS Gulf of Maine Ocean Array: Realtime Buoy ...Massachusetts Bay: A01 OPTODE51m Massachusetts Bay\n",
        "    [x] NERACOOS Gulf of Maine Ocean Array: Realtime Buoy ...1 Massachusetts Bay: A01 DOPPLER Massachusetts Bay\n",
        "    [x] NERACOOS Gulf of Maine Ocean Array: Realtime Buoy ...stern Maine Shelf: B01 DOPPLER Western Maine Shelf\n",
        "    [x] NERACOOS Gulf of Maine Ocean Array: Realtime Buoy ...ntral Maine Shelf: E01 DOPPLER Central Maine Shelf\n",
        "    [x] NERACOOS Gulf of Maine Ocean Array: Realtime Buoy ...ions: F01 Penobscot Bay: F01 DOPPLER Penobscot Bay\n",
        "    [x] NERACOOS Gulf of Maine Ocean Array: Realtime Buoy ...stern Maine Shelf: I01 DOPPLER Eastern Maine Shelf\n",
        "    [x] NERACOOS Gulf of Maine Ocean Array: Realtime Buoy ...ations: M01 Jordan Basin: M01 DOPPLER Jordan Basin\n",
        "    [x] NERACOOS Gulf of Maine Ocean Array: Realtime Buoy ...rvations: F01 Penobscot Bay: F01 MET Penobscot Bay\n",
        "    [x] NERACOOS Gulf of Maine Ocean Array: Realtime Buoy ...1 Eastern Maine Shelf: I01 MET Eastern Maine Shelf\n",
        "    [x] B01 SBE16 - CTD Observations\n",
        "    [x] E01 SBE16 - CTD Observations\n",
        "    [x] I01 SBE16 - CTD Observations\n",
        "    [x] NERACOOS Gulf of Maine Ocean Array: Realtime Buoy ...achusetts Bay: A01 ACCELEROMETER Massachusetts Bay\n",
        "    [x] NERACOOS Gulf of Maine Ocean Array: Realtime Buoy ...A01 Massachusetts Bay: A01 CTD1m Massachusetts Bay\n",
        "    [x] NERACOOS Gulf of Maine Ocean Array: Realtime Buoy ...01 Massachusetts Bay: A01 CTD20m Massachusetts Bay\n",
        "    [x] NERACOOS Gulf of Maine Ocean Array: Realtime Buoy ...: A01 Massachusetts Bay: A01 MET Massachusetts Bay\n",
        "    [x] NERACOOS Gulf of Maine Ocean Array: Realtime Buoy ... Massachusetts Bay: A01 OPTICS3m Massachusetts Bay\n",
        "    [x] NERACOOS Gulf of Maine Ocean Array: Realtime Buoy ...tern Maine Shelf: B01 AANDERAA Western Maine Shelf\n",
        "    [x] NERACOOS Gulf of Maine Ocean Array: Realtime Buoy ...Maine Shelf: B01 ACCELEROMETER Western Maine Shelf\n",
        "    [x] NERACOOS Gulf of Maine Ocean Array: Realtime Buoy ...Western Maine Shelf: B01 CTD1m Western Maine Shelf\n",
        "    [x] NERACOOS Gulf of Maine Ocean Array: Realtime Buoy ...estern Maine Shelf: B01 CTD20m Western Maine Shelf\n",
        "    [x] NERACOOS Gulf of Maine Ocean Array: Realtime Buoy ...estern Maine Shelf: B01 CTD50m Western Maine Shelf\n",
        "    [x] NERACOOS Gulf of Maine Ocean Array: Realtime Buoy ...tern Maine Shelf: B0126 CTD52m Central Maine Shelf\n",
        "    [x] NERACOOS Gulf of Maine Ocean Array: Realtime Buoy ...1 Western Maine Shelf: B01 MET Western Maine Shelf\n",
        "    [x] B01 Aanderaa - Historic Surface Currents\n",
        "    [x] B01 SBE16 - CTD Transmissivity\n",
        "    [x] TEMPESTS MA101 Water Level - CINAR\n",
        "    [x] TEMPESTS MA101 Met - CINAR\n",
        "    [x] TEMPESTS MA101 SBE37 1m CTD - CINAR\n",
        "    [x] TEMPESTS MA101 Waves - CINAR\n",
        "    [x] TEMPESTS MD101 Water Level - CINAR\n",
        "    [x] TEMPESTS MD101 Met - CINAR\n",
        "    [x] TEMPESTS MD101 SBE37 1m CTD - CINAR\n",
        "    [x] TEMPESTS MD101 Waves - CINAR\n",
        "    [x] TEMPESTS ME101 Water Level - CINAR\n",
        "    [x] TEMPESTS ME101 Met - CINAR\n",
        "    [x] TEMPESTS ME101 SBE37 1m CTD - CINAR\n",
        "    [x] TEMPESTS ME101 Waves - CINAR\n",
        "    [x] TEMPESTS NJ101 Water Level - CINAR\n",
        "    [x] TEMPESTS NJ101 Met - CINAR\n",
        "    [x] TEMPESTS NJ101 SBE37 1m CTD - CINAR\n",
        "    [x] TEMPESTS NJ101 Waves - CINAR\n",
        "    [x] NERACOOS Gulf of Maine Ocean Array: Realtime Buoy ...tral Maine Shelf: E01 AANDERAA Central Maine Shelf\n",
        "    [x] NERACOOS Gulf of Maine Ocean Array: Realtime Buoy ...Maine Shelf: E01 ACCELEROMETER Central Maine Shelf\n",
        "    [x] NERACOOS Gulf of Maine Ocean Array: Realtime Buoy ...Central Maine Shelf: E01 CTD1m Central Maine Shelf\n",
        "    [x] NERACOOS Gulf of Maine Ocean Array: Realtime Buoy ...entral Maine Shelf: E01 CTD20m Central Maine Shelf\n",
        "    [x] NERACOOS Gulf of Maine Ocean Array: Realtime Buoy ...entral Maine Shelf: E01 CTD50m Central Maine Shelf\n",
        "    [x] NERACOOS Gulf of Maine Ocean Array: Realtime Buoy ...entral Maine Shelf: E01 CTD87m Central Maine Shelf\n",
        "    [x] NERACOOS Gulf of Maine Ocean Array: Realtime Buoy ...1 Central Maine Shelf: E01 MET Central Maine Shelf\n",
        "    [x] E01 Aanderaa - Historic Surface Currents\n",
        "    [x] E01 SBE16 - CTD Transmissivity\n",
        "    [x] NERACOOS Gulf of Maine Ocean Array: Realtime Buoy ...ons: F01 Penobscot Bay: F01 AANDERAA Penobscot Bay\n",
        "    [x] NERACOOS Gulf of Maine Ocean Array: Realtime Buoy ...F01 Penobscot Bay: F01 ACCELEROMETER Penobscot Bay\n",
        "    [x] NERACOOS Gulf of Maine Ocean Array: Realtime Buoy ...ations: F01 Penobscot Bay: F01 CTD1m Penobscot Bay\n",
        "    [x] NERACOOS Gulf of Maine Ocean Array: Realtime Buoy ...tions: F01 Penobscot Bay: F01 CTD20m Penobscot Bay\n",
        "    [x] NERACOOS Gulf of Maine Ocean Array: Realtime Buoy ...tions: F01 Penobscot Bay: F01 CTD50m Penobscot Bay\n",
        "    [x] F01 Aanderaa - Historic Surface Currents\n",
        "    [x] NERACOOS Gulf of Maine Ocean Array: Realtime Buoy ...tern Maine Shelf: I01 AANDERAA Eastern Maine Shelf\n",
        "    [x] NERACOOS Gulf of Maine Ocean Array: Realtime Buoy ...Maine Shelf: I01 ACCELEROMETER Eastern Maine Shelf\n",
        "    [x] NERACOOS Gulf of Maine Ocean Array: Realtime Buoy ...Eastern Maine Shelf: I01 CTD1m Eastern Maine Shelf\n",
        "    [x] NERACOOS Gulf of Maine Ocean Array: Realtime Buoy ...astern Maine Shelf: I01 CTD20m Eastern Maine Shelf\n",
        "    [x] NERACOOS Gulf of Maine Ocean Array: Realtime Buoy ...astern Maine Shelf: I01 CTD50m Eastern Maine Shelf\n",
        "    [x] NERACOOS Gulf of Maine Ocean Array: Realtime Buoy ...tern Maine Shelf: I0129 CTD87m Central Maine Shelf\n",
        "    [x] I01 Aanderaa - Historic Surface Currents\n",
        "    [x] I01 SBE16 - CTD Transmissivity\n",
        "    [x] NERACOOS Gulf of Maine Ocean Array: Realtime Buoy ...tions: M01 Jordan Basin: M01 AANDERAA Jordan Basin\n",
        "    [x] NERACOOS Gulf of Maine Ocean Array: Realtime Buoy ...: M01 Jordan Basin: M01 ACCELEROMETER Jordan Basin\n",
        "    [x] NERACOOS Gulf of Maine Ocean Array: Realtime Buoy ...rvations: M01 Jordan Basin: M01 CTD1m Jordan Basin\n",
        "    [x] NERACOOS Gulf of Maine Ocean Array: Realtime Buoy ...vations: M01 Jordan Basin: M01 CTD20m Jordan Basin\n",
        "    [x] NERACOOS Gulf of Maine Ocean Array: Realtime Buoy ...vations: M01 Jordan Basin: M01 CTD50m Jordan Basin\n",
        "    [x] NERACOOS Gulf of Maine Ocean Array: Realtime Buoy ...ations: M01 Jordan Basin: M01 CTD100m Jordan Basin\n",
        "    [x] NERACOOS Gulf of Maine Ocean Array: Realtime Buoy ...ations: M01 Jordan Basin: M01 CTD150m Jordan Basin\n",
        "    [x] NERACOOS Gulf of Maine Ocean Array: Realtime Buoy ...ations: M01 Jordan Basin: M01 CTD200m Jordan Basin\n",
        "    [x] NERACOOS Gulf of Maine Ocean Array: Realtime Buoy ...ations: M01 Jordan Basin: M01 CTD250m Jordan Basin\n",
        "    [x] NERACOOS Gulf of Maine Ocean Array: Realtime Buoy ...servations: M01 Jordan Basin: M01 MET Jordan Basin\n",
        "    [x] M01 Aanderaa - Historic Surface Currents\n",
        "* http://cwic.csiss.gmu.edu/cwicv1/discovery\n",
        "    [-] FAILED: 'REQUEST_EXCEPTION: MISSING_CRS - Required srsName attribute was not found in <Envelope>.'"
       ]
      },
      {
       "output_type": "stream",
       "stream": "stdout",
       "text": [
        "\n",
        "* http://geoport.whoi.edu/geoportal/csw\n",
        "    [-] FAILED: 'Invalid parameter value: locator=PropertyName'"
       ]
      },
      {
       "output_type": "stream",
       "stream": "stdout",
       "text": [
        "\n",
        "* https://edg.epa.gov/metadata/csw\n",
        "*"
       ]
      },
      {
       "output_type": "stream",
       "stream": "stdout",
       "text": [
        " http://cmgds.marine.usgs.gov/geonetwork/srv/en/csw\n",
        "*"
       ]
      },
      {
       "output_type": "stream",
       "stream": "stdout",
       "text": [
        " http://cida.usgs.gov/gdp/geonetwork/srv/en/csw\n",
        "*"
       ]
      },
      {
       "output_type": "stream",
       "stream": "stdout",
       "text": [
        " http://geodiscover.cgdi.ca/wes/serviceManagerCSW/csw\n",
        "    [-] FAILED: 'ORA-00907: missing right parenthesis'"
       ]
      },
      {
       "output_type": "stream",
       "stream": "stdout",
       "text": [
        "\n",
        "* http://geoport.whoi.edu/gi-cat/services/cswiso\n",
        "    [-] FAILED: timed out"
       ]
      },
      {
       "output_type": "stream",
       "stream": "stdout",
       "text": [
        "\n",
        "* https://data.noaa.gov/csw\n"
       ]
      }
     ],
     "prompt_number": 15
    },
    {
     "cell_type": "markdown",
     "metadata": {},
     "source": [
      "#### What service are available?"
     ]
    },
    {
     "cell_type": "code",
     "collapsed": false,
     "input": [
      "srvs = pd.DataFrame(zip(urls, service_types, servers), columns=(\"URL\", \"Service Type\", \"Server\"))\n",
      "srvs = srvs.drop_duplicates()\n",
      "pd.set_option('display.max_rows', 10)\n",
      "srvs"
     ],
     "language": "python",
     "metadata": {},
     "outputs": [
      {
       "html": [
        "<pre>\n",
        "&lt;class 'pandas.core.frame.DataFrame'&gt;\n",
        "Int64Index: 86 entries, 0 to 91\n",
        "Data columns (total 3 columns):\n",
        "URL             86  non-null values\n",
        "Service Type    86  non-null values\n",
        "Server          86  non-null values\n",
        "dtypes: object(3)\n",
        "</pre>"
       ],
       "metadata": {},
       "output_type": "pyout",
       "prompt_number": 16,
       "text": [
        "<class 'pandas.core.frame.DataFrame'>\n",
        "Int64Index: 86 entries, 0 to 91\n",
        "Data columns (total 3 columns):\n",
        "URL             86  non-null values\n",
        "Service Type    86  non-null values\n",
        "Server          86  non-null values\n",
        "dtypes: object(3)"
       ]
      }
     ],
     "prompt_number": 16
    },
    {
     "cell_type": "markdown",
     "metadata": {},
     "source": [
      "#### What types of service are available"
     ]
    },
    {
     "cell_type": "code",
     "collapsed": false,
     "input": [
      "pd.DataFrame(srvs.groupby(\"Service Type\").size(), columns=(\"Number of services\",))"
     ],
     "language": "python",
     "metadata": {},
     "outputs": [
      {
       "html": [
        "<div style=\"max-height:1000px;max-width:1500px;overflow:auto;\">\n",
        "<table border=\"1\" class=\"dataframe\">\n",
        "  <thead>\n",
        "    <tr style=\"text-align: right;\">\n",
        "      <th></th>\n",
        "      <th>Number of services</th>\n",
        "    </tr>\n",
        "    <tr>\n",
        "      <th>Service Type</th>\n",
        "      <th></th>\n",
        "    </tr>\n",
        "  </thead>\n",
        "  <tbody>\n",
        "    <tr>\n",
        "      <th>urn:x-esri:specification:ServiceType:ArcIMS:Metadata:Onlink</th>\n",
        "      <td>  1</td>\n",
        "    </tr>\n",
        "    <tr>\n",
        "      <th>urn:x-esri:specification:ServiceType:distribution:url</th>\n",
        "      <td> 85</td>\n",
        "    </tr>\n",
        "  </tbody>\n",
        "</table>\n",
        "</div>"
       ],
       "metadata": {},
       "output_type": "pyout",
       "prompt_number": 17,
       "text": [
        "                                                             Number of services\n",
        "Service Type                                                                   \n",
        "urn:x-esri:specification:ServiceType:ArcIMS:Metadata:Onlink                   1\n",
        "urn:x-esri:specification:ServiceType:distribution:url                        85"
       ]
      }
     ],
     "prompt_number": 17
    },
    {
     "cell_type": "markdown",
     "metadata": {},
     "source": [
      "<div class=\"error\" style=\"text-align: center\"><strong>SOS and DAP Servers are not properly identified</strong><br />One can not tell (programatically) what the \"urn:x-esri:specification:ServiceType:distribution:url\" scheme actually is.</div>"
     ]
    },
    {
     "cell_type": "markdown",
     "metadata": {},
     "source": [
      "# SOS"
     ]
    },
    {
     "cell_type": "code",
     "collapsed": false,
     "input": [
      "def find_sos(x):\n",
      "    d = x.lower()\n",
      "    if \"sos\" in d and \"dods\" not in d:\n",
      "        return x\n",
      "    return None"
     ],
     "language": "python",
     "metadata": {},
     "outputs": [],
     "prompt_number": 18
    },
    {
     "cell_type": "code",
     "collapsed": false,
     "input": [
      "sos_servers = filter(None, srvs[\"URL\"].map(find_sos))\n",
      "sos_servers"
     ],
     "language": "python",
     "metadata": {},
     "outputs": [
      {
       "metadata": {},
       "output_type": "pyout",
       "prompt_number": 19,
       "text": [
        "[]"
       ]
      }
     ],
     "prompt_number": 19
    },
    {
     "cell_type": "markdown",
     "metadata": {},
     "source": [
      "<div class=\"error\" style=\"text-align: center\"><strong>No SOS Servers Found</strong><br />There are no SOS servers that are found using the CSW filters</div>"
     ]
    },
    {
     "cell_type": "markdown",
     "metadata": {},
     "source": [
      "# DAP"
     ]
    },
    {
     "cell_type": "code",
     "collapsed": false,
     "input": [
      "def find_dap(x):\n",
      "    d = x.lower()\n",
      "    if (\"dap\" in d or \"dods\" in d) and \"tabledap\" not in d:\n",
      "        return x\n",
      "    return None"
     ],
     "language": "python",
     "metadata": {},
     "outputs": [],
     "prompt_number": 54
    },
    {
     "cell_type": "code",
     "collapsed": false,
     "input": [
      "import os\n",
      "dap_servers = filter(None, srvs[\"URL\"].map(find_dap))\n",
      "dap_servers = map(lambda x: os.path.splitext(x)[0], dap_servers)\n",
      "dap_servers"
     ],
     "language": "python",
     "metadata": {},
     "outputs": [
      {
       "metadata": {},
       "output_type": "pyout",
       "prompt_number": 55,
       "text": [
        "['http://sos.maracoos.org/stable/dodsC/stationHRALBPH-agg.ncml',\n",
        " 'http://sos.maracoos.org/stable/dodsC/stationHRLCK8H-agg.ncml',\n",
        " 'http://sos.maracoos.org/stable/dodsC/stationHRMARPH-agg.ncml',\n",
        " 'http://sos.maracoos.org/stable/dodsC/stationHRPIER84-agg.ncml',\n",
        " 'http://sos.maracoos.org/stable/dodsC/stationHRWSTPTH-agg.ncml',\n",
        " 'http://tds.secoora.org/thredds/dodsC/lbhmc.2ndave.pier.nc',\n",
        " 'http://tds.secoora.org/thredds/dodsC/lbhmc.apachepier.pier.nc',\n",
        " 'http://tds.secoora.org/thredds/dodsC/lbhmc.cherrygrove.pier.nc',\n",
        " 'http://sos.maracoos.org/stable/dodsC/stationHRPMNTH-agg.ncml',\n",
        " 'http://www.neracoos.org/thredds/dodsC/UMO/DSG/SOS/A01/Doppler/HistoricRealtime/Agg.ncml',\n",
        " 'http://www.neracoos.org/thredds/dodsC/UMO/DSG/SOS/B01/Doppler/HistoricRealtime/Agg.ncml',\n",
        " 'http://www.neracoos.org/thredds/dodsC/UMO/DSG/SOS/E01/Doppler/HistoricRealtime/Agg.ncml',\n",
        " 'http://www.neracoos.org/thredds/dodsC/UMO/DSG/SOS/F01/Doppler/HistoricRealtime/Agg.ncml',\n",
        " 'http://www.neracoos.org/thredds/dodsC/UMO/DSG/SOS/I01/Doppler/HistoricRealtime/Agg.ncml',\n",
        " 'http://www.neracoos.org/thredds/dodsC/UMO/DSG/SOS/M01/Doppler/HistoricRealtime/Agg.ncml',\n",
        " 'http://www.neracoos.org/thredds/dodsC/UMO/DSG/SOS/F01/Met/HistoricRealtime/Agg.ncml',\n",
        " 'http://www.neracoos.org/thredds/dodsC/UMO/DSG/SOS/I01/Met/HistoricRealtime/Agg.ncml',\n",
        " 'http://www.neracoos.org/thredds/dodsC/UMO/DSG/SOS/A01/Accelerometer/HistoricRealtime/Agg.ncml',\n",
        " 'http://www.neracoos.org/thredds/dodsC/UMO/DSG/SOS/A01/CTD1m/HistoricRealtime/Agg.ncml',\n",
        " 'http://www.neracoos.org/thredds/dodsC/UMO/DSG/SOS/A01/CTD20m/HistoricRealtime/Agg.ncml',\n",
        " 'http://www.neracoos.org/thredds/dodsC/UMO/DSG/SOS/A01/Met/HistoricRealtime/Agg.ncml',\n",
        " 'http://www.neracoos.org/thredds/dodsC/UMO/DSG/SOS/A01/OPTICS_S3m/HistoricRealtime/Agg.ncml',\n",
        " 'http://www.neracoos.org/thredds/dodsC/UMO/DSG/SOS/A01/OPTODE51m/HistoricRealtime/Agg.ncml',\n",
        " 'http://www.neracoos.org/thredds/dodsC/UMO/DSG/SOS/B01/Aanderaa/HistoricRealtime/Agg.ncml',\n",
        " 'http://www.neracoos.org/thredds/dodsC/UMO/DSG/SOS/B01/Accelerometer/HistoricRealtime/Agg.ncml',\n",
        " 'http://www.neracoos.org/thredds/dodsC/UMO/DSG/SOS/B01/CTD1m/HistoricRealtime/Agg.ncml',\n",
        " 'http://www.neracoos.org/thredds/dodsC/UMO/DSG/SOS/B01/CTD20m/HistoricRealtime/Agg.ncml',\n",
        " 'http://www.neracoos.org/thredds/dodsC/UMO/DSG/SOS/B01/CTD50m/HistoricRealtime/Agg.ncml',\n",
        " 'http://www.neracoos.org/thredds/dodsC/UMO/DSG/SOS/B01/CTD52m/HistoricRealtime/Agg.ncml',\n",
        " 'http://www.neracoos.org/thredds/dodsC/UMO/DSG/SOS/B01/Met/HistoricRealtime/Agg.ncml',\n",
        " 'http://www.neracoos.org/thredds/dodsC/UMO/DSG/SOS/E01/Aanderaa/HistoricRealtime/Agg.ncml',\n",
        " 'http://www.neracoos.org/thredds/dodsC/UMO/DSG/SOS/E01/Accelerometer/HistoricRealtime/Agg.ncml',\n",
        " 'http://www.neracoos.org/thredds/dodsC/UMO/DSG/SOS/E01/CTD1m/HistoricRealtime/Agg.ncml',\n",
        " 'http://www.neracoos.org/thredds/dodsC/UMO/DSG/SOS/E01/CTD20m/HistoricRealtime/Agg.ncml',\n",
        " 'http://www.neracoos.org/thredds/dodsC/UMO/DSG/SOS/E01/CTD50m/HistoricRealtime/Agg.ncml',\n",
        " 'http://www.neracoos.org/thredds/dodsC/UMO/DSG/SOS/E01/CTD87m/HistoricRealtime/Agg.ncml',\n",
        " 'http://www.neracoos.org/thredds/dodsC/UMO/DSG/SOS/E01/Met/HistoricRealtime/Agg.ncml',\n",
        " 'http://www.neracoos.org/thredds/dodsC/UMO/DSG/SOS/F01/Aanderaa/HistoricRealtime/Agg.ncml',\n",
        " 'http://www.neracoos.org/thredds/dodsC/UMO/DSG/SOS/F01/Accelerometer/HistoricRealtime/Agg.ncml',\n",
        " 'http://www.neracoos.org/thredds/dodsC/UMO/DSG/SOS/F01/CTD1m/HistoricRealtime/Agg.ncml',\n",
        " 'http://www.neracoos.org/thredds/dodsC/UMO/DSG/SOS/F01/CTD20m/HistoricRealtime/Agg.ncml',\n",
        " 'http://www.neracoos.org/thredds/dodsC/UMO/DSG/SOS/F01/CTD50m/HistoricRealtime/Agg.ncml',\n",
        " 'http://www.neracoos.org/thredds/dodsC/UMO/DSG/SOS/I01/Aanderaa/HistoricRealtime/Agg.ncml',\n",
        " 'http://www.neracoos.org/thredds/dodsC/UMO/DSG/SOS/I01/Accelerometer/HistoricRealtime/Agg.ncml',\n",
        " 'http://www.neracoos.org/thredds/dodsC/UMO/DSG/SOS/I01/CTD1m/HistoricRealtime/Agg.ncml',\n",
        " 'http://www.neracoos.org/thredds/dodsC/UMO/DSG/SOS/I01/CTD20m/HistoricRealtime/Agg.ncml',\n",
        " 'http://www.neracoos.org/thredds/dodsC/UMO/DSG/SOS/I01/CTD50m/HistoricRealtime/Agg.ncml',\n",
        " 'http://www.neracoos.org/thredds/dodsC/UMO/DSG/SOS/I01/CTD87m/HistoricRealtime/Agg.ncml',\n",
        " 'http://www.neracoos.org/thredds/dodsC/UMO/DSG/SOS/M01/Aanderaa/HistoricRealtime/Agg.ncml',\n",
        " 'http://www.neracoos.org/thredds/dodsC/UMO/DSG/SOS/M01/Accelerometer/HistoricRealtime/Agg.ncml',\n",
        " 'http://www.neracoos.org/thredds/dodsC/UMO/DSG/SOS/M01/CTD1m/HistoricRealtime/Agg.ncml',\n",
        " 'http://www.neracoos.org/thredds/dodsC/UMO/DSG/SOS/M01/CTD20m/HistoricRealtime/Agg.ncml',\n",
        " 'http://www.neracoos.org/thredds/dodsC/UMO/DSG/SOS/M01/CTD50m/HistoricRealtime/Agg.ncml',\n",
        " 'http://www.neracoos.org/thredds/dodsC/UMO/DSG/SOS/M01/CTD100m/HistoricRealtime/Agg.ncml',\n",
        " 'http://www.neracoos.org/thredds/dodsC/UMO/DSG/SOS/M01/CTD150m/HistoricRealtime/Agg.ncml',\n",
        " 'http://www.neracoos.org/thredds/dodsC/UMO/DSG/SOS/M01/CTD200m/HistoricRealtime/Agg.ncml',\n",
        " 'http://www.neracoos.org/thredds/dodsC/UMO/DSG/SOS/M01/CTD250m/HistoricRealtime/Agg.ncml',\n",
        " 'http://www.neracoos.org/thredds/dodsC/UMO/DSG/SOS/M01/Met/HistoricRealtime/Agg.ncml']"
       ]
      }
     ],
     "prompt_number": 55
    },
    {
     "cell_type": "markdown",
     "metadata": {},
     "source": [
      "#### Try to extract dissolved oxygen data from all of the DAP endpoints"
     ]
    },
    {
     "cell_type": "code",
     "collapsed": false,
     "input": [
      "import iris\n",
      "import iris.plot as iplt\n",
      "import matplotlib.pyplot as plt\n",
      "%matplotlib inline\n",
      "\n",
      "variables = lambda cube: cube.standard_name in variables_to_query\n",
      "constraint = iris.Constraint(cube_func=variables)\n",
      "\n",
      "\n",
      "def iris_grid_plot(cube_slice, name=None):\n",
      "    plt.figure(figsize=(12, 8))\n",
      "    lat = cube_slice.coord(axis='Y').points\n",
      "    lon = cube_slice.coord(axis='X').points\n",
      "    time = cube_slice.coord('time')[0]\n",
      "    plt.subplot(111, aspect=(1.0 / cos(mean(lat) * pi / 180.0)))\n",
      "    plt.pcolormesh(lon, lat, ma.masked_invalid(cube_slice.data));\n",
      "    plt.colorbar()\n",
      "    plt.grid()\n",
      "    date = time.units.num2date(time.points)\n",
      "    date_str = date[0].strftime('%Y-%m-%d %H:%M:%S %Z')\n",
      "    plt.title('%s: %s: %s' % (name, cube_slice.long_name, date_str));\n",
      "    plt.show()\n",
      "\n",
      "for dap in dap_servers:\n",
      "    print \"[*]  {!s}\".format(dap)\n",
      "    try:\n",
      "        cube = iris.load_cube(dap, constraint)\n",
      "    except BaseException as e:\n",
      "        print \"    [-]  Could not load: {!s}\".format(e)\n",
      "        continue\n",
      "    \n",
      "    print \"    [-]  Identified as a Grid\"\n",
      "    print \"    [-]  {!s}\".format(cube.attributes[\"title\"])\n",
      "    try:\n",
      "        try:\n",
      "            cube.coord(axis='T').rename('time')\n",
      "        except:\n",
      "            pass\n",
      "        if len(cube.shape) == 4:\n",
      "            cube = cube[0, -1, ::1, ::1]\n",
      "        elif len(cube.shape) == 3:\n",
      "            cube = cube[0, ::1, ::1]\n",
      "        elif len(cube.shape) == 2:\n",
      "            cube = cube[::1, ::1]\n",
      "        else:\n",
      "            raise ValueError(\"Dimensions do not adhere to plotting requirements\")\n",
      "        iris_grid_plot(cube, cube.attributes[\"title\"])\n",
      "            \n",
      "    except ValueError as e:\n",
      "        print \"    [-]  Could not plot: {!s}\".format(e)\n",
      "        continue    \n",
      "    "
     ],
     "language": "python",
     "metadata": {},
     "outputs": [
      {
       "output_type": "stream",
       "stream": "stdout",
       "text": [
        "[*]  http://sos.maracoos.org/stable/dodsC/stationHRALBPH-agg.ncml\n",
        "    [-]  Could not load: NetCDF: Malformed or inaccessible DAP DDS\n",
        "[*]  http://sos.maracoos.org/stable/dodsC/stationHRLCK8H-agg.ncml\n",
        "    [-]  Could not load: NetCDF: Malformed or inaccessible DAP DDS"
       ]
      },
      {
       "output_type": "stream",
       "stream": "stderr",
       "text": [
        "Exception AttributeError: \"'CFReader' object has no attribute '_dataset'\" in <bound method CFReader.__del__ of CFReader('http://sos.maracoos.org/stable/dodsC/stationHRALBPH-agg.ncml')> ignored\n",
        "Exception AttributeError: \"'CFReader' object has no attribute '_dataset'\" in <bound method CFReader.__del__ of CFReader('http://sos.maracoos.org/stable/dodsC/stationHRLCK8H-agg.ncml')> ignored\n",
        "Exception "
       ]
      },
      {
       "output_type": "stream",
       "stream": "stdout",
       "text": [
        "\n",
        "[*]  http://sos.maracoos.org/stable/dodsC/stationHRMARPH-agg.ncml\n",
        "    [-]  Could not load: NetCDF: Malformed or inaccessible DAP DDS\n",
        "[*]  http://sos.maracoos.org/stable/dodsC/stationHRPIER84-agg.ncml\n",
        "    [-]  Could not load: NetCDF: Malformed or inaccessible DAP DDS"
       ]
      },
      {
       "output_type": "stream",
       "stream": "stderr",
       "text": [
        "AttributeError: \"'CFReader' object has no attribute '_dataset'\" in <bound method CFReader.__del__ of CFReader('http://sos.maracoos.org/stable/dodsC/stationHRMARPH-agg.ncml')> ignored\n",
        "Exception AttributeError: \"'CFReader' object has no attribute '_dataset'\" in <bound method CFReader.__del__ of CFReader('http://sos.maracoos.org/stable/dodsC/stationHRPIER84-agg.ncml')> ignored\n",
        "Exception "
       ]
      },
      {
       "output_type": "stream",
       "stream": "stdout",
       "text": [
        "\n",
        "[*]  http://sos.maracoos.org/stable/dodsC/stationHRWSTPTH-agg.ncml\n",
        "    [-]  Could not load: NetCDF: Malformed or inaccessible DAP DDS\n",
        "[*]  http://tds.secoora.org/thredds/dodsC/lbhmc.2ndave.pier.nc\n",
        "    [-]  Could not load: failed to merge into a single cube.\n",
        "  cube.var_name differs: u'dissolved_oxygen' != u'dissolved_oxygen_2'"
       ]
      },
      {
       "output_type": "stream",
       "stream": "stdout",
       "text": [
        "\n",
        "[*]  http://tds.secoora.org/thredds/dodsC/lbhmc.apachepier.pier.nc\n",
        "    [-]  Could not load: failed to merge into a single cube.\n",
        "  cube.var_name differs: u'dissolved_oxygen' != u'dissolved_oxygen_2'"
       ]
      },
      {
       "output_type": "stream",
       "stream": "stderr",
       "text": [
        "AttributeError: \"'CFReader' object has no attribute '_dataset'\" in <bound method CFReader.__del__ of CFReader('http://sos.maracoos.org/stable/dodsC/stationHRWSTPTH-agg.ncml')> ignored\n",
        "/home/kwilcox/.virtualenvs/system-test/lib/python2.7/site-packages/Iris-1.7.0_dev-py2.7.egg/iris/fileformats/_pyke_rules/compiled_krb/fc_rules_cf_fc.py:1357: UserWarning: Failed to create 'time' dimension coordinate: The points array must be strictly monotonic.\n",
        "Gracefully creating 'time' auxiliary coordinate instead.\n",
        "  error=e_msg))\n"
       ]
      },
      {
       "output_type": "stream",
       "stream": "stdout",
       "text": [
        "\n",
        "[*]  http://tds.secoora.org/thredds/dodsC/lbhmc.cherrygrove.pier.nc\n",
        "    [-]  Could not load: failed to merge into a single cube.\n",
        "  cube.var_name differs: u'dissolved_oxygen' != u'dissolved_oxygen_2'"
       ]
      },
      {
       "output_type": "stream",
       "stream": "stdout",
       "text": [
        "\n",
        "[*]  http://sos.maracoos.org/stable/dodsC/stationHRPMNTH-agg.ncml\n",
        "    [-]  Could not load: NetCDF: Malformed or inaccessible DAP DDS\n",
        "[*]  http://www.neracoos.org/thredds/dodsC/UMO/DSG/SOS/A01/Doppler/HistoricRealtime/Agg.ncml\n",
        "    [-]  Could not load: NetCDF: Malformed or inaccessible DAP DDS"
       ]
      },
      {
       "output_type": "stream",
       "stream": "stderr",
       "text": [
        "Exception AttributeError: \"'CFReader' object has no attribute '_dataset'\" in <bound method CFReader.__del__ of CFReader('http://sos.maracoos.org/stable/dodsC/stationHRPMNTH-agg.ncml')> ignored\n",
        "Exception "
       ]
      },
      {
       "output_type": "stream",
       "stream": "stdout",
       "text": [
        "\n",
        "[*]  http://www.neracoos.org/thredds/dodsC/UMO/DSG/SOS/B01/Doppler/HistoricRealtime/Agg.ncml\n",
        "    [-]  Could not load: NetCDF: Malformed or inaccessible DAP DDS"
       ]
      },
      {
       "output_type": "stream",
       "stream": "stderr",
       "text": [
        "AttributeError: \"'CFReader' object has no attribute '_dataset'\" in <bound method CFReader.__del__ of CFReader('http://www.neracoos.org/thredds/dodsC/UMO/DSG/SOS/A01/Doppler/HistoricRealtime/Agg.ncml')> ignored\n",
        "Exception "
       ]
      },
      {
       "output_type": "stream",
       "stream": "stdout",
       "text": [
        "\n",
        "[*]  http://www.neracoos.org/thredds/dodsC/UMO/DSG/SOS/E01/Doppler/HistoricRealtime/Agg.ncml\n",
        "    [-]  Could not load: NetCDF: Malformed or inaccessible DAP DDS"
       ]
      },
      {
       "output_type": "stream",
       "stream": "stderr",
       "text": [
        "AttributeError: \"'CFReader' object has no attribute '_dataset'\" in <bound method CFReader.__del__ of CFReader('http://www.neracoos.org/thredds/dodsC/UMO/DSG/SOS/B01/Doppler/HistoricRealtime/Agg.ncml')> ignored\n",
        "Exception AttributeError: \"'CFReader' object has no attribute '_dataset'\" in <bound method CFReader.__del__ of CFReader('http://www.neracoos.org/thredds/dodsC/UMO/DSG/SOS/E01/Doppler/HistoricRealtime/Agg.ncml')> ignored\n",
        "Exception "
       ]
      },
      {
       "output_type": "stream",
       "stream": "stdout",
       "text": [
        "\n",
        "[*]  http://www.neracoos.org/thredds/dodsC/UMO/DSG/SOS/F01/Doppler/HistoricRealtime/Agg.ncml\n",
        "    [-]  Could not load: NetCDF: Malformed or inaccessible DAP DDS\n",
        "[*]  http://www.neracoos.org/thredds/dodsC/UMO/DSG/SOS/I01/Doppler/HistoricRealtime/Agg.ncml\n",
        "    [-]  Could not load: NetCDF: Malformed or inaccessible DAP DDS"
       ]
      },
      {
       "output_type": "stream",
       "stream": "stderr",
       "text": [
        "AttributeError: \"'CFReader' object has no attribute '_dataset'\" in <bound method CFReader.__del__ of CFReader('http://www.neracoos.org/thredds/dodsC/UMO/DSG/SOS/F01/Doppler/HistoricRealtime/Agg.ncml')> ignored\n",
        "Exception "
       ]
      },
      {
       "output_type": "stream",
       "stream": "stdout",
       "text": [
        "\n",
        "[*]  http://www.neracoos.org/thredds/dodsC/UMO/DSG/SOS/M01/Doppler/HistoricRealtime/Agg.ncml\n",
        "    [-]  Could not load: NetCDF: Malformed or inaccessible DAP DDS"
       ]
      },
      {
       "output_type": "stream",
       "stream": "stderr",
       "text": [
        "AttributeError: \"'CFReader' object has no attribute '_dataset'\" in <bound method CFReader.__del__ of CFReader('http://www.neracoos.org/thredds/dodsC/UMO/DSG/SOS/I01/Doppler/HistoricRealtime/Agg.ncml')> ignored\n",
        "Exception "
       ]
      },
      {
       "output_type": "stream",
       "stream": "stdout",
       "text": [
        "\n",
        "[*]  http://www.neracoos.org/thredds/dodsC/UMO/DSG/SOS/F01/Met/HistoricRealtime/Agg.ncml\n",
        "    [-]  Could not load: 'long_name' is not a permitted attribute"
       ]
      },
      {
       "output_type": "stream",
       "stream": "stdout",
       "text": [
        "\n",
        "[*]  http://www.neracoos.org/thredds/dodsC/UMO/DSG/SOS/I01/Met/HistoricRealtime/Agg.ncml\n",
        "    [-]  Could not load: 'long_name' is not a permitted attribute"
       ]
      },
      {
       "output_type": "stream",
       "stream": "stdout",
       "text": [
        "\n",
        "[*]  http://www.neracoos.org/thredds/dodsC/UMO/DSG/SOS/A01/Accelerometer/HistoricRealtime/Agg.ncml\n",
        "    [-]  Could not load: 'long_name' is not a permitted attribute"
       ]
      },
      {
       "output_type": "stream",
       "stream": "stdout",
       "text": [
        "\n",
        "[*]  http://www.neracoos.org/thredds/dodsC/UMO/DSG/SOS/A01/CTD1m/HistoricRealtime/Agg.ncml\n",
        "    [-]  Could not load: 'long_name' is not a permitted attribute"
       ]
      },
      {
       "output_type": "stream",
       "stream": "stdout",
       "text": [
        "\n",
        "[*]  http://www.neracoos.org/thredds/dodsC/UMO/DSG/SOS/A01/CTD20m/HistoricRealtime/Agg.ncml\n",
        "    [-]  Could not load: 'long_name' is not a permitted attribute"
       ]
      },
      {
       "output_type": "stream",
       "stream": "stdout",
       "text": [
        "\n",
        "[*]  http://www.neracoos.org/thredds/dodsC/UMO/DSG/SOS/A01/Met/HistoricRealtime/Agg.ncml\n",
        "    [-]  Could not load: 'long_name' is not a permitted attribute"
       ]
      },
      {
       "output_type": "stream",
       "stream": "stdout",
       "text": [
        "\n",
        "[*]  http://www.neracoos.org/thredds/dodsC/UMO/DSG/SOS/A01/OPTICS_S3m/HistoricRealtime/Agg.ncml\n",
        "    [-]  Could not load: 'long_name' is not a permitted attribute"
       ]
      },
      {
       "output_type": "stream",
       "stream": "stdout",
       "text": [
        "\n",
        "[*]  http://www.neracoos.org/thredds/dodsC/UMO/DSG/SOS/A01/OPTODE51m/HistoricRealtime/Agg.ncml\n",
        "    [-]  Could not load: 'long_name' is not a permitted attribute"
       ]
      },
      {
       "output_type": "stream",
       "stream": "stdout",
       "text": [
        "\n",
        "[*]  http://www.neracoos.org/thredds/dodsC/UMO/DSG/SOS/B01/Aanderaa/HistoricRealtime/Agg.ncml\n",
        "    [-]  Could not load: 'long_name' is not a permitted attribute"
       ]
      },
      {
       "output_type": "stream",
       "stream": "stdout",
       "text": [
        "\n",
        "[*]  http://www.neracoos.org/thredds/dodsC/UMO/DSG/SOS/B01/Accelerometer/HistoricRealtime/Agg.ncml\n",
        "    [-]  Could not load: 'long_name' is not a permitted attribute"
       ]
      },
      {
       "output_type": "stream",
       "stream": "stdout",
       "text": [
        "\n",
        "[*]  http://www.neracoos.org/thredds/dodsC/UMO/DSG/SOS/B01/CTD1m/HistoricRealtime/Agg.ncml\n",
        "    [-]  Could not load: 'long_name' is not a permitted attribute"
       ]
      },
      {
       "output_type": "stream",
       "stream": "stdout",
       "text": [
        "\n",
        "[*]  http://www.neracoos.org/thredds/dodsC/UMO/DSG/SOS/B01/CTD20m/HistoricRealtime/Agg.ncml\n",
        "    [-]  Could not load: 'long_name' is not a permitted attribute"
       ]
      },
      {
       "output_type": "stream",
       "stream": "stdout",
       "text": [
        "\n",
        "[*]  http://www.neracoos.org/thredds/dodsC/UMO/DSG/SOS/B01/CTD50m/HistoricRealtime/Agg.ncml\n",
        "    [-]  Could not load: 'long_name' is not a permitted attribute"
       ]
      },
      {
       "output_type": "stream",
       "stream": "stdout",
       "text": [
        "\n",
        "[*]  http://www.neracoos.org/thredds/dodsC/UMO/DSG/SOS/B01/CTD52m/HistoricRealtime/Agg.ncml\n",
        "    [-]  Could not load: 'long_name' is not a permitted attribute"
       ]
      },
      {
       "output_type": "stream",
       "stream": "stdout",
       "text": [
        "\n",
        "[*]  http://www.neracoos.org/thredds/dodsC/UMO/DSG/SOS/B01/Met/HistoricRealtime/Agg.ncml\n",
        "    [-]  Could not load: 'long_name' is not a permitted attribute"
       ]
      },
      {
       "output_type": "stream",
       "stream": "stdout",
       "text": [
        "\n",
        "[*]  http://www.neracoos.org/thredds/dodsC/UMO/DSG/SOS/E01/Aanderaa/HistoricRealtime/Agg.ncml\n",
        "    [-]  Could not load: 'long_name' is not a permitted attribute"
       ]
      },
      {
       "output_type": "stream",
       "stream": "stdout",
       "text": [
        "\n",
        "[*]  http://www.neracoos.org/thredds/dodsC/UMO/DSG/SOS/E01/Accelerometer/HistoricRealtime/Agg.ncml\n",
        "    [-]  Could not load: 'long_name' is not a permitted attribute"
       ]
      },
      {
       "output_type": "stream",
       "stream": "stdout",
       "text": [
        "\n",
        "[*]  http://www.neracoos.org/thredds/dodsC/UMO/DSG/SOS/E01/CTD1m/HistoricRealtime/Agg.ncml\n",
        "    [-]  Could not load: 'long_name' is not a permitted attribute"
       ]
      },
      {
       "output_type": "stream",
       "stream": "stdout",
       "text": [
        "\n",
        "[*]  http://www.neracoos.org/thredds/dodsC/UMO/DSG/SOS/E01/CTD20m/HistoricRealtime/Agg.ncml\n",
        "    [-]  Could not load: 'long_name' is not a permitted attribute"
       ]
      },
      {
       "output_type": "stream",
       "stream": "stdout",
       "text": [
        "\n",
        "[*]  http://www.neracoos.org/thredds/dodsC/UMO/DSG/SOS/E01/CTD50m/HistoricRealtime/Agg.ncml\n",
        "    [-]  Could not load: 'long_name' is not a permitted attribute"
       ]
      },
      {
       "output_type": "stream",
       "stream": "stdout",
       "text": [
        "\n",
        "[*]  http://www.neracoos.org/thredds/dodsC/UMO/DSG/SOS/E01/CTD87m/HistoricRealtime/Agg.ncml\n",
        "    [-]  Could not load: 'long_name' is not a permitted attribute"
       ]
      },
      {
       "output_type": "stream",
       "stream": "stdout",
       "text": [
        "\n",
        "[*]  http://www.neracoos.org/thredds/dodsC/UMO/DSG/SOS/E01/Met/HistoricRealtime/Agg.ncml\n",
        "    [-]  Could not load: 'long_name' is not a permitted attribute"
       ]
      },
      {
       "output_type": "stream",
       "stream": "stdout",
       "text": [
        "\n",
        "[*]  http://www.neracoos.org/thredds/dodsC/UMO/DSG/SOS/F01/Aanderaa/HistoricRealtime/Agg.ncml\n",
        "    [-]  Could not load: 'long_name' is not a permitted attribute"
       ]
      },
      {
       "output_type": "stream",
       "stream": "stdout",
       "text": [
        "\n",
        "[*]  http://www.neracoos.org/thredds/dodsC/UMO/DSG/SOS/F01/Accelerometer/HistoricRealtime/Agg.ncml\n",
        "    [-]  Could not load: 'long_name' is not a permitted attribute"
       ]
      },
      {
       "output_type": "stream",
       "stream": "stdout",
       "text": [
        "\n",
        "[*]  http://www.neracoos.org/thredds/dodsC/UMO/DSG/SOS/F01/CTD1m/HistoricRealtime/Agg.ncml\n",
        "    [-]  Could not load: 'long_name' is not a permitted attribute"
       ]
      },
      {
       "output_type": "stream",
       "stream": "stdout",
       "text": [
        "\n",
        "[*]  http://www.neracoos.org/thredds/dodsC/UMO/DSG/SOS/F01/CTD20m/HistoricRealtime/Agg.ncml\n",
        "    [-]  Could not load: 'long_name' is not a permitted attribute"
       ]
      },
      {
       "output_type": "stream",
       "stream": "stdout",
       "text": [
        "\n",
        "[*]  http://www.neracoos.org/thredds/dodsC/UMO/DSG/SOS/F01/CTD50m/HistoricRealtime/Agg.ncml\n",
        "    [-]  Could not load: 'long_name' is not a permitted attribute"
       ]
      },
      {
       "output_type": "stream",
       "stream": "stdout",
       "text": [
        "\n",
        "[*]  http://www.neracoos.org/thredds/dodsC/UMO/DSG/SOS/I01/Aanderaa/HistoricRealtime/Agg.ncml\n",
        "    [-]  Could not load: 'long_name' is not a permitted attribute"
       ]
      },
      {
       "output_type": "stream",
       "stream": "stdout",
       "text": [
        "\n",
        "[*]  http://www.neracoos.org/thredds/dodsC/UMO/DSG/SOS/I01/Accelerometer/HistoricRealtime/Agg.ncml\n",
        "    [-]  Could not load: 'long_name' is not a permitted attribute"
       ]
      },
      {
       "output_type": "stream",
       "stream": "stdout",
       "text": [
        "\n",
        "[*]  http://www.neracoos.org/thredds/dodsC/UMO/DSG/SOS/I01/CTD1m/HistoricRealtime/Agg.ncml\n",
        "    [-]  Could not load: 'long_name' is not a permitted attribute"
       ]
      },
      {
       "output_type": "stream",
       "stream": "stdout",
       "text": [
        "\n",
        "[*]  http://www.neracoos.org/thredds/dodsC/UMO/DSG/SOS/I01/CTD20m/HistoricRealtime/Agg.ncml\n",
        "    [-]  Could not load: 'long_name' is not a permitted attribute"
       ]
      },
      {
       "output_type": "stream",
       "stream": "stdout",
       "text": [
        "\n",
        "[*]  http://www.neracoos.org/thredds/dodsC/UMO/DSG/SOS/I01/CTD50m/HistoricRealtime/Agg.ncml\n",
        "    [-]  Could not load: 'long_name' is not a permitted attribute"
       ]
      },
      {
       "output_type": "stream",
       "stream": "stdout",
       "text": [
        "\n",
        "[*]  http://www.neracoos.org/thredds/dodsC/UMO/DSG/SOS/I01/CTD87m/HistoricRealtime/Agg.ncml\n",
        "    [-]  Could not load: 'long_name' is not a permitted attribute"
       ]
      },
      {
       "output_type": "stream",
       "stream": "stdout",
       "text": [
        "\n",
        "[*]  http://www.neracoos.org/thredds/dodsC/UMO/DSG/SOS/M01/Aanderaa/HistoricRealtime/Agg.ncml\n",
        "    [-]  Could not load: 'long_name' is not a permitted attribute"
       ]
      },
      {
       "output_type": "stream",
       "stream": "stdout",
       "text": [
        "\n",
        "[*]  http://www.neracoos.org/thredds/dodsC/UMO/DSG/SOS/M01/Accelerometer/HistoricRealtime/Agg.ncml\n",
        "    [-]  Could not load: 'long_name' is not a permitted attribute"
       ]
      },
      {
       "output_type": "stream",
       "stream": "stdout",
       "text": [
        "\n",
        "[*]  http://www.neracoos.org/thredds/dodsC/UMO/DSG/SOS/M01/CTD1m/HistoricRealtime/Agg.ncml\n",
        "    [-]  Could not load: 'long_name' is not a permitted attribute"
       ]
      },
      {
       "output_type": "stream",
       "stream": "stdout",
       "text": [
        "\n",
        "[*]  http://www.neracoos.org/thredds/dodsC/UMO/DSG/SOS/M01/CTD20m/HistoricRealtime/Agg.ncml\n",
        "    [-]  Could not load: 'long_name' is not a permitted attribute"
       ]
      },
      {
       "output_type": "stream",
       "stream": "stdout",
       "text": [
        "\n",
        "[*]  http://www.neracoos.org/thredds/dodsC/UMO/DSG/SOS/M01/CTD50m/HistoricRealtime/Agg.ncml\n",
        "    [-]  Could not load: 'long_name' is not a permitted attribute"
       ]
      },
      {
       "output_type": "stream",
       "stream": "stdout",
       "text": [
        "\n",
        "[*]  http://www.neracoos.org/thredds/dodsC/UMO/DSG/SOS/M01/CTD100m/HistoricRealtime/Agg.ncml\n",
        "    [-]  Could not load: 'long_name' is not a permitted attribute"
       ]
      },
      {
       "output_type": "stream",
       "stream": "stdout",
       "text": [
        "\n",
        "[*]  http://www.neracoos.org/thredds/dodsC/UMO/DSG/SOS/M01/CTD150m/HistoricRealtime/Agg.ncml\n",
        "    [-]  Could not load: 'long_name' is not a permitted attribute"
       ]
      },
      {
       "output_type": "stream",
       "stream": "stdout",
       "text": [
        "\n",
        "[*]  http://www.neracoos.org/thredds/dodsC/UMO/DSG/SOS/M01/CTD200m/HistoricRealtime/Agg.ncml\n",
        "    [-]  Could not load: 'long_name' is not a permitted attribute"
       ]
      },
      {
       "output_type": "stream",
       "stream": "stdout",
       "text": [
        "\n",
        "[*]  http://www.neracoos.org/thredds/dodsC/UMO/DSG/SOS/M01/CTD250m/HistoricRealtime/Agg.ncml\n",
        "    [-]  Could not load: 'long_name' is not a permitted attribute"
       ]
      },
      {
       "output_type": "stream",
       "stream": "stdout",
       "text": [
        "\n",
        "[*]  http://www.neracoos.org/thredds/dodsC/UMO/DSG/SOS/M01/Met/HistoricRealtime/Agg.ncml\n",
        "    [-]  Could not load: 'long_name' is not a permitted attribute"
       ]
      },
      {
       "output_type": "stream",
       "stream": "stdout",
       "text": [
        "\n"
       ]
      },
      {
       "output_type": "stream",
       "stream": "stderr",
       "text": [
        "AttributeError: \"'CFReader' object has no attribute '_dataset'\" in <bound method CFReader.__del__ of CFReader('http://www.neracoos.org/thredds/dodsC/UMO/DSG/SOS/M01/Doppler/HistoricRealtime/Agg.ncml')> ignored\n"
       ]
      }
     ],
     "prompt_number": 59
    },
    {
     "cell_type": "markdown",
     "metadata": {},
     "source": [
      "<div class=\"error\"><strong>Miscellaneous Errors</strong> - Many DAP endpoints for dissolved oxygens said data was available, but returned errors related to \"malformed or inaccessible DAP DDS\" (a catchall issue that can be difficult to resolve for users), variable names such as \"dissolved_oxygen_2\", and missing attributes in netCDF files.</div>"
     ]
    },
    {
     "cell_type": "code",
     "collapsed": false,
     "input": [],
     "language": "python",
     "metadata": {},
     "outputs": []
    }
   ],
   "metadata": {}
  }
 ]
}