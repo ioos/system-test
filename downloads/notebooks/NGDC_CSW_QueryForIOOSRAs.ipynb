{
 "metadata": {
  "name": "NGDC_CSW_QueryForIOOSRAs"
 },
 "nbformat": 3,
 "nbformat_minor": 0,
 "worksheets": [
  {
   "cells": [
    {
     "cell_type": "markdown",
     "metadata": {},
     "source": [
      "# Query NGDC Catalog CSW end point to extract records matching an IOOS RA acronym\n",
      "Emilio Mayorga, 2/10/2014"
     ]
    },
    {
     "cell_type": "code",
     "collapsed": false,
     "input": [
      "from owslib.csw import CatalogueServiceWeb\n",
      "from owslib import fes"
     ],
     "language": "python",
     "metadata": {},
     "outputs": [],
     "prompt_number": 1
    },
    {
     "cell_type": "code",
     "collapsed": false,
     "input": [
      "# NGDC catalog\n",
      "endpoint1 = 'http://www.ngdc.noaa.gov/geoportal/csw'\n",
      "csw1 = CatalogueServiceWeb(endpoint1, timeout=30)"
     ],
     "language": "python",
     "metadata": {},
     "outputs": [],
     "prompt_number": 2
    },
    {
     "cell_type": "code",
     "collapsed": false,
     "input": [
      "# Will query for a subset of RA's (West of the Rockies ...)\n",
      "ioosras = ['SCCOOS', 'CeNCOOS', 'NANOOS', 'AOOS', 'PacIOOS']"
     ],
     "language": "python",
     "metadata": {},
     "outputs": [],
     "prompt_number": 3
    },
    {
     "cell_type": "code",
     "collapsed": false,
     "input": [
      "def query_and_list_ioosra(ra_acronym):\n",
      "    \"\"\" Query on apiso:Keywords \"IsEqualTo\" ra_acronym\n",
      "    \"\"\"\n",
      "    searchfes = fes.PropertyIsEqualTo(propertyname='apiso:Keywords', literal=ra_acronym)\n",
      "    # propertyname='dc:subject' also works (RA acronym is stored as a dc:subject entry)\n",
      "    csw1.getrecords2(constraints=[searchfes], maxrecords=100, esn='full')\n",
      "    recs_returned = csw1.results['returned']\n",
      "    print \" == RA: %s. %d records matched and returned ====== \" % (ra_acronym, recs_returned)\n",
      "    cswkeys_lst = csw1.records.keys()\n",
      "    recssubset = [csw1.records[cswkeys_lst[i]] for i in range(len(cswkeys_lst))]\n",
      "    for reckey in csw1.records.keys():\n",
      "        print '     Record Key: ', reckey\n",
      "        print '          Title: ', csw1.records[reckey].title"
     ],
     "language": "python",
     "metadata": {},
     "outputs": [],
     "prompt_number": 4
    },
    {
     "cell_type": "markdown",
     "metadata": {},
     "source": [
      "Loop through each RA in the list, issue query, and print out results summary"
     ]
    },
    {
     "cell_type": "code",
     "collapsed": false,
     "input": [
      "for ioosra in ioosras:\n",
      "    query_and_list_ioosra(ioosra)"
     ],
     "language": "python",
     "metadata": {},
     "outputs": [
      {
       "output_type": "stream",
       "stream": "stdout",
       "text": [
        " == RA: SCCOOS. 0 records matched and returned ====== \n",
        " == RA: CeNCOOS. 2 records matched and returned ====== "
       ]
      },
      {
       "output_type": "stream",
       "stream": "stdout",
       "text": [
        "\n",
        "     Record Key:  NWSsetScan/junk.nc\n",
        "          Title:  This is my title\n",
        "     Record Key:  CeNCOOS 52N SOS\n",
        "          Title:  CeNCOOS 52N SOS\n",
        " == RA: NANOOS. 1 records matched and returned ====== "
       ]
      },
      {
       "output_type": "stream",
       "stream": "stdout",
       "text": [
        "\n",
        "     Record Key:  NANOOS Sensor Observation Service (SOS)\n",
        "          Title:  NANOOS Sensor Observation Service (SOS)\n",
        " == RA: AOOS. 1 records matched and returned ====== "
       ]
      },
      {
       "output_type": "stream",
       "stream": "stdout",
       "text": [
        "\n",
        "     Record Key:  AOOS SOS\n",
        "          Title:  AOOS SOS\n",
        " == RA: PacIOOS. 3 records matched and returned ====== "
       ]
      },
      {
       "output_type": "stream",
       "stream": "stdout",
       "text": [
        "\n",
        "     Record Key:  wqbaw_agg\n",
        "          Title:  PacIOOS Water Quality Buoy AW (WQB-AW): Ala Wai, Oahu, Hawaii\n",
        "     Record Key:  wqbkn_agg\n",
        "          Title:  PacIOOS Water Quality Buoy KN (WQB-KN): Kilo Nalu, Oahu, Hawaii\n",
        "     Record Key:  wqb04_agg\n",
        "          Title:  PacIOOS Water Quality Buoy 04 (WQB-04): Hilo, Big Island, Hawaii\n"
       ]
      }
     ],
     "prompt_number": 5
    }
   ],
   "metadata": {}
  }
 ]
}