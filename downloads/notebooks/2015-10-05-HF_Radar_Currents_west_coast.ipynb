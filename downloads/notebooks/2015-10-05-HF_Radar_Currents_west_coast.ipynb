{
 "metadata": {
  "name": "",
  "signature": "sha256:0e46c65208c7cc14aa716125ad3f502476a7100664228be7096684104eaabdae"
 },
 "nbformat": 3,
 "nbformat_minor": 0,
 "worksheets": [
  {
   "cells": [
    {
     "cell_type": "code",
     "collapsed": false,
     "input": [
      "\"\"\"\n",
      "Original notebook is HF_Radar_Currents_west_coast.ipynb in\n",
      "Theme_2_Extreme_Events/Scenario_2B/HF_Radar_Currents/\n",
      "\"\"\"\n",
      "\n",
      "title = \"HF Radar Currents West Coast\"\n",
      "name = '2015-10-05-HF_Radar_Currents_west_coast'"
     ],
     "language": "python",
     "metadata": {},
     "outputs": []
    },
    {
     "cell_type": "code",
     "collapsed": false,
     "input": [
      "%matplotlib inline\n",
      "\n",
      "import seaborn\n",
      "seaborn.set(style='ticks')\n",
      "\n",
      "import os\n",
      "from datetime import datetime\n",
      "from IPython.core.display import HTML\n",
      "\n",
      "# Metadata and markdown generation.\n",
      "hour = datetime.utcnow().strftime('%H:%M')\n",
      "comments = \"true\"\n",
      "\n",
      "date = '-'.join(name.split('-')[:3])\n",
      "slug = '-'.join(name.split('-')[3:])\n",
      "\n",
      "metadata = dict(title=title,\n",
      "                date=date,\n",
      "                hour=hour,\n",
      "                comments=comments,\n",
      "                slug=slug,\n",
      "                name=name)\n",
      "\n",
      "markdown = \"\"\"Title: {title}\n",
      "date:  {date} {hour}\n",
      "comments: {comments}\n",
      "slug: {slug}\n",
      "\n",
      "{{% notebook {name}.ipynb cells[2:] %}}\n",
      "\"\"\".format(**metadata)\n",
      "\n",
      "content = os.path.abspath(os.path.join(os.getcwd(), os.pardir,\n",
      "                                       os.pardir, '{}.md'.format(name)))\n",
      "\n",
      "with open('{}'.format(content), 'w') as f:\n",
      "    f.writelines(markdown)\n",
      "\n",
      "# Styles.\n",
      "with open('./styles/custom.css', 'r') as f:\n",
      "    styles = f.read()\n",
      "\n",
      "HTML(styles)\n",
      "\n",
      "html = \"\"\"\n",
      "<small>\n",
      "<p> To run this notebook click\n",
      "<a href=\"http://mybinder.org/repo/ioos/system-test/content/downloads/notebooks/%s.ipynb\">here</a>,\n",
      "or view as a static html <a href=\"http://nbviewer.ipython.org/url/ioos.github.com/\n",
      "system-test/downloads/notebooks/%s.ipynb\">here</a>.</p>\n",
      "<p></p>\n",
      "\"\"\" % (name, name)"
     ],
     "language": "python",
     "metadata": {},
     "outputs": []
    },
    {
     "cell_type": "markdown",
     "metadata": {},
     "source": [
      "IOOS System Test: [HF Radar](http://nbviewer.ipython.org/github/ioos/system-test/blob/master/Theme_2_Extreme_Events/Scenario_2B/HF_Radar_Currents/HF_Radar_Currents_west_coast.ipynb) Coastal Inundation.\n",
      "\n",
      "Can we obtain HF radar current data at stations located within a bounding box? This notebook is based on IOOS System Test: Inundation.\n",
      "\n",
      "Methodology:\n",
      "\n",
      "* Define temporal and spatial bounds of interest, as well as parameters of interest\n",
      "* Search for available OPeNDAP data endpoints\n",
      "* Obtain observation data sets from stations within the spatial boundaries from DAP endpoints\n",
      "* Extract time series for locations\n",
      "* Plot time series data, current rose, annual max values per station\n",
      "* Plot observation stations on a map"
     ]
    },
    {
     "cell_type": "code",
     "collapsed": false,
     "input": [
      "import uuid\n",
      "import folium\n",
      "from IPython.display import HTML, Javascript, display\n",
      "\n",
      "import matplotlib.pyplot as plt\n",
      "from owslib import fes\n",
      "\n",
      "\n",
      "import numpy as np\n",
      "from pyoos.collectors.ndbc.ndbc_sos import NdbcSos\n",
      "from pyoos.collectors.coops.coops_sos import CoopsSos\n",
      "import requests\n",
      "\n",
      "from utilities import (fes_date_filter, service_urls,\n",
      "                       get_coordinates, css_styles)\n",
      "\n",
      "css_styles()"
     ],
     "language": "python",
     "metadata": {},
     "outputs": []
    },
    {
     "cell_type": "markdown",
     "metadata": {},
     "source": [
      "<div class=\"warning\"><strong>Bounding Box</strong> - Small bounding box for San Francisco Bay (named West)</div>"
     ]
    },
    {
     "cell_type": "code",
     "collapsed": false,
     "input": [
      "from datetime import datetime, timedelta\n",
      "\n",
      "\n",
      "bounding_box_type = \"box\"\n",
      "\n",
      "# Bounding Box [lon_min, lat_min, lon_max, lat_max].\n",
      "area = dict({'Hawaii': [-160.0, 18.0, -154., 23.0],\n",
      "             'Gulf of Maine': [-72.0, 41.0, -69.0, 43.0],\n",
      "             'New York harbor region': [-75., 39., -71., 41.5],\n",
      "             'Puerto Rico': [-71, 14, -60, 24],\n",
      "             'East Coast': [-77, 34, -70, 40],\n",
      "             'North West': [-130, 38, -121, 50],\n",
      "             'West': [-123, 36, -121, 40]})\n",
      "\n",
      "bounding_box = area['West']\n",
      "\n",
      "# Temporal range.\n",
      "jd_now = datetime.utcnow()\n",
      "jd_start,  jd_stop = jd_now - timedelta(days=(7)), jd_now\n",
      "\n",
      "start_date = jd_start.strftime('%Y-%m-%d %H:00')\n",
      "stop_date = jd_stop.strftime('%Y-%m-%d %H:00')\n",
      "\n",
      "jd_start = datetime.strptime(start_date, '%Y-%m-%d %H:%M')\n",
      "jd_stop = datetime.strptime(stop_date, '%Y-%m-%d %H:%M')\n",
      "\n",
      "\n",
      "print('{} to {}'.format(start_date, stop_date))"
     ],
     "language": "python",
     "metadata": {},
     "outputs": []
    },
    {
     "cell_type": "code",
     "collapsed": false,
     "input": [
      "# Put the names in a dict for ease of access.\n",
      "data_dict = dict()\n",
      "sos_name = 'Currents'\n",
      "data_dict['currents'] = {\"names\": ['currents',\n",
      "                                   'surface_eastward_sea_water_velocity',\n",
      "                                   '*surface_eastward_sea_water_velocity*'],\n",
      "                         \"sos_name\": ['currents']}"
     ],
     "language": "python",
     "metadata": {},
     "outputs": []
    },
    {
     "cell_type": "markdown",
     "metadata": {},
     "source": [
      "### NGDC Geoportal"
     ]
    },
    {
     "cell_type": "code",
     "collapsed": false,
     "input": [
      "from owslib.csw import CatalogueServiceWeb\n",
      "\n",
      "\n",
      "endpoint = 'http://www.ngdc.noaa.gov/geoportal/csw'\n",
      "\n",
      "csw = CatalogueServiceWeb(endpoint, timeout=60)"
     ],
     "language": "python",
     "metadata": {},
     "outputs": []
    },
    {
     "cell_type": "markdown",
     "metadata": {},
     "source": [
      "### Convert User Input into FES filters"
     ]
    },
    {
     "cell_type": "code",
     "collapsed": false,
     "input": [
      "start, stop = fes_date_filter(jd_start, jd_stop)\n",
      "bbox = fes.BBox(bounding_box)\n",
      "\n",
      "# Use the search name to create search filter.\n",
      "or_filt = fes.Or([fes.PropertyIsLike(propertyname='apiso:AnyText',\n",
      "                                     literal=('*%s*' % val),\n",
      "                                     escapeChar='\\\\', wildCard='*',\n",
      "                                     singleChar='?') for val in\n",
      "                  data_dict['currents']['names']])\n",
      "\n",
      "val = 'Averages'\n",
      "not_filt = fes.Not([fes.PropertyIsLike(propertyname='apiso:AnyText',\n",
      "                                       literal=('*%s*' % val),\n",
      "                                       escapeChar='\\\\',\n",
      "                                       wildCard='*',\n",
      "                                       singleChar='?')])\n",
      "\n",
      "filter_list = [fes.And([bbox, start, stop, or_filt, not_filt])]"
     ],
     "language": "python",
     "metadata": {},
     "outputs": []
    },
    {
     "cell_type": "markdown",
     "metadata": {},
     "source": [
      "Connect to CSW, explore it's properties.  Try request using multiple filters \"and\" syntax: `[[filter1, filter2]]`\n"
     ]
    },
    {
     "cell_type": "code",
     "collapsed": false,
     "input": [
      "csw.getrecords2(constraints=filter_list, maxrecords=1000, esn='full')\n",
      "\n",
      "print(\"{} csw records found\".format(len(csw.records)))\n",
      "\n",
      "for rec, item in csw.records.items():\n",
      "    print(item.title)"
     ],
     "language": "python",
     "metadata": {},
     "outputs": []
    },
    {
     "cell_type": "markdown",
     "metadata": {},
     "source": [
      "#### List end points available"
     ]
    },
    {
     "cell_type": "code",
     "collapsed": false,
     "input": [
      "dap_urls = service_urls(csw.records)\n",
      "\n",
      "# Remove duplicates and organize.\n",
      "dap_urls = sorted(set(dap_urls))\n",
      "print(\"Total DAP: {}\".format(len(dap_urls)))\n",
      "\n",
      "# Print the first 5...\n",
      "print(\"\\n\".join(dap_urls[:]))"
     ],
     "language": "python",
     "metadata": {},
     "outputs": []
    },
    {
     "cell_type": "code",
     "collapsed": false,
     "input": [
      "sos_urls = service_urls(csw.records, service='sos:url')\n",
      "\n",
      "# Remove duplicates and organize.\n",
      "sos_urls = sorted(set(sos_urls))\n",
      "print(\"Total SOS: {}\".format(len(sos_urls)))\n",
      "print(\"\\n\".join(sos_urls))"
     ],
     "language": "python",
     "metadata": {},
     "outputs": []
    },
    {
     "cell_type": "code",
     "collapsed": false,
     "input": [
      "start_time = datetime.strptime(start_date, '%Y-%m-%d %H:%M')\n",
      "end_time = datetime.strptime(stop_date, '%Y-%m-%d %H:%M')\n",
      "\n",
      "iso_start = start_time.strftime('%Y-%m-%dT%H:%M:%SZ')\n",
      "iso_end = end_time.strftime('%Y-%m-%dT%H:%M:%SZ')"
     ],
     "language": "python",
     "metadata": {},
     "outputs": []
    },
    {
     "cell_type": "markdown",
     "metadata": {},
     "source": [
      "### COOPS Station Locations"
     ]
    },
    {
     "cell_type": "code",
     "collapsed": false,
     "input": [
      "coops_collector = CoopsSos()\n",
      "coops_collector.start_time = start_time\n",
      "coops_collector.end_time = end_time\n",
      "coops_collector.variables = data_dict[\"currents\"][\"sos_name\"]\n",
      "coops_collector.server.identification.title\n",
      "\n",
      "ofrs = coops_collector.server.offerings\n",
      "\n",
      "print(\"{}:{}\".format(coops_collector.start_time, coops_collector.end_time))\n",
      "\n",
      "print(len(ofrs))"
     ],
     "language": "python",
     "metadata": {},
     "outputs": []
    },
    {
     "cell_type": "code",
     "collapsed": false,
     "input": [
      "from pandas import read_csv\n",
      "\n",
      "print(\"Date: {} to {}\".format(iso_start, iso_end))\n",
      "box_str = ','.join(str(e) for e in bounding_box)\n",
      "print(\"Lat/Lon Box: \".format(box_str))\n",
      "\n",
      "url = (('http://opendap.co-ops.nos.noaa.gov/ioos-dif-sos/SOS?'\n",
      "        'service=SOS&request=GetObservation&version=1.0.0&'\n",
      "        'observedProperty=%s&bin=1&'\n",
      "        'offering=urn:ioos:network:NOAA.NOS.CO-OPS:CurrentsActive&'\n",
      "        'featureOfInterest=BBOX:%s&responseFormat=text/csv') % (sos_name,\n",
      "                                                                box_str))\n",
      "\n",
      "obs_loc_df = read_csv(url)\n",
      "\n",
      "print(url)"
     ],
     "language": "python",
     "metadata": {},
     "outputs": []
    },
    {
     "cell_type": "code",
     "collapsed": false,
     "input": [
      "from utilities.ioos import processStationInfo\n",
      "\n",
      "st_list = processStationInfo(obs_loc_df, \"coops\")\n",
      "\n",
      "print(st_list)"
     ],
     "language": "python",
     "metadata": {},
     "outputs": []
    },
    {
     "cell_type": "markdown",
     "metadata": {},
     "source": [
      "# NDBC Station Locations"
     ]
    },
    {
     "cell_type": "code",
     "collapsed": false,
     "input": [
      "ndbc_collector = NdbcSos()\n",
      "ndbc_collector.start_time = start_time\n",
      "ndbc_collector.end_time = end_time\n",
      "ndbc_collector.variables = data_dict[\"currents\"][\"sos_name\"]\n",
      "ndbc_collector.server.identification.title\n",
      "\n",
      "ofrs = ndbc_collector.server.offerings\n",
      "\n",
      "print(\"{}:{}\".format(ndbc_collector.start_time, ndbc_collector.end_time))\n",
      "\n",
      "print(len(ofrs))"
     ],
     "language": "python",
     "metadata": {},
     "outputs": []
    },
    {
     "cell_type": "code",
     "collapsed": false,
     "input": [
      "box_str = ','.join(str(e) for e in bounding_box)\n",
      "\n",
      "url = (('http://sdf.ndbc.noaa.gov/sos/server.php?'\n",
      "        'request=GetObservation&service=SOS&'\n",
      "        'version=1.0.0&'\n",
      "        'offering=urn:ioos:network:noaa.nws.ndbc:all&'\n",
      "        'featureofinterest=BBOX:%s&'\n",
      "        'observedproperty=%s&'\n",
      "        'responseformat=text/csv&') % (box_str, sos_name))\n",
      "\n",
      "print(\"Date: {} to {}\".format(iso_start, iso_end))\n",
      "print(\"Lat/Lon Box: {}\".format(box_str))\n",
      "print(url)"
     ],
     "language": "python",
     "metadata": {},
     "outputs": []
    },
    {
     "cell_type": "code",
     "collapsed": false,
     "input": [
      "obs_loc_df = read_csv(url)\n",
      "\n",
      "st_list = processStationInfo(obs_loc_df, \"ndbc\", st_list=st_list)"
     ],
     "language": "python",
     "metadata": {},
     "outputs": []
    },
    {
     "cell_type": "markdown",
     "metadata": {},
     "source": [
      "<div class=\"warning\"><strong>NDBC DAP</strong> - NDBC DAP does not have the most recent observations</div>"
     ]
    },
    {
     "cell_type": "code",
     "collapsed": false,
     "input": [
      "print(\"Date: {} to {}\".format(iso_start, iso_end))\n",
      "\n",
      "# i.e date range 2011-03-01T00:00Z/2011-03-02T00:00Z\n",
      "date_range_string = iso_start + \"/\" + iso_end"
     ],
     "language": "python",
     "metadata": {},
     "outputs": []
    },
    {
     "cell_type": "markdown",
     "metadata": {},
     "source": [
      "#### Get the observation data from the stations identified"
     ]
    },
    {
     "cell_type": "code",
     "collapsed": false,
     "input": [
      "from utilities.ioos import coopsCurrentRequest, ndbcSOSRequest\n",
      "\n",
      "\n",
      "divid = str(uuid.uuid4())\n",
      "pb = HTML(\"\"\"\n",
      "<div style=\"border: 1px solid black; width:500px\">\n",
      "  <div id=\"%s\" style=\"background-color:blue; width:0%%\">&nbsp;</div>\n",
      "</div>\n",
      "\"\"\" % divid)\n",
      "\n",
      "display(pb)\n",
      "\n",
      "count = 0\n",
      "for station_index in st_list.keys():\n",
      "    st = station_index.split(\":\")[-1]\n",
      "    tides_dt_start = jd_start.strftime('%Y%m%d %H:%M')\n",
      "    tides_dt_end = jd_stop.strftime('%Y%m%d %H:%M')\n",
      "\n",
      "    if st_list[station_index]['source'] == \"coops\":\n",
      "        df = coopsCurrentRequest(st, tides_dt_start, tides_dt_end)\n",
      "    elif st_list[station_index]['source'] == \"ndbc\":\n",
      "        df = ndbcSOSRequest(station_index, date_range_string)\n",
      "\n",
      "    if (df is not None) and (len(df) > 0):\n",
      "        st_list[station_index]['hasObsData'] = True\n",
      "    else:\n",
      "        st_list[station_index]['hasObsData'] = False\n",
      "    st_list[station_index]['obsData'] = df\n",
      "\n",
      "    print(station_index, st_list[station_index]['source'],\n",
      "          st_list[station_index]['hasObsData'])\n",
      "    count += 1\n",
      "    percent_compelte = (float(count)/float(len(st_list.keys()))) * 100\n",
      "    display(Javascript(\"$('div#%s').width('%i%%')\" %\n",
      "                       (divid, int(percent_compelte))))"
     ],
     "language": "python",
     "metadata": {},
     "outputs": []
    },
    {
     "cell_type": "markdown",
     "metadata": {},
     "source": [
      "<div class=\"success\"><strong>HF Radar</strong> - Gets the HF radar for the requested date range</div>"
     ]
    },
    {
     "cell_type": "code",
     "collapsed": false,
     "input": [
      "from utilities.ioos import get_hr_radar_dap_data\n",
      "\n",
      "df_list = get_hr_radar_dap_data(dap_urls, st_list, jd_start, jd_stop)"
     ],
     "language": "python",
     "metadata": {},
     "outputs": []
    },
    {
     "cell_type": "markdown",
     "metadata": {},
     "source": [
      "<div class=\"success\"><strong>Model Data</strong> - get model data from the SFO ports operational model</div>"
     ]
    },
    {
     "cell_type": "markdown",
     "metadata": {},
     "source": [
      "<div class=\"success\"><strong>Station Model Data</strong> - For the stations find the model data at the same location</div>"
     ]
    },
    {
     "cell_type": "markdown",
     "metadata": {},
     "source": [
      "### Stations we know contain all three data types of interest."
     ]
    },
    {
     "cell_type": "code",
     "collapsed": false,
     "input": [
      "def findSFOIndexs(lats, lons, lat_lon_list):\n",
      "    index_list, dist_list = [], []\n",
      "    for val in lat_lon_list:\n",
      "        point1 = Point(val[1], val[0])\n",
      "        dist = 999999999\n",
      "        index = -1\n",
      "        for k in range(0, len(lats)):\n",
      "            point2 = Point(lons[k], lats[k])\n",
      "            val = point1.distance(point2)\n",
      "            if val < dist:\n",
      "                index = k\n",
      "                dist = val\n",
      "        index_list.append(index)\n",
      "        dist_list.append(dist)\n",
      "    print(index_list, dist_list)\n",
      "    return index_list, dist_list\n",
      "\n",
      "\n",
      "def buildSFOUrls(jd_start,  jd_stop):\n",
      "    \"\"\"\n",
      "    Multiple files for time step, were only looking at Nowcast (past) values\n",
      "    times are 3z, 9z, 15z, 21z\n",
      "\n",
      "    \"\"\"\n",
      "    url_list = []\n",
      "    time_list = ['03z', '09z', '15z', '21z']\n",
      "    delta = jd_stop-jd_start\n",
      "    for i in range((delta.days)+1):\n",
      "        model_file_date = jd_start + timedelta(days=i)\n",
      "        base_url = ('http://opendap.co-ops.nos.noaa.gov/'\n",
      "                    'thredds/dodsC/NOAA/SFBOFS/MODELS/')\n",
      "        val_month, val_year, val_day = '', '', ''\n",
      "        # Month.\n",
      "        if model_file_date.month < 10:\n",
      "            val_month = \"0\" + str(model_file_date.month)\n",
      "        else:\n",
      "            val_month = str(model_file_date.month)\n",
      "        # Year.\n",
      "        val_year = str(model_file_date.year)\n",
      "        # Day.\n",
      "        if model_file_date.day < 10:\n",
      "            val_day = \"0\" + str(model_file_date.day)\n",
      "        else:\n",
      "            val_day = str(model_file_date.day)\n",
      "        file_name = '/nos.sfbofs.stations.nowcast.'\n",
      "        file_name += val_year + val_month + val_day\n",
      "        for t in time_list:\n",
      "            t_val = '.t' + t + '.nc'\n",
      "            url_list.append(base_url + val_year + val_month +\n",
      "                            file_name + t_val)\n",
      "    return url_list"
     ],
     "language": "python",
     "metadata": {},
     "outputs": []
    },
    {
     "cell_type": "code",
     "collapsed": false,
     "input": [
      "from utilities.ioos import extractSFOModelData\n",
      "\n",
      "st_known = ['urn:ioos:station:NOAA.NOS.CO-OPS:s09010',\n",
      "            'urn:ioos:station:NOAA.NOS.CO-OPS:s08010']\n",
      "\n",
      "name_list, lat_lon_list = [], []\n",
      "for st in st_list:\n",
      "    if st in st_known:\n",
      "        lat = st_list[st]['lat']\n",
      "        lon = st_list[st]['lon']\n",
      "        name_list.append(st)\n",
      "        lat_lon_list.append([lat, lon])\n",
      "\n",
      "model_data = extractSFOModelData(lat_lon_list, name_list, jd_start, jd_stop)"
     ],
     "language": "python",
     "metadata": {},
     "outputs": []
    },
    {
     "cell_type": "code",
     "collapsed": false,
     "input": [
      "for station_index in st_list.keys():\n",
      "    df = st_list[station_index]['obsData']\n",
      "    if st_list[station_index]['hasObsData']:\n",
      "        fig = plt.figure(figsize=(16, 3))\n",
      "        plt.plot(df.index, df['sea_water_speed (cm/s)'])\n",
      "        fig.suptitle('Station:'+station_index, fontsize=14)\n",
      "        plt.xlabel('Date', fontsize=14)\n",
      "        plt.ylabel('sea_water_speed (cm/s)', fontsize=14)\n",
      "\n",
      "        if station_index in model_data:\n",
      "            df_model = model_data[station_index]['data']\n",
      "            plt.plot(df_model.index, df_model['sea_water_speed (cm/s)'])\n",
      "        # Post those stations not already added.\n",
      "        for ent in df_list:\n",
      "            if ent['ws_pts'] > 4:\n",
      "                if station_index == ent['name']:\n",
      "                    df = ent['data']\n",
      "                    plt.plot(df.index, df['sea_water_speed (cm/s)'])\n",
      "                    ent['valid'] = True\n",
      "    l = plt.legend(('Station Obs', 'Model', 'HF Radar'), loc='upper left')"
     ],
     "language": "python",
     "metadata": {},
     "outputs": []
    },
    {
     "cell_type": "markdown",
     "metadata": {},
     "source": [
      "## Model data is not in the NGDC catalog"
     ]
    },
    {
     "cell_type": "code",
     "collapsed": false,
     "input": [
      "# Add map title.\n",
      "htmlContent = ('<p><h4>Location Map: Blue: Station Obs, Green:'\n",
      "               ' Model Data, Red: HF Radar</h4></p>')\n",
      "station = st_list[list(st_list.keys())[0]]\n",
      "mapa = folium.Map(location=[station[\"lat\"], station[\"lon\"]], zoom_start=10)\n",
      "mapa.line(get_coordinates(bounding_box),\n",
      "          line_color='#FF0000',\n",
      "          line_weight=5)\n",
      "\n",
      "# Plot the obs station.\n",
      "for st in st_list:\n",
      "    lat = st_list[st]['lat']\n",
      "    lon = st_list[st]['lon']\n",
      "\n",
      "    popupString = ('<b>Obs Location:</b><br>' + st + '<br><b>Source:</b><br>' +\n",
      "                   st_list[st]['source'])\n",
      "\n",
      "    if 'hasObsData' in st_list[st] and st_list[st]['hasObsData'] == False:\n",
      "        mapa.circle_marker([lat, lon], popup=popupString, radius=1000,\n",
      "                           line_color='#FF0000', fill_color='#FF0000',\n",
      "                           fill_opacity=0.2)\n",
      "\n",
      "    elif st_list[st]['source'] == \"coops\":\n",
      "        mapa.simple_marker([lat, lon], popup=popupString,\n",
      "                           marker_color=\"darkblue\", marker_icon=\"star\")\n",
      "    elif st_list[st]['source'] == \"ndbc\":\n",
      "        mapa.simple_marker([lat, lon], popup=popupString,\n",
      "                           marker_color=\"darkblue\", marker_icon=\"star\")\n",
      "\n",
      "try:\n",
      "    for ent in df_list:\n",
      "        lat = ent['lat']\n",
      "        lon = ent['lon']\n",
      "        popupstring = (\"HF Radar: [\" + str(lat) + \":\"+str(lon) + \"]\" +\n",
      "                       \"<br>for<br>\" + ent['name'])\n",
      "        mapa.circle_marker([lat, lon], popup=popupstring, radius=500,\n",
      "                           line_color='#FF0000', fill_color='#FF0000',\n",
      "                           fill_opacity=0.5)\n",
      "except:\n",
      "    pass\n",
      "\n",
      "try:\n",
      "    for st in model_data:\n",
      "        lat = model_data[st]['lat']\n",
      "        lon = model_data[st]['lon']\n",
      "        popupstring = (\"HF Radar: [\" + str(lat) + \":\" + str(lon) + \"]\" +\n",
      "                       \"<br>for<br>\" + ent['name'])\n",
      "        mapa.circle_marker([lat, lon], popup=popupstring, radius=500,\n",
      "                           line_color='#66FF33', fill_color='#66FF33',\n",
      "                           fill_opacity=0.5)\n",
      "except:\n",
      "    pass\n",
      "\n",
      "display(HTML(htmlContent))"
     ],
     "language": "python",
     "metadata": {},
     "outputs": []
    },
    {
     "cell_type": "markdown",
     "metadata": {},
     "source": [
      "### adds the HF radar tile layers"
     ]
    },
    {
     "cell_type": "code",
     "collapsed": false,
     "input": [
      "jd_now = datetime.utcnow()\n",
      "mapa.add_tile_layer(tile_name='hfradar 2km',\n",
      "                    tile_url=('http://hfradar.ndbc.noaa.gov/tilesavg.php?'\n",
      "                              's=10&e=100&x={x}&y={y}&z={z}&t=' +\n",
      "                              str(jd_now.year) + '-' + str(jd_now.month) +\n",
      "                              '-' + str(jd_now.day) + ' ' +\n",
      "                              str(jd_now.hour-2) + ':00:00&rez=2'))\n",
      "\n",
      "mapa.add_layers_to_map()\n",
      "\n",
      "mapa"
     ],
     "language": "python",
     "metadata": {},
     "outputs": []
    },
    {
     "cell_type": "code",
     "collapsed": false,
     "input": [
      "HTML(html)"
     ],
     "language": "python",
     "metadata": {},
     "outputs": []
    }
   ],
   "metadata": {}
  }
 ]
}