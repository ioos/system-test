{
 "metadata": {
  "name": "",
  "signature": "sha256:61e36b06572d5e11d0db8ef3204e52da28ab82c3fd7351edee8603b8526f5b08"
 },
 "nbformat": 3,
 "nbformat_minor": 0,
 "worksheets": [
  {
   "cells": [
    {
     "cell_type": "code",
     "collapsed": false,
     "input": [
      "from utilities import css_styles\n",
      "css_styles()"
     ],
     "language": "python",
     "metadata": {},
     "outputs": [
      {
       "html": [
        "\n",
        "        <style>\n",
        "        .info {\n",
        "            background-color: #fcf8e3; border-color: #faebcc; border-left: 5px solid #8a6d3b; padding: 0.5em; color: #8a6d3b;\n",
        "        }\n",
        "        .success {\n",
        "            background-color: #d9edf7; border-color: #bce8f1; border-left: 5px solid #31708f; padding: 0.5em; color: #31708f;\n",
        "        }\n",
        "        .error {\n",
        "            background-color: #f2dede; border-color: #ebccd1; border-left: 5px solid #a94442; padding: 0.5em; color: #a94442;\n",
        "        }\n",
        "        .warning {\n",
        "            background-color: #fcf8e3; border-color: #faebcc; border-left: 5px solid #8a6d3b; padding: 0.5em; color: #8a6d3b;\n",
        "        }\n",
        "        </style>\n",
        "    "
       ],
       "metadata": {},
       "output_type": "pyout",
       "prompt_number": 1,
       "text": [
        "<IPython.core.display.HTML at 0x40e9c18>"
       ]
      }
     ],
     "prompt_number": 1
    },
    {
     "cell_type": "markdown",
     "metadata": {},
     "source": [
      "# IOOS System Test - Theme 1 - Scenario A - [Description](https://github.com/ioos/system-test/wiki/Development-of-Test-Themes#theme-1-baseline-assessment)\n",
      "\n",
      "*This does not work for me. There needs to be some description here, not just a link to a wiki page.*\n",
      "\n",
      "A researcher new to IOOS wishes to find out what information is available for further research. \n",
      "Queries are created to determine  how much time series information is available on common, core \n",
      "oceanographic variables such as  wind speed and direction, wave height and duration,  water \n",
      "temperature and salinity at different depths, current speed and direction, \n",
      "where this information resides, and whether this information can be used as input to a few of the \n",
      "most common data models.\n",
      "\n",
      "## Model Strings\n",
      "\n",
      "## Questions\n",
      "1. What Model records and how many are available via each endpoint?"
     ]
    },
    {
     "cell_type": "markdown",
     "metadata": {},
     "source": [
      "## Q1 - What Model records and how many are available via each endpoint?"
     ]
    },
    {
     "cell_type": "code",
     "collapsed": false,
     "input": [
      "# https://github.com/ioos/system-test/wiki/Service-Registries-and-Data-Catalogs\n",
      "known_csw_servers = endpoints = ['http://data.nodc.noaa.gov/geoportal/csw',\n",
      "                                 'http://cwic.csiss.gmu.edu/cwicv1/discovery',\n",
      "                                 'http://geoport.whoi.edu/geoportal/csw',\n",
      "                                 'https://edg.epa.gov/metadata/csw',\n",
      "                                 'http://www.ngdc.noaa.gov/geoportal/csw',\n",
      "                                 'http://cmgds.marine.usgs.gov/geonetwork/srv/en/csw',\n",
      "                                 'http://www.nodc.noaa.gov/geoportal/csw',\n",
      "                                 'http://cida.usgs.gov/gdp/geonetwork/srv/en/csw',\n",
      "                                 'http://geodiscover.cgdi.ca/wes/serviceManagerCSW/csw',\n",
      "                                 'http://geoport.whoi.edu/gi-cat/services/cswiso',\n",
      "                                 #'https://data.noaa.gov/csw',\n",
      "                                 ]"
     ],
     "language": "python",
     "metadata": {},
     "outputs": [],
     "prompt_number": 2
    },
    {
     "cell_type": "markdown",
     "metadata": {},
     "source": [
      "<div class=\"error\"><strong>CSW Server Broken</strong> - 'https://data.noaa.gov/csw' has been omitted because it is not working.  See: https://github.com/ioos/system-test/issues/130</div>"
     ]
    },
    {
     "cell_type": "code",
     "collapsed": false,
     "input": [
      "known_model_strings = ['roms', 'selfe', 'adcirc', 'ncom', 'hycom', 'fvcom', 'pom', 'wrams', 'wrf']"
     ],
     "language": "python",
     "metadata": {},
     "outputs": [],
     "prompt_number": 3
    },
    {
     "cell_type": "markdown",
     "metadata": {},
     "source": [
      "### Searching for models via CSW 'keyword'"
     ]
    },
    {
     "cell_type": "markdown",
     "metadata": {},
     "source": [
      "#### Construct CSW Filters"
     ]
    },
    {
     "cell_type": "code",
     "collapsed": false,
     "input": [
      "from owslib import fes\n",
      "\n",
      "model_name_filters = []\n",
      "for model in known_model_strings:\n",
      "    title_filter   = fes.PropertyIsLike(propertyname='apiso:Title',   literal='*%s*' % model, wildCard='*')\n",
      "    subject_filter = fes.PropertyIsLike(propertyname='apiso:Subject', literal='*%s*' % model, wildCard='*')\n",
      "    model_name_filters.append(fes.Or([title_filter, subject_filter]))"
     ],
     "language": "python",
     "metadata": {},
     "outputs": [],
     "prompt_number": 4
    },
    {
     "cell_type": "markdown",
     "metadata": {},
     "source": [
      "#### Query each CSW catalog for revery model_name_filter constructed above"
     ]
    },
    {
     "cell_type": "code",
     "collapsed": false,
     "input": [
      "from owslib.csw import CatalogueServiceWeb\n",
      "\n",
      "model_results = []\n",
      "\n",
      "for x in range(len(model_name_filters)):\n",
      "    model_name          = known_model_strings[x]\n",
      "    single_model_filter = model_name_filters[x]\n",
      "    for url in known_csw_servers:\n",
      "        try:\n",
      "            csw = CatalogueServiceWeb(url, timeout=20)\n",
      "            csw.getrecords2(constraints=[single_model_filter], maxrecords=1000, esn='full')\n",
      "            for record, item in csw.records.items():\n",
      "                for d in item.references:\n",
      "                    result = dict(model=model_name,\n",
      "                                  scheme=d['scheme'],\n",
      "                                  url=d['url'],\n",
      "                                  server=url)\n",
      "                    model_results.append(result)\n",
      "        except BaseException as e:\n",
      "            print \"- FAILED: %s - %s\" % (url, e.msg)"
     ],
     "language": "python",
     "metadata": {},
     "outputs": [
      {
       "output_type": "stream",
       "stream": "stdout",
       "text": [
        "- FAILED: http://cwic.csiss.gmu.edu/cwicv1/discovery - REQUEST_LIMITATION: TOO_MANY_RECORDS - The request asked for more records than can be handled. The maximum number designated in GetRecords request should be less than 200, please decrease the returned recorder number in request.\n",
        "- FAILED: http://geodiscover.cgdi.ca/wes/serviceManagerCSW/csw - ORA-00907: missing right parenthesis"
       ]
      },
      {
       "output_type": "stream",
       "stream": "stdout",
       "text": [
        "\n"
       ]
      },
      {
       "ename": "AttributeError",
       "evalue": "'timeout' object has no attribute 'msg'",
       "output_type": "pyerr",
       "traceback": [
        "\u001b[1;31m---------------------------------------------------------------------------\u001b[0m\n\u001b[1;31mAttributeError\u001b[0m                            Traceback (most recent call last)",
        "\u001b[1;32m<ipython-input-5-e058917df8c1>\u001b[0m in \u001b[0;36m<module>\u001b[1;34m()\u001b[0m\n\u001b[0;32m     18\u001b[0m                     \u001b[0mmodel_results\u001b[0m\u001b[1;33m.\u001b[0m\u001b[0mappend\u001b[0m\u001b[1;33m(\u001b[0m\u001b[0mresult\u001b[0m\u001b[1;33m)\u001b[0m\u001b[1;33m\u001b[0m\u001b[0m\n\u001b[0;32m     19\u001b[0m         \u001b[1;32mexcept\u001b[0m \u001b[0mBaseException\u001b[0m \u001b[1;32mas\u001b[0m \u001b[0me\u001b[0m\u001b[1;33m:\u001b[0m\u001b[1;33m\u001b[0m\u001b[0m\n\u001b[1;32m---> 20\u001b[1;33m             \u001b[1;32mprint\u001b[0m \u001b[1;34m\"- FAILED: %s - %s\"\u001b[0m \u001b[1;33m%\u001b[0m \u001b[1;33m(\u001b[0m\u001b[0murl\u001b[0m\u001b[1;33m,\u001b[0m \u001b[0me\u001b[0m\u001b[1;33m.\u001b[0m\u001b[0mmsg\u001b[0m\u001b[1;33m)\u001b[0m\u001b[1;33m\u001b[0m\u001b[0m\n\u001b[0m",
        "\u001b[1;31mAttributeError\u001b[0m: 'timeout' object has no attribute 'msg'"
       ]
      }
     ],
     "prompt_number": 5
    },
    {
     "cell_type": "markdown",
     "metadata": {},
     "source": [
      "<div class=\"error\"><strong>Paginating CSW Records</strong> - Some servers have a maximum amount of records you can retrieve at once. See: https://github.com/ioos/system-test/issues/126</div>"
     ]
    },
    {
     "cell_type": "markdown",
     "metadata": {},
     "source": [
      "#### Load results into a Pandas DataFrame"
     ]
    },
    {
     "cell_type": "code",
     "collapsed": false,
     "input": [
      "%matplotlib inline\n",
      "import pandas as pd\n",
      "pd.set_option('display.max_columns', 20)\n",
      "pd.set_option('display.max_rows', 50)\n",
      "\n",
      "from IPython.display import HTML\n",
      "\n",
      "df = pd.DataFrame(model_results)\n",
      "df = df.drop_duplicates()"
     ],
     "language": "python",
     "metadata": {},
     "outputs": []
    },
    {
     "cell_type": "markdown",
     "metadata": {},
     "source": [
      "#### Total number of services"
     ]
    },
    {
     "cell_type": "code",
     "collapsed": false,
     "input": [
      "total_services = pd.DataFrame(df.groupby(\"scheme\").size(), columns=(\"Number of services\",))\n",
      "#HTML(total_services.to_html())\n",
      "total_services.sort('Number of services', ascending=False).plot(kind=\"barh\", figsize=(10,8,))"
     ],
     "language": "python",
     "metadata": {},
     "outputs": []
    },
    {
     "cell_type": "markdown",
     "metadata": {},
     "source": [
      "<div class=\"error\"><strong>Service Types</strong> - URNs for the same service type are being identified differently.  There should be a consistent way of representing each service, or a complete mapping needs to be made available. See: https://github.com/ioos/system-test/issues/57</div>"
     ]
    },
    {
     "cell_type": "markdown",
     "metadata": {},
     "source": [
      "#### Attempt to normalize the services manually"
     ]
    },
    {
     "cell_type": "code",
     "collapsed": false,
     "input": [
      "from utilities import normalize_service_urn\n",
      "normalized_urns = df.copy(deep=True)\n",
      "normalized_urns[\"scheme\"] = normalized_urns[\"scheme\"].map(lambda x: normalize_service_urn(x))"
     ],
     "language": "python",
     "metadata": {},
     "outputs": []
    },
    {
     "cell_type": "code",
     "collapsed": false,
     "input": [
      "normalized_urns_summary = pd.DataFrame(normalized_urns.groupby(\"scheme\").size(), columns=(\"Number of services\",))\n",
      "normalized_urns_summary.sort('Number of services', ascending=False).plot(kind=\"barh\", figsize=(10,6,))"
     ],
     "language": "python",
     "metadata": {},
     "outputs": []
    },
    {
     "cell_type": "markdown",
     "metadata": {},
     "source": [
      "#### The number of service types for each model type"
     ]
    },
    {
     "cell_type": "code",
     "collapsed": false,
     "input": [
      "import math\n",
      "\n",
      "model_service_summary = pd.DataFrame(normalized_urns.groupby([\"model\", \"scheme\"], sort=True).size(), columns=(\"Number of services\",))\n",
      "#HTML(model_service_summary.to_html())\n",
      "model_service_plotter = model_service_summary.unstack(\"model\")\n",
      "model_service_plot = model_service_plotter.plot(kind='barh', subplots=True, figsize=(12,35,), sharey=True)"
     ],
     "language": "python",
     "metadata": {},
     "outputs": []
    },
    {
     "cell_type": "markdown",
     "metadata": {},
     "source": [
      "#### Models per CSW server"
     ]
    },
    {
     "cell_type": "code",
     "collapsed": false,
     "input": [
      "records_per_csw = pd.DataFrame(normalized_urns.groupby([\"model\", \"server\"]).size(), columns=(\"Number of services\",))\n",
      "#HTML(records_per_csw.to_html())\n",
      "model_csw_plotter = records_per_csw.unstack(\"model\")\n",
      "model_csw_plot = model_csw_plotter.plot(kind='barh', subplots=True, figsize=(12,20,), sharey=True)"
     ],
     "language": "python",
     "metadata": {},
     "outputs": []
    },
    {
     "cell_type": "markdown",
     "metadata": {},
     "source": [
      "#### Services per CSW server"
     ]
    },
    {
     "cell_type": "code",
     "collapsed": false,
     "input": [
      "records_per_csw = pd.DataFrame(normalized_urns.groupby([\"scheme\", \"server\"]).size(), columns=(\"Number of services\",))\n",
      "#HTML(records_per_csw.to_html())\n",
      "model_csw_plotter = records_per_csw.unstack(\"server\")\n",
      "model_csw_plot = model_csw_plotter.plot(kind='barh', subplots=True, figsize=(12,30,), sharey=True)"
     ],
     "language": "python",
     "metadata": {},
     "outputs": []
    },
    {
     "cell_type": "code",
     "collapsed": false,
     "input": [],
     "language": "python",
     "metadata": {},
     "outputs": [],
     "prompt_number": 12
    }
   ],
   "metadata": {}
  }
 ]
}