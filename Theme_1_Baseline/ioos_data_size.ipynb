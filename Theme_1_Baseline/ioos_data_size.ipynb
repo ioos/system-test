{
 "metadata": {
  "name": "",
  "signature": "sha256:575c5c028811e1cfd95c56c686e1cb7ebf5f67134c86e6fe5724e2ebe3436950"
 },
 "nbformat": 3,
 "nbformat_minor": 0,
 "worksheets": [
  {
   "cells": [
    {
     "cell_type": "markdown",
     "metadata": {},
     "source": [
      "#Use CSW to find the total amount of opendap model data served by NGDC "
     ]
    },
    {
     "cell_type": "markdown",
     "metadata": {},
     "source": [
      "Estimate dataset size from the OPeNDAP DDS. Here we use regular expressions to parse the DDS and just the variable size (32 or 64 bit Int or Float) by their shapes. This represents the size in memory, not on disk, since the data could be compressed.  But the data in memory is in some sense a more true representation of the quantity of data available by the service.\n"
     ]
    },
    {
     "cell_type": "code",
     "collapsed": false,
     "input": [
      "from owslib.csw import CatalogueServiceWeb\n",
      "from owslib import fes\n",
      "import pandas as pd\n",
      "import datetime as dt\n",
      "import requests\n",
      "import re\n",
      "import time\n"
     ],
     "language": "python",
     "metadata": {},
     "outputs": [],
     "prompt_number": 85
    },
    {
     "cell_type": "code",
     "collapsed": false,
     "input": [
      "def service_urls(records,service_string='urn:x-esri:specification:ServiceType:odp:url'):\n",
      "    \"\"\"\n",
      "    Get all URLs matching a specific ServiceType \n",
      " \n",
      "    Unfortunately these seem to differ between different CSW-ISO services.\n",
      "    For example, OpenDAP is specified:\n",
      "    NODC geoportal: 'urn:x-esri:specification:ServiceType:OPeNDAP'\n",
      "    NGDC geoportal: 'urn:x-esri:specification:ServiceType:odp:url'\n",
      "    \"\"\"\n",
      "\n",
      "    urls=[]\n",
      "    for key,rec in records.iteritems():\n",
      "        #create a generator object, and iterate through it until the match is found\n",
      "        #if not found, gets the default value (here \"none\")\n",
      "        url = next((d['url'] for d in rec.references if d['scheme'] == service_string), None)\n",
      "        if url is not None:\n",
      "            urls.append(url)\n",
      "    return urls"
     ],
     "language": "python",
     "metadata": {},
     "outputs": [],
     "prompt_number": 2
    },
    {
     "cell_type": "markdown",
     "metadata": {},
     "source": [
      "## Find model results at NGDC"
     ]
    },
    {
     "cell_type": "code",
     "collapsed": false,
     "input": [
      "endpoint = 'http://www.ngdc.noaa.gov/geoportal/csw' #  NGDC/IOOS Geoportal\n",
      "csw = CatalogueServiceWeb(endpoint,timeout=60)\n",
      "csw.version"
     ],
     "language": "python",
     "metadata": {},
     "outputs": [
      {
       "metadata": {},
       "output_type": "pyout",
       "prompt_number": 5,
       "text": [
        "'2.0.2'"
       ]
      }
     ],
     "prompt_number": 5
    },
    {
     "cell_type": "code",
     "collapsed": false,
     "input": [
      "[op.name for op in csw.operations]"
     ],
     "language": "python",
     "metadata": {},
     "outputs": [
      {
       "metadata": {},
       "output_type": "pyout",
       "prompt_number": 6,
       "text": [
        "['GetCapabilities',\n",
        " 'DescribeRecord',\n",
        " 'GetRecords',\n",
        " 'GetRecordById',\n",
        " 'Transaction']"
       ]
      }
     ],
     "prompt_number": 6
    },
    {
     "cell_type": "code",
     "collapsed": false,
     "input": [
      "for oper in csw.operations:\n",
      "    if oper.name == 'GetRecords':\n",
      "        print oper.constraints"
     ],
     "language": "python",
     "metadata": {},
     "outputs": [
      {
       "output_type": "stream",
       "stream": "stdout",
       "text": [
        "[Constraint: SupportedCommonQueryables - ['Subject', 'Title', 'Abstract', 'AnyText', 'Format', 'Identifier', 'Modified', 'Type', 'BoundingBox'], Constraint: SupportedISOQueryables - ['apiso:Subject', 'apiso:Title', 'apiso:Abstract', 'apiso:AnyText', 'apiso:Format', 'apiso:Identifier', 'apiso:Modified', 'apiso:Type', 'apiso:BoundingBox', 'apiso:CRS.Authority', 'apiso:CRS.ID', 'apiso:CRS.Version', 'apiso:RevisionDate', 'apiso:AlternateTitle', 'apiso:CreationDate', 'apiso:PublicationDate', 'apiso:OrganizationName', 'apiso:HasSecurityConstraints', 'apiso:Language', 'apiso:ResourceIdentifier', 'apiso:ParentIdentifier', 'apiso:KeywordType', 'apiso:TopicCategory', 'apiso:ResourceLanguage', 'apiso:GeographicDescriptionCode', 'apiso:Denominator', 'apiso:DistanceValue', 'apiso:DistanceUOM', 'apiso:TempExtent_begin', 'apiso:TempExtent_end', 'apiso:ServiceType', 'apiso:ServiceTypeVersion', 'apiso:Operation', 'apiso:OperatesOn', 'apiso:OperatesOnIdentifier', 'apiso:OperatesOnName', 'apiso:CouplingType'], Constraint: AdditionalQueryables - ['apiso:Degree', 'apiso:AccessConstraints', 'apiso:OtherConstraints', 'apiso:Classification', 'apiso:ConditionApplyingToAccessAndUse', 'apiso:Lineage', 'apiso:ResponsiblePartyRole', 'apiso:ResponsiblePartyName', 'apiso:SpecificationTitle', 'apiso:SpecificationDate', 'apiso:SpecificationDateType']]\n"
       ]
      }
     ],
     "prompt_number": 12
    },
    {
     "cell_type": "markdown",
     "metadata": {},
     "source": [
      "Since the supported ISO queryables contain `apiso:ServiceType`, we can use CSW to find all datasets with services that contain the string \"dap\" "
     ]
    },
    {
     "cell_type": "code",
     "collapsed": false,
     "input": [
      "val = 'dap'\n",
      "service_type = fes.PropertyIsLike(propertyname='apiso:ServiceType',literal=('*%s*' % val),\n",
      "                        escapeChar='\\\\',wildCard='*',singleChar='?')\n",
      "filter_list = [ service_type]"
     ],
     "language": "python",
     "metadata": {},
     "outputs": [],
     "prompt_number": 4
    },
    {
     "cell_type": "code",
     "collapsed": false,
     "input": [
      "csw.getrecords2(constraints=filter_list,maxrecords=10000,esn='full')\n",
      "len(csw.records.keys())"
     ],
     "language": "python",
     "metadata": {},
     "outputs": [
      {
       "metadata": {},
       "output_type": "pyout",
       "prompt_number": 13,
       "text": [
        "2785"
       ]
      }
     ],
     "prompt_number": 13
    },
    {
     "cell_type": "markdown",
     "metadata": {},
     "source": [
      "By printing out the references from a random record, we see that for this CSW the DAP URL is identified by \n",
      "`urn:x-esri:specification:ServiceType:odp:url`"
     ]
    },
    {
     "cell_type": "code",
     "collapsed": false,
     "input": [
      "choice=random.choice(list(csw.records.keys()))\n",
      "print choice\n",
      "csw.records[choice].references"
     ],
     "language": "python",
     "metadata": {},
     "outputs": [
      {
       "output_type": "stream",
       "stream": "stdout",
       "text": [
        "CDIP_Archive/196p1/196p1_d01.nc\n"
       ]
      },
      {
       "metadata": {},
       "output_type": "pyout",
       "prompt_number": 14,
       "text": [
        "[{'scheme': 'urn:x-esri:specification:ServiceType:distribution:url',\n",
        "  'url': 'http://thredds.cdip.ucsd.edu/thredds/dodsC/cdip/archive/196p1/196p1_d01.nc.html'},\n",
        " {'scheme': 'urn:x-esri:specification:ServiceType:distribution:url',\n",
        "  'url': 'http://www.ncdc.noaa.gov/oa/wct/wct-jnlp-beta.php?singlefile=http://thredds.cdip.ucsd.edu/thredds/dodsC/cdip/archive/196p1/196p1_d01.nc'},\n",
        " {'scheme': 'urn:x-esri:specification:ServiceType:sos:url',\n",
        "  'url': 'http://thredds.cdip.ucsd.edu/thredds/sos/cdip/archive/196p1/196p1_d01.nc?service=SOS&version=1.0.0&request=GetCapabilities'},\n",
        " {'scheme': 'urn:x-esri:specification:ServiceType:odp:url',\n",
        "  'url': 'http://thredds.cdip.ucsd.edu/thredds/dodsC/cdip/archive/196p1/196p1_d01.nc'},\n",
        " {'scheme': 'urn:x-esri:specification:ServiceType:download:url',\n",
        "  'url': 'http://thredds.cdip.ucsd.edu/thredds/dodsC/cdip/archive/196p1/196p1_d01.nc.html'}]"
       ]
      }
     ],
     "prompt_number": 14
    },
    {
     "cell_type": "markdown",
     "metadata": {},
     "source": [
      "Get all the DAP endpoints"
     ]
    },
    {
     "cell_type": "code",
     "collapsed": false,
     "input": [
      "dap_urls = service_urls(csw.records,service_string='urn:x-esri:specification:ServiceType:odp:url')\n",
      "len(dap_urls)"
     ],
     "language": "python",
     "metadata": {},
     "outputs": [
      {
       "metadata": {},
       "output_type": "pyout",
       "prompt_number": 15,
       "text": [
        "2686"
       ]
      }
     ],
     "prompt_number": 15
    },
    {
     "cell_type": "code",
     "collapsed": false,
     "input": [
      "def calc_dsize(txt):\n",
      "    ''' \n",
      "    Calculate dataset size from the OPeNDAP DDS. \n",
      "    Approx method: Multiply 32|64 bit Int|Float variables by their shape.\n",
      "    '''\n",
      "    # split the OpenDAP DDS on ';' characters\n",
      "    all = re.split(';',txt)\n",
      "    '''\n",
      "    Use regex to find numbers following Float or Int (e.g. Float32, Int64)\n",
      "    and also numbers immediately preceding a \"]\".  The idea is that in line like:\n",
      "    \n",
      "    Float32 Total_precipitation_surface_6_Hour_Accumulation[time2 = 74][y = 303][x = 491];\n",
      "           \n",
      "    we want to find only the numbers that are not part of a variable or dimension name\n",
      "    (want to return [32, 74, 303, 491], *not* [32, 6, 2, 74, 303, 491])\n",
      "    '''\n",
      "    m = re.compile('\\d+(?=])|(?<=Float)\\d+|(?<=Int)\\d+')\n",
      "    dsize=0\n",
      "    for var in all:\n",
      "        c = map(int,m.findall(var))\n",
      "        if len(c)>=2:\n",
      "            vsize = reduce(lambda x,y: x*y,c)\n",
      "            dsize += vsize\n",
      "    \n",
      "    return dsize/1.0e6/8.   # return megabytes"
     ],
     "language": "python",
     "metadata": {},
     "outputs": [],
     "prompt_number": 17
    },
    {
     "cell_type": "code",
     "collapsed": false,
     "input": [
      "def tot_dsize(url,timeout=10):\n",
      "    das = url + '.dds'\n",
      "    tot = 0\n",
      "    try:\n",
      "        response = requests.get(das,verify=True, timeout=timeout)\n",
      "    except:\n",
      "        return tot, -1\n",
      "    if response.status_code==200:\n",
      "        # calculate the total size for all variables:\n",
      "        tot = calc_dsize(response.text)\n",
      "        # calculate the size for MAPS variables and subtract from the total:\n",
      "        maps = re.compile('MAPS:(.*?)}',re.MULTILINE | re.DOTALL)\n",
      "        map_text = ''.join(maps.findall(response.text))\n",
      "        if map_text:\n",
      "            map_tot = calc_dsize(map_text)\n",
      "            tot -= map_tot\n",
      "    \n",
      "    return tot,response.status_code"
     ],
     "language": "python",
     "metadata": {},
     "outputs": [],
     "prompt_number": 25
    },
    {
     "cell_type": "code",
     "collapsed": false,
     "input": [
      "from __future__ import print_function\n",
      "time0 = time.time()\n",
      "good_data=[]\n",
      "bad_data=[]\n",
      "count=0\n",
      "for url in dap_urls:\n",
      "    count += 1\n",
      "    dtot, status_code = tot_dsize(url,timeout=2)\n",
      "    if status_code==200:\n",
      "        good_data.append([url,dtot])\n",
      "        print('[{}]Good:{},{}'.format(count,url,dtot), end='\\r')\n",
      "    else:\n",
      "        bad_data.append([url,status_code])\n",
      "        print('[{}]Fail:{},{}'.format(count,url,status_code), end='\\r')\n",
      "    \n",
      "print('Elapsed time={} minutes'.format((time.time()-time0)/60.))"
     ],
     "language": "python",
     "metadata": {},
     "outputs": []
    },
    {
     "cell_type": "code",
     "collapsed": false,
     "input": [
      "print('Elapsed time={} minutes'.format((time.time()-time0)/60.))"
     ],
     "language": "python",
     "metadata": {},
     "outputs": [
      {
       "output_type": "stream",
       "stream": "stdout",
       "text": [
        "Elapsed time=33.3200285832 minutes\n"
       ]
      }
     ],
     "prompt_number": 34
    },
    {
     "cell_type": "code",
     "collapsed": false,
     "input": [
      "len(good_data)"
     ],
     "language": "python",
     "metadata": {},
     "outputs": [
      {
       "metadata": {},
       "output_type": "pyout",
       "prompt_number": 22,
       "text": [
        "1547"
       ]
      }
     ],
     "prompt_number": 22
    },
    {
     "cell_type": "code",
     "collapsed": false,
     "input": [
      "len(bad_data)"
     ],
     "language": "python",
     "metadata": {},
     "outputs": [
      {
       "metadata": {},
       "output_type": "pyout",
       "prompt_number": 23,
       "text": [
        "1139"
       ]
      }
     ],
     "prompt_number": 23
    },
    {
     "cell_type": "code",
     "collapsed": false,
     "input": [
      "bad_data[0][0]"
     ],
     "language": "python",
     "metadata": {},
     "outputs": [
      {
       "metadata": {},
       "output_type": "pyout",
       "prompt_number": 35,
       "text": [
        "'http://www.neracoos.org/thredds/dodsC/UMO/DSG/SOS/A01/Doppler/HistoricRealtime/Agg.ncml'"
       ]
      }
     ],
     "prompt_number": 35
    },
    {
     "cell_type": "markdown",
     "metadata": {},
     "source": [
      "Loop through the datasets that failed in the 2 second timeout to see if any of them work with a 10 second timeout"
     ]
    },
    {
     "cell_type": "code",
     "collapsed": false,
     "input": [
      "time0 = time.time()\n",
      "good_data2=[]\n",
      "bad_data2=[]\n",
      "count=0\n",
      "for item in bad_data:\n",
      "    url = item[0]\n",
      "    count += 1\n",
      "    dtot, status_code = tot_dsize(url,timeout=10)\n",
      "    if status_code==200:\n",
      "        good_data2.append([url,dtot])\n",
      "        print('[{}]Good:{},{}'.format(count,url,dtot), end='\\r')\n",
      "    else:\n",
      "        bad_data2.append([url,status_code])\n",
      "        print('[{}]Fail:{},{}'.format(count,url,status_code), end='\\r')\n",
      "    \n",
      "print('Elapsed time={} minutes'.format((time.time()-time0)/60.))"
     ],
     "language": "python",
     "metadata": {},
     "outputs": [
      {
       "output_type": "stream",
       "stream": "stdout",
       "text": [
        "[1]Fail:http://www.neracoos.org/thredds/dodsC/UMO/DSG/SOS/A01/Doppler/HistoricRealtime/Agg.ncml,404\r",
        "[2]Fail:http://www.neracoos.org/thredds/dodsC/UMO/DSG/SOS/B01/Doppler/HistoricRealtime/Agg.ncml,404\r",
        "[3]Fail:http://www.neracoos.org/thredds/dodsC/UMO/DSG/SOS/C02/Doppler/HistoricRealtime/Agg.ncml,404"
       ]
      },
      {
       "output_type": "stream",
       "stream": "stdout",
       "text": [
        "\r",
        "[4]Fail:http://www.neracoos.org/thredds/dodsC/UMO/DSG/SOS/E01/Doppler/HistoricRealtime/Agg.ncml,404\r",
        "[5]Fail:http://www.neracoos.org/thredds/dodsC/UMO/DSG/SOS/F01/Doppler/HistoricRealtime/Agg.ncml,404"
       ]
      },
      {
       "output_type": "stream",
       "stream": "stdout",
       "text": [
        "\r",
        "[6]Fail:http://www.neracoos.org/thredds/dodsC/UMO/DSG/SOS/I01/Doppler/HistoricRealtime/Agg.ncml,404\r",
        "[7]Fail:http://www.neracoos.org/thredds/dodsC/UMO/DSG/SOS/L01/Doppler/HistoricRealtime/Agg.ncml,404"
       ]
      },
      {
       "output_type": "stream",
       "stream": "stdout",
       "text": [
        "\r",
        "[8]Fail:http://www.neracoos.org/thredds/dodsC/UMO/DSG/SOS/M01/Doppler/HistoricRealtime/Agg.ncml,404\r",
        "[9]Fail:http://www.neracoos.org/thredds/dodsC/UMO/DSG/SOS/N01/Doppler/HistoricRealtime/Agg.ncml,404"
       ]
      },
      {
       "output_type": "stream",
       "stream": "stdout",
       "text": [
        "\r",
        "[10]Fail:http://sos.maracoos.org/thredds/dodsC/agg/rutgersespresso/agg.nc,500"
       ]
      },
      {
       "output_type": "stream",
       "stream": "stdout",
       "text": [
        "\r",
        "[11]Fail:http://thredds.axiomalaska.com/thredds/dodsC/HIRE_WEST_CONUS.nc,404"
       ]
      },
      {
       "output_type": "stream",
       "stream": "stdout",
       "text": [
        "\r",
        "[12]Fail:http://thredds.axiomalaska.com/thredds/dodsC/NAM_12_CONUS.nc,404"
       ]
      },
      {
       "output_type": "stream",
       "stream": "stdout",
       "text": [
        "\r",
        "[13]Fail:http://thredds.axiomalaska.com/thredds/dodsC/WRF_MPH.nc,-1"
       ]
      },
      {
       "output_type": "stream",
       "stream": "stdout",
       "text": [
        "\r",
        "[14]Fail:http://thredds.coastal.ufl.edu:8080/thredds/dodsC/CH3D-SSMS/EastCoast/2D/NAM-FC/EASTCOAST-2D-NAM_fmrc.ncd,404"
       ]
      },
      {
       "output_type": "stream",
       "stream": "stdout",
       "text": [
        "\r",
        "[15]Fail:http://thredds.coastal.ufl.edu:8080/thredds/dodsC/CH3D-SSMS/EastCoast/3D/NAM-FC/EASTCOAST-3D-NAM_fmrc.ncd,404"
       ]
      },
      {
       "output_type": "stream",
       "stream": "stdout",
       "text": [
        "\r",
        "[16]Fail:http://thredds.coastal.ufl.edu:8080/thredds/dodsC/CH3D-SSMS/NorthernGulf/2D/NAM-FC/NORTHERNGULF-2D-NAM_fmrc.ncd,404"
       ]
      },
      {
       "output_type": "stream",
       "stream": "stdout",
       "text": [
        "\r",
        "[17]Fail:http://thredds.coastal.ufl.edu:8080/thredds/dodsC/CH3D-SSMS/NorthernGulf/3D/NAM-FC/NORTHERNGULF-3D-NAM_fmrc.ncd,404"
       ]
      },
      {
       "output_type": "stream",
       "stream": "stdout",
       "text": [
        "\r",
        "[18]Fail:http://thredds.coastal.ufl.edu:8080/thredds/dodsC/CH3D-SSMS/Southeast/2D/NAM-FC/SOUTHEAST-2D-NAM_fmrc.ncd,404"
       ]
      },
      {
       "output_type": "stream",
       "stream": "stdout",
       "text": [
        "\r",
        "[19]Fail:http://thredds.coastal.ufl.edu:8080/thredds/dodsC/CH3D-SSMS/Southeast/3D/NAM-FC/SOUTHEAST-3D-NAM_fmrc.ncd,404"
       ]
      },
      {
       "output_type": "stream",
       "stream": "stdout",
       "text": [
        "\r",
        "[20]Fail:http://thredds.coastal.ufl.edu:8080/thredds/dodsC/CH3D-SSMS/Southwest/2D/NAM-FC/SOUTHWEST-2D-NAM_fmrc.ncd,404"
       ]
      },
      {
       "output_type": "stream",
       "stream": "stdout",
       "text": [
        "\r",
        "[21]Fail:http://thredds.coastal.ufl.edu:8080/thredds/dodsC/CH3D-SSMS/Southwest/3D/NAM-FC/SOUTHWEST-3D-NAM_fmrc.ncd,404"
       ]
      },
      {
       "output_type": "stream",
       "stream": "stdout",
       "text": [
        "\r",
        "[22]Fail:http://tds.secoora.org/thredds/dodsC/carocoops.sun2.buoy.nc,404"
       ]
      },
      {
       "output_type": "stream",
       "stream": "stdout",
       "text": [
        "\r",
        "[23]Fail:http://tds.secoora.org/thredds/dodsC/cormp.ocp1.buoy.nc,-1"
       ]
      },
      {
       "output_type": "stream",
       "stream": "stdout",
       "text": [
        "\r",
        "[24]Fail:http://tds.secoora.org/thredds/dodsC/longbay.nc,-1"
       ]
      },
      {
       "output_type": "stream",
       "stream": "stdout",
       "text": [
        "\r",
        "[25]Good:http://tds.secoora.org/thredds/dodsC/miami_wera.nc,4.074212"
       ]
      },
      {
       "output_type": "stream",
       "stream": "stdout",
       "text": [
        "\r",
        "[26]Good:http://tds.secoora.org/thredds/dodsC/savannah.nc,500.401204"
       ]
      },
      {
       "output_type": "stream",
       "stream": "stdout",
       "text": [
        "\r",
        "[27]Fail:http://thredds.axiomalaska.com/thredds/dodsC/MASIE.nc,-1"
       ]
      },
      {
       "output_type": "stream",
       "stream": "stdout",
       "text": [
        "\r",
        "[28]Good:http://thredds.axiomalaska.com/thredds/dodsC/TAMU_SWAN_PWS.nc,755.230388"
       ]
      },
      {
       "output_type": "stream",
       "stream": "stdout",
       "text": [
        "\r",
        "[29]Fail:http://dm2.caricoos.org/thredds/dodsC/content/swan/201407071200.nc,404"
       ]
      },
      {
       "output_type": "stream",
       "stream": "stdout",
       "text": [
        "\r",
        "[30]Fail:http://dm2.caricoos.org/thredds/dodsC/content/swan/201407081200.nc,404"
       ]
      },
      {
       "output_type": "stream",
       "stream": "stdout",
       "text": [
        "\r",
        "[31]Fail:http://dm2.caricoos.org/thredds/dodsC/content/swan/201407091200.nc,404"
       ]
      },
      {
       "output_type": "stream",
       "stream": "stdout",
       "text": [
        "\r",
        "[32]Fail:http://dm2.caricoos.org/thredds/dodsC/content/swan/201407101200.nc,404"
       ]
      },
      {
       "output_type": "stream",
       "stream": "stdout",
       "text": [
        "\r",
        "[33]Fail:http://dm2.caricoos.org/thredds/dodsC/content/swan/201407111200.nc,404"
       ]
      },
      {
       "output_type": "stream",
       "stream": "stdout",
       "text": [
        "\r",
        "[34]Fail:http://dm2.caricoos.org/thredds/dodsC/content/swan/201407121200.nc,404"
       ]
      },
      {
       "output_type": "stream",
       "stream": "stdout",
       "text": [
        "\r",
        "[35]Fail:http://dm2.caricoos.org/thredds/dodsC/content/swan/201407131200.nc,404"
       ]
      },
      {
       "output_type": "stream",
       "stream": "stdout",
       "text": [
        "\r",
        "[36]Fail:http://dm2.caricoos.org/thredds/dodsC/content/swan/201407151200.nc,404"
       ]
      },
      {
       "output_type": "stream",
       "stream": "stdout",
       "text": [
        "\r",
        "[37]Fail:http://dm2.caricoos.org/thredds/dodsC/content/swan/201407161200.nc,404"
       ]
      },
      {
       "output_type": "stream",
       "stream": "stdout",
       "text": [
        "\r",
        "[38]Fail:http://ecowatch.ncddc.noaa.gov/thredds/dodsC/onomads/rtofs/rtofs_surface_agg/best,404"
       ]
      },
      {
       "output_type": "stream",
       "stream": "stdout",
       "text": [
        "\r",
        "[39]Fail:http://ecowatch.ncddc.noaa.gov/thredds/dodsC/onomads/rtofs/rtofs_volume_agg/best,404"
       ]
      },
      {
       "output_type": "stream",
       "stream": "stdout",
       "text": [
        "\r",
        "[40]Fail:http://dm2.caricoos.org/thredds/dodsC/content/swan/201407171200.nc,404"
       ]
      },
      {
       "output_type": "stream",
       "stream": "stdout",
       "text": [
        "\r",
        "[41]Fail:http://dm2.caricoos.org/thredds/dodsC/content/swan/201407181200.nc,404"
       ]
      },
      {
       "output_type": "stream",
       "stream": "stdout",
       "text": [
        "\r",
        "[42]Fail:http://dm2.caricoos.org/thredds/dodsC/content/swan/201407191200.nc,404"
       ]
      },
      {
       "output_type": "stream",
       "stream": "stdout",
       "text": [
        "\r",
        "[43]Fail:http://dm2.caricoos.org/thredds/dodsC/content/swan/201407201200.nc,404"
       ]
      },
      {
       "output_type": "stream",
       "stream": "stdout",
       "text": [
        "\r",
        "[44]Fail:http://comt.sura.org/thredds/dodsC/data/comt_1_archive/inundation_tropical/UND_ADCIRC/Hurricane_Ike_2D_preliminary_run_6_without_waves_and_advection_implicit_1s,500"
       ]
      },
      {
       "output_type": "stream",
       "stream": "stdout",
       "text": [
        "\r",
        "[45]Fail:http://comt.sura.org/thredds/dodsC/data/comt_1_archive/inundation_tropical/UND_ADCIRC/Hurricane_Ike_2D_preliminary_run_7_with_waves_without_advection_implicit_1s,500"
       ]
      },
      {
       "output_type": "stream",
       "stream": "stdout",
       "text": [
        "\r",
        "[46]Fail:http://comt.sura.org/thredds/dodsC/data/comt_1_archive/inundation_tropical/UND_ADCIRC/Hurricane_Ike_2D_preliminary_run_8_with_waves_and_levees,500"
       ]
      },
      {
       "output_type": "stream",
       "stream": "stdout",
       "text": [
        "\r",
        "[47]Fail:http://comt.sura.org/thredds/dodsC/data/comt_1_archive/inundation_tropical/UND_ADCIRC/Hurricane_Ike_2D_preliminary_run_9_with_waves_and_levees_and_river_flow,500"
       ]
      },
      {
       "output_type": "stream",
       "stream": "stdout",
       "text": [
        "\r",
        "[48]Fail:http://dm2.caricoos.org/thredds/dodsC/content/swan/201407211200.nc,404"
       ]
      },
      {
       "output_type": "stream",
       "stream": "stdout",
       "text": [
        "\r",
        "[49]Fail:http://dm2.caricoos.org/thredds/dodsC/content/swan/201407221200.nc,404"
       ]
      },
      {
       "output_type": "stream",
       "stream": "stdout",
       "text": [
        "\r",
        "[50]Fail:http://dm2.caricoos.org/thredds/dodsC/content/swan/201407230000.nc,404"
       ]
      },
      {
       "output_type": "stream",
       "stream": "stdout",
       "text": [
        "\r",
        "[51]Fail:http://dm2.caricoos.org/thredds/dodsC/content/swan/201407240000.nc,404"
       ]
      },
      {
       "output_type": "stream",
       "stream": "stdout",
       "text": [
        "\r",
        "[52]Fail:http://dm2.caricoos.org/thredds/dodsC/content/swan/201407250000.nc,404"
       ]
      },
      {
       "output_type": "stream",
       "stream": "stdout",
       "text": [
        "\r",
        "[53]Fail:http://dm2.caricoos.org/thredds/dodsC/content/swan/201407260000.nc,404"
       ]
      },
      {
       "output_type": "stream",
       "stream": "stdout",
       "text": [
        "\r",
        "[54]Fail:http://dm2.caricoos.org/thredds/dodsC/content/swan/201407281200.nc,404"
       ]
      },
      {
       "output_type": "stream",
       "stream": "stdout",
       "text": [
        "\r",
        "[55]Fail:http://dm2.caricoos.org/thredds/dodsC/content/swan/201407301200.nc,404"
       ]
      },
      {
       "output_type": "stream",
       "stream": "stdout",
       "text": [
        "\r",
        "[56]Fail:http://dm2.caricoos.org/thredds/dodsC/content/swan/201407311200.nc,404"
       ]
      },
      {
       "output_type": "stream",
       "stream": "stdout",
       "text": [
        "\r",
        "[57]Fail:http://dm2.caricoos.org/thredds/dodsC/content/swan/201408011200.nc,404"
       ]
      },
      {
       "output_type": "stream",
       "stream": "stdout",
       "text": [
        "\r",
        "[58]Fail:http://dm2.caricoos.org/thredds/dodsC/content/swan/201408021200.nc,404"
       ]
      },
      {
       "output_type": "stream",
       "stream": "stdout",
       "text": [
        "\r",
        "[59]Fail:http://dm2.caricoos.org/thredds/dodsC/content/swan/201408031200.nc,404"
       ]
      },
      {
       "output_type": "stream",
       "stream": "stdout",
       "text": [
        "\r",
        "[60]Fail:http://dm2.caricoos.org/thredds/dodsC/content/swan/201408041200.nc,404"
       ]
      },
      {
       "output_type": "stream",
       "stream": "stdout",
       "text": [
        "\r",
        "[61]Fail:http://dm2.caricoos.org/thredds/dodsC/content/swan/201408061200.nc,404"
       ]
      },
      {
       "output_type": "stream",
       "stream": "stdout",
       "text": [
        "\r",
        "[62]Fail:http://dm2.caricoos.org/thredds/dodsC/content/swan/201408071200.nc,404"
       ]
      },
      {
       "output_type": "stream",
       "stream": "stdout",
       "text": [
        "\r",
        "[63]Fail:http://dm2.caricoos.org/thredds/dodsC/content/swan/201408081200.nc,404"
       ]
      },
      {
       "output_type": "stream",
       "stream": "stdout",
       "text": [
        "\r",
        "[64]Fail:http://dm2.caricoos.org/thredds/dodsC/content/swan/201408091200.nc,404"
       ]
      },
      {
       "output_type": "stream",
       "stream": "stdout",
       "text": [
        "\r",
        "[65]Fail:http://dm2.caricoos.org/thredds/dodsC/content/swan/201408101200.nc,404"
       ]
      },
      {
       "output_type": "stream",
       "stream": "stdout",
       "text": [
        "\r",
        "[66]Fail:http://dm2.caricoos.org/thredds/dodsC/content/swan/201408111200.nc,404"
       ]
      },
      {
       "output_type": "stream",
       "stream": "stdout",
       "text": [
        "\r",
        "[67]Fail:http://dm2.caricoos.org/thredds/dodsC/content/swan/201408120000.nc,404"
       ]
      },
      {
       "output_type": "stream",
       "stream": "stdout",
       "text": [
        "\r",
        "[68]Fail:http://thredds.ucar.edu/thredds/dodsC/grib/NCEP/NAM/Firewxnest/Best/LambertConformal_366X509-38p98N-106p0W,404"
       ]
      },
      {
       "output_type": "stream",
       "stream": "stdout",
       "text": [
        "\r",
        "[69]Fail:http://thredds.ucar.edu/thredds/dodsC/grib/Unidata/NMM/Primary/Best/LambertConformal_155X201-32p88N-79p44W,404"
       ]
      },
      {
       "output_type": "stream",
       "stream": "stdout",
       "text": [
        "\r",
        "[70]Fail:http://thredds.ucar.edu/thredds/dodsC/grib/Unidata/NMM/Primary/Best/LambertConformal_155X201-33p07N-79p15W,404"
       ]
      },
      {
       "output_type": "stream",
       "stream": "stdout",
       "text": [
        "\r",
        "[71]Fail:http://thredds.ucar.edu/thredds/dodsC/grib/Unidata/NMM/Primary/Best/LambertConformal_155X201-33p37N-78p85W,404"
       ]
      },
      {
       "output_type": "stream",
       "stream": "stdout",
       "text": [
        "\r",
        "[72]Fail:http://thredds.ucar.edu/thredds/dodsC/grib/Unidata/NMM/Primary/Best/LambertConformal_155X201-34p20N-77p41W,404"
       ]
      },
      {
       "output_type": "stream",
       "stream": "stdout",
       "text": [
        "\r",
        "[73]Fail:http://thredds.ucar.edu/thredds/dodsC/grib/Unidata/NMM/Primary/Best/LambertConformal_155X201-34p51N-78p29W,404"
       ]
      },
      {
       "output_type": "stream",
       "stream": "stdout",
       "text": [
        "\r",
        "[74]Fail:http://thredds.ucar.edu/thredds/dodsC/grib/Unidata/NMM/Primary/Best/LambertConformal_155X201-34p71N-77p06W,404"
       ]
      },
      {
       "output_type": "stream",
       "stream": "stdout",
       "text": [
        "\r",
        "[75]Fail:http://thredds.ucar.edu/thredds/dodsC/grib/Unidata/NMM/Primary/Best/LambertConformal_155X201-34p77N-82p48W,404"
       ]
      },
      {
       "output_type": "stream",
       "stream": "stdout",
       "text": [
        "\r",
        "[76]Fail:http://thredds.ucar.edu/thredds/dodsC/grib/Unidata/NMM/Primary/Best/LambertConformal_155X201-34p81N-93p67W,404"
       ]
      },
      {
       "output_type": "stream",
       "stream": "stdout",
       "text": [
        "\r",
        "[77]Fail:http://thredds.ucar.edu/thredds/dodsC/grib/Unidata/NMM/Primary/Best/LambertConformal_155X201-34p89N-104p0W,404"
       ]
      },
      {
       "output_type": "stream",
       "stream": "stdout",
       "text": [
        "\r",
        "[78]Fail:http://thredds.ucar.edu/thredds/dodsC/grib/Unidata/NMM/Primary/Best/LambertConformal_155X201-34p92N-93p27W,404"
       ]
      },
      {
       "output_type": "stream",
       "stream": "stdout",
       "text": [
        "\r",
        "[79]Fail:http://thredds.ucar.edu/thredds/dodsC/grib/Unidata/NMM/Primary/Best/LambertConformal_155X201-35p03N-94p59W,404"
       ]
      },
      {
       "output_type": "stream",
       "stream": "stdout",
       "text": [
        "\r",
        "[80]Fail:http://thredds.ucar.edu/thredds/dodsC/grib/Unidata/NMM/Primary/Best/LambertConformal_155X201-35p36N-80p42W,404"
       ]
      },
      {
       "output_type": "stream",
       "stream": "stdout",
       "text": [
        "\r",
        "[81]Fail:http://thredds.ucar.edu/thredds/dodsC/grib/Unidata/NMM/Primary/Best/LambertConformal_155X201-35p40N-80p81W,404"
       ]
      },
      {
       "output_type": "stream",
       "stream": "stdout",
       "text": [
        "\r",
        "[82]Fail:http://thredds.ucar.edu/thredds/dodsC/grib/Unidata/NMM/Primary/Best/LambertConformal_155X201-35p57N-96p57W,404"
       ]
      },
      {
       "output_type": "stream",
       "stream": "stdout",
       "text": [
        "\r",
        "[83]Fail:http://thredds.ucar.edu/thredds/dodsC/grib/Unidata/NMM/Primary/Best/LambertConformal_155X201-35p68N-94p45W,404"
       ]
      },
      {
       "output_type": "stream",
       "stream": "stdout",
       "text": [
        "\r",
        "[84]Fail:http://thredds.ucar.edu/thredds/dodsC/grib/Unidata/NMM/Primary/Best/LambertConformal_155X201-35p70N-80p51W,404"
       ]
      },
      {
       "output_type": "stream",
       "stream": "stdout",
       "text": [
        "\r",
        "[85]Fail:http://thredds.ucar.edu/thredds/dodsC/grib/Unidata/NMM/Primary/Best/LambertConformal_155X201-35p80N-83p16W,404"
       ]
      },
      {
       "output_type": "stream",
       "stream": "stdout",
       "text": [
        "\r",
        "[86]Fail:http://thredds.ucar.edu/thredds/dodsC/grib/Unidata/NMM/Primary/Best/LambertConformal_155X201-36p23N-81p77W,404"
       ]
      },
      {
       "output_type": "stream",
       "stream": "stdout",
       "text": [
        "\r",
        "[87]Fail:http://thredds.ucar.edu/thredds/dodsC/grib/Unidata/NMM/Primary/Best/LambertConformal_155X201-36p29N-75p73W,404"
       ]
      },
      {
       "output_type": "stream",
       "stream": "stdout",
       "text": [
        "\r",
        "[88]Fail:http://thredds.ucar.edu/thredds/dodsC/grib/Unidata/NMM/Primary/Best/LambertConformal_155X201-36p32N-79p08W,404"
       ]
      },
      {
       "output_type": "stream",
       "stream": "stdout",
       "text": [
        "\r",
        "[89]Fail:http://thredds.ucar.edu/thredds/dodsC/grib/Unidata/NMM/Primary/Best/LambertConformal_155X201-36p43N-80p28W,404"
       ]
      },
      {
       "output_type": "stream",
       "stream": "stdout",
       "text": [
        "\r",
        "[90]Fail:http://thredds.ucar.edu/thredds/dodsC/grib/Unidata/NMM/Primary/Best/LambertConformal_155X201-36p61N-98p46W,404"
       ]
      },
      {
       "output_type": "stream",
       "stream": "stdout",
       "text": [
        "\r",
        "[91]Fail:http://thredds.ucar.edu/thredds/dodsC/grib/Unidata/NMM/Primary/Best/LambertConformal_155X201-36p71N-81p04W,404"
       ]
      },
      {
       "output_type": "stream",
       "stream": "stdout",
       "text": [
        "\r",
        "[92]Fail:http://thredds.ucar.edu/thredds/dodsC/grib/Unidata/NMM/Primary/Best/LambertConformal_155X201-36p87N-76p03W,404"
       ]
      },
      {
       "output_type": "stream",
       "stream": "stdout",
       "text": [
        "\r",
        "[93]Fail:http://thredds.ucar.edu/thredds/dodsC/grib/Unidata/NMM/Primary/Best/LambertConformal_155X201-36p93N-79p80W,404"
       ]
      },
      {
       "output_type": "stream",
       "stream": "stdout",
       "text": [
        "\r",
        "[94]Fail:http://thredds.ucar.edu/thredds/dodsC/grib/Unidata/NMM/Primary/Best/LambertConformal_155X201-36p93N-98p87W,404"
       ]
      },
      {
       "output_type": "stream",
       "stream": "stdout",
       "text": [
        "\r",
        "[95]Fail:http://thredds.ucar.edu/thredds/dodsC/grib/Unidata/NMM/Primary/Best/LambertConformal_155X201-37p01N-99p68W,404"
       ]
      },
      {
       "output_type": "stream",
       "stream": "stdout",
       "text": [
        "\r",
        "[96]Fail:http://thredds.ucar.edu/thredds/dodsC/grib/Unidata/NMM/Primary/Best/LambertConformal_155X201-37p52N-100p7W,404"
       ]
      },
      {
       "output_type": "stream",
       "stream": "stdout",
       "text": [
        "\r",
        "[97]Fail:http://thredds.ucar.edu/thredds/dodsC/grib/Unidata/NMM/Primary/Best/LambertConformal_155X201-37p73N-89p17W,404"
       ]
      },
      {
       "output_type": "stream",
       "stream": "stdout",
       "text": [
        "\r",
        "[98]Fail:http://thredds.ucar.edu/thredds/dodsC/grib/Unidata/NMM/Primary/Best/LambertConformal_155X201-38p13N-86p16W,404"
       ]
      },
      {
       "output_type": "stream",
       "stream": "stdout",
       "text": [
        "\r",
        "[99]Fail:http://thredds.ucar.edu/thredds/dodsC/grib/Unidata/NMM/Primary/Best/LambertConformal_155X201-38p54N-88p18W,404"
       ]
      },
      {
       "output_type": "stream",
       "stream": "stdout",
       "text": [
        "\r",
        "[100]Fail:http://thredds.ucar.edu/thredds/dodsC/grib/Unidata/NMM/Primary/Best/LambertConformal_155X201-38p59N-76p96W,404"
       ]
      },
      {
       "output_type": "stream",
       "stream": "stdout",
       "text": [
        "\r",
        "[101]Fail:http://thredds.ucar.edu/thredds/dodsC/grib/Unidata/NMM/Primary/Best/LambertConformal_155X201-39p46N-81p92W,404"
       ]
      },
      {
       "output_type": "stream",
       "stream": "stdout",
       "text": [
        "\r",
        "[102]Fail:http://thredds.ucar.edu/thredds/dodsC/grib/Unidata/NMM/Primary/Best/LambertConformal_155X201-39p94N-93p05W,404"
       ]
      },
      {
       "output_type": "stream",
       "stream": "stdout",
       "text": [
        "\r",
        "[103]Fail:http://thredds.ucar.edu/thredds/dodsC/grib/Unidata/NMM/Primary/Best/LambertConformal_155X201-40p11N-90p56W,404"
       ]
      },
      {
       "output_type": "stream",
       "stream": "stdout",
       "text": [
        "\r",
        "[104]Fail:http://thredds.ucar.edu/thredds/dodsC/grib/Unidata/NMM/Primary/Best/LambertConformal_155X201-40p67N-92p48W,404"
       ]
      },
      {
       "output_type": "stream",
       "stream": "stdout",
       "text": [
        "\r",
        "[105]Fail:http://thredds.ucar.edu/thredds/dodsC/grib/Unidata/NMM/Primary/Best/LambertConformal_155X201-40p79N-94p01W,404"
       ]
      },
      {
       "output_type": "stream",
       "stream": "stdout",
       "text": [
        "\r",
        "[106]Fail:http://thredds.ucar.edu/thredds/dodsC/grib/Unidata/NMM/Primary/Best/LambertConformal_155X201-41p07N-91p22W,404"
       ]
      },
      {
       "output_type": "stream",
       "stream": "stdout",
       "text": [
        "\r",
        "[107]Fail:http://thredds.ucar.edu/thredds/dodsC/grib/Unidata/NMM/Primary/Best/LambertConformal_155X201-41p69N-85p30W,404"
       ]
      },
      {
       "output_type": "stream",
       "stream": "stdout",
       "text": [
        "\r",
        "[108]Fail:http://thredds.ucar.edu/thredds/dodsC/grib/Unidata/NMM/Primary/Best/LambertConformal_155X201-41p70N-80p65W,404"
       ]
      },
      {
       "output_type": "stream",
       "stream": "stdout",
       "text": [
        "\r",
        "[109]Fail:http://thredds.ucar.edu/thredds/dodsC/grib/Unidata/NMM/Primary/Best/LambertConformal_155X201-42p11N-83p56W,404"
       ]
      },
      {
       "output_type": "stream",
       "stream": "stdout",
       "text": [
        "\r",
        "[110]Fail:http://thredds.ucar.edu/thredds/dodsC/grib/Unidata/NMM/Primary/Best/LambertConformal_155X201-42p15N-77p46W,404"
       ]
      },
      {
       "output_type": "stream",
       "stream": "stdout",
       "text": [
        "\r",
        "[111]Fail:http://thredds.ucar.edu/thredds/dodsC/grib/Unidata/NMM/Primary/Best/LambertConformal_155X201-42p16N-93p99W,404"
       ]
      },
      {
       "output_type": "stream",
       "stream": "stdout",
       "text": [
        "\r",
        "[112]Fail:http://thredds.ucar.edu/thredds/dodsC/grib/Unidata/NMM/Primary/Best/LambertConformal_155X201-42p23N-91p46W,404"
       ]
      },
      {
       "output_type": "stream",
       "stream": "stdout",
       "text": [
        "\r",
        "[113]Fail:http://thredds.ucar.edu/thredds/dodsC/grib/Unidata/NMM/Primary/Best/LambertConformal_155X201-42p53N-76p97W,404"
       ]
      },
      {
       "output_type": "stream",
       "stream": "stdout",
       "text": [
        "\r",
        "[114]Fail:http://thredds.ucar.edu/thredds/dodsC/grib/Unidata/NMM/Primary/Best/LambertConformal_155X201-42p53N-79p25W,404"
       ]
      },
      {
       "output_type": "stream",
       "stream": "stdout",
       "text": [
        "\r",
        "[115]Fail:http://thredds.ucar.edu/thredds/dodsC/grib/Unidata/NMM/Primary/Best/LambertConformal_155X201-42p68N-95p12W,404"
       ]
      },
      {
       "output_type": "stream",
       "stream": "stdout",
       "text": [
        "\r",
        "[116]Fail:http://thredds.ucar.edu/thredds/dodsC/grib/Unidata/NMM/Primary/Best/LambertConformal_155X201-42p99N-96p40W,404"
       ]
      },
      {
       "output_type": "stream",
       "stream": "stdout",
       "text": [
        "\r",
        "[117]Fail:http://thredds.ucar.edu/thredds/dodsC/grib/Unidata/NMM/Primary/Best/LambertConformal_155X201-43p47N-81p97W,404"
       ]
      },
      {
       "output_type": "stream",
       "stream": "stdout",
       "text": [
        "\r",
        "[118]Fail:http://thredds.ucar.edu/thredds/dodsC/grib/Unidata/NMM/Primary/Best/LambertConformal_155X201-44p21N-74p04W,404"
       ]
      },
      {
       "output_type": "stream",
       "stream": "stdout",
       "text": [
        "\r",
        "[119]Fail:http://thredds.ucar.edu/thredds/dodsC/grib/Unidata/NMM/Primary/Best/LambertConformal_155X201-44p89N-73p60W,404"
       ]
      },
      {
       "output_type": "stream",
       "stream": "stdout",
       "text": [
        "\r",
        "[120]Fail:http://thredds.ucar.edu/thredds/dodsC/grib/Unidata/NMM/Primary/Best/LambertConformal_155X201-46p43N-83p04W,404"
       ]
      },
      {
       "output_type": "stream",
       "stream": "stdout",
       "text": [
        "\r",
        "[121]Fail:http://thredds.ucar.edu/thredds/dodsC/grib/Unidata/NMM/Primary/Best/LambertConformal_155X201-47p12N-84p44W,404"
       ]
      },
      {
       "output_type": "stream",
       "stream": "stdout",
       "text": [
        "\r",
        "[122]Fail:http://thredds.ucar.edu/thredds/dodsC/grib/Unidata/NMM/Primary/Best/LambertConformal_155X201-47p21N-69p74W,404"
       ]
      },
      {
       "output_type": "stream",
       "stream": "stdout",
       "text": [
        "\r",
        "[123]Fail:http://thredds.ucar.edu/thredds/dodsC/grib/Unidata/NMM/Primary/Best/LambertConformal_155X201-47p39N-69p54W,404"
       ]
      },
      {
       "output_type": "stream",
       "stream": "stdout",
       "text": [
        "\r",
        "[124]Fail:http://thredds.ucar.edu/thredds/dodsC/grib/Unidata/NMM/Primary/Best/LambertConformal_155X201-47p79N-93p19W,404"
       ]
      },
      {
       "output_type": "stream",
       "stream": "stdout",
       "text": [
        "\r",
        "[125]Fail:http://thredds.ucar.edu/thredds/dodsC/grib/Unidata/NMM/Primary/Best/LambertConformal_155X201-48p09N-93p03W,404"
       ]
      },
      {
       "output_type": "stream",
       "stream": "stdout",
       "text": [
        "\r",
        "[126]Fail:http://thredds.ucar.edu/thredds/dodsC/grib/Unidata/NMM/Primary/Best/LambertConformal_155X201-48p25N-90p17W,404"
       ]
      },
      {
       "output_type": "stream",
       "stream": "stdout",
       "text": [
        "\r",
        "[127]Fail:http://thredds.ucar.edu/thredds/dodsC/grib/Unidata/NMM/Primary/Best/LambertConformal_155X201-48p26N-90p78W,404"
       ]
      },
      {
       "output_type": "stream",
       "stream": "stdout",
       "text": [
        "\r",
        "[128]Fail:http://thredds.ucar.edu/thredds/dodsC/grib/Unidata/NMM/Primary/Best/LambertConformal_155X201-48p46N-104p9W,404"
       ]
      },
      {
       "output_type": "stream",
       "stream": "stdout",
       "text": [
        "\r",
        "[129]Fail:http://thredds.ucar.edu/thredds/dodsC/grib/Unidata/NMM/Primary/Best/LambertConformal_155X201-48p81N-86p21W,404"
       ]
      },
      {
       "output_type": "stream",
       "stream": "stdout",
       "text": [
        "\r",
        "[130]Fail:http://thredds.ucar.edu/thredds/dodsC/grib/Unidata/NMM/Primary/Best/LambertConformal_155X201-48p82N-86p51W,404"
       ]
      },
      {
       "output_type": "stream",
       "stream": "stdout",
       "text": [
        "\r",
        "[131]Fail:http://thredds.ucar.edu/thredds/dodsC/grib/Unidata/NMM/Primary/Best/LambertConformal_155X201-49p08N-121p6W,404"
       ]
      },
      {
       "output_type": "stream",
       "stream": "stdout",
       "text": [
        "\r",
        "[132]Fail:http://thredds.ucar.edu/thredds/dodsC/grib/Unidata/NMM/Primary/Best/LambertConformal_155X201-49p14N-121p2W,404"
       ]
      },
      {
       "output_type": "stream",
       "stream": "stdout",
       "text": [
        "\r",
        "[133]Fail:http://thredds.ucar.edu/thredds/dodsC/grib/Unidata/NMM/Primary/Best/LambertConformal_155X201-49p16N-121p0W,404"
       ]
      },
      {
       "output_type": "stream",
       "stream": "stdout",
       "text": [
        "\r",
        "[134]Fail:http://thredds.ucar.edu/thredds/dodsC/grib/Unidata/NMM/Secondary/Best/LambertConformal_155X201-29p27N-83p32W,404"
       ]
      },
      {
       "output_type": "stream",
       "stream": "stdout",
       "text": [
        "\r",
        "[135]Fail:http://thredds.ucar.edu/thredds/dodsC/grib/Unidata/NMM/Secondary/Best/LambertConformal_155X201-30p76N-81p38W,404"
       ]
      },
      {
       "output_type": "stream",
       "stream": "stdout",
       "text": [
        "\r",
        "[136]Fail:http://thredds.ucar.edu/thredds/dodsC/grib/Unidata/NMM/Secondary/Best/LambertConformal_155X201-31p77N-110p7W,404"
       ]
      },
      {
       "output_type": "stream",
       "stream": "stdout",
       "text": [
        "\r",
        "[137]Fail:http://thredds.ucar.edu/thredds/dodsC/grib/Unidata/NMM/Secondary/Best/LambertConformal_155X201-31p90N-109p3W,404"
       ]
      },
      {
       "output_type": "stream",
       "stream": "stdout",
       "text": [
        "\r",
        "[138]Fail:http://thredds.ucar.edu/thredds/dodsC/grib/Unidata/NMM/Secondary/Best/LambertConformal_155X201-32p36N-112p4W,404"
       ]
      },
      {
       "output_type": "stream",
       "stream": "stdout",
       "text": [
        "\r",
        "[139]Fail:http://thredds.ucar.edu/thredds/dodsC/grib/Unidata/NMM/Secondary/Best/LambertConformal_155X201-32p90N-110p4W,404"
       ]
      },
      {
       "output_type": "stream",
       "stream": "stdout",
       "text": [
        "\r",
        "[140]Fail:http://thredds.ucar.edu/thredds/dodsC/grib/Unidata/NMM/Secondary/Best/LambertConformal_155X201-33p01N-107p8W,404"
       ]
      },
      {
       "output_type": "stream",
       "stream": "stdout",
       "text": [
        "\r",
        "[141]Fail:http://thredds.ucar.edu/thredds/dodsC/grib/Unidata/NMM/Secondary/Best/LambertConformal_155X201-33p16N-79p01W,404"
       ]
      },
      {
       "output_type": "stream",
       "stream": "stdout",
       "text": [
        "\r",
        "[142]Fail:http://thredds.ucar.edu/thredds/dodsC/grib/Unidata/NMM/Secondary/Best/LambertConformal_155X201-33p17N-92p26W,404"
       ]
      },
      {
       "output_type": "stream",
       "stream": "stdout",
       "text": [
        "\r",
        "[143]Fail:http://thredds.ucar.edu/thredds/dodsC/grib/Unidata/NMM/Secondary/Best/LambertConformal_155X201-33p29N-110p8W,404"
       ]
      },
      {
       "output_type": "stream",
       "stream": "stdout",
       "text": [
        "\r",
        "[144]Fail:http://thredds.ucar.edu/thredds/dodsC/grib/Unidata/NMM/Secondary/Best/LambertConformal_155X201-33p34N-107p8W,404"
       ]
      },
      {
       "output_type": "stream",
       "stream": "stdout",
       "text": [
        "\r",
        "[145]Fail:http://thredds.ucar.edu/thredds/dodsC/grib/Unidata/NMM/Secondary/Best/LambertConformal_155X201-33p50N-92p51W,404"
       ]
      },
      {
       "output_type": "stream",
       "stream": "stdout",
       "text": [
        "\r",
        "[146]Fail:http://thredds.ucar.edu/thredds/dodsC/grib/Unidata/NMM/Secondary/Best/LambertConformal_155X201-33p72N-78p01W,404"
       ]
      },
      {
       "output_type": "stream",
       "stream": "stdout",
       "text": [
        "\r",
        "[147]Fail:http://thredds.ucar.edu/thredds/dodsC/grib/Unidata/NMM/Secondary/Best/LambertConformal_155X201-33p84N-109p6W,404"
       ]
      },
      {
       "output_type": "stream",
       "stream": "stdout",
       "text": [
        "\r",
        "[148]Fail:http://thredds.ucar.edu/thredds/dodsC/grib/Unidata/NMM/Secondary/Best/LambertConformal_155X201-34p35N-81p21W,404"
       ]
      },
      {
       "output_type": "stream",
       "stream": "stdout",
       "text": [
        "\r",
        "[149]Fail:http://thredds.ucar.edu/thredds/dodsC/grib/Unidata/NMM/Secondary/Best/LambertConformal_155X201-34p39N-110p7W,404"
       ]
      },
      {
       "output_type": "stream",
       "stream": "stdout",
       "text": [
        "\r",
        "[150]Fail:http://thredds.ucar.edu/thredds/dodsC/grib/Unidata/NMM/Secondary/Best/LambertConformal_155X201-34p64N-112p6W,404"
       ]
      },
      {
       "output_type": "stream",
       "stream": "stdout",
       "text": [
        "\r",
        "[151]Fail:http://thredds.ucar.edu/thredds/dodsC/grib/Unidata/NMM/Secondary/Best/LambertConformal_155X201-34p75N-106p4W,404"
       ]
      },
      {
       "output_type": "stream",
       "stream": "stdout",
       "text": [
        "\r",
        "[152]Fail:http://thredds.ucar.edu/thredds/dodsC/grib/Unidata/NMM/Secondary/Best/LambertConformal_155X201-34p76N-82p35W,404"
       ]
      },
      {
       "output_type": "stream",
       "stream": "stdout",
       "text": [
        "\r",
        "[153]Fail:http://thredds.ucar.edu/thredds/dodsC/grib/Unidata/NMM/Secondary/Best/LambertConformal_155X201-34p78N-88p14W,404"
       ]
      },
      {
       "output_type": "stream",
       "stream": "stdout",
       "text": [
        "\r",
        "[154]Fail:http://thredds.ucar.edu/thredds/dodsC/grib/Unidata/NMM/Secondary/Best/LambertConformal_155X201-35p10N-104p2W,404"
       ]
      },
      {
       "output_type": "stream",
       "stream": "stdout",
       "text": [
        "\r",
        "[155]Fail:http://thredds.ucar.edu/thredds/dodsC/grib/Unidata/NMM/Secondary/Best/LambertConformal_155X201-35p27N-75p37W,404"
       ]
      },
      {
       "output_type": "stream",
       "stream": "stdout",
       "text": [
        "\r",
        "[156]Fail:http://thredds.ucar.edu/thredds/dodsC/grib/Unidata/NMM/Secondary/Best/LambertConformal_155X201-35p38N-75p35W,404"
       ]
      },
      {
       "output_type": "stream",
       "stream": "stdout",
       "text": [
        "\r",
        "[157]Fail:http://thredds.ucar.edu/thredds/dodsC/grib/Unidata/NMM/Secondary/Best/LambertConformal_155X201-36p13N-106p7W,404"
       ]
      },
      {
       "output_type": "stream",
       "stream": "stdout",
       "text": [
        "\r",
        "[158]Fail:http://thredds.ucar.edu/thredds/dodsC/grib/Unidata/NMM/Secondary/Best/LambertConformal_155X201-36p56N-100p4W,404"
       ]
      },
      {
       "output_type": "stream",
       "stream": "stdout",
       "text": [
        "\r",
        "[159]Fail:http://thredds.ucar.edu/thredds/dodsC/grib/Unidata/NMM/Secondary/Best/LambertConformal_155X201-36p67N-100p3W,404"
       ]
      },
      {
       "output_type": "stream",
       "stream": "stdout",
       "text": [
        "\r",
        "[160]Fail:http://thredds.ucar.edu/thredds/dodsC/grib/Unidata/NMM/Secondary/Best/LambertConformal_155X201-37p25N-116p3W,404"
       ]
      },
      {
       "output_type": "stream",
       "stream": "stdout",
       "text": [
        "\r",
        "[161]Fail:http://thredds.ucar.edu/thredds/dodsC/grib/Unidata/NMM/Secondary/Best/LambertConformal_155X201-37p34N-116p4W,404"
       ]
      },
      {
       "output_type": "stream",
       "stream": "stdout",
       "text": [
        "\r",
        "[162]Fail:http://thredds.ucar.edu/thredds/dodsC/grib/Unidata/NMM/Secondary/Best/LambertConformal_155X201-37p36N-102p1W,404"
       ]
      },
      {
       "output_type": "stream",
       "stream": "stdout",
       "text": [
        "\r",
        "[163]Fail:http://thredds.ucar.edu/thredds/dodsC/grib/Unidata/NMM/Secondary/Best/LambertConformal_155X201-37p90N-116p3W,404"
       ]
      },
      {
       "output_type": "stream",
       "stream": "stdout",
       "text": [
        "\r",
        "[164]Fail:http://thredds.ucar.edu/thredds/dodsC/grib/Unidata/NMM/Secondary/Best/LambertConformal_155X201-37p91N-107p4W,404"
       ]
      },
      {
       "output_type": "stream",
       "stream": "stdout",
       "text": [
        "\r",
        "[165]Fail:http://thredds.ucar.edu/thredds/dodsC/grib/Unidata/NMM/Secondary/Best/LambertConformal_155X201-37p97N-106p6W,404"
       ]
      },
      {
       "output_type": "stream",
       "stream": "stdout",
       "text": [
        "\r",
        "[166]Fail:http://thredds.ucar.edu/thredds/dodsC/grib/Unidata/NMM/Secondary/Best/LambertConformal_155X201-38p02N-107p4W,404"
       ]
      },
      {
       "output_type": "stream",
       "stream": "stdout",
       "text": [
        "\r",
        "[167]Fail:http://thredds.ucar.edu/thredds/dodsC/grib/Unidata/NMM/Secondary/Best/LambertConformal_155X201-38p36N-116p9W,404"
       ]
      },
      {
       "output_type": "stream",
       "stream": "stdout",
       "text": [
        "\r",
        "[168]Fail:http://thredds.ucar.edu/thredds/dodsC/grib/Unidata/NMM/Secondary/Best/LambertConformal_155X201-38p42N-115p5W,404"
       ]
      },
      {
       "output_type": "stream",
       "stream": "stdout",
       "text": [
        "\r",
        "[169]Fail:http://thredds.ucar.edu/thredds/dodsC/grib/Unidata/NMM/Secondary/Best/LambertConformal_155X201-38p75N-98p66W,404"
       ]
      },
      {
       "output_type": "stream",
       "stream": "stdout",
       "text": [
        "\r",
        "[170]Fail:http://thredds.ucar.edu/thredds/dodsC/grib/Unidata/NMM/Secondary/Best/LambertConformal_155X201-39p38N-98p96W,404"
       ]
      },
      {
       "output_type": "stream",
       "stream": "stdout",
       "text": [
        "\r",
        "[171]Fail:http://thredds.ucar.edu/thredds/dodsC/grib/Unidata/NMM/Secondary/Best/LambertConformal_155X201-39p51N-97p87W,404"
       ]
      },
      {
       "output_type": "stream",
       "stream": "stdout",
       "text": [
        "\r",
        "[172]Fail:http://thredds.ucar.edu/thredds/dodsC/grib/Unidata/NMM/Secondary/Best/LambertConformal_155X201-39p70N-83p83W,404"
       ]
      },
      {
       "output_type": "stream",
       "stream": "stdout",
       "text": [
        "\r",
        "[173]Fail:http://thredds.ucar.edu/thredds/dodsC/grib/Unidata/NMM/Secondary/Best/LambertConformal_155X201-40p23N-117p4W,404"
       ]
      },
      {
       "output_type": "stream",
       "stream": "stdout",
       "text": [
        "\r",
        "[174]Fail:http://thredds.ucar.edu/thredds/dodsC/grib/Unidata/NMM/Secondary/Best/LambertConformal_155X201-40p48N-96p09W,404"
       ]
      },
      {
       "output_type": "stream",
       "stream": "stdout",
       "text": [
        "\r",
        "[175]Fail:http://thredds.ucar.edu/thredds/dodsC/grib/Unidata/NMM/Secondary/Best/LambertConformal_155X201-40p54N-104p5W,404"
       ]
      },
      {
       "output_type": "stream",
       "stream": "stdout",
       "text": [
        "\r",
        "[176]Fail:http://thredds.ucar.edu/thredds/dodsC/grib/Unidata/NMM/Secondary/Best/LambertConformal_155X201-40p56N-98p31W,404"
       ]
      },
      {
       "output_type": "stream",
       "stream": "stdout",
       "text": [
        "\r",
        "[177]Fail:http://thredds.ucar.edu/thredds/dodsC/grib/Unidata/NMM/Secondary/Best/LambertConformal_155X201-40p58N-105p8W,404"
       ]
      },
      {
       "output_type": "stream",
       "stream": "stdout",
       "text": [
        "\r",
        "[178]Fail:http://thredds.ucar.edu/thredds/dodsC/grib/Unidata/NMM/Secondary/Best/LambertConformal_155X201-40p73N-99p71W,404"
       ]
      },
      {
       "output_type": "stream",
       "stream": "stdout",
       "text": [
        "\r",
        "[179]Fail:http://thredds.ucar.edu/thredds/dodsC/grib/Unidata/NMM/Secondary/Best/LambertConformal_155X201-41p05N-106p7W,404"
       ]
      },
      {
       "output_type": "stream",
       "stream": "stdout",
       "text": [
        "\r",
        "[180]Fail:http://thredds.ucar.edu/thredds/dodsC/grib/Unidata/NMM/Secondary/Best/LambertConformal_155X201-41p19N-92p19W,404"
       ]
      },
      {
       "output_type": "stream",
       "stream": "stdout",
       "text": [
        "\r",
        "[181]Fail:http://thredds.ucar.edu/thredds/dodsC/grib/Unidata/NMM/Secondary/Best/LambertConformal_155X201-41p51N-92p18W,404"
       ]
      },
      {
       "output_type": "stream",
       "stream": "stdout",
       "text": [
        "\r",
        "[182]Fail:http://thredds.ucar.edu/thredds/dodsC/grib/Unidata/NMM/Secondary/Best/LambertConformal_155X201-41p74N-101p3W,404"
       ]
      },
      {
       "output_type": "stream",
       "stream": "stdout",
       "text": [
        "\r",
        "[183]Fail:http://thredds.ucar.edu/thredds/dodsC/grib/Unidata/NMM/Secondary/Best/LambertConformal_155X201-41p89N-115p1W,404"
       ]
      },
      {
       "output_type": "stream",
       "stream": "stdout",
       "text": [
        "\r",
        "[184]Fail:http://thredds.ucar.edu/thredds/dodsC/grib/Unidata/NMM/Secondary/Best/LambertConformal_155X201-42p30N-114p2W,404"
       ]
      },
      {
       "output_type": "stream",
       "stream": "stdout",
       "text": [
        "\r",
        "[185]Fail:http://thredds.ucar.edu/thredds/dodsC/grib/Unidata/NMM/Secondary/Best/LambertConformal_155X201-42p32N-79p28W,404"
       ]
      },
      {
       "output_type": "stream",
       "stream": "stdout",
       "text": [
        "\r",
        "[186]Fail:http://thredds.ucar.edu/thredds/dodsC/grib/Unidata/NMM/Secondary/Best/LambertConformal_155X201-42p36N-93p57W,404"
       ]
      },
      {
       "output_type": "stream",
       "stream": "stdout",
       "text": [
        "\r",
        "[187]Fail:http://thredds.ucar.edu/thredds/dodsC/grib/Unidata/NMM/Secondary/Best/LambertConformal_155X201-42p67N-79p65W,404"
       ]
      },
      {
       "output_type": "stream",
       "stream": "stdout",
       "text": [
        "\r",
        "[188]Fail:http://thredds.ucar.edu/thredds/dodsC/grib/Unidata/NMM/Secondary/Best/LambertConformal_155X201-42p93N-113p2W,404"
       ]
      },
      {
       "output_type": "stream",
       "stream": "stdout",
       "text": [
        "\r",
        "[189]Fail:http://thredds.ucar.edu/thredds/dodsC/grib/Unidata/NMM/Secondary/Best/LambertConformal_155X201-43p04N-112p0W,404"
       ]
      },
      {
       "output_type": "stream",
       "stream": "stdout",
       "text": [
        "\r",
        "[190]Fail:http://thredds.ucar.edu/thredds/dodsC/grib/Unidata/NMM/Secondary/Best/LambertConformal_155X201-43p29N-92p84W,404"
       ]
      },
      {
       "output_type": "stream",
       "stream": "stdout",
       "text": [
        "\r",
        "[191]Fail:http://thredds.ucar.edu/thredds/dodsC/grib/Unidata/NMM/Secondary/Best/LambertConformal_155X201-43p54N-100p4W,404"
       ]
      },
      {
       "output_type": "stream",
       "stream": "stdout",
       "text": [
        "\r",
        "[192]Fail:http://thredds.ucar.edu/thredds/dodsC/grib/Unidata/NMM/Secondary/Best/LambertConformal_155X201-43p92N-96p27W,404"
       ]
      },
      {
       "output_type": "stream",
       "stream": "stdout",
       "text": [
        "\r",
        "[193]Fail:http://thredds.ucar.edu/thredds/dodsC/grib/Unidata/NMM/Secondary/Best/LambertConformal_155X201-44p01N-97p57W,404"
       ]
      },
      {
       "output_type": "stream",
       "stream": "stdout",
       "text": [
        "\r",
        "[194]Fail:http://thredds.ucar.edu/thredds/dodsC/grib/Unidata/NMM/Secondary/Best/LambertConformal_155X201-44p11N-76p09W,404"
       ]
      },
      {
       "output_type": "stream",
       "stream": "stdout",
       "text": [
        "\r",
        "[195]Fail:http://thredds.ucar.edu/thredds/dodsC/grib/Unidata/NMM/Secondary/Best/LambertConformal_155X201-45p18N-73p38W,404"
       ]
      },
      {
       "output_type": "stream",
       "stream": "stdout",
       "text": [
        "\r",
        "[196]Fail:http://thredds.ucar.edu/thredds/dodsC/grib/Unidata/NMM/Secondary/Best/LambertConformal_155X201-45p28N-67p00W,404"
       ]
      },
      {
       "output_type": "stream",
       "stream": "stdout",
       "text": [
        "\r",
        "[197]Fail:http://thredds.ucar.edu/thredds/dodsC/grib/Unidata/NMM/Secondary/Best/LambertConformal_155X201-45p40N-67p11W,404"
       ]
      },
      {
       "output_type": "stream",
       "stream": "stdout",
       "text": [
        "\r",
        "[198]Fail:http://thredds.ucar.edu/thredds/dodsC/grib/Unidata/NMM/Secondary/Best/LambertConformal_155X201-46p47N-104p4W,404"
       ]
      },
      {
       "output_type": "stream",
       "stream": "stdout",
       "text": [
        "\r",
        "[199]Fail:http://thredds.ucar.edu/thredds/dodsC/grib/Unidata/NMM/Secondary/Best/LambertConformal_155X201-47p08N-124p2W,404"
       ]
      },
      {
       "output_type": "stream",
       "stream": "stdout",
       "text": [
        "\r",
        "[200]Fail:http://thredds.ucar.edu/thredds/dodsC/grib/Unidata/NMM/Secondary/Best/LambertConformal_155X201-47p39N-69p54W,404"
       ]
      },
      {
       "output_type": "stream",
       "stream": "stdout",
       "text": [
        "\r",
        "[201]Fail:http://thredds.ucar.edu/thredds/dodsC/grib/Unidata/NMM/Secondary/Best/LambertConformal_155X201-47p62N-89p16W,404"
       ]
      },
      {
       "output_type": "stream",
       "stream": "stdout",
       "text": [
        "\r",
        "[202]Fail:http://thredds.ucar.edu/thredds/dodsC/grib/Unidata/NMM/Secondary/Best/LambertConformal_155X201-47p74N-122p5W,404"
       ]
      },
      {
       "output_type": "stream",
       "stream": "stdout",
       "text": [
        "\r",
        "[203]Fail:http://thredds.ucar.edu/thredds/dodsC/grib/Unidata/NMM/Secondary/Best/LambertConformal_155X201-47p82N-89p30W,404"
       ]
      },
      {
       "output_type": "stream",
       "stream": "stdout",
       "text": [
        "\r",
        "[204]Fail:http://thredds.ucar.edu/thredds/dodsC/grib/Unidata/NMM/Secondary/Best/LambertConformal_155X201-48p25N-90p17W,404"
       ]
      },
      {
       "output_type": "stream",
       "stream": "stdout",
       "text": [
        "\r",
        "[205]Fail:http://thredds.ucar.edu/thredds/dodsC/grib/Unidata/NMM/Secondary/Best/LambertConformal_155X201-48p26N-90p63W,404"
       ]
      },
      {
       "output_type": "stream",
       "stream": "stdout",
       "text": [
        "\r",
        "[206]Fail:http://thredds.ucar.edu/thredds/dodsC/grib/Unidata/NMM/Secondary/Best/LambertConformal_155X201-48p81N-86p21W,404"
       ]
      },
      {
       "output_type": "stream",
       "stream": "stdout",
       "text": [
        "\r",
        "[207]Fail:http://thredds.ucar.edu/thredds/dodsC/grib/Unidata/NMM/Secondary/Best/LambertConformal_155X201-48p82N-86p36W,404"
       ]
      },
      {
       "output_type": "stream",
       "stream": "stdout",
       "text": [
        "\r",
        "[208]Fail:http://thredds.ucar.edu/thredds/dodsC/grib/Unidata/NMM/Secondary/Best/LambertConformal_155X201-48p84N-121p9W,404"
       ]
      },
      {
       "output_type": "stream",
       "stream": "stdout",
       "text": [
        "\r",
        "[209]Fail:http://thredds.ucar.edu/thredds/dodsC/grib/Unidata/NMM/Secondary/Best/LambertConformal_155X201-49p12N-122p1W,404"
       ]
      },
      {
       "output_type": "stream",
       "stream": "stdout",
       "text": [
        "\r",
        "[210]Fail:http://thredds.cdip.ucsd.edu/thredds/dodsC/cdip/archive/097p1/097p1_historic_T_Z.nc,404"
       ]
      },
      {
       "output_type": "stream",
       "stream": "stdout",
       "text": [
        "\r",
        "[211]Fail:http://thredds.cdip.ucsd.edu/thredds/dodsC/cdip/archive/097p1/097p1_historic_Z.nc,404"
       ]
      },
      {
       "output_type": "stream",
       "stream": "stdout",
       "text": [
        "\r",
        "[212]Fail:http://thredds.ucar.edu/thredds/dodsC/grib/Unidata/NMM/Primary/Best/LambertConformal_155X201-40p76N-77p28W,404"
       ]
      },
      {
       "output_type": "stream",
       "stream": "stdout",
       "text": [
        "\r",
        "[213]Fail:http://thredds.ucar.edu/thredds/dodsC/grib/Unidata/NMM/Primary/Best/LambertConformal_155X201-40p84N-78p11W,404"
       ]
      },
      {
       "output_type": "stream",
       "stream": "stdout",
       "text": [
        "\r",
        "[214]Fail:http://thredds.ucar.edu/thredds/dodsC/grib/Unidata/NMM/Primary/Best/LambertConformal_155X201-41p51N-75p31W,404"
       ]
      },
      {
       "output_type": "stream",
       "stream": "stdout",
       "text": [
        "\r",
        "[215]Fail:http://thredds.ucar.edu/thredds/dodsC/grib/Unidata/NMM/Primary/Best/LambertConformal_155X201-44p17N-81p59W,404"
       ]
      },
      {
       "output_type": "stream",
       "stream": "stdout",
       "text": [
        "\r",
        "[216]Fail:http://thredds.ucar.edu/thredds/dodsC/grib/Unidata/NMM/Secondary/Best/LambertConformal_155X201-33p02N-112p3W,404"
       ]
      },
      {
       "output_type": "stream",
       "stream": "stdout",
       "text": [
        "\r",
        "[217]Fail:http://thredds.ucar.edu/thredds/dodsC/grib/Unidata/NMM/Secondary/Best/LambertConformal_155X201-45p96N-82p07W,404"
       ]
      },
      {
       "output_type": "stream",
       "stream": "stdout",
       "text": [
        "\r",
        "[218]Fail:http://thredds.cdip.ucsd.edu/thredds/dodsC/cdip/archive/179p1/179p1_combo_tmp.nc,404"
       ]
      },
      {
       "output_type": "stream",
       "stream": "stdout",
       "text": [
        "\r",
        "[219]Fail:http://dm2.caricoos.org/thredds/dodsC/content/swan/201408131200.nc,404"
       ]
      },
      {
       "output_type": "stream",
       "stream": "stdout",
       "text": [
        "\r",
        "[220]Fail:http://dm2.caricoos.org/thredds/dodsC/content/swan/201408141200.nc,404"
       ]
      },
      {
       "output_type": "stream",
       "stream": "stdout",
       "text": [
        "\r",
        "[221]Fail:http://thredds.ucar.edu/thredds/dodsC/grib/Unidata/NMM/Primary/Best/LambertConformal_155X201-44p18N-73p75W,404"
       ]
      },
      {
       "output_type": "stream",
       "stream": "stdout",
       "text": [
        "\r",
        "[222]Fail:http://thredds.ucar.edu/thredds/dodsC/grib/Unidata/NMM/Primary/Best/LambertConformal_155X201-45p11N-72p81W,404"
       ]
      },
      {
       "output_type": "stream",
       "stream": "stdout",
       "text": [
        "\r",
        "[223]Fail:http://thredds.ucar.edu/thredds/dodsC/grib/Unidata/NMM/Primary/Best/LambertConformal_155X201-45p13N-74p86W,404"
       ]
      },
      {
       "output_type": "stream",
       "stream": "stdout",
       "text": [
        "\r",
        "[224]Fail:http://dm2.caricoos.org/thredds/dodsC/content/swan/201408151200.nc,404"
       ]
      },
      {
       "output_type": "stream",
       "stream": "stdout",
       "text": [
        "\r",
        "[225]Fail:http://thredds.ucar.edu/thredds/dodsC/grib/Unidata/NMM/Primary/Best/LambertConformal_155X201-45p54N-69p60W,404"
       ]
      },
      {
       "output_type": "stream",
       "stream": "stdout",
       "text": [
        "\r",
        "[226]Fail:http://thredds.ucar.edu/thredds/dodsC/grib/Unidata/NMM/Primary/Best/LambertConformal_155X201-46p28N-69p69W,404"
       ]
      },
      {
       "output_type": "stream",
       "stream": "stdout",
       "text": [
        "\r",
        "[227]Fail:http://thredds.ucar.edu/thredds/dodsC/grib/Unidata/NMM/Primary/Best/LambertConformal_155X201-47p45N-69p22W,404"
       ]
      },
      {
       "output_type": "stream",
       "stream": "stdout",
       "text": [
        "\r",
        "[228]Fail:http://thredds.ucar.edu/thredds/dodsC/grib/Unidata/NMM/Primary/Best/LambertConformal_155X201-47p48N-68p60W,404"
       ]
      },
      {
       "output_type": "stream",
       "stream": "stdout",
       "text": [
        "\r",
        "[229]Fail:http://thredds.ucar.edu/thredds/dodsC/grib/Unidata/NMM/Secondary/Best/LambertConformal_155X201-34p77N-111p3W,404"
       ]
      },
      {
       "output_type": "stream",
       "stream": "stdout",
       "text": [
        "\r",
        "[230]Fail:http://thredds.ucar.edu/thredds/dodsC/grib/Unidata/NMM/Secondary/Best/LambertConformal_155X201-35p99N-111p1W,404"
       ]
      },
      {
       "output_type": "stream",
       "stream": "stdout",
       "text": [
        "\r",
        "[231]Fail:http://thredds.ucar.edu/thredds/dodsC/grib/Unidata/NMM/Secondary/Best/LambertConformal_155X201-36p71N-111p4W,404"
       ]
      },
      {
       "output_type": "stream",
       "stream": "stdout",
       "text": [
        "\r",
        "[232]Fail:http://thredds.ucar.edu/thredds/dodsC/grib/Unidata/NMM/Secondary/Best/LambertConformal_155X201-39p34N-109p6W,404"
       ]
      },
      {
       "output_type": "stream",
       "stream": "stdout",
       "text": [
        "\r",
        "[233]Fail:http://thredds.ucar.edu/thredds/dodsC/grib/Unidata/NMM/Secondary/Best/LambertConformal_155X201-39p36N-109p4W,404"
       ]
      },
      {
       "output_type": "stream",
       "stream": "stdout",
       "text": [
        "\r",
        "[234]Fail:http://thredds.ucar.edu/thredds/dodsC/grib/Unidata/NMM/Secondary/Best/LambertConformal_155X201-40p21N-74p16W,404"
       ]
      },
      {
       "output_type": "stream",
       "stream": "stdout",
       "text": [
        "\r",
        "[235]Fail:http://thredds.ucar.edu/thredds/dodsC/grib/Unidata/NMM/Secondary/Best/LambertConformal_155X201-40p42N-108p1W,404"
       ]
      },
      {
       "output_type": "stream",
       "stream": "stdout",
       "text": [
        "\r",
        "[236]Fail:http://thredds.ucar.edu/thredds/dodsC/grib/Unidata/NMM/Secondary/Best/LambertConformal_155X201-46p03N-105p1W,404"
       ]
      },
      {
       "output_type": "stream",
       "stream": "stdout",
       "text": [
        "\r",
        "[237]Fail:http://dm2.caricoos.org/thredds/dodsC/content/swan/201408161200.nc,404"
       ]
      },
      {
       "output_type": "stream",
       "stream": "stdout",
       "text": [
        "\r",
        "[238]Fail:http://thredds.ucar.edu/thredds/dodsC/grib/Unidata/NMM/Primary/Best/LambertConformal_155X201-41p11N-94p98W,404"
       ]
      },
      {
       "output_type": "stream",
       "stream": "stdout",
       "text": [
        "\r",
        "[239]Fail:http://thredds.ucar.edu/thredds/dodsC/grib/Unidata/NMM/Primary/Best/LambertConformal_155X201-45p79N-103p6W,404"
       ]
      },
      {
       "output_type": "stream",
       "stream": "stdout",
       "text": [
        "\r",
        "[240]Fail:http://thredds.ucar.edu/thredds/dodsC/grib/Unidata/NMM/Primary/Best/LambertConformal_155X201-46p06N-104p3W,404"
       ]
      },
      {
       "output_type": "stream",
       "stream": "stdout",
       "text": [
        "\r",
        "[241]Fail:http://thredds.ucar.edu/thredds/dodsC/grib/Unidata/NMM/Primary/Best/LambertConformal_155X201-47p22N-68p22W,404"
       ]
      },
      {
       "output_type": "stream",
       "stream": "stdout",
       "text": [
        "\r",
        "[242]Fail:http://thredds.ucar.edu/thredds/dodsC/grib/Unidata/NMM/Secondary/Best/LambertConformal_155X201-46p66N-104p5W,404"
       ]
      },
      {
       "output_type": "stream",
       "stream": "stdout",
       "text": [
        "\r",
        "[243]Fail:http://thredds.ucar.edu/thredds/dodsC/grib/Unidata/NMM/Secondary/Best/LambertConformal_155X201-47p22N-68p22W,404"
       ]
      },
      {
       "output_type": "stream",
       "stream": "stdout",
       "text": [
        "\r",
        "[244]Fail:http://thredds.ucar.edu/thredds/dodsC/grib/Unidata/NMM/Secondary/Best/LambertConformal_155X201-48p01N-86p14W,404"
       ]
      },
      {
       "output_type": "stream",
       "stream": "stdout",
       "text": [
        "\r",
        "[245]Fail:http://dm2.caricoos.org/thredds/dodsC/content/swan/201408171200.nc,404"
       ]
      },
      {
       "output_type": "stream",
       "stream": "stdout",
       "text": [
        "\r",
        "[246]Fail:http://thredds.ucar.edu/thredds/dodsC/grib/Unidata/NMM/Primary/Best/LambertConformal_155X201-39p48N-90p73W,404"
       ]
      },
      {
       "output_type": "stream",
       "stream": "stdout",
       "text": [
        "\r",
        "[247]Fail:http://thredds.ucar.edu/thredds/dodsC/grib/Unidata/NMM/Primary/Best/LambertConformal_155X201-40p69N-93p87W,404"
       ]
      },
      {
       "output_type": "stream",
       "stream": "stdout",
       "text": [
        "\r",
        "[248]Fail:http://thredds.ucar.edu/thredds/dodsC/grib/Unidata/NMM/Primary/Best/LambertConformal_155X201-40p78N-92p76W,404"
       ]
      },
      {
       "output_type": "stream",
       "stream": "stdout",
       "text": [
        "\r",
        "[249]Fail:http://thredds.ucar.edu/thredds/dodsC/grib/Unidata/NMM/Primary/Best/LambertConformal_155X201-41p01N-94p15W,404"
       ]
      },
      {
       "output_type": "stream",
       "stream": "stdout",
       "text": [
        "\r",
        "[250]Fail:http://thredds.ucar.edu/thredds/dodsC/grib/Unidata/NMM/Secondary/Best/LambertConformal_155X201-45p60N-81p38W,404"
       ]
      },
      {
       "output_type": "stream",
       "stream": "stdout",
       "text": [
        "\r",
        "[251]Fail:http://thredds.ucar.edu/thredds/dodsC/grib/Unidata/NMM/Secondary/Best/LambertConformal_155X201-45p72N-81p66W,404"
       ]
      },
      {
       "output_type": "stream",
       "stream": "stdout",
       "text": [
        "\r",
        "[252]Fail:http://thredds.ucar.edu/thredds/dodsC/grib/Unidata/NMM/Secondary/Best/LambertConformal_155X201-46p32N-82p91W,404"
       ]
      },
      {
       "output_type": "stream",
       "stream": "stdout",
       "text": [
        "\r",
        "[253]Fail:http://thredds.ucar.edu/thredds/dodsC/grib/Unidata/NMM/Secondary/Best/LambertConformal_155X201-47p37N-98p40W,404"
       ]
      },
      {
       "output_type": "stream",
       "stream": "stdout",
       "text": [
        "\r",
        "[254]Fail:http://dm2.caricoos.org/thredds/dodsC/content/swan/201408181200.nc,404"
       ]
      },
      {
       "output_type": "stream",
       "stream": "stdout",
       "text": [
        "\r",
        "[255]Fail:http://thredds.ucar.edu/thredds/dodsC/grib/Unidata/NMM/Primary/Best/LambertConformal_155X201-37p47N-87p97W,404"
       ]
      },
      {
       "output_type": "stream",
       "stream": "stdout",
       "text": [
        "\r",
        "[256]Fail:http://thredds.ucar.edu/thredds/dodsC/grib/Unidata/NMM/Primary/Best/LambertConformal_155X201-37p51N-89p19W,404"
       ]
      },
      {
       "output_type": "stream",
       "stream": "stdout",
       "text": [
        "\r",
        "[257]Fail:http://thredds.ucar.edu/thredds/dodsC/grib/Unidata/NMM/Primary/Best/LambertConformal_155X201-37p71N-86p20W,404"
       ]
      },
      {
       "output_type": "stream",
       "stream": "stdout",
       "text": [
        "\r",
        "[258]Fail:http://thredds.ucar.edu/thredds/dodsC/grib/Unidata/NMM/Primary/Best/LambertConformal_155X201-38p82N-89p93W,404"
       ]
      },
      {
       "output_type": "stream",
       "stream": "stdout",
       "text": [
        "\r",
        "[259]Fail:http://thredds.ucar.edu/thredds/dodsC/grib/Unidata/NMM/Primary/Best/LambertConformal_155X201-35p93N-85p14W,404"
       ]
      },
      {
       "output_type": "stream",
       "stream": "stdout",
       "text": [
        "\r",
        "[260]Fail:http://thredds.ucar.edu/thredds/dodsC/grib/Unidata/NMM/Primary/Best/LambertConformal_155X201-37p36N-85p69W,404"
       ]
      },
      {
       "output_type": "stream",
       "stream": "stdout",
       "text": [
        "\r",
        "[261]Fail:http://thredds.ucar.edu/thredds/dodsC/grib/Unidata/NMM/Primary/Best/LambertConformal_155X201-37p43N-80p55W,404"
       ]
      },
      {
       "output_type": "stream",
       "stream": "stdout",
       "text": [
        "\r",
        "[262]Fail:http://thredds.ucar.edu/thredds/dodsC/grib/Unidata/NMM/Primary/Best/LambertConformal_155X201-37p93N-78p98W,404"
       ]
      },
      {
       "output_type": "stream",
       "stream": "stdout",
       "text": [
        "\r",
        "[263]Fail:http://thredds.ucar.edu/thredds/dodsC/grib/Unidata/NMM/Secondary/Best/LambertConformal_155X201-31p30N-109p9W,404"
       ]
      },
      {
       "output_type": "stream",
       "stream": "stdout",
       "text": [
        "\r",
        "[264]Fail:http://thredds.ucar.edu/thredds/dodsC/grib/Unidata/NMM/Secondary/Best/LambertConformal_155X201-33p30N-93p68W,404"
       ]
      },
      {
       "output_type": "stream",
       "stream": "stdout",
       "text": [
        "\r",
        "[265]Fail:http://thredds.ucar.edu/thredds/dodsC/grib/Unidata/NMM/Secondary/Best/LambertConformal_155X201-43p76N-90p11W,404"
       ]
      },
      {
       "output_type": "stream",
       "stream": "stdout",
       "text": [
        "\r",
        "[266]Fail:http://thredds.ucar.edu/thredds/dodsC/grib/Unidata/NMM/Secondary/Best/LambertConformal_155X201-44p42N-91p81W,404"
       ]
      },
      {
       "output_type": "stream",
       "stream": "stdout",
       "text": [
        "\r",
        "[267]Fail:http://thredds.ucar.edu/thredds/dodsC/grib/Unidata/NMM/Secondary/Best/LambertConformal_155X201-44p43N-92p96W,404"
       ]
      },
      {
       "output_type": "stream",
       "stream": "stdout",
       "text": [
        "\r",
        "[268]Fail:http://thredds.ucar.edu/thredds/dodsC/grib/Unidata/NMM/Secondary/Best/LambertConformal_155X201-45p37N-94p55W,404"
       ]
      },
      {
       "output_type": "stream",
       "stream": "stdout",
       "text": [
        "\r",
        "[269]Fail:http://thredds.ucar.edu/thredds/dodsC/grib/Unidata/NMM/Secondary/Best/LambertConformal_155X201-46p59N-96p46W,404"
       ]
      },
      {
       "output_type": "stream",
       "stream": "stdout",
       "text": [
        "\r",
        "[270]Fail:http://thredds.ucar.edu/thredds/dodsC/grib/Unidata/NMM/Secondary/Best/LambertConformal_155X201-47p89N-97p08W,404"
       ]
      },
      {
       "output_type": "stream",
       "stream": "stdout",
       "text": [
        "\r",
        "[271]Fail:http://dm2.caricoos.org/thredds/dodsC/content/swan/201408191200.nc,404"
       ]
      },
      {
       "output_type": "stream",
       "stream": "stdout",
       "text": [
        "\r",
        "[272]Fail:http://dm2.caricoos.org/thredds/dodsC/content/swan/201408201200.nc,404"
       ]
      },
      {
       "output_type": "stream",
       "stream": "stdout",
       "text": [
        "\r",
        "[273]Fail:http://thredds.ucar.edu/thredds/dodsC/grib/Unidata/NMM/Primary/Best/LambertConformal_155X201-37p07N-75p86W,404"
       ]
      },
      {
       "output_type": "stream",
       "stream": "stdout",
       "text": [
        "\r",
        "[274]Fail:http://thredds.ucar.edu/thredds/dodsC/grib/Unidata/NMM/Primary/Best/LambertConformal_155X201-46p07N-85p88W,404"
       ]
      },
      {
       "output_type": "stream",
       "stream": "stdout",
       "text": [
        "\r",
        "[275]Fail:http://thredds.ucar.edu/thredds/dodsC/grib/Unidata/NMM/Primary/Best/LambertConformal_155X201-46p25N-85p27W,404"
       ]
      },
      {
       "output_type": "stream",
       "stream": "stdout",
       "text": [
        "\r",
        "[276]Fail:http://thredds.ucar.edu/thredds/dodsC/grib/Unidata/NMM/Secondary/Best/LambertConformal_155X201-36p99N-111p9W,404"
       ]
      },
      {
       "output_type": "stream",
       "stream": "stdout",
       "text": [
        "\r",
        "[277]Fail:http://thredds.ucar.edu/thredds/dodsC/grib/Unidata/NMM/Secondary/Best/LambertConformal_155X201-37p27N-75p69W,404"
       ]
      },
      {
       "output_type": "stream",
       "stream": "stdout",
       "text": [
        "\r",
        "[278]Fail:http://thredds.ucar.edu/thredds/dodsC/grib/Unidata/NMM/Secondary/Best/LambertConformal_155X201-45p66N-88p26W,404"
       ]
      },
      {
       "output_type": "stream",
       "stream": "stdout",
       "text": [
        "\r",
        "[279]Fail:http://thredds.ucar.edu/thredds/dodsC/grib/Unidata/NMM/Secondary/Best/LambertConformal_155X201-46p04N-87p50W,404"
       ]
      },
      {
       "output_type": "stream",
       "stream": "stdout",
       "text": [
        "\r",
        "[280]Fail:http://dm2.caricoos.org/thredds/dodsC/content/swan/201408211200.nc,404"
       ]
      },
      {
       "output_type": "stream",
       "stream": "stdout",
       "text": [
        "\r",
        "[281]Fail:http://thredds.ucar.edu/thredds/dodsC/grib/Unidata/NMM/Primary/Best/LambertConformal_155X201-42p33N-80p70W,404"
       ]
      },
      {
       "output_type": "stream",
       "stream": "stdout",
       "text": [
        "\r",
        "[282]Fail:http://thredds.ucar.edu/thredds/dodsC/grib/Unidata/NMM/Primary/Best/LambertConformal_155X201-46p07N-82p20W,404"
       ]
      },
      {
       "output_type": "stream",
       "stream": "stdout",
       "text": [
        "\r",
        "[283]Fail:http://thredds.ucar.edu/thredds/dodsC/grib/Unidata/NMM/Primary/Best/LambertConformal_155X201-48p72N-101p0W,404"
       ]
      },
      {
       "output_type": "stream",
       "stream": "stdout",
       "text": [
        "\r",
        "[284]Fail:http://thredds.ucar.edu/thredds/dodsC/grib/Unidata/NMM/Primary/Best/LambertConformal_155X201-48p93N-103p4W,404"
       ]
      },
      {
       "output_type": "stream",
       "stream": "stdout",
       "text": [
        "\r",
        "[285]Fail:http://thredds.ucar.edu/thredds/dodsC/grib/Unidata/NMM/Secondary/Best/LambertConformal_155X201-34p51N-76p30W,404"
       ]
      },
      {
       "output_type": "stream",
       "stream": "stdout",
       "text": [
        "\r",
        "[286]Fail:http://thredds.ucar.edu/thredds/dodsC/grib/Unidata/NMM/Secondary/Best/LambertConformal_155X201-39p46N-109p5W,404"
       ]
      },
      {
       "output_type": "stream",
       "stream": "stdout",
       "text": [
        "\r",
        "[287]Fail:http://thredds.ucar.edu/thredds/dodsC/grib/Unidata/NMM/Secondary/Best/LambertConformal_155X201-43p32N-78p69W,404"
       ]
      },
      {
       "output_type": "stream",
       "stream": "stdout",
       "text": [
        "\r",
        "[288]Fail:http://thredds.ucar.edu/thredds/dodsC/grib/Unidata/NMM/Secondary/Best/LambertConformal_155X201-44p34N-77p36W,404"
       ]
      },
      {
       "output_type": "stream",
       "stream": "stdout",
       "text": [
        "\r",
        "[289]Fail:http://thredds.ucar.edu/thredds/dodsC/grib/Unidata/NMM/Primary/Best/LambertConformal_155X201-42p21N-87p36W,404"
       ]
      },
      {
       "output_type": "stream",
       "stream": "stdout",
       "text": [
        "\r",
        "[290]Fail:http://thredds.ucar.edu/thredds/dodsC/grib/Unidata/NMM/Primary/Best/LambertConformal_155X201-43p75N-74p57W,404"
       ]
      },
      {
       "output_type": "stream",
       "stream": "stdout",
       "text": [
        "\r",
        "[291]Fail:http://thredds.ucar.edu/thredds/dodsC/grib/Unidata/NMM/Primary/Best/LambertConformal_155X201-44p54N-76p15W,404"
       ]
      },
      {
       "output_type": "stream",
       "stream": "stdout",
       "text": [
        "\r",
        "[292]Fail:http://thredds.ucar.edu/thredds/dodsC/grib/Unidata/NMM/Primary/Best/LambertConformal_155X201-48p82N-100p8W,404"
       ]
      },
      {
       "output_type": "stream",
       "stream": "stdout",
       "text": [
        "\r",
        "[293]Fail:http://thredds.ucar.edu/thredds/dodsC/grib/Unidata/NMM/Secondary/Best/LambertConformal_155X201-42p55N-74p25W,404"
       ]
      },
      {
       "output_type": "stream",
       "stream": "stdout",
       "text": [
        "\r",
        "[294]Fail:http://thredds.ucar.edu/thredds/dodsC/grib/Unidata/NMM/Secondary/Best/LambertConformal_155X201-44p26N-76p50W,404"
       ]
      },
      {
       "output_type": "stream",
       "stream": "stdout",
       "text": [
        "\r",
        "[295]Fail:http://thredds.ucar.edu/thredds/dodsC/grib/Unidata/NMM/Secondary/Best/LambertConformal_155X201-45p98N-96p30W,404"
       ]
      },
      {
       "output_type": "stream",
       "stream": "stdout",
       "text": [
        "\r",
        "[296]Fail:http://thredds.ucar.edu/thredds/dodsC/grib/Unidata/NMM/Secondary/Best/LambertConformal_155X201-47p62N-107p5W,404"
       ]
      },
      {
       "output_type": "stream",
       "stream": "stdout",
       "text": [
        "\r",
        "[297]Fail:http://thredds.ucar.edu/thredds/dodsC/grib/NCEP/NAM/Firewxnest/Best/LambertConformal_396X643-45p02N-120p2W,404"
       ]
      },
      {
       "output_type": "stream",
       "stream": "stdout",
       "text": [
        "\r",
        "[298]Fail:http://thredds.ucar.edu/thredds/dodsC/grib/Unidata/NMM/Primary/Best/LambertConformal_155X201-40p60N-103p4W,404"
       ]
      },
      {
       "output_type": "stream",
       "stream": "stdout",
       "text": [
        "\r",
        "[299]Fail:http://thredds.ucar.edu/thredds/dodsC/grib/Unidata/NMM/Primary/Best/LambertConformal_155X201-47p10N-103p8W,404"
       ]
      },
      {
       "output_type": "stream",
       "stream": "stdout",
       "text": [
        "\r",
        "[300]Fail:http://thredds.ucar.edu/thredds/dodsC/grib/Unidata/NMM/Primary/Best/LambertConformal_155X201-47p51N-110p5W,404"
       ]
      },
      {
       "output_type": "stream",
       "stream": "stdout",
       "text": [
        "\r",
        "[301]Fail:http://thredds.ucar.edu/thredds/dodsC/grib/Unidata/NMM/Primary/Best/LambertConformal_155X201-47p94N-103p0W,404"
       ]
      },
      {
       "output_type": "stream",
       "stream": "stdout",
       "text": [
        "\r",
        "[302]Fail:http://thredds.ucar.edu/thredds/dodsC/grib/Unidata/NMM/Secondary/Best/LambertConformal_155X201-39p35N-81p80W,404"
       ]
      },
      {
       "output_type": "stream",
       "stream": "stdout",
       "text": [
        "\r",
        "[303]Fail:http://thredds.ucar.edu/thredds/dodsC/grib/Unidata/NMM/Secondary/Best/LambertConformal_155X201-41p28N-102p2W,404"
       ]
      },
      {
       "output_type": "stream",
       "stream": "stdout",
       "text": [
        "\r",
        "[304]Fail:http://thredds.ucar.edu/thredds/dodsC/grib/Unidata/NMM/Secondary/Best/LambertConformal_155X201-41p43N-86p30W,404"
       ]
      },
      {
       "output_type": "stream",
       "stream": "stdout",
       "text": [
        "\r",
        "[305]Fail:http://thredds.ucar.edu/thredds/dodsC/grib/Unidata/NMM/Secondary/Best/LambertConformal_155X201-47p24N-112p5W,404"
       ]
      },
      {
       "output_type": "stream",
       "stream": "stdout",
       "text": [
        "\r",
        "[306]Fail:http://dm2.caricoos.org/thredds/dodsC/content/swan/201408221200.nc,404"
       ]
      },
      {
       "output_type": "stream",
       "stream": "stdout",
       "text": [
        "\r",
        "[307]Fail:http://thredds.ucar.edu/thredds/dodsC/grib/Unidata/NMM/Primary/Best/LambertConformal_155X201-46p86N-108p1W,404"
       ]
      },
      {
       "output_type": "stream",
       "stream": "stdout",
       "text": [
        "\r",
        "[308]Fail:http://thredds.ucar.edu/thredds/dodsC/grib/Unidata/NMM/Primary/Best/LambertConformal_155X201-47p32N-107p3W,404"
       ]
      },
      {
       "output_type": "stream",
       "stream": "stdout",
       "text": [
        "\r",
        "[309]Fail:http://thredds.ucar.edu/thredds/dodsC/grib/Unidata/NMM/Primary/Best/LambertConformal_155X201-47p48N-108p1W,404"
       ]
      },
      {
       "output_type": "stream",
       "stream": "stdout",
       "text": [
        "\r",
        "[310]Fail:http://thredds.ucar.edu/thredds/dodsC/grib/Unidata/NMM/Primary/Best/LambertConformal_155X201-47p98N-106p5W,404"
       ]
      },
      {
       "output_type": "stream",
       "stream": "stdout",
       "text": [
        "\r",
        "[311]Fail:http://thredds.ucar.edu/thredds/dodsC/grib/Unidata/NMM/Secondary/Best/LambertConformal_155X201-34p59N-79p07W,404"
       ]
      },
      {
       "output_type": "stream",
       "stream": "stdout",
       "text": [
        "\r",
        "[312]Fail:http://thredds.ucar.edu/thredds/dodsC/grib/Unidata/NMM/Secondary/Best/LambertConformal_155X201-34p71N-76p14W,404"
       ]
      },
      {
       "output_type": "stream",
       "stream": "stdout",
       "text": [
        "\r",
        "[313]Fail:http://thredds.ucar.edu/thredds/dodsC/grib/Unidata/NMM/Secondary/Best/LambertConformal_155X201-35p96N-79p80W,404"
       ]
      },
      {
       "output_type": "stream",
       "stream": "stdout",
       "text": [
        "\r",
        "[314]Fail:http://thredds.ucar.edu/thredds/dodsC/grib/Unidata/NMM/Secondary/Best/LambertConformal_155X201-36p20N-78p97W,404"
       ]
      },
      {
       "output_type": "stream",
       "stream": "stdout",
       "text": [
        "\r",
        "[315]Fail:http://ona.coas.oregonstate.edu:8080/thredds/dodsC/NANOOS/OCOS,500"
       ]
      },
      {
       "output_type": "stream",
       "stream": "stdout",
       "text": [
        "\r",
        "[316]Fail:http://dm2.caricoos.org/thredds/dodsC/content/swan/201408251200.nc,404"
       ]
      },
      {
       "output_type": "stream",
       "stream": "stdout",
       "text": [
        "\r",
        "[317]Fail:http://thredds.ucar.edu/thredds/dodsC/grib/Unidata/NMM/Primary/Best/LambertConformal_155X201-47p51N-107p5W,404"
       ]
      },
      {
       "output_type": "stream",
       "stream": "stdout",
       "text": [
        "\r",
        "[318]Fail:http://thredds.ucar.edu/thredds/dodsC/grib/Unidata/NMM/Secondary/Best/LambertConformal_155X201-34p00N-77p57W,404"
       ]
      },
      {
       "output_type": "stream",
       "stream": "stdout",
       "text": [
        "\r",
        "[319]Fail:http://dm2.caricoos.org/thredds/dodsC/content/swan/201408271200.nc,404"
       ]
      },
      {
       "output_type": "stream",
       "stream": "stdout",
       "text": [
        "\r",
        "[320]Fail:http://thredds.ucar.edu/thredds/dodsC/grib/Unidata/NMM/Primary/Best/LambertConformal_155X201-31p22N-109p6W,404"
       ]
      },
      {
       "output_type": "stream",
       "stream": "stdout",
       "text": [
        "\r",
        "[321]Fail:http://thredds.ucar.edu/thredds/dodsC/grib/Unidata/NMM/Primary/Best/LambertConformal_155X201-31p70N-111p4W,404"
       ]
      },
      {
       "output_type": "stream",
       "stream": "stdout",
       "text": [
        "\r",
        "[322]Fail:http://thredds.ucar.edu/thredds/dodsC/grib/Unidata/NMM/Primary/Best/LambertConformal_155X201-33p19N-109p6W,404"
       ]
      },
      {
       "output_type": "stream",
       "stream": "stdout",
       "text": [
        "\r",
        "[323]Fail:http://thredds.ucar.edu/thredds/dodsC/grib/Unidata/NMM/Primary/Best/LambertConformal_155X201-45p11N-90p63W,404"
       ]
      },
      {
       "output_type": "stream",
       "stream": "stdout",
       "text": [
        "\r",
        "[324]Fail:http://thredds.ucar.edu/thredds/dodsC/grib/Unidata/NMM/Primary/Best/LambertConformal_155X201-48p20N-107p9W,404"
       ]
      },
      {
       "output_type": "stream",
       "stream": "stdout",
       "text": [
        "\r",
        "[325]Fail:http://thredds.ucar.edu/thredds/dodsC/grib/Unidata/NMM/Primary/Best/LambertConformal_155X201-48p41N-107p6W,404"
       ]
      },
      {
       "output_type": "stream",
       "stream": "stdout",
       "text": [
        "\r",
        "[326]Fail:http://thredds.ucar.edu/thredds/dodsC/grib/Unidata/NMM/Primary/Best/LambertConformal_155X201-49p02N-107p5W,404"
       ]
      },
      {
       "output_type": "stream",
       "stream": "stdout",
       "text": [
        "\r",
        "[327]Fail:http://thredds.ucar.edu/thredds/dodsC/grib/Unidata/NMM/Primary/Best/LambertConformal_155X201-49p05N-106p9W,404"
       ]
      },
      {
       "output_type": "stream",
       "stream": "stdout",
       "text": [
        "\r",
        "[328]Fail:http://thredds.ucar.edu/thredds/dodsC/grib/Unidata/NMM/Secondary/Best/LambertConformal_155X201-27p73N-80p73W,404"
       ]
      },
      {
       "output_type": "stream",
       "stream": "stdout",
       "text": [
        "\r",
        "[329]Fail:http://thredds.ucar.edu/thredds/dodsC/grib/Unidata/NMM/Secondary/Best/LambertConformal_155X201-27p92N-81p58W,404"
       ]
      },
      {
       "output_type": "stream",
       "stream": "stdout",
       "text": [
        "\r",
        "[330]Fail:http://thredds.ucar.edu/thredds/dodsC/grib/Unidata/NMM/Secondary/Best/LambertConformal_155X201-28p89N-90p86W,404"
       ]
      },
      {
       "output_type": "stream",
       "stream": "stdout",
       "text": [
        "\r",
        "[331]Fail:http://thredds.ucar.edu/thredds/dodsC/grib/Unidata/NMM/Secondary/Best/LambertConformal_155X201-40p07N-100p6W,404"
       ]
      },
      {
       "output_type": "stream",
       "stream": "stdout",
       "text": [
        "\r",
        "[332]Fail:http://thredds.ucar.edu/thredds/dodsC/grib/Unidata/NMM/Secondary/Best/LambertConformal_155X201-49p04N-99p83W,404"
       ]
      },
      {
       "output_type": "stream",
       "stream": "stdout",
       "text": [
        "\r",
        "[333]Fail:http://thredds.ucar.edu/thredds/dodsC/grib/Unidata/NMM/Secondary/Best/LambertConformal_155X201-49p06N-99p23W,404"
       ]
      },
      {
       "output_type": "stream",
       "stream": "stdout",
       "text": [
        "\r",
        "[334]Fail:http://thredds.ucar.edu/thredds/dodsC/grib/Unidata/NMM/Secondary/Best/LambertConformal_155X201-49p07N-98p47W,404"
       ]
      },
      {
       "output_type": "stream",
       "stream": "stdout",
       "text": [
        "\r",
        "[335]Fail:http://thredds.ucar.edu/thredds/dodsC/grib/Unidata/NMM/Secondary/Best/LambertConformal_155X201-49p40N-95p14W,404"
       ]
      },
      {
       "output_type": "stream",
       "stream": "stdout",
       "text": [
        "\r",
        "[336]Fail:http://tds.maracoos.org/thredds/dodsC/MODIS-2009-Agg.nc,500"
       ]
      },
      {
       "output_type": "stream",
       "stream": "stdout",
       "text": [
        "\r",
        "[337]Fail:http://tds.maracoos.org/thredds/dodsC/MODIS-2010-Agg.nc,500\r",
        "[338]Fail:http://tds.maracoos.org/thredds/dodsC/MODIS-2011-Agg.nc,500"
       ]
      },
      {
       "output_type": "stream",
       "stream": "stdout",
       "text": [
        "\r",
        "[339]Fail:http://tds.maracoos.org/thredds/dodsC/MODIS-2012-Agg.nc,500\r",
        "[340]Fail:http://tds.maracoos.org/thredds/dodsC/MODIS-2013-Agg.nc,500"
       ]
      },
      {
       "output_type": "stream",
       "stream": "stdout",
       "text": [
        "\r",
        "[341]Fail:http://dm2.caricoos.org/thredds/dodsC/content/swan/201408281200.nc,404"
       ]
      },
      {
       "output_type": "stream",
       "stream": "stdout",
       "text": [
        "\r",
        "[342]Fail:http://dm2.caricoos.org/thredds/dodsC/content/swan/201408291200.nc,404"
       ]
      },
      {
       "output_type": "stream",
       "stream": "stdout",
       "text": [
        "\r",
        "[343]Fail:http://thredds.ucar.edu/thredds/dodsC/grib/Unidata/NMM/Primary/Best/LambertConformal_155X201-42p37N-95p97W,404"
       ]
      },
      {
       "output_type": "stream",
       "stream": "stdout",
       "text": [
        "\r",
        "[344]Fail:http://thredds.ucar.edu/thredds/dodsC/grib/Unidata/NMM/Primary/Best/LambertConformal_155X201-42p46N-97p53W,404"
       ]
      },
      {
       "output_type": "stream",
       "stream": "stdout",
       "text": [
        "\r",
        "[345]Fail:http://thredds.ucar.edu/thredds/dodsC/grib/Unidata/NMM/Primary/Best/LambertConformal_155X201-43p10N-95p84W,404"
       ]
      },
      {
       "output_type": "stream",
       "stream": "stdout",
       "text": [
        "\r",
        "[346]Fail:http://thredds.ucar.edu/thredds/dodsC/grib/Unidata/NMM/Primary/Best/LambertConformal_155X201-43p20N-94p70W,404"
       ]
      },
      {
       "output_type": "stream",
       "stream": "stdout",
       "text": [
        "\r",
        "[347]Fail:http://thredds.ucar.edu/thredds/dodsC/grib/Unidata/NMM/Secondary/Best/LambertConformal_155X201-33p32N-100p4W,404"
       ]
      },
      {
       "output_type": "stream",
       "stream": "stdout",
       "text": [
        "\r",
        "[348]Fail:http://dm2.caricoos.org/thredds/dodsC/content/swan/201408301200.nc,404"
       ]
      },
      {
       "output_type": "stream",
       "stream": "stdout",
       "text": [
        "\r",
        "[349]Fail:http://thredds.ucar.edu/thredds/dodsC/grib/Unidata/NMM/Primary/Best/LambertConformal_155X201-29p16N-94p73W,404"
       ]
      },
      {
       "output_type": "stream",
       "stream": "stdout",
       "text": [
        "\r",
        "[350]Fail:http://thredds.ucar.edu/thredds/dodsC/grib/Unidata/NMM/Primary/Best/LambertConformal_155X201-44p60N-90p65W,404"
       ]
      },
      {
       "output_type": "stream",
       "stream": "stdout",
       "text": [
        "\r",
        "[351]Fail:http://thredds.ucar.edu/thredds/dodsC/grib/Unidata/NMM/Primary/Best/LambertConformal_155X201-45p04N-92p51W,404"
       ]
      },
      {
       "output_type": "stream",
       "stream": "stdout",
       "text": [
        "\r",
        "[352]Fail:http://thredds.ucar.edu/thredds/dodsC/grib/Unidata/NMM/Primary/Best/LambertConformal_155X201-45p32N-90p62W,404"
       ]
      },
      {
       "output_type": "stream",
       "stream": "stdout",
       "text": [
        "\r",
        "[353]Fail:http://thredds.ucar.edu/thredds/dodsC/grib/Unidata/NMM/Secondary/Best/LambertConformal_155X201-35p75N-98p43W,404"
       ]
      },
      {
       "output_type": "stream",
       "stream": "stdout",
       "text": [
        "\r",
        "[354]Fail:http://thredds.ucar.edu/thredds/dodsC/grib/Unidata/NMM/Secondary/Best/LambertConformal_155X201-35p85N-99p10W,404"
       ]
      },
      {
       "output_type": "stream",
       "stream": "stdout",
       "text": [
        "\r",
        "[355]Fail:http://thredds.ucar.edu/thredds/dodsC/grib/Unidata/NMM/Secondary/Best/LambertConformal_155X201-36p43N-95p65W,404"
       ]
      },
      {
       "output_type": "stream",
       "stream": "stdout",
       "text": [
        "\r",
        "[356]Fail:http://thredds.ucar.edu/thredds/dodsC/grib/Unidata/NMM/Secondary/Best/LambertConformal_155X201-45p81N-89p86W,404"
       ]
      },
      {
       "output_type": "stream",
       "stream": "stdout",
       "text": [
        "\r",
        "[357]Fail:http://dm2.caricoos.org/thredds/dodsC/content/swan/201408311200.nc,404"
       ]
      },
      {
       "output_type": "stream",
       "stream": "stdout",
       "text": [
        "\r",
        "[358]Fail:http://thredds.ucar.edu/thredds/dodsC/grib/Unidata/NMM/Primary/Best/LambertConformal_155X201-29p47N-92p72W,404"
       ]
      },
      {
       "output_type": "stream",
       "stream": "stdout",
       "text": [
        "\r",
        "[359]Fail:http://thredds.ucar.edu/thredds/dodsC/grib/Unidata/NMM/Primary/Best/LambertConformal_155X201-29p70N-93p10W,404"
       ]
      },
      {
       "output_type": "stream",
       "stream": "stdout",
       "text": [
        "\r",
        "[360]Fail:http://thredds.ucar.edu/thredds/dodsC/grib/Unidata/NMM/Primary/Best/LambertConformal_155X201-30p03N-93p34W,404"
       ]
      },
      {
       "output_type": "stream",
       "stream": "stdout",
       "text": [
        "\r",
        "[361]Fail:http://thredds.ucar.edu/thredds/dodsC/grib/Unidata/NMM/Primary/Best/LambertConformal_155X201-32p09N-92p54W,404"
       ]
      },
      {
       "output_type": "stream",
       "stream": "stdout",
       "text": [
        "\r",
        "[362]Fail:http://dm2.caricoos.org/thredds/dodsC/content/swan/201409011200.nc,404"
       ]
      },
      {
       "output_type": "stream",
       "stream": "stdout",
       "text": [
        "\r",
        "[363]Fail:http://thredds.ucar.edu/thredds/dodsC/grib/Unidata/NMM/Primary/Best/LambertConformal_155X201-35p57N-89p02W,404"
       ]
      },
      {
       "output_type": "stream",
       "stream": "stdout",
       "text": [
        "\r",
        "[364]Fail:http://thredds.ucar.edu/thredds/dodsC/grib/Unidata/NMM/Primary/Best/LambertConformal_155X201-38p52N-83p68W,404"
       ]
      },
      {
       "output_type": "stream",
       "stream": "stdout",
       "text": [
        "\r",
        "[365]Fail:http://thredds.ucar.edu/thredds/dodsC/grib/Unidata/NMM/Primary/Best/LambertConformal_155X201-38p58N-84p63W,404"
       ]
      },
      {
       "output_type": "stream",
       "stream": "stdout",
       "text": [
        "\r",
        "[366]Fail:http://thredds.ucar.edu/thredds/dodsC/grib/Unidata/NMM/Secondary/Best/LambertConformal_155X201-44p89N-90p05W,404"
       ]
      },
      {
       "output_type": "stream",
       "stream": "stdout",
       "text": [
        "\r",
        "[367]Fail:http://thredds.ucar.edu/thredds/dodsC/grib/Unidata/NMM/Secondary/Best/LambertConformal_155X201-46p20N-89p40W,404"
       ]
      },
      {
       "output_type": "stream",
       "stream": "stdout",
       "text": [
        "\r",
        "[368]Fail:http://thredds.ucar.edu/thredds/dodsC/grib/Unidata/NMM/Secondary/Best/LambertConformal_155X201-46p67N-83p75W,404"
       ]
      },
      {
       "output_type": "stream",
       "stream": "stdout",
       "text": [
        "\r",
        "[369]Fail:http://thredds.ucar.edu/thredds/dodsC/grib/Unidata/NMM/Secondary/Best/LambertConformal_155X201-47p08N-101p9W,404"
       ]
      },
      {
       "output_type": "stream",
       "stream": "stdout",
       "text": [
        "\r",
        "[370]Fail:http://thredds.ucar.edu/thredds/dodsC/grib/Unidata/NMM/Secondary/Best/LambertConformal_155X201-48p55N-99p50W,404"
       ]
      },
      {
       "output_type": "stream",
       "stream": "stdout",
       "text": [
        "\r",
        "[371]Fail:http://thredds.ucar.edu/thredds/dodsC/grib/Unidata/NMM/Secondary/Best/LambertConformal_155X201-48p76N-99p36W,404"
       ]
      },
      {
       "output_type": "stream",
       "stream": "stdout",
       "text": [
        "\r",
        "[372]Fail:http://dm2.caricoos.org/thredds/dodsC/content/swan/201409021200.nc,404"
       ]
      },
      {
       "output_type": "stream",
       "stream": "stdout",
       "text": [
        "\r",
        "[373]Fail:http://thredds.ucar.edu/thredds/dodsC/grib/NCEP/NDFD/CONUS_5km_conduit/Best/LambertConformal_689X1073-38p23N-95p42W,404"
       ]
      },
      {
       "output_type": "stream",
       "stream": "stdout",
       "text": [
        "\r",
        "[374]Fail:http://thredds.ucar.edu/thredds/dodsC/grib/NCEP/NDFD/CONUS_5km_conduit/Best/LambertConformal_689X1073-38p24N-95p42W,404"
       ]
      },
      {
       "output_type": "stream",
       "stream": "stdout",
       "text": [
        "\r",
        "[375]Fail:http://thredds.ucar.edu/thredds/dodsC/grib/NCEP/NDFD/CONUS/Fireweather/Best/LambertConformal_689X1073-38p23N-95p42W,404"
       ]
      },
      {
       "output_type": "stream",
       "stream": "stdout",
       "text": [
        "\r",
        "[376]Fail:http://thredds.ucar.edu/thredds/dodsC/grib/Unidata/NMM/Primary/Best/LambertConformal_155X201-38p63N-87p76W,404"
       ]
      },
      {
       "output_type": "stream",
       "stream": "stdout",
       "text": [
        "\r",
        "[377]Fail:http://thredds.ucar.edu/thredds/dodsC/grib/Unidata/NMM/Primary/Best/LambertConformal_155X201-38p88N-93p48W,404"
       ]
      },
      {
       "output_type": "stream",
       "stream": "stdout",
       "text": [
        "\r",
        "[378]Fail:http://thredds.ucar.edu/thredds/dodsC/grib/Unidata/NMM/Primary/Best/LambertConformal_155X201-39p22N-86p62W,404"
       ]
      },
      {
       "output_type": "stream",
       "stream": "stdout",
       "text": [
        "\r",
        "[379]Fail:http://thredds.ucar.edu/thredds/dodsC/grib/Unidata/NMM/Primary/Best/LambertConformal_155X201-40p14N-85p99W,404"
       ]
      },
      {
       "output_type": "stream",
       "stream": "stdout",
       "text": [
        "\r",
        "[380]Fail:http://thredds.ucar.edu/thredds/dodsC/grib/Unidata/NMM/Primary/Best/LambertConformal_155X201-40p31N-87p23W,404"
       ]
      },
      {
       "output_type": "stream",
       "stream": "stdout",
       "text": [
        "\r",
        "[381]Fail:http://thredds.ucar.edu/thredds/dodsC/grib/Unidata/NMM/Primary/Best/LambertConformal_155X201-43p18N-75p12W,404"
       ]
      },
      {
       "output_type": "stream",
       "stream": "stdout",
       "text": [
        "\r",
        "[382]Fail:http://thredds.ucar.edu/thredds/dodsC/grib/Unidata/NMM/Primary/Best/LambertConformal_155X201-44p64N-92p81W,404"
       ]
      },
      {
       "output_type": "stream",
       "stream": "stdout",
       "text": [
        "\r",
        "[383]Fail:http://thredds.ucar.edu/thredds/dodsC/grib/Unidata/NMM/Primary/Best/LambertConformal_155X201-45p03N-91p64W,404"
       ]
      },
      {
       "output_type": "stream",
       "stream": "stdout",
       "text": [
        "\r",
        "[384]Fail:http://thredds.ucar.edu/thredds/dodsC/grib/Unidata/NMM/Primary/Best/LambertConformal_155X201-46p15N-70p33W,404"
       ]
      },
      {
       "output_type": "stream",
       "stream": "stdout",
       "text": [
        "\r",
        "[385]Fail:http://thredds.ucar.edu/thredds/dodsC/grib/Unidata/NMM/Secondary/Best/LambertConformal_155X201-37p45N-77p42W,404"
       ]
      },
      {
       "output_type": "stream",
       "stream": "stdout",
       "text": [
        "\r",
        "[386]Fail:http://thredds.ucar.edu/thredds/dodsC/grib/Unidata/NMM/Secondary/Best/LambertConformal_155X201-39p31N-81p25W,404"
       ]
      },
      {
       "output_type": "stream",
       "stream": "stdout",
       "text": [
        "\r",
        "[387]Fail:http://thredds.ucar.edu/thredds/dodsC/grib/Unidata/NMM/Secondary/Best/LambertConformal_155X201-41p22N-70p41W,404"
       ]
      },
      {
       "output_type": "stream",
       "stream": "stdout",
       "text": [
        "\r",
        "[388]Fail:http://thredds.ucar.edu/thredds/dodsC/grib/Unidata/NMM/Secondary/Best/LambertConformal_155X201-43p98N-72p92W,404"
       ]
      },
      {
       "output_type": "stream",
       "stream": "stdout",
       "text": [
        "\r",
        "[389]Fail:http://thredds.ucar.edu/thredds/dodsC/grib/Unidata/NMM/Secondary/Best/LambertConformal_155X201-44p36N-67p86W,404"
       ]
      },
      {
       "output_type": "stream",
       "stream": "stdout",
       "text": [
        "\r",
        "[390]Fail:http://thredds.ucar.edu/thredds/dodsC/grib/Unidata/NMM/Secondary/Best/LambertConformal_155X201-45p01N-90p77W,404"
       ]
      },
      {
       "output_type": "stream",
       "stream": "stdout",
       "text": [
        "\r",
        "[391]Fail:http://thredds.ucar.edu/thredds/dodsC/grib/Unidata/NMM/Secondary/Best/LambertConformal_155X201-47p65N-84p98W,404"
       ]
      },
      {
       "output_type": "stream",
       "stream": "stdout",
       "text": [
        "\r",
        "[392]Fail:http://thredds.ucar.edu/thredds/dodsC/grib/Unidata/NMM/Secondary/Best/LambertConformal_155X201-49p00N-123p0W,404"
       ]
      },
      {
       "output_type": "stream",
       "stream": "stdout",
       "text": [
        "\r",
        "[393]Fail:http://thredds.ucar.edu/thredds/dodsC/grib/Unidata/NMM/Secondary/Best/LambertConformal_155X201-49p18N-115p5W,404"
       ]
      },
      {
       "output_type": "stream",
       "stream": "stdout",
       "text": [
        "\r",
        "[394]Fail:http://dm2.caricoos.org/thredds/dodsC/content/swan/201409041200.nc,404"
       ]
      },
      {
       "output_type": "stream",
       "stream": "stdout",
       "text": [
        "\r",
        "[395]Fail:http://dm2.caricoos.org/thredds/dodsC/content/swan/201409050000.nc,404"
       ]
      },
      {
       "output_type": "stream",
       "stream": "stdout",
       "text": [
        "\r",
        "[396]Fail:http://thredds.ucar.edu/thredds/dodsC/grib/Unidata/NMM/Primary/Best/LambertConformal_155X201-27p24N-80p17W,404"
       ]
      },
      {
       "output_type": "stream",
       "stream": "stdout",
       "text": [
        "\r",
        "[397]Fail:http://thredds.ucar.edu/thredds/dodsC/grib/Unidata/NMM/Primary/Best/LambertConformal_155X201-28p47N-80p39W,404"
       ]
      },
      {
       "output_type": "stream",
       "stream": "stdout",
       "text": [
        "\r",
        "[398]Fail:http://thredds.ucar.edu/thredds/dodsC/grib/Unidata/NMM/Primary/Best/LambertConformal_155X201-28p83N-80p72W,404"
       ]
      },
      {
       "output_type": "stream",
       "stream": "stdout",
       "text": [
        "\r",
        "[399]Fail:http://thredds.ucar.edu/thredds/dodsC/grib/Unidata/NMM/Primary/Best/LambertConformal_155X201-49p06N-106p8W,404"
       ]
      },
      {
       "output_type": "stream",
       "stream": "stdout",
       "text": [
        "\r",
        "[400]Fail:http://thredds.ucar.edu/thredds/dodsC/grib/Unidata/NMM/Primary/Best/LambertConformal_155X201-49p08N-108p1W,404"
       ]
      },
      {
       "output_type": "stream",
       "stream": "stdout",
       "text": [
        "\r",
        "[401]Fail:http://thredds.ucar.edu/thredds/dodsC/grib/Unidata/NMM/Primary/Best/LambertConformal_155X201-49p15N-114p7W,404"
       ]
      },
      {
       "output_type": "stream",
       "stream": "stdout",
       "text": [
        "\r",
        "[402]Fail:http://thredds.ucar.edu/thredds/dodsC/grib/Unidata/NMM/Secondary/Best/LambertConformal_155X201-31p08N-84p15W,404"
       ]
      },
      {
       "output_type": "stream",
       "stream": "stdout",
       "text": [
        "\r",
        "[403]Fail:http://thredds.ucar.edu/thredds/dodsC/grib/Unidata/NMM/Secondary/Best/LambertConformal_155X201-35p48N-81p87W,404"
       ]
      },
      {
       "output_type": "stream",
       "stream": "stdout",
       "text": [
        "\r",
        "[404]Fail:http://thredds.ucar.edu/thredds/dodsC/grib/Unidata/NMM/Secondary/Best/LambertConformal_155X201-45p06N-88p59W,404"
       ]
      },
      {
       "output_type": "stream",
       "stream": "stdout",
       "text": [
        "\r",
        "[405]Fail:http://thredds.ucar.edu/thredds/dodsC/grib/Unidata/NMM/Secondary/Best/LambertConformal_155X201-45p18N-89p17W,404"
       ]
      },
      {
       "output_type": "stream",
       "stream": "stdout",
       "text": [
        "\r",
        "[406]Fail:http://thredds.ucar.edu/thredds/dodsC/grib/Unidata/NMM/Secondary/Best/LambertConformal_155X201-45p65N-88p12W,404"
       ]
      },
      {
       "output_type": "stream",
       "stream": "stdout",
       "text": [
        "\r",
        "[407]Fail:http://thredds.ucar.edu/thredds/dodsC/grib/Unidata/NMM/Secondary/Best/LambertConformal_155X201-49p04N-105p4W,404"
       ]
      },
      {
       "output_type": "stream",
       "stream": "stdout",
       "text": [
        "\r",
        "[408]Fail:http://dm2.caricoos.org/thredds/dodsC/content/swan/201409061200.nc,404"
       ]
      },
      {
       "output_type": "stream",
       "stream": "stdout",
       "text": [
        "\r",
        "[409]Fail:http://thredds.ucar.edu/thredds/dodsC/grib/Unidata/NMM/Primary/Best/LambertConformal_155X201-28p62N-82p13W,404"
       ]
      },
      {
       "output_type": "stream",
       "stream": "stdout",
       "text": [
        "\r",
        "[410]Fail:http://thredds.ucar.edu/thredds/dodsC/grib/Unidata/NMM/Primary/Best/LambertConformal_155X201-28p95N-80p84W,404"
       ]
      },
      {
       "output_type": "stream",
       "stream": "stdout",
       "text": [
        "\r",
        "[411]Fail:http://thredds.ucar.edu/thredds/dodsC/grib/Unidata/NMM/Primary/Best/LambertConformal_155X201-29p64N-81p13W,404"
       ]
      },
      {
       "output_type": "stream",
       "stream": "stdout",
       "text": [
        "\r",
        "[412]Fail:http://thredds.ucar.edu/thredds/dodsC/grib/Unidata/NMM/Primary/Best/LambertConformal_155X201-34p07N-103p2W,404"
       ]
      },
      {
       "output_type": "stream",
       "stream": "stdout",
       "text": [
        "\r",
        "[413]Fail:http://thredds.ucar.edu/thredds/dodsC/grib/Unidata/NMM/Secondary/Best/LambertConformal_155X201-30p31N-81p31W,404"
       ]
      },
      {
       "output_type": "stream",
       "stream": "stdout",
       "text": [
        "\r",
        "[414]Fail:http://thredds.ucar.edu/thredds/dodsC/grib/Unidata/NMM/Secondary/Best/LambertConformal_155X201-33p96N-103p2W,404"
       ]
      },
      {
       "output_type": "stream",
       "stream": "stdout",
       "text": [
        "\r",
        "[415]Fail:http://thredds.ucar.edu/thredds/dodsC/grib/Unidata/NMM/Secondary/Best/LambertConformal_155X201-37p86N-102p9W,404"
       ]
      },
      {
       "output_type": "stream",
       "stream": "stdout",
       "text": [
        "\r",
        "[416]Fail:http://thredds.ucar.edu/thredds/dodsC/grib/Unidata/NMM/Secondary/Best/LambertConformal_155X201-38p44N-101p7W,404"
       ]
      },
      {
       "output_type": "stream",
       "stream": "stdout",
       "text": [
        "\r",
        "[417]Fail:http://dm2.caricoos.org/thredds/dodsC/content/swan/201409071200.nc,404"
       ]
      },
      {
       "output_type": "stream",
       "stream": "stdout",
       "text": [
        "\r",
        "[418]Fail:http://thredds.ucar.edu/thredds/dodsC/grib/Unidata/NMM/Primary/Best/LambertConformal_155X201-35p24N-101p3W,404"
       ]
      },
      {
       "output_type": "stream",
       "stream": "stdout",
       "text": [
        "\r",
        "[419]Fail:http://thredds.ucar.edu/thredds/dodsC/grib/Unidata/NMM/Primary/Best/LambertConformal_155X201-35p61N-99p88W,404"
       ]
      },
      {
       "output_type": "stream",
       "stream": "stdout",
       "text": [
        "\r",
        "[420]Fail:http://thredds.ucar.edu/thredds/dodsC/grib/Unidata/NMM/Primary/Best/LambertConformal_155X201-35p71N-100p2W,404"
       ]
      },
      {
       "output_type": "stream",
       "stream": "stdout",
       "text": [
        "\r",
        "[421]Fail:http://thredds.ucar.edu/thredds/dodsC/grib/Unidata/NMM/Secondary/Best/LambertConformal_155X201-29p74N-104p6W,404"
       ]
      },
      {
       "output_type": "stream",
       "stream": "stdout",
       "text": [
        "\r",
        "[422]Fail:http://thredds.ucar.edu/thredds/dodsC/grib/Unidata/NMM/Secondary/Best/LambertConformal_155X201-30p97N-81p36W,404"
       ]
      },
      {
       "output_type": "stream",
       "stream": "stdout",
       "text": [
        "\r",
        "[423]Fail:http://thredds.ucar.edu/thredds/dodsC/grib/Unidata/NMM/Secondary/Best/LambertConformal_155X201-31p08N-81p34W,404"
       ]
      },
      {
       "output_type": "stream",
       "stream": "stdout",
       "text": [
        "\r",
        "[424]Fail:http://thredds.ucar.edu/thredds/dodsC/grib/Unidata/NMM/Secondary/Best/LambertConformal_155X201-31p71N-81p01W,404"
       ]
      },
      {
       "output_type": "stream",
       "stream": "stdout",
       "text": [
        "\r",
        "[425]Fail:http://dm2.caricoos.org/thredds/dodsC/content/swan/201409081200.nc,404"
       ]
      },
      {
       "output_type": "stream",
       "stream": "stdout",
       "text": [
        "\r",
        "[426]Fail:http://thredds.ucar.edu/thredds/dodsC/grib/Unidata/NMM/Primary/Best/LambertConformal_155X201-31p71N-81p01W,404"
       ]
      },
      {
       "output_type": "stream",
       "stream": "stdout",
       "text": [
        "\r",
        "[427]Fail:http://thredds.ucar.edu/thredds/dodsC/grib/Unidata/NMM/Primary/Best/LambertConformal_155X201-32p60N-79p99W,404"
       ]
      },
      {
       "output_type": "stream",
       "stream": "stdout",
       "text": [
        "\r",
        "[428]Fail:http://thredds.ucar.edu/thredds/dodsC/grib/Unidata/NMM/Secondary/Best/LambertConformal_155X201-29p53N-104p5W,404"
       ]
      },
      {
       "output_type": "stream",
       "stream": "stdout",
       "text": [
        "\r",
        "[429]Fail:http://thredds.ucar.edu/thredds/dodsC/grib/Unidata/NMM/Secondary/Best/LambertConformal_155X201-31p89N-95p62W,404"
       ]
      },
      {
       "output_type": "stream",
       "stream": "stdout",
       "text": [
        "\r",
        "[430]Fail:http://thredds.ucar.edu/thredds/dodsC/grib/Unidata/NMM/Primary/Best/LambertConformal_155X201-34p13N-78p87W,404"
       ]
      },
      {
       "output_type": "stream",
       "stream": "stdout",
       "text": [
        "\r",
        "[431]Fail:http://thredds.ucar.edu/thredds/dodsC/grib/Unidata/NMM/Primary/Best/LambertConformal_155X201-34p92N-78p09W,404"
       ]
      },
      {
       "output_type": "stream",
       "stream": "stdout",
       "text": [
        "\r",
        "[432]Fail:http://thredds.ucar.edu/thredds/dodsC/grib/Unidata/NMM/Primary/Best/LambertConformal_155X201-35p19N-77p52W,404"
       ]
      },
      {
       "output_type": "stream",
       "stream": "stdout",
       "text": [
        "\r",
        "[433]Fail:http://thredds.ucar.edu/thredds/dodsC/grib/Unidata/NMM/Primary/Best/LambertConformal_155X201-36p07N-77p65W,404"
       ]
      },
      {
       "output_type": "stream",
       "stream": "stdout",
       "text": [
        "\r",
        "[434]Fail:http://thredds.ucar.edu/thredds/dodsC/grib/Unidata/NMM/Secondary/Best/LambertConformal_155X201-31p25N-110p4W,404"
       ]
      },
      {
       "output_type": "stream",
       "stream": "stdout",
       "text": [
        "\r",
        "[435]Fail:http://thredds.ucar.edu/thredds/dodsC/grib/Unidata/NMM/Secondary/Best/LambertConformal_155X201-31p65N-110p8W,404"
       ]
      },
      {
       "output_type": "stream",
       "stream": "stdout",
       "text": [
        "\r",
        "[436]Fail:http://thredds.ucar.edu/thredds/dodsC/grib/Unidata/NMM/Secondary/Best/LambertConformal_155X201-32p05N-111p1W,404"
       ]
      },
      {
       "output_type": "stream",
       "stream": "stdout",
       "text": [
        "\r",
        "[437]Fail:http://thredds.ucar.edu/thredds/dodsC/grib/Unidata/NMM/Secondary/Best/LambertConformal_155X201-32p83N-111p0W,404"
       ]
      },
      {
       "output_type": "stream",
       "stream": "stdout",
       "text": [
        "\r",
        "[438]Fail:http://dm2.caricoos.org/thredds/dodsC/content/swan/201409090000.nc,404"
       ]
      },
      {
       "output_type": "stream",
       "stream": "stdout",
       "text": [
        "\r",
        "[439]Fail:http://thredds.ucar.edu/thredds/dodsC/grib/NCEP/NAM/Firewxnest/Best/LambertConformal_389X581-42p99N-114p2W,404"
       ]
      },
      {
       "output_type": "stream",
       "stream": "stdout",
       "text": [
        "\r",
        "[440]Fail:http://thredds.ucar.edu/thredds/dodsC/grib/Unidata/NMM/Primary/Best/LambertConformal_155X201-36p75N-76p86W,404"
       ]
      },
      {
       "output_type": "stream",
       "stream": "stdout",
       "text": [
        "\r",
        "[441]Fail:http://thredds.ucar.edu/thredds/dodsC/grib/Unidata/NMM/Primary/Best/LambertConformal_155X201-36p96N-75p88W,404"
       ]
      },
      {
       "output_type": "stream",
       "stream": "stdout",
       "text": [
        "\r",
        "[442]Fail:http://thredds.ucar.edu/thredds/dodsC/grib/Unidata/NMM/Primary/Best/LambertConformal_155X201-37p48N-75p65W,404"
       ]
      },
      {
       "output_type": "stream",
       "stream": "stdout",
       "text": [
        "\r",
        "[443]Fail:http://thredds.ucar.edu/thredds/dodsC/grib/Unidata/NMM/Primary/Best/LambertConformal_155X201-43p20N-93p84W,404"
       ]
      },
      {
       "output_type": "stream",
       "stream": "stdout",
       "text": [
        "\r",
        "[444]Fail:http://thredds.ucar.edu/thredds/dodsC/grib/Unidata/NMM/Secondary/Best/LambertConformal_155X201-36p28N-112p4W,404"
       ]
      },
      {
       "output_type": "stream",
       "stream": "stdout",
       "text": [
        "\r",
        "[445]Fail:http://thredds.ucar.edu/thredds/dodsC/grib/Unidata/NMM/Secondary/Best/LambertConformal_155X201-38p15N-74p98W,404"
       ]
      },
      {
       "output_type": "stream",
       "stream": "stdout",
       "text": [
        "\r",
        "[446]Fail:http://thredds.ucar.edu/thredds/dodsC/grib/Unidata/NMM/Secondary/Best/LambertConformal_155X201-40p37N-108p8W,404"
       ]
      },
      {
       "output_type": "stream",
       "stream": "stdout",
       "text": [
        "\r",
        "[447]Fail:http://thredds.ucar.edu/thredds/dodsC/grib/Unidata/NMM/Secondary/Best/LambertConformal_155X201-41p74N-94p70W,404"
       ]
      },
      {
       "output_type": "stream",
       "stream": "stdout",
       "text": [
        "\r",
        "[448]Fail:http://barataria.tamu.edu/thredds/dodsC/nam_gom_monthly/dswrf/nam_dswrf_gom_200901.nc,-1"
       ]
      },
      {
       "output_type": "stream",
       "stream": "stdout",
       "text": [
        "\r",
        "[449]Fail:http://barataria.tamu.edu/thredds/dodsC/nam_gom_monthly/dswrf/nam_dswrf_gom_200902.nc,-1"
       ]
      },
      {
       "output_type": "stream",
       "stream": "stdout",
       "text": [
        "\r",
        "[450]Fail:http://barataria.tamu.edu/thredds/dodsC/nam_gom_monthly/dswrf/nam_dswrf_gom_200903.nc,-1"
       ]
      },
      {
       "output_type": "stream",
       "stream": "stdout",
       "text": [
        "\r",
        "[451]Fail:http://barataria.tamu.edu/thredds/dodsC/nam_gom_monthly/dswrf/nam_dswrf_gom_200904.nc,-1"
       ]
      },
      {
       "output_type": "stream",
       "stream": "stdout",
       "text": [
        "\r",
        "[452]Fail:http://barataria.tamu.edu/thredds/dodsC/nam_gom_monthly/dswrf/nam_dswrf_gom_200905.nc,-1"
       ]
      },
      {
       "output_type": "stream",
       "stream": "stdout",
       "text": [
        "\r",
        "[453]Fail:http://barataria.tamu.edu/thredds/dodsC/nam_gom_monthly/dswrf/nam_dswrf_gom_200906.nc,-1"
       ]
      },
      {
       "output_type": "stream",
       "stream": "stdout",
       "text": [
        "\r",
        "[454]Fail:http://barataria.tamu.edu/thredds/dodsC/nam_gom_monthly/dswrf/nam_dswrf_gom_200907.nc,-1"
       ]
      },
      {
       "output_type": "stream",
       "stream": "stdout",
       "text": [
        "\r",
        "[455]Fail:http://barataria.tamu.edu/thredds/dodsC/nam_gom_monthly/dswrf/nam_dswrf_gom_200908.nc,-1"
       ]
      },
      {
       "output_type": "stream",
       "stream": "stdout",
       "text": [
        "\r",
        "[456]Fail:http://barataria.tamu.edu/thredds/dodsC/nam_gom_monthly/dswrf/nam_dswrf_gom_200909.nc,-1"
       ]
      },
      {
       "output_type": "stream",
       "stream": "stdout",
       "text": [
        "\r",
        "[457]Fail:http://barataria.tamu.edu/thredds/dodsC/nam_gom_monthly/dswrf/nam_dswrf_gom_200910.nc,-1"
       ]
      },
      {
       "output_type": "stream",
       "stream": "stdout",
       "text": [
        "\r",
        "[458]Fail:http://barataria.tamu.edu/thredds/dodsC/nam_gom_monthly/dswrf/nam_dswrf_gom_200911.nc,-1"
       ]
      },
      {
       "output_type": "stream",
       "stream": "stdout",
       "text": [
        "\r",
        "[459]Fail:http://barataria.tamu.edu/thredds/dodsC/nam_gom_monthly/dswrf/nam_dswrf_gom_200912.nc,-1"
       ]
      },
      {
       "output_type": "stream",
       "stream": "stdout",
       "text": [
        "\r",
        "[460]Fail:http://barataria.tamu.edu/thredds/dodsC/nam_gom_monthly/dswrf/nam_dswrf_gom_201001.nc,-1"
       ]
      },
      {
       "output_type": "stream",
       "stream": "stdout",
       "text": [
        "\r",
        "[461]Fail:http://barataria.tamu.edu/thredds/dodsC/nam_gom_monthly/dswrf/nam_dswrf_gom_201002.nc,-1"
       ]
      },
      {
       "output_type": "stream",
       "stream": "stdout",
       "text": [
        "\r",
        "[462]Fail:http://barataria.tamu.edu/thredds/dodsC/nam_gom_monthly/dswrf/nam_dswrf_gom_201003.nc,-1"
       ]
      },
      {
       "output_type": "stream",
       "stream": "stdout",
       "text": [
        "\r",
        "[463]Fail:http://barataria.tamu.edu/thredds/dodsC/nam_gom_monthly/dswrf/nam_dswrf_gom_201004.nc,-1"
       ]
      },
      {
       "output_type": "stream",
       "stream": "stdout",
       "text": [
        "\r",
        "[464]Fail:http://barataria.tamu.edu/thredds/dodsC/nam_gom_monthly/dswrf/nam_dswrf_gom_201005.nc,-1"
       ]
      },
      {
       "output_type": "stream",
       "stream": "stdout",
       "text": [
        "\r",
        "[465]Fail:http://barataria.tamu.edu/thredds/dodsC/nam_gom_monthly/dswrf/nam_dswrf_gom_201006.nc,-1"
       ]
      },
      {
       "output_type": "stream",
       "stream": "stdout",
       "text": [
        "\r",
        "[466]Fail:http://barataria.tamu.edu/thredds/dodsC/nam_gom_monthly/dswrf/nam_dswrf_gom_201007.nc,-1"
       ]
      },
      {
       "output_type": "stream",
       "stream": "stdout",
       "text": [
        "\r",
        "[467]Fail:http://barataria.tamu.edu/thredds/dodsC/nam_gom_monthly/dswrf/nam_dswrf_gom_201008.nc,-1"
       ]
      },
      {
       "output_type": "stream",
       "stream": "stdout",
       "text": [
        "\r",
        "[468]Fail:http://barataria.tamu.edu/thredds/dodsC/nam_gom_monthly/dswrf/nam_dswrf_gom_201009.nc,-1"
       ]
      },
      {
       "output_type": "stream",
       "stream": "stdout",
       "text": [
        "\r",
        "[469]Fail:http://barataria.tamu.edu/thredds/dodsC/nam_gom_monthly/dswrf/nam_dswrf_gom_201010.nc,-1"
       ]
      },
      {
       "output_type": "stream",
       "stream": "stdout",
       "text": [
        "\r",
        "[470]Fail:http://barataria.tamu.edu/thredds/dodsC/nam_gom_monthly/dswrf/nam_dswrf_gom_201011.nc,-1"
       ]
      },
      {
       "output_type": "stream",
       "stream": "stdout",
       "text": [
        "\r",
        "[471]Fail:http://barataria.tamu.edu/thredds/dodsC/nam_gom_monthly/dswrf/nam_dswrf_gom_201012.nc,-1"
       ]
      },
      {
       "output_type": "stream",
       "stream": "stdout",
       "text": [
        "\r",
        "[472]Fail:http://barataria.tamu.edu/thredds/dodsC/nam_gom_monthly/dswrf/nam_dswrf_gom_201101.nc,-1"
       ]
      },
      {
       "output_type": "stream",
       "stream": "stdout",
       "text": [
        "\r",
        "[473]Fail:http://barataria.tamu.edu/thredds/dodsC/nam_gom_monthly/dswrf/nam_dswrf_gom_201102.nc,-1"
       ]
      },
      {
       "output_type": "stream",
       "stream": "stdout",
       "text": [
        "\r",
        "[474]Fail:http://barataria.tamu.edu/thredds/dodsC/nam_gom_monthly/dswrf/nam_dswrf_gom_201103.nc,-1"
       ]
      },
      {
       "output_type": "stream",
       "stream": "stdout",
       "text": [
        "\r",
        "[475]Fail:http://barataria.tamu.edu/thredds/dodsC/nam_gom_monthly/dswrf/nam_dswrf_gom_201104.nc,-1"
       ]
      },
      {
       "output_type": "stream",
       "stream": "stdout",
       "text": [
        "\r",
        "[476]Fail:http://barataria.tamu.edu/thredds/dodsC/nam_gom_monthly/dswrf/nam_dswrf_gom_201105.nc,-1"
       ]
      },
      {
       "output_type": "stream",
       "stream": "stdout",
       "text": [
        "\r",
        "[477]Fail:http://barataria.tamu.edu/thredds/dodsC/nam_gom_monthly/dswrf/nam_dswrf_gom_201106.nc,-1"
       ]
      },
      {
       "output_type": "stream",
       "stream": "stdout",
       "text": [
        "\r",
        "[478]Fail:http://barataria.tamu.edu/thredds/dodsC/nam_gom_monthly/dswrf/nam_dswrf_gom_201107.nc,-1"
       ]
      },
      {
       "output_type": "stream",
       "stream": "stdout",
       "text": [
        "\r",
        "[479]Fail:http://barataria.tamu.edu/thredds/dodsC/nam_gom_monthly/dswrf/nam_dswrf_gom_201108.nc,-1"
       ]
      },
      {
       "output_type": "stream",
       "stream": "stdout",
       "text": [
        "\r",
        "[480]Fail:http://barataria.tamu.edu/thredds/dodsC/nam_gom_monthly/dswrf/nam_dswrf_gom_201109.nc,-1"
       ]
      },
      {
       "output_type": "stream",
       "stream": "stdout",
       "text": [
        "\r",
        "[481]Fail:http://barataria.tamu.edu/thredds/dodsC/nam_gom_monthly/dswrf/nam_dswrf_gom_201110.nc,-1"
       ]
      },
      {
       "output_type": "stream",
       "stream": "stdout",
       "text": [
        "\r",
        "[482]Fail:http://barataria.tamu.edu/thredds/dodsC/nam_gom_monthly/dswrf/nam_dswrf_gom_201111.nc,-1"
       ]
      },
      {
       "output_type": "stream",
       "stream": "stdout",
       "text": [
        "\r",
        "[483]Fail:http://barataria.tamu.edu/thredds/dodsC/nam_gom_monthly/dswrf/nam_dswrf_gom_201112.nc,-1"
       ]
      },
      {
       "output_type": "stream",
       "stream": "stdout",
       "text": [
        "\r",
        "[484]Fail:http://barataria.tamu.edu/thredds/dodsC/nam_gom_monthly/dswrf/nam_dswrf_gom_201201.nc,-1"
       ]
      },
      {
       "output_type": "stream",
       "stream": "stdout",
       "text": [
        "\r",
        "[485]Fail:http://barataria.tamu.edu/thredds/dodsC/nam_gom_monthly/dswrf/nam_dswrf_gom_201202.nc,-1"
       ]
      },
      {
       "output_type": "stream",
       "stream": "stdout",
       "text": [
        "\r",
        "[486]Fail:http://barataria.tamu.edu/thredds/dodsC/nam_gom_monthly/dswrf/nam_dswrf_gom_201203.nc,-1"
       ]
      },
      {
       "output_type": "stream",
       "stream": "stdout",
       "text": [
        "\r",
        "[487]Fail:http://barataria.tamu.edu/thredds/dodsC/nam_gom_monthly/dswrf/nam_dswrf_gom_201204.nc,-1"
       ]
      },
      {
       "output_type": "stream",
       "stream": "stdout",
       "text": [
        "\r",
        "[488]Fail:http://barataria.tamu.edu/thredds/dodsC/nam_gom_monthly/dswrf/nam_dswrf_gom_201205.nc,-1"
       ]
      },
      {
       "output_type": "stream",
       "stream": "stdout",
       "text": [
        "\r",
        "[489]Fail:http://barataria.tamu.edu/thredds/dodsC/nam_gom_monthly/dswrf/nam_dswrf_gom_201206.nc,-1"
       ]
      },
      {
       "output_type": "stream",
       "stream": "stdout",
       "text": [
        "\r",
        "[490]Fail:http://barataria.tamu.edu/thredds/dodsC/nam_gom_monthly/dswrf/nam_dswrf_gom_201207.nc,-1"
       ]
      },
      {
       "output_type": "stream",
       "stream": "stdout",
       "text": [
        "\r",
        "[491]Fail:http://barataria.tamu.edu/thredds/dodsC/nam_gom_monthly/dswrf/nam_dswrf_gom_201208.nc,-1"
       ]
      },
      {
       "output_type": "stream",
       "stream": "stdout",
       "text": [
        "\r",
        "[492]Fail:http://barataria.tamu.edu/thredds/dodsC/nam_gom_monthly/dswrf/nam_dswrf_gom_201209.nc,-1"
       ]
      },
      {
       "output_type": "stream",
       "stream": "stdout",
       "text": [
        "\r",
        "[493]Fail:http://barataria.tamu.edu/thredds/dodsC/nam_gom_monthly/dswrf/nam_dswrf_gom_201210.nc,-1"
       ]
      },
      {
       "output_type": "stream",
       "stream": "stdout",
       "text": [
        "\r",
        "[494]Fail:http://barataria.tamu.edu/thredds/dodsC/nam_gom_monthly/dswrf/nam_dswrf_gom_201211.nc,-1"
       ]
      },
      {
       "output_type": "stream",
       "stream": "stdout",
       "text": [
        "\r",
        "[495]Fail:http://barataria.tamu.edu/thredds/dodsC/nam_gom_monthly/dswrf/nam_dswrf_gom_201212.nc,-1"
       ]
      },
      {
       "output_type": "stream",
       "stream": "stdout",
       "text": [
        "\r",
        "[496]Fail:http://barataria.tamu.edu/thredds/dodsC/nam_gom_monthly/dswrf/nam_dswrf_gom_201301.nc,-1"
       ]
      },
      {
       "output_type": "stream",
       "stream": "stdout",
       "text": [
        "\r",
        "[497]Fail:http://barataria.tamu.edu/thredds/dodsC/nam_gom_monthly/dswrf/nam_dswrf_gom_201302.nc,-1"
       ]
      },
      {
       "output_type": "stream",
       "stream": "stdout",
       "text": [
        "\r",
        "[498]Fail:http://barataria.tamu.edu/thredds/dodsC/nam_gom_monthly/dswrf/nam_dswrf_gom_201303.nc,-1"
       ]
      },
      {
       "output_type": "stream",
       "stream": "stdout",
       "text": [
        "\r",
        "[499]Fail:http://barataria.tamu.edu/thredds/dodsC/nam_gom_monthly/dswrf/nam_dswrf_gom_201304.nc,-1"
       ]
      },
      {
       "output_type": "stream",
       "stream": "stdout",
       "text": [
        "\r",
        "[500]Fail:http://barataria.tamu.edu/thredds/dodsC/nam_gom_monthly/dswrf/nam_dswrf_gom_201305.nc,-1"
       ]
      },
      {
       "output_type": "stream",
       "stream": "stdout",
       "text": [
        "\r",
        "[501]Fail:http://barataria.tamu.edu/thredds/dodsC/nam_gom_monthly/dswrf/nam_dswrf_gom_201306.nc,-1"
       ]
      },
      {
       "output_type": "stream",
       "stream": "stdout",
       "text": [
        "\r",
        "[502]Fail:http://barataria.tamu.edu/thredds/dodsC/nam_gom_monthly/dswrf/nam_dswrf_gom_201307.nc,-1"
       ]
      },
      {
       "output_type": "stream",
       "stream": "stdout",
       "text": [
        "\r",
        "[503]Fail:http://barataria.tamu.edu/thredds/dodsC/nam_gom_monthly/dswrf/nam_dswrf_gom_201308.nc,-1"
       ]
      },
      {
       "output_type": "stream",
       "stream": "stdout",
       "text": [
        "\r",
        "[504]Fail:http://barataria.tamu.edu/thredds/dodsC/nam_gom_monthly/dswrf/nam_dswrf_gom_201309.nc,-1"
       ]
      },
      {
       "output_type": "stream",
       "stream": "stdout",
       "text": [
        "\r",
        "[505]Fail:http://barataria.tamu.edu/thredds/dodsC/nam_gom_monthly/dswrf/nam_dswrf_gom_201310.nc,-1"
       ]
      },
      {
       "output_type": "stream",
       "stream": "stdout",
       "text": [
        "\r",
        "[506]Fail:http://barataria.tamu.edu/thredds/dodsC/nam_gom_monthly/dswrf/nam_dswrf_gom_201311.nc,-1"
       ]
      },
      {
       "output_type": "stream",
       "stream": "stdout",
       "text": [
        "\r",
        "[507]Fail:http://barataria.tamu.edu/thredds/dodsC/nam_gom_monthly/dswrf/nam_dswrf_gom_201312.nc,-1"
       ]
      },
      {
       "output_type": "stream",
       "stream": "stdout",
       "text": [
        "\r",
        "[508]Fail:http://barataria.tamu.edu/thredds/dodsC/nam_gom_monthly/prate/nam_prate_gom_200901.nc,-1"
       ]
      },
      {
       "output_type": "stream",
       "stream": "stdout",
       "text": [
        "\r",
        "[509]Fail:http://barataria.tamu.edu/thredds/dodsC/nam_gom_monthly/prate/nam_prate_gom_200902.nc,-1"
       ]
      },
      {
       "output_type": "stream",
       "stream": "stdout",
       "text": [
        "\r",
        "[510]Fail:http://barataria.tamu.edu/thredds/dodsC/nam_gom_monthly/prate/nam_prate_gom_200903.nc,-1"
       ]
      },
      {
       "output_type": "stream",
       "stream": "stdout",
       "text": [
        "\r",
        "[511]Fail:http://barataria.tamu.edu/thredds/dodsC/nam_gom_monthly/prate/nam_prate_gom_200904.nc,-1"
       ]
      },
      {
       "output_type": "stream",
       "stream": "stdout",
       "text": [
        "\r",
        "[512]Fail:http://barataria.tamu.edu/thredds/dodsC/nam_gom_monthly/prate/nam_prate_gom_200905.nc,-1"
       ]
      },
      {
       "output_type": "stream",
       "stream": "stdout",
       "text": [
        "\r",
        "[513]Fail:http://barataria.tamu.edu/thredds/dodsC/nam_gom_monthly/prate/nam_prate_gom_200906.nc,-1"
       ]
      },
      {
       "output_type": "stream",
       "stream": "stdout",
       "text": [
        "\r",
        "[514]Fail:http://barataria.tamu.edu/thredds/dodsC/nam_gom_monthly/prate/nam_prate_gom_200907.nc,-1"
       ]
      },
      {
       "output_type": "stream",
       "stream": "stdout",
       "text": [
        "\r",
        "[515]Fail:http://barataria.tamu.edu/thredds/dodsC/nam_gom_monthly/prate/nam_prate_gom_200908.nc,-1"
       ]
      },
      {
       "output_type": "stream",
       "stream": "stdout",
       "text": [
        "\r",
        "[516]Fail:http://barataria.tamu.edu/thredds/dodsC/nam_gom_monthly/prate/nam_prate_gom_200909.nc,-1"
       ]
      },
      {
       "output_type": "stream",
       "stream": "stdout",
       "text": [
        "\r",
        "[517]Fail:http://barataria.tamu.edu/thredds/dodsC/nam_gom_monthly/prate/nam_prate_gom_200910.nc,-1"
       ]
      },
      {
       "output_type": "stream",
       "stream": "stdout",
       "text": [
        "\r",
        "[518]Fail:http://barataria.tamu.edu/thredds/dodsC/nam_gom_monthly/prate/nam_prate_gom_200911.nc,-1"
       ]
      },
      {
       "output_type": "stream",
       "stream": "stdout",
       "text": [
        "\r",
        "[519]Fail:http://barataria.tamu.edu/thredds/dodsC/nam_gom_monthly/prate/nam_prate_gom_200912.nc,-1"
       ]
      },
      {
       "output_type": "stream",
       "stream": "stdout",
       "text": [
        "\r",
        "[520]Fail:http://barataria.tamu.edu/thredds/dodsC/nam_gom_monthly/prate/nam_prate_gom_201001.nc,-1"
       ]
      },
      {
       "output_type": "stream",
       "stream": "stdout",
       "text": [
        "\r",
        "[521]Fail:http://barataria.tamu.edu/thredds/dodsC/nam_gom_monthly/prate/nam_prate_gom_201002.nc,-1"
       ]
      },
      {
       "output_type": "stream",
       "stream": "stdout",
       "text": [
        "\r",
        "[522]Fail:http://barataria.tamu.edu/thredds/dodsC/nam_gom_monthly/prate/nam_prate_gom_201003.nc,-1"
       ]
      },
      {
       "output_type": "stream",
       "stream": "stdout",
       "text": [
        "\r",
        "[523]Fail:http://barataria.tamu.edu/thredds/dodsC/nam_gom_monthly/prate/nam_prate_gom_201004.nc,-1"
       ]
      },
      {
       "output_type": "stream",
       "stream": "stdout",
       "text": [
        "\r",
        "[524]Fail:http://barataria.tamu.edu/thredds/dodsC/nam_gom_monthly/prate/nam_prate_gom_201005.nc,-1"
       ]
      },
      {
       "output_type": "stream",
       "stream": "stdout",
       "text": [
        "\r",
        "[525]Fail:http://barataria.tamu.edu/thredds/dodsC/nam_gom_monthly/prate/nam_prate_gom_201006.nc,-1"
       ]
      },
      {
       "output_type": "stream",
       "stream": "stdout",
       "text": [
        "\r",
        "[526]Fail:http://barataria.tamu.edu/thredds/dodsC/nam_gom_monthly/prate/nam_prate_gom_201007.nc,-1"
       ]
      },
      {
       "output_type": "stream",
       "stream": "stdout",
       "text": [
        "\r",
        "[527]Fail:http://barataria.tamu.edu/thredds/dodsC/nam_gom_monthly/prate/nam_prate_gom_201008.nc,-1"
       ]
      },
      {
       "output_type": "stream",
       "stream": "stdout",
       "text": [
        "\r",
        "[528]Fail:http://barataria.tamu.edu/thredds/dodsC/nam_gom_monthly/prate/nam_prate_gom_201009.nc,-1"
       ]
      },
      {
       "output_type": "stream",
       "stream": "stdout",
       "text": [
        "\r",
        "[529]Fail:http://barataria.tamu.edu/thredds/dodsC/nam_gom_monthly/prate/nam_prate_gom_201010.nc,-1"
       ]
      },
      {
       "output_type": "stream",
       "stream": "stdout",
       "text": [
        "\r",
        "[530]Fail:http://barataria.tamu.edu/thredds/dodsC/nam_gom_monthly/prate/nam_prate_gom_201011.nc,-1"
       ]
      },
      {
       "output_type": "stream",
       "stream": "stdout",
       "text": [
        "\r",
        "[531]Fail:http://barataria.tamu.edu/thredds/dodsC/nam_gom_monthly/prate/nam_prate_gom_201012.nc,-1"
       ]
      },
      {
       "output_type": "stream",
       "stream": "stdout",
       "text": [
        "\r",
        "[532]Fail:http://barataria.tamu.edu/thredds/dodsC/nam_gom_monthly/prate/nam_prate_gom_201101.nc,-1"
       ]
      },
      {
       "output_type": "stream",
       "stream": "stdout",
       "text": [
        "\r",
        "[533]Fail:http://barataria.tamu.edu/thredds/dodsC/nam_gom_monthly/prate/nam_prate_gom_201102.nc,-1"
       ]
      },
      {
       "output_type": "stream",
       "stream": "stdout",
       "text": [
        "\r",
        "[534]Fail:http://barataria.tamu.edu/thredds/dodsC/nam_gom_monthly/prate/nam_prate_gom_201103.nc,-1"
       ]
      },
      {
       "output_type": "stream",
       "stream": "stdout",
       "text": [
        "\r",
        "[535]Fail:http://barataria.tamu.edu/thredds/dodsC/nam_gom_monthly/prate/nam_prate_gom_201104.nc,-1"
       ]
      },
      {
       "output_type": "stream",
       "stream": "stdout",
       "text": [
        "\r",
        "[536]Fail:http://barataria.tamu.edu/thredds/dodsC/nam_gom_monthly/prate/nam_prate_gom_201105.nc,-1"
       ]
      },
      {
       "output_type": "stream",
       "stream": "stdout",
       "text": [
        "\r",
        "[537]Fail:http://barataria.tamu.edu/thredds/dodsC/nam_gom_monthly/prate/nam_prate_gom_201106.nc,-1"
       ]
      },
      {
       "output_type": "stream",
       "stream": "stdout",
       "text": [
        "\r",
        "[538]Fail:http://barataria.tamu.edu/thredds/dodsC/nam_gom_monthly/prate/nam_prate_gom_201107.nc,-1"
       ]
      },
      {
       "output_type": "stream",
       "stream": "stdout",
       "text": [
        "\r",
        "[539]Fail:http://barataria.tamu.edu/thredds/dodsC/nam_gom_monthly/prate/nam_prate_gom_201108.nc,-1"
       ]
      },
      {
       "output_type": "stream",
       "stream": "stdout",
       "text": [
        "\r",
        "[540]Fail:http://barataria.tamu.edu/thredds/dodsC/nam_gom_monthly/prate/nam_prate_gom_201109.nc,-1"
       ]
      },
      {
       "output_type": "stream",
       "stream": "stdout",
       "text": [
        "\r",
        "[541]Fail:http://barataria.tamu.edu/thredds/dodsC/nam_gom_monthly/prate/nam_prate_gom_201110.nc,-1"
       ]
      },
      {
       "output_type": "stream",
       "stream": "stdout",
       "text": [
        "\r",
        "[542]Fail:http://barataria.tamu.edu/thredds/dodsC/nam_gom_monthly/prate/nam_prate_gom_201111.nc,-1"
       ]
      },
      {
       "output_type": "stream",
       "stream": "stdout",
       "text": [
        "\r",
        "[543]Fail:http://barataria.tamu.edu/thredds/dodsC/nam_gom_monthly/prate/nam_prate_gom_201112.nc,-1"
       ]
      },
      {
       "output_type": "stream",
       "stream": "stdout",
       "text": [
        "\r",
        "[544]Fail:http://barataria.tamu.edu/thredds/dodsC/nam_gom_monthly/prate/nam_prate_gom_201201.nc,-1"
       ]
      },
      {
       "output_type": "stream",
       "stream": "stdout",
       "text": [
        "\r",
        "[545]Fail:http://barataria.tamu.edu/thredds/dodsC/nam_gom_monthly/prate/nam_prate_gom_201202.nc,-1"
       ]
      },
      {
       "output_type": "stream",
       "stream": "stdout",
       "text": [
        "\r",
        "[546]Fail:http://barataria.tamu.edu/thredds/dodsC/nam_gom_monthly/prate/nam_prate_gom_201203.nc,-1"
       ]
      },
      {
       "output_type": "stream",
       "stream": "stdout",
       "text": [
        "\r",
        "[547]Fail:http://barataria.tamu.edu/thredds/dodsC/nam_gom_monthly/prate/nam_prate_gom_201204.nc,-1"
       ]
      },
      {
       "output_type": "stream",
       "stream": "stdout",
       "text": [
        "\r",
        "[548]Fail:http://barataria.tamu.edu/thredds/dodsC/nam_gom_monthly/prate/nam_prate_gom_201205.nc,-1"
       ]
      },
      {
       "output_type": "stream",
       "stream": "stdout",
       "text": [
        "\r",
        "[549]Fail:http://barataria.tamu.edu/thredds/dodsC/nam_gom_monthly/prate/nam_prate_gom_201206.nc,-1"
       ]
      },
      {
       "output_type": "stream",
       "stream": "stdout",
       "text": [
        "\r",
        "[550]Fail:http://barataria.tamu.edu/thredds/dodsC/nam_gom_monthly/prate/nam_prate_gom_201207.nc,-1"
       ]
      },
      {
       "output_type": "stream",
       "stream": "stdout",
       "text": [
        "\r",
        "[551]Fail:http://barataria.tamu.edu/thredds/dodsC/nam_gom_monthly/prate/nam_prate_gom_201208.nc,-1"
       ]
      },
      {
       "output_type": "stream",
       "stream": "stdout",
       "text": [
        "\r",
        "[552]Fail:http://barataria.tamu.edu/thredds/dodsC/nam_gom_monthly/prate/nam_prate_gom_201209.nc,-1"
       ]
      },
      {
       "output_type": "stream",
       "stream": "stdout",
       "text": [
        "\r",
        "[553]Fail:http://barataria.tamu.edu/thredds/dodsC/nam_gom_monthly/prate/nam_prate_gom_201210.nc,-1"
       ]
      },
      {
       "output_type": "stream",
       "stream": "stdout",
       "text": [
        "\r",
        "[554]Fail:http://barataria.tamu.edu/thredds/dodsC/nam_gom_monthly/prate/nam_prate_gom_201211.nc,-1"
       ]
      },
      {
       "output_type": "stream",
       "stream": "stdout",
       "text": [
        "\r",
        "[555]Fail:http://barataria.tamu.edu/thredds/dodsC/nam_gom_monthly/prate/nam_prate_gom_201212.nc,-1"
       ]
      },
      {
       "output_type": "stream",
       "stream": "stdout",
       "text": [
        "\r",
        "[556]Fail:http://barataria.tamu.edu/thredds/dodsC/nam_gom_monthly/prate/nam_prate_gom_201301.nc,-1"
       ]
      },
      {
       "output_type": "stream",
       "stream": "stdout",
       "text": [
        "\r",
        "[557]Fail:http://barataria.tamu.edu/thredds/dodsC/nam_gom_monthly/prate/nam_prate_gom_201302.nc,-1"
       ]
      },
      {
       "output_type": "stream",
       "stream": "stdout",
       "text": [
        "\r",
        "[558]Fail:http://barataria.tamu.edu/thredds/dodsC/nam_gom_monthly/prate/nam_prate_gom_201303.nc,-1"
       ]
      },
      {
       "output_type": "stream",
       "stream": "stdout",
       "text": [
        "\r",
        "[559]Fail:http://barataria.tamu.edu/thredds/dodsC/nam_gom_monthly/prate/nam_prate_gom_201304.nc,-1"
       ]
      },
      {
       "output_type": "stream",
       "stream": "stdout",
       "text": [
        "\r",
        "[560]Fail:http://barataria.tamu.edu/thredds/dodsC/nam_gom_monthly/prate/nam_prate_gom_201305.nc,-1"
       ]
      },
      {
       "output_type": "stream",
       "stream": "stdout",
       "text": [
        "\r",
        "[561]Fail:http://barataria.tamu.edu/thredds/dodsC/nam_gom_monthly/prate/nam_prate_gom_201306.nc,-1"
       ]
      },
      {
       "output_type": "stream",
       "stream": "stdout",
       "text": [
        "\r",
        "[562]Fail:http://barataria.tamu.edu/thredds/dodsC/nam_gom_monthly/prate/nam_prate_gom_201307.nc,-1"
       ]
      },
      {
       "output_type": "stream",
       "stream": "stdout",
       "text": [
        "\r",
        "[563]Fail:http://barataria.tamu.edu/thredds/dodsC/nam_gom_monthly/prate/nam_prate_gom_201308.nc,-1"
       ]
      },
      {
       "output_type": "stream",
       "stream": "stdout",
       "text": [
        "\r",
        "[564]Fail:http://barataria.tamu.edu/thredds/dodsC/nam_gom_monthly/prate/nam_prate_gom_201309.nc,-1"
       ]
      },
      {
       "output_type": "stream",
       "stream": "stdout",
       "text": [
        "\r",
        "[565]Fail:http://barataria.tamu.edu/thredds/dodsC/nam_gom_monthly/prate/nam_prate_gom_201310.nc,-1"
       ]
      },
      {
       "output_type": "stream",
       "stream": "stdout",
       "text": [
        "\r",
        "[566]Fail:http://barataria.tamu.edu/thredds/dodsC/nam_gom_monthly/prate/nam_prate_gom_201311.nc,-1"
       ]
      },
      {
       "output_type": "stream",
       "stream": "stdout",
       "text": [
        "\r",
        "[567]Fail:http://barataria.tamu.edu/thredds/dodsC/nam_gom_monthly/prate/nam_prate_gom_201312.nc,-1"
       ]
      },
      {
       "output_type": "stream",
       "stream": "stdout",
       "text": [
        "\r",
        "[568]Fail:http://barataria.tamu.edu/thredds/dodsC/nam_gom_monthly/pres/nam_pres_gom_200901.nc,-1"
       ]
      },
      {
       "output_type": "stream",
       "stream": "stdout",
       "text": [
        "\r",
        "[569]Fail:http://barataria.tamu.edu/thredds/dodsC/nam_gom_monthly/pres/nam_pres_gom_200902.nc,-1"
       ]
      },
      {
       "output_type": "stream",
       "stream": "stdout",
       "text": [
        "\r",
        "[570]Fail:http://barataria.tamu.edu/thredds/dodsC/nam_gom_monthly/pres/nam_pres_gom_200903.nc,-1"
       ]
      },
      {
       "output_type": "stream",
       "stream": "stdout",
       "text": [
        "\r",
        "[571]Fail:http://barataria.tamu.edu/thredds/dodsC/nam_gom_monthly/pres/nam_pres_gom_200904.nc,-1"
       ]
      },
      {
       "output_type": "stream",
       "stream": "stdout",
       "text": [
        "\r",
        "[572]Fail:http://barataria.tamu.edu/thredds/dodsC/nam_gom_monthly/pres/nam_pres_gom_200905.nc,-1"
       ]
      },
      {
       "output_type": "stream",
       "stream": "stdout",
       "text": [
        "\r",
        "[573]Fail:http://barataria.tamu.edu/thredds/dodsC/nam_gom_monthly/pres/nam_pres_gom_200906.nc,-1"
       ]
      },
      {
       "output_type": "stream",
       "stream": "stdout",
       "text": [
        "\r",
        "[574]Fail:http://barataria.tamu.edu/thredds/dodsC/nam_gom_monthly/pres/nam_pres_gom_200907.nc,-1"
       ]
      },
      {
       "output_type": "stream",
       "stream": "stdout",
       "text": [
        "\r",
        "[575]Fail:http://barataria.tamu.edu/thredds/dodsC/nam_gom_monthly/pres/nam_pres_gom_200908.nc,-1"
       ]
      },
      {
       "output_type": "stream",
       "stream": "stdout",
       "text": [
        "\r",
        "[576]Fail:http://barataria.tamu.edu/thredds/dodsC/nam_gom_monthly/pres/nam_pres_gom_200909.nc,-1"
       ]
      },
      {
       "output_type": "stream",
       "stream": "stdout",
       "text": [
        "\r",
        "[577]Fail:http://barataria.tamu.edu/thredds/dodsC/nam_gom_monthly/pres/nam_pres_gom_200910.nc,-1"
       ]
      },
      {
       "output_type": "stream",
       "stream": "stdout",
       "text": [
        "\r",
        "[578]Fail:http://barataria.tamu.edu/thredds/dodsC/nam_gom_monthly/pres/nam_pres_gom_200911.nc,-1"
       ]
      },
      {
       "output_type": "stream",
       "stream": "stdout",
       "text": [
        "\r",
        "[579]Fail:http://barataria.tamu.edu/thredds/dodsC/nam_gom_monthly/pres/nam_pres_gom_200912.nc,-1"
       ]
      },
      {
       "output_type": "stream",
       "stream": "stdout",
       "text": [
        "\r",
        "[580]Fail:http://barataria.tamu.edu/thredds/dodsC/nam_gom_monthly/pres/nam_pres_gom_201001.nc,-1"
       ]
      },
      {
       "output_type": "stream",
       "stream": "stdout",
       "text": [
        "\r",
        "[581]Fail:http://barataria.tamu.edu/thredds/dodsC/nam_gom_monthly/pres/nam_pres_gom_201002.nc,-1"
       ]
      },
      {
       "output_type": "stream",
       "stream": "stdout",
       "text": [
        "\r",
        "[582]Fail:http://barataria.tamu.edu/thredds/dodsC/nam_gom_monthly/pres/nam_pres_gom_201003.nc,-1"
       ]
      },
      {
       "output_type": "stream",
       "stream": "stdout",
       "text": [
        "\r",
        "[583]Fail:http://barataria.tamu.edu/thredds/dodsC/nam_gom_monthly/pres/nam_pres_gom_201004.nc,-1"
       ]
      },
      {
       "output_type": "stream",
       "stream": "stdout",
       "text": [
        "\r",
        "[584]Fail:http://barataria.tamu.edu/thredds/dodsC/nam_gom_monthly/pres/nam_pres_gom_201005.nc,-1"
       ]
      },
      {
       "output_type": "stream",
       "stream": "stdout",
       "text": [
        "\r",
        "[585]Fail:http://barataria.tamu.edu/thredds/dodsC/nam_gom_monthly/pres/nam_pres_gom_201006.nc,-1"
       ]
      },
      {
       "output_type": "stream",
       "stream": "stdout",
       "text": [
        "\r",
        "[586]Fail:http://barataria.tamu.edu/thredds/dodsC/nam_gom_monthly/pres/nam_pres_gom_201007.nc,-1"
       ]
      },
      {
       "output_type": "stream",
       "stream": "stdout",
       "text": [
        "\r",
        "[587]Fail:http://barataria.tamu.edu/thredds/dodsC/nam_gom_monthly/pres/nam_pres_gom_201008.nc,-1"
       ]
      },
      {
       "output_type": "stream",
       "stream": "stdout",
       "text": [
        "\r",
        "[588]Fail:http://barataria.tamu.edu/thredds/dodsC/nam_gom_monthly/pres/nam_pres_gom_201009.nc,-1"
       ]
      },
      {
       "output_type": "stream",
       "stream": "stdout",
       "text": [
        "\r",
        "[589]Fail:http://barataria.tamu.edu/thredds/dodsC/nam_gom_monthly/pres/nam_pres_gom_201010.nc,-1"
       ]
      },
      {
       "output_type": "stream",
       "stream": "stdout",
       "text": [
        "\r",
        "[590]Fail:http://barataria.tamu.edu/thredds/dodsC/nam_gom_monthly/pres/nam_pres_gom_201011.nc,-1"
       ]
      },
      {
       "output_type": "stream",
       "stream": "stdout",
       "text": [
        "\r",
        "[591]Fail:http://barataria.tamu.edu/thredds/dodsC/nam_gom_monthly/pres/nam_pres_gom_201012.nc,-1"
       ]
      },
      {
       "output_type": "stream",
       "stream": "stdout",
       "text": [
        "\r",
        "[592]Fail:http://barataria.tamu.edu/thredds/dodsC/nam_gom_monthly/pres/nam_pres_gom_201101.nc,-1"
       ]
      },
      {
       "output_type": "stream",
       "stream": "stdout",
       "text": [
        "\r",
        "[593]Fail:http://barataria.tamu.edu/thredds/dodsC/nam_gom_monthly/pres/nam_pres_gom_201102.nc,-1"
       ]
      },
      {
       "output_type": "stream",
       "stream": "stdout",
       "text": [
        "\r",
        "[594]Fail:http://barataria.tamu.edu/thredds/dodsC/nam_gom_monthly/pres/nam_pres_gom_201103.nc,-1"
       ]
      },
      {
       "output_type": "stream",
       "stream": "stdout",
       "text": [
        "\r",
        "[595]Fail:http://barataria.tamu.edu/thredds/dodsC/nam_gom_monthly/pres/nam_pres_gom_201104.nc,-1"
       ]
      },
      {
       "output_type": "stream",
       "stream": "stdout",
       "text": [
        "\r",
        "[596]Fail:http://barataria.tamu.edu/thredds/dodsC/nam_gom_monthly/pres/nam_pres_gom_201105.nc,-1"
       ]
      },
      {
       "output_type": "stream",
       "stream": "stdout",
       "text": [
        "\r",
        "[597]Fail:http://barataria.tamu.edu/thredds/dodsC/nam_gom_monthly/pres/nam_pres_gom_201106.nc,-1"
       ]
      },
      {
       "output_type": "stream",
       "stream": "stdout",
       "text": [
        "\r",
        "[598]Fail:http://barataria.tamu.edu/thredds/dodsC/nam_gom_monthly/pres/nam_pres_gom_201107.nc,-1"
       ]
      },
      {
       "output_type": "stream",
       "stream": "stdout",
       "text": [
        "\r",
        "[599]Fail:http://barataria.tamu.edu/thredds/dodsC/nam_gom_monthly/pres/nam_pres_gom_201108.nc,-1"
       ]
      },
      {
       "output_type": "stream",
       "stream": "stdout",
       "text": [
        "\r",
        "[600]Fail:http://barataria.tamu.edu/thredds/dodsC/nam_gom_monthly/pres/nam_pres_gom_201109.nc,-1"
       ]
      },
      {
       "output_type": "stream",
       "stream": "stdout",
       "text": [
        "\r",
        "[601]Fail:http://barataria.tamu.edu/thredds/dodsC/nam_gom_monthly/pres/nam_pres_gom_201110.nc,-1"
       ]
      },
      {
       "output_type": "stream",
       "stream": "stdout",
       "text": [
        "\r",
        "[602]Fail:http://barataria.tamu.edu/thredds/dodsC/nam_gom_monthly/pres/nam_pres_gom_201111.nc,-1"
       ]
      },
      {
       "output_type": "stream",
       "stream": "stdout",
       "text": [
        "\r",
        "[603]Fail:http://barataria.tamu.edu/thredds/dodsC/nam_gom_monthly/pres/nam_pres_gom_201112.nc,-1"
       ]
      },
      {
       "output_type": "stream",
       "stream": "stdout",
       "text": [
        "\r",
        "[604]Fail:http://barataria.tamu.edu/thredds/dodsC/nam_gom_monthly/pres/nam_pres_gom_201201.nc,-1"
       ]
      },
      {
       "output_type": "stream",
       "stream": "stdout",
       "text": [
        "\r",
        "[605]Fail:http://barataria.tamu.edu/thredds/dodsC/nam_gom_monthly/pres/nam_pres_gom_201202.nc,-1"
       ]
      },
      {
       "output_type": "stream",
       "stream": "stdout",
       "text": [
        "\r",
        "[606]Fail:http://barataria.tamu.edu/thredds/dodsC/nam_gom_monthly/pres/nam_pres_gom_201203.nc,-1"
       ]
      },
      {
       "output_type": "stream",
       "stream": "stdout",
       "text": [
        "\r",
        "[607]Fail:http://barataria.tamu.edu/thredds/dodsC/nam_gom_monthly/pres/nam_pres_gom_201204.nc,-1"
       ]
      },
      {
       "output_type": "stream",
       "stream": "stdout",
       "text": [
        "\r",
        "[608]Fail:http://barataria.tamu.edu/thredds/dodsC/nam_gom_monthly/pres/nam_pres_gom_201205.nc,-1"
       ]
      },
      {
       "output_type": "stream",
       "stream": "stdout",
       "text": [
        "\r",
        "[609]Fail:http://barataria.tamu.edu/thredds/dodsC/nam_gom_monthly/pres/nam_pres_gom_201206.nc,-1"
       ]
      },
      {
       "output_type": "stream",
       "stream": "stdout",
       "text": [
        "\r",
        "[610]Fail:http://barataria.tamu.edu/thredds/dodsC/nam_gom_monthly/pres/nam_pres_gom_201207.nc,-1"
       ]
      },
      {
       "output_type": "stream",
       "stream": "stdout",
       "text": [
        "\r",
        "[611]Fail:http://barataria.tamu.edu/thredds/dodsC/nam_gom_monthly/pres/nam_pres_gom_201208.nc,-1"
       ]
      },
      {
       "output_type": "stream",
       "stream": "stdout",
       "text": [
        "\r",
        "[612]Fail:http://barataria.tamu.edu/thredds/dodsC/nam_gom_monthly/pres/nam_pres_gom_201209.nc,-1"
       ]
      },
      {
       "output_type": "stream",
       "stream": "stdout",
       "text": [
        "\r",
        "[613]Fail:http://barataria.tamu.edu/thredds/dodsC/nam_gom_monthly/pres/nam_pres_gom_201210.nc,-1"
       ]
      },
      {
       "output_type": "stream",
       "stream": "stdout",
       "text": [
        "\r",
        "[614]Fail:http://barataria.tamu.edu/thredds/dodsC/nam_gom_monthly/pres/nam_pres_gom_201211.nc,-1"
       ]
      },
      {
       "output_type": "stream",
       "stream": "stdout",
       "text": [
        "\r",
        "[615]Fail:http://barataria.tamu.edu/thredds/dodsC/nam_gom_monthly/pres/nam_pres_gom_201212.nc,-1"
       ]
      },
      {
       "output_type": "stream",
       "stream": "stdout",
       "text": [
        "\r",
        "[616]Fail:http://barataria.tamu.edu/thredds/dodsC/nam_gom_monthly/pres/nam_pres_gom_201301.nc,-1"
       ]
      },
      {
       "output_type": "stream",
       "stream": "stdout",
       "text": [
        "\r",
        "[617]Fail:http://barataria.tamu.edu/thredds/dodsC/nam_gom_monthly/pres/nam_pres_gom_201302.nc,-1"
       ]
      },
      {
       "output_type": "stream",
       "stream": "stdout",
       "text": [
        "\r",
        "[618]Fail:http://barataria.tamu.edu/thredds/dodsC/nam_gom_monthly/pres/nam_pres_gom_201303.nc,-1"
       ]
      },
      {
       "output_type": "stream",
       "stream": "stdout",
       "text": [
        "\r",
        "[619]Fail:http://barataria.tamu.edu/thredds/dodsC/nam_gom_monthly/pres/nam_pres_gom_201304.nc,-1"
       ]
      },
      {
       "output_type": "stream",
       "stream": "stdout",
       "text": [
        "\r",
        "[620]Fail:http://barataria.tamu.edu/thredds/dodsC/nam_gom_monthly/pres/nam_pres_gom_201305.nc,-1"
       ]
      },
      {
       "output_type": "stream",
       "stream": "stdout",
       "text": [
        "\r",
        "[621]Fail:http://barataria.tamu.edu/thredds/dodsC/nam_gom_monthly/pres/nam_pres_gom_201306.nc,-1"
       ]
      },
      {
       "output_type": "stream",
       "stream": "stdout",
       "text": [
        "\r",
        "[622]Fail:http://barataria.tamu.edu/thredds/dodsC/nam_gom_monthly/pres/nam_pres_gom_201307.nc,-1"
       ]
      },
      {
       "output_type": "stream",
       "stream": "stdout",
       "text": [
        "\r",
        "[623]Fail:http://barataria.tamu.edu/thredds/dodsC/nam_gom_monthly/pres/nam_pres_gom_201308.nc,-1"
       ]
      },
      {
       "output_type": "stream",
       "stream": "stdout",
       "text": [
        "\r",
        "[624]Fail:http://barataria.tamu.edu/thredds/dodsC/nam_gom_monthly/pres/nam_pres_gom_201309.nc,-1"
       ]
      },
      {
       "output_type": "stream",
       "stream": "stdout",
       "text": [
        "\r",
        "[625]Fail:http://barataria.tamu.edu/thredds/dodsC/nam_gom_monthly/pres/nam_pres_gom_201310.nc,-1"
       ]
      },
      {
       "output_type": "stream",
       "stream": "stdout",
       "text": [
        "\r",
        "[626]Fail:http://barataria.tamu.edu/thredds/dodsC/nam_gom_monthly/pres/nam_pres_gom_201311.nc,-1"
       ]
      },
      {
       "output_type": "stream",
       "stream": "stdout",
       "text": [
        "\r",
        "[627]Fail:http://barataria.tamu.edu/thredds/dodsC/nam_gom_monthly/pres/nam_pres_gom_201312.nc,-1"
       ]
      },
      {
       "output_type": "stream",
       "stream": "stdout",
       "text": [
        "\r",
        "[628]Fail:http://barataria.tamu.edu/thredds/dodsC/nam_gom_monthly/rh/nam_rh_gom_200901.nc,-1"
       ]
      },
      {
       "output_type": "stream",
       "stream": "stdout",
       "text": [
        "\r",
        "[629]Fail:http://barataria.tamu.edu/thredds/dodsC/nam_gom_monthly/rh/nam_rh_gom_200902.nc,-1"
       ]
      },
      {
       "output_type": "stream",
       "stream": "stdout",
       "text": [
        "\r",
        "[630]Fail:http://barataria.tamu.edu/thredds/dodsC/nam_gom_monthly/rh/nam_rh_gom_200903.nc,-1"
       ]
      },
      {
       "output_type": "stream",
       "stream": "stdout",
       "text": [
        "\r",
        "[631]Fail:http://barataria.tamu.edu/thredds/dodsC/nam_gom_monthly/rh/nam_rh_gom_200904.nc,-1"
       ]
      },
      {
       "output_type": "stream",
       "stream": "stdout",
       "text": [
        "\r",
        "[632]Fail:http://barataria.tamu.edu/thredds/dodsC/nam_gom_monthly/rh/nam_rh_gom_200905.nc,-1"
       ]
      },
      {
       "output_type": "stream",
       "stream": "stdout",
       "text": [
        "\r",
        "[633]Fail:http://barataria.tamu.edu/thredds/dodsC/nam_gom_monthly/rh/nam_rh_gom_200906.nc,-1"
       ]
      },
      {
       "output_type": "stream",
       "stream": "stdout",
       "text": [
        "\r",
        "[634]Fail:http://barataria.tamu.edu/thredds/dodsC/nam_gom_monthly/rh/nam_rh_gom_200907.nc,-1"
       ]
      },
      {
       "output_type": "stream",
       "stream": "stdout",
       "text": [
        "\r",
        "[635]Fail:http://barataria.tamu.edu/thredds/dodsC/nam_gom_monthly/rh/nam_rh_gom_200908.nc,-1"
       ]
      },
      {
       "output_type": "stream",
       "stream": "stdout",
       "text": [
        "\r",
        "[636]Fail:http://barataria.tamu.edu/thredds/dodsC/nam_gom_monthly/rh/nam_rh_gom_200909.nc,-1"
       ]
      },
      {
       "output_type": "stream",
       "stream": "stdout",
       "text": [
        "\r",
        "[637]Fail:http://barataria.tamu.edu/thredds/dodsC/nam_gom_monthly/rh/nam_rh_gom_200910.nc,-1"
       ]
      },
      {
       "output_type": "stream",
       "stream": "stdout",
       "text": [
        "\r",
        "[638]Fail:http://barataria.tamu.edu/thredds/dodsC/nam_gom_monthly/rh/nam_rh_gom_200911.nc,-1"
       ]
      },
      {
       "output_type": "stream",
       "stream": "stdout",
       "text": [
        "\r",
        "[639]Fail:http://barataria.tamu.edu/thredds/dodsC/nam_gom_monthly/rh/nam_rh_gom_200912.nc,-1"
       ]
      },
      {
       "output_type": "stream",
       "stream": "stdout",
       "text": [
        "\r",
        "[640]Fail:http://barataria.tamu.edu/thredds/dodsC/nam_gom_monthly/rh/nam_rh_gom_201001.nc,-1"
       ]
      },
      {
       "output_type": "stream",
       "stream": "stdout",
       "text": [
        "\r",
        "[641]Fail:http://barataria.tamu.edu/thredds/dodsC/nam_gom_monthly/rh/nam_rh_gom_201002.nc,-1"
       ]
      },
      {
       "output_type": "stream",
       "stream": "stdout",
       "text": [
        "\r",
        "[642]Fail:http://barataria.tamu.edu/thredds/dodsC/nam_gom_monthly/rh/nam_rh_gom_201003.nc,-1"
       ]
      },
      {
       "output_type": "stream",
       "stream": "stdout",
       "text": [
        "\r",
        "[643]Fail:http://barataria.tamu.edu/thredds/dodsC/nam_gom_monthly/rh/nam_rh_gom_201004.nc,-1"
       ]
      },
      {
       "output_type": "stream",
       "stream": "stdout",
       "text": [
        "\r",
        "[644]Fail:http://barataria.tamu.edu/thredds/dodsC/nam_gom_monthly/rh/nam_rh_gom_201005.nc,-1"
       ]
      },
      {
       "output_type": "stream",
       "stream": "stdout",
       "text": [
        "\r",
        "[645]Fail:http://barataria.tamu.edu/thredds/dodsC/nam_gom_monthly/rh/nam_rh_gom_201006.nc,-1"
       ]
      },
      {
       "output_type": "stream",
       "stream": "stdout",
       "text": [
        "\r",
        "[646]Fail:http://barataria.tamu.edu/thredds/dodsC/nam_gom_monthly/rh/nam_rh_gom_201007.nc,-1"
       ]
      },
      {
       "output_type": "stream",
       "stream": "stdout",
       "text": [
        "\r",
        "[647]Fail:http://barataria.tamu.edu/thredds/dodsC/nam_gom_monthly/rh/nam_rh_gom_201008.nc,-1"
       ]
      },
      {
       "output_type": "stream",
       "stream": "stdout",
       "text": [
        "\r",
        "[648]Fail:http://barataria.tamu.edu/thredds/dodsC/nam_gom_monthly/rh/nam_rh_gom_201009.nc,-1"
       ]
      },
      {
       "output_type": "stream",
       "stream": "stdout",
       "text": [
        "\r",
        "[649]Fail:http://barataria.tamu.edu/thredds/dodsC/nam_gom_monthly/rh/nam_rh_gom_201010.nc,-1"
       ]
      },
      {
       "output_type": "stream",
       "stream": "stdout",
       "text": [
        "\r",
        "[650]Fail:http://barataria.tamu.edu/thredds/dodsC/nam_gom_monthly/rh/nam_rh_gom_201011.nc,-1"
       ]
      },
      {
       "output_type": "stream",
       "stream": "stdout",
       "text": [
        "\r",
        "[651]Fail:http://barataria.tamu.edu/thredds/dodsC/nam_gom_monthly/rh/nam_rh_gom_201012.nc,-1"
       ]
      },
      {
       "output_type": "stream",
       "stream": "stdout",
       "text": [
        "\r",
        "[652]Fail:http://barataria.tamu.edu/thredds/dodsC/nam_gom_monthly/rh/nam_rh_gom_201101.nc,-1"
       ]
      },
      {
       "output_type": "stream",
       "stream": "stdout",
       "text": [
        "\r",
        "[653]Fail:http://barataria.tamu.edu/thredds/dodsC/nam_gom_monthly/rh/nam_rh_gom_201102.nc,-1"
       ]
      },
      {
       "output_type": "stream",
       "stream": "stdout",
       "text": [
        "\r",
        "[654]Fail:http://barataria.tamu.edu/thredds/dodsC/nam_gom_monthly/rh/nam_rh_gom_201103.nc,-1"
       ]
      },
      {
       "output_type": "stream",
       "stream": "stdout",
       "text": [
        "\r",
        "[655]Fail:http://barataria.tamu.edu/thredds/dodsC/nam_gom_monthly/rh/nam_rh_gom_201104.nc,-1"
       ]
      },
      {
       "output_type": "stream",
       "stream": "stdout",
       "text": [
        "\r",
        "[656]Fail:http://barataria.tamu.edu/thredds/dodsC/nam_gom_monthly/rh/nam_rh_gom_201105.nc,-1"
       ]
      },
      {
       "output_type": "stream",
       "stream": "stdout",
       "text": [
        "\r",
        "[657]Fail:http://barataria.tamu.edu/thredds/dodsC/nam_gom_monthly/rh/nam_rh_gom_201106.nc,-1"
       ]
      },
      {
       "output_type": "stream",
       "stream": "stdout",
       "text": [
        "\r",
        "[658]Fail:http://barataria.tamu.edu/thredds/dodsC/nam_gom_monthly/rh/nam_rh_gom_201107.nc,-1"
       ]
      },
      {
       "output_type": "stream",
       "stream": "stdout",
       "text": [
        "\r",
        "[659]Fail:http://barataria.tamu.edu/thredds/dodsC/nam_gom_monthly/rh/nam_rh_gom_201108.nc,-1"
       ]
      },
      {
       "output_type": "stream",
       "stream": "stdout",
       "text": [
        "\r",
        "[660]Fail:http://barataria.tamu.edu/thredds/dodsC/nam_gom_monthly/rh/nam_rh_gom_201109.nc,-1"
       ]
      },
      {
       "output_type": "stream",
       "stream": "stdout",
       "text": [
        "\r",
        "[661]Fail:http://barataria.tamu.edu/thredds/dodsC/nam_gom_monthly/rh/nam_rh_gom_201110.nc,-1"
       ]
      },
      {
       "output_type": "stream",
       "stream": "stdout",
       "text": [
        "\r",
        "[662]Fail:http://barataria.tamu.edu/thredds/dodsC/nam_gom_monthly/rh/nam_rh_gom_201111.nc,-1"
       ]
      },
      {
       "output_type": "stream",
       "stream": "stdout",
       "text": [
        "\r",
        "[663]Fail:http://barataria.tamu.edu/thredds/dodsC/nam_gom_monthly/rh/nam_rh_gom_201112.nc,-1"
       ]
      },
      {
       "output_type": "stream",
       "stream": "stdout",
       "text": [
        "\r",
        "[664]Fail:http://barataria.tamu.edu/thredds/dodsC/nam_gom_monthly/rh/nam_rh_gom_201201.nc,-1"
       ]
      },
      {
       "output_type": "stream",
       "stream": "stdout",
       "text": [
        "\r",
        "[665]Fail:http://barataria.tamu.edu/thredds/dodsC/nam_gom_monthly/rh/nam_rh_gom_201202.nc,-1"
       ]
      },
      {
       "output_type": "stream",
       "stream": "stdout",
       "text": [
        "\r",
        "[666]Fail:http://barataria.tamu.edu/thredds/dodsC/nam_gom_monthly/rh/nam_rh_gom_201203.nc,-1"
       ]
      },
      {
       "output_type": "stream",
       "stream": "stdout",
       "text": [
        "\r",
        "[667]Fail:http://barataria.tamu.edu/thredds/dodsC/nam_gom_monthly/rh/nam_rh_gom_201204.nc,-1"
       ]
      },
      {
       "output_type": "stream",
       "stream": "stdout",
       "text": [
        "\r",
        "[668]Fail:http://barataria.tamu.edu/thredds/dodsC/nam_gom_monthly/rh/nam_rh_gom_201205.nc,-1"
       ]
      },
      {
       "output_type": "stream",
       "stream": "stdout",
       "text": [
        "\r",
        "[669]Fail:http://barataria.tamu.edu/thredds/dodsC/nam_gom_monthly/rh/nam_rh_gom_201206.nc,-1"
       ]
      },
      {
       "output_type": "stream",
       "stream": "stdout",
       "text": [
        "\r",
        "[670]Fail:http://barataria.tamu.edu/thredds/dodsC/nam_gom_monthly/rh/nam_rh_gom_201207.nc,-1"
       ]
      },
      {
       "output_type": "stream",
       "stream": "stdout",
       "text": [
        "\r",
        "[671]Fail:http://barataria.tamu.edu/thredds/dodsC/nam_gom_monthly/rh/nam_rh_gom_201208.nc,-1"
       ]
      },
      {
       "output_type": "stream",
       "stream": "stdout",
       "text": [
        "\r",
        "[672]Fail:http://barataria.tamu.edu/thredds/dodsC/nam_gom_monthly/rh/nam_rh_gom_201209.nc,-1"
       ]
      },
      {
       "output_type": "stream",
       "stream": "stdout",
       "text": [
        "\r",
        "[673]Fail:http://barataria.tamu.edu/thredds/dodsC/nam_gom_monthly/rh/nam_rh_gom_201210.nc,-1"
       ]
      },
      {
       "output_type": "stream",
       "stream": "stdout",
       "text": [
        "\r",
        "[674]Fail:http://barataria.tamu.edu/thredds/dodsC/nam_gom_monthly/rh/nam_rh_gom_201211.nc,-1"
       ]
      },
      {
       "output_type": "stream",
       "stream": "stdout",
       "text": [
        "\r",
        "[675]Fail:http://barataria.tamu.edu/thredds/dodsC/nam_gom_monthly/rh/nam_rh_gom_201212.nc,-1"
       ]
      },
      {
       "output_type": "stream",
       "stream": "stdout",
       "text": [
        "\r",
        "[676]Fail:http://barataria.tamu.edu/thredds/dodsC/nam_gom_monthly/rh/nam_rh_gom_201301.nc,-1"
       ]
      },
      {
       "output_type": "stream",
       "stream": "stdout",
       "text": [
        "\r",
        "[678]Fail:http://barataria.tamu.edu/thredds/dodsC/nam_gom_monthly/rh/nam_rh_gom_201303.nc,-1"
       ]
      },
      {
       "output_type": "stream",
       "stream": "stdout",
       "text": [
        "\r",
        "[679]Fail:http://barataria.tamu.edu/thredds/dodsC/nam_gom_monthly/rh/nam_rh_gom_201304.nc,-1"
       ]
      },
      {
       "output_type": "stream",
       "stream": "stdout",
       "text": [
        "\r",
        "[680]Fail:http://barataria.tamu.edu/thredds/dodsC/nam_gom_monthly/rh/nam_rh_gom_201305.nc,-1"
       ]
      },
      {
       "output_type": "stream",
       "stream": "stdout",
       "text": [
        "\r",
        "[681]Fail:http://barataria.tamu.edu/thredds/dodsC/nam_gom_monthly/rh/nam_rh_gom_201306.nc,-1"
       ]
      },
      {
       "output_type": "stream",
       "stream": "stdout",
       "text": [
        "\r",
        "[682]Fail:http://barataria.tamu.edu/thredds/dodsC/nam_gom_monthly/rh/nam_rh_gom_201307.nc,-1"
       ]
      },
      {
       "output_type": "stream",
       "stream": "stdout",
       "text": [
        "\r",
        "[683]Fail:http://barataria.tamu.edu/thredds/dodsC/nam_gom_monthly/rh/nam_rh_gom_201308.nc,-1"
       ]
      },
      {
       "output_type": "stream",
       "stream": "stdout",
       "text": [
        "\r",
        "[684]Fail:http://barataria.tamu.edu/thredds/dodsC/nam_gom_monthly/rh/nam_rh_gom_201309.nc,-1"
       ]
      },
      {
       "output_type": "stream",
       "stream": "stdout",
       "text": [
        "\r",
        "[685]Fail:http://barataria.tamu.edu/thredds/dodsC/nam_gom_monthly/rh/nam_rh_gom_201310.nc,-1"
       ]
      },
      {
       "output_type": "stream",
       "stream": "stdout",
       "text": [
        "\r",
        "[686]Fail:http://barataria.tamu.edu/thredds/dodsC/nam_gom_monthly/rh/nam_rh_gom_201311.nc,-1"
       ]
      },
      {
       "output_type": "stream",
       "stream": "stdout",
       "text": [
        "\r",
        "[687]Fail:http://barataria.tamu.edu/thredds/dodsC/nam_gom_monthly/rh/nam_rh_gom_201312.nc,-1"
       ]
      },
      {
       "output_type": "stream",
       "stream": "stdout",
       "text": [
        "\r",
        "[688]Fail:http://barataria.tamu.edu/thredds/dodsC/nam_gom_monthly/tcdc/nam_tcdc_gom_200901.nc,-1"
       ]
      },
      {
       "output_type": "stream",
       "stream": "stdout",
       "text": [
        "\r",
        "[689]Fail:http://barataria.tamu.edu/thredds/dodsC/nam_gom_monthly/tcdc/nam_tcdc_gom_200902.nc,-1"
       ]
      },
      {
       "output_type": "stream",
       "stream": "stdout",
       "text": [
        "\r",
        "[690]Fail:http://barataria.tamu.edu/thredds/dodsC/nam_gom_monthly/tcdc/nam_tcdc_gom_200903.nc,-1"
       ]
      },
      {
       "output_type": "stream",
       "stream": "stdout",
       "text": [
        "\r",
        "[691]Fail:http://barataria.tamu.edu/thredds/dodsC/nam_gom_monthly/tcdc/nam_tcdc_gom_200904.nc,-1"
       ]
      },
      {
       "output_type": "stream",
       "stream": "stdout",
       "text": [
        "\r",
        "[692]Fail:http://barataria.tamu.edu/thredds/dodsC/nam_gom_monthly/tcdc/nam_tcdc_gom_200905.nc,-1"
       ]
      },
      {
       "output_type": "stream",
       "stream": "stdout",
       "text": [
        "\r",
        "[693]Fail:http://barataria.tamu.edu/thredds/dodsC/nam_gom_monthly/tcdc/nam_tcdc_gom_200906.nc,-1"
       ]
      },
      {
       "output_type": "stream",
       "stream": "stdout",
       "text": [
        "\r",
        "[694]Fail:http://barataria.tamu.edu/thredds/dodsC/nam_gom_monthly/tcdc/nam_tcdc_gom_200907.nc,-1"
       ]
      },
      {
       "output_type": "stream",
       "stream": "stdout",
       "text": [
        "\r",
        "[695]Fail:http://barataria.tamu.edu/thredds/dodsC/nam_gom_monthly/tcdc/nam_tcdc_gom_200908.nc,-1"
       ]
      },
      {
       "output_type": "stream",
       "stream": "stdout",
       "text": [
        "\r",
        "[696]Fail:http://barataria.tamu.edu/thredds/dodsC/nam_gom_monthly/tcdc/nam_tcdc_gom_200909.nc,-1"
       ]
      },
      {
       "output_type": "stream",
       "stream": "stdout",
       "text": [
        "\r",
        "[697]Fail:http://barataria.tamu.edu/thredds/dodsC/nam_gom_monthly/tcdc/nam_tcdc_gom_200910.nc,-1"
       ]
      },
      {
       "output_type": "stream",
       "stream": "stdout",
       "text": [
        "\r",
        "[698]Fail:http://barataria.tamu.edu/thredds/dodsC/nam_gom_monthly/tcdc/nam_tcdc_gom_200911.nc,-1"
       ]
      },
      {
       "output_type": "stream",
       "stream": "stdout",
       "text": [
        "\r",
        "[699]Fail:http://barataria.tamu.edu/thredds/dodsC/nam_gom_monthly/tcdc/nam_tcdc_gom_200912.nc,-1"
       ]
      },
      {
       "output_type": "stream",
       "stream": "stdout",
       "text": [
        "\r",
        "[700]Fail:http://barataria.tamu.edu/thredds/dodsC/nam_gom_monthly/tcdc/nam_tcdc_gom_201001.nc,-1"
       ]
      },
      {
       "output_type": "stream",
       "stream": "stdout",
       "text": [
        "\r",
        "[701]Fail:http://barataria.tamu.edu/thredds/dodsC/nam_gom_monthly/tcdc/nam_tcdc_gom_201002.nc,-1"
       ]
      },
      {
       "output_type": "stream",
       "stream": "stdout",
       "text": [
        "\r",
        "[702]Fail:http://barataria.tamu.edu/thredds/dodsC/nam_gom_monthly/tcdc/nam_tcdc_gom_201003.nc,-1"
       ]
      },
      {
       "output_type": "stream",
       "stream": "stdout",
       "text": [
        "\r",
        "[703]Fail:http://barataria.tamu.edu/thredds/dodsC/nam_gom_monthly/tcdc/nam_tcdc_gom_201004.nc,-1"
       ]
      },
      {
       "output_type": "stream",
       "stream": "stdout",
       "text": [
        "\r",
        "[704]Fail:http://barataria.tamu.edu/thredds/dodsC/nam_gom_monthly/tcdc/nam_tcdc_gom_201005.nc,-1"
       ]
      },
      {
       "output_type": "stream",
       "stream": "stdout",
       "text": [
        "\r",
        "[705]Fail:http://barataria.tamu.edu/thredds/dodsC/nam_gom_monthly/tcdc/nam_tcdc_gom_201006.nc,-1"
       ]
      },
      {
       "output_type": "stream",
       "stream": "stdout",
       "text": [
        "\r",
        "[706]Fail:http://barataria.tamu.edu/thredds/dodsC/nam_gom_monthly/tcdc/nam_tcdc_gom_201007.nc,-1"
       ]
      },
      {
       "output_type": "stream",
       "stream": "stdout",
       "text": [
        "\r",
        "[707]Fail:http://barataria.tamu.edu/thredds/dodsC/nam_gom_monthly/tcdc/nam_tcdc_gom_201008.nc,-1"
       ]
      },
      {
       "output_type": "stream",
       "stream": "stdout",
       "text": [
        "\r",
        "[708]Fail:http://barataria.tamu.edu/thredds/dodsC/nam_gom_monthly/tcdc/nam_tcdc_gom_201009.nc,-1"
       ]
      },
      {
       "output_type": "stream",
       "stream": "stdout",
       "text": [
        "\r",
        "[709]Fail:http://barataria.tamu.edu/thredds/dodsC/nam_gom_monthly/tcdc/nam_tcdc_gom_201010.nc,-1"
       ]
      },
      {
       "output_type": "stream",
       "stream": "stdout",
       "text": [
        "\r",
        "[710]Fail:http://barataria.tamu.edu/thredds/dodsC/nam_gom_monthly/tcdc/nam_tcdc_gom_201011.nc,-1"
       ]
      },
      {
       "output_type": "stream",
       "stream": "stdout",
       "text": [
        "\r",
        "[711]Fail:http://barataria.tamu.edu/thredds/dodsC/nam_gom_monthly/tcdc/nam_tcdc_gom_201012.nc,-1"
       ]
      },
      {
       "output_type": "stream",
       "stream": "stdout",
       "text": [
        "\r",
        "[712]Fail:http://barataria.tamu.edu/thredds/dodsC/nam_gom_monthly/tcdc/nam_tcdc_gom_201101.nc,-1"
       ]
      },
      {
       "output_type": "stream",
       "stream": "stdout",
       "text": [
        "\r",
        "[713]Fail:http://barataria.tamu.edu/thredds/dodsC/nam_gom_monthly/tcdc/nam_tcdc_gom_201102.nc,-1"
       ]
      },
      {
       "output_type": "stream",
       "stream": "stdout",
       "text": [
        "\r",
        "[714]Fail:http://barataria.tamu.edu/thredds/dodsC/nam_gom_monthly/tcdc/nam_tcdc_gom_201103.nc,-1"
       ]
      },
      {
       "output_type": "stream",
       "stream": "stdout",
       "text": [
        "\r",
        "[715]Fail:http://barataria.tamu.edu/thredds/dodsC/nam_gom_monthly/tcdc/nam_tcdc_gom_201104.nc,-1"
       ]
      },
      {
       "output_type": "stream",
       "stream": "stdout",
       "text": [
        "\r",
        "[716]Fail:http://barataria.tamu.edu/thredds/dodsC/nam_gom_monthly/tcdc/nam_tcdc_gom_201105.nc,-1"
       ]
      },
      {
       "output_type": "stream",
       "stream": "stdout",
       "text": [
        "\r",
        "[717]Fail:http://barataria.tamu.edu/thredds/dodsC/nam_gom_monthly/tcdc/nam_tcdc_gom_201106.nc,-1"
       ]
      },
      {
       "output_type": "stream",
       "stream": "stdout",
       "text": [
        "\r",
        "[718]Fail:http://barataria.tamu.edu/thredds/dodsC/nam_gom_monthly/tcdc/nam_tcdc_gom_201107.nc,-1"
       ]
      },
      {
       "output_type": "stream",
       "stream": "stdout",
       "text": [
        "\r",
        "[719]Fail:http://barataria.tamu.edu/thredds/dodsC/nam_gom_monthly/tcdc/nam_tcdc_gom_201108.nc,-1"
       ]
      },
      {
       "output_type": "stream",
       "stream": "stdout",
       "text": [
        "\r",
        "[720]Fail:http://barataria.tamu.edu/thredds/dodsC/nam_gom_monthly/tcdc/nam_tcdc_gom_201109.nc,-1"
       ]
      },
      {
       "output_type": "stream",
       "stream": "stdout",
       "text": [
        "\r",
        "[721]Fail:http://barataria.tamu.edu/thredds/dodsC/nam_gom_monthly/tcdc/nam_tcdc_gom_201110.nc,-1"
       ]
      },
      {
       "output_type": "stream",
       "stream": "stdout",
       "text": [
        "\r",
        "[722]Fail:http://barataria.tamu.edu/thredds/dodsC/nam_gom_monthly/tcdc/nam_tcdc_gom_201111.nc,-1"
       ]
      },
      {
       "output_type": "stream",
       "stream": "stdout",
       "text": [
        "\r",
        "[723]Fail:http://barataria.tamu.edu/thredds/dodsC/nam_gom_monthly/tcdc/nam_tcdc_gom_201112.nc,-1"
       ]
      },
      {
       "output_type": "stream",
       "stream": "stdout",
       "text": [
        "\r",
        "[724]Fail:http://barataria.tamu.edu/thredds/dodsC/nam_gom_monthly/tcdc/nam_tcdc_gom_201201.nc,-1"
       ]
      },
      {
       "output_type": "stream",
       "stream": "stdout",
       "text": [
        "\r",
        "[725]Fail:http://barataria.tamu.edu/thredds/dodsC/nam_gom_monthly/tcdc/nam_tcdc_gom_201202.nc,-1"
       ]
      },
      {
       "output_type": "stream",
       "stream": "stdout",
       "text": [
        "\r",
        "[726]Fail:http://barataria.tamu.edu/thredds/dodsC/nam_gom_monthly/tcdc/nam_tcdc_gom_201203.nc,-1"
       ]
      },
      {
       "output_type": "stream",
       "stream": "stdout",
       "text": [
        "\r",
        "[727]Fail:http://barataria.tamu.edu/thredds/dodsC/nam_gom_monthly/tcdc/nam_tcdc_gom_201204.nc,-1"
       ]
      },
      {
       "output_type": "stream",
       "stream": "stdout",
       "text": [
        "\r",
        "[728]Fail:http://barataria.tamu.edu/thredds/dodsC/nam_gom_monthly/tcdc/nam_tcdc_gom_201205.nc,-1"
       ]
      },
      {
       "output_type": "stream",
       "stream": "stdout",
       "text": [
        "\r",
        "[729]Fail:http://barataria.tamu.edu/thredds/dodsC/nam_gom_monthly/tcdc/nam_tcdc_gom_201206.nc,-1"
       ]
      },
      {
       "output_type": "stream",
       "stream": "stdout",
       "text": [
        "\r",
        "[730]Fail:http://barataria.tamu.edu/thredds/dodsC/nam_gom_monthly/tcdc/nam_tcdc_gom_201207.nc,-1"
       ]
      },
      {
       "output_type": "stream",
       "stream": "stdout",
       "text": [
        "\r",
        "[731]Fail:http://barataria.tamu.edu/thredds/dodsC/nam_gom_monthly/tcdc/nam_tcdc_gom_201208.nc,-1"
       ]
      },
      {
       "output_type": "stream",
       "stream": "stdout",
       "text": [
        "\r",
        "[732]Fail:http://barataria.tamu.edu/thredds/dodsC/nam_gom_monthly/tcdc/nam_tcdc_gom_201209.nc,-1"
       ]
      },
      {
       "output_type": "stream",
       "stream": "stdout",
       "text": [
        "\r",
        "[733]Fail:http://barataria.tamu.edu/thredds/dodsC/nam_gom_monthly/tcdc/nam_tcdc_gom_201210.nc,-1"
       ]
      },
      {
       "output_type": "stream",
       "stream": "stdout",
       "text": [
        "\r",
        "[734]Fail:http://barataria.tamu.edu/thredds/dodsC/nam_gom_monthly/tcdc/nam_tcdc_gom_201211.nc,-1"
       ]
      },
      {
       "output_type": "stream",
       "stream": "stdout",
       "text": [
        "\r",
        "[735]Fail:http://barataria.tamu.edu/thredds/dodsC/nam_gom_monthly/tcdc/nam_tcdc_gom_201212.nc,-1"
       ]
      },
      {
       "output_type": "stream",
       "stream": "stdout",
       "text": [
        "\r",
        "[736]Fail:http://barataria.tamu.edu/thredds/dodsC/nam_gom_monthly/tcdc/nam_tcdc_gom_201301.nc,-1"
       ]
      },
      {
       "output_type": "stream",
       "stream": "stdout",
       "text": [
        "\r",
        "[737]Fail:http://barataria.tamu.edu/thredds/dodsC/nam_gom_monthly/tcdc/nam_tcdc_gom_201302.nc,-1"
       ]
      },
      {
       "output_type": "stream",
       "stream": "stdout",
       "text": [
        "\r",
        "[738]Fail:http://barataria.tamu.edu/thredds/dodsC/nam_gom_monthly/tcdc/nam_tcdc_gom_201303.nc,-1"
       ]
      },
      {
       "output_type": "stream",
       "stream": "stdout",
       "text": [
        "\r",
        "[739]Fail:http://barataria.tamu.edu/thredds/dodsC/nam_gom_monthly/tcdc/nam_tcdc_gom_201304.nc,-1"
       ]
      },
      {
       "output_type": "stream",
       "stream": "stdout",
       "text": [
        "\r",
        "[740]Fail:http://barataria.tamu.edu/thredds/dodsC/nam_gom_monthly/tcdc/nam_tcdc_gom_201305.nc,-1"
       ]
      },
      {
       "output_type": "stream",
       "stream": "stdout",
       "text": [
        "\r",
        "[741]Fail:http://barataria.tamu.edu/thredds/dodsC/nam_gom_monthly/tcdc/nam_tcdc_gom_201306.nc,-1"
       ]
      },
      {
       "output_type": "stream",
       "stream": "stdout",
       "text": [
        "\r",
        "[742]Fail:http://barataria.tamu.edu/thredds/dodsC/nam_gom_monthly/tcdc/nam_tcdc_gom_201307.nc,-1"
       ]
      },
      {
       "output_type": "stream",
       "stream": "stdout",
       "text": [
        "\r",
        "[743]Fail:http://barataria.tamu.edu/thredds/dodsC/nam_gom_monthly/tcdc/nam_tcdc_gom_201308.nc,-1"
       ]
      },
      {
       "output_type": "stream",
       "stream": "stdout",
       "text": [
        "\r",
        "[744]Fail:http://barataria.tamu.edu/thredds/dodsC/nam_gom_monthly/tcdc/nam_tcdc_gom_201309.nc,-1"
       ]
      },
      {
       "output_type": "stream",
       "stream": "stdout",
       "text": [
        "\r",
        "[745]Fail:http://barataria.tamu.edu/thredds/dodsC/nam_gom_monthly/tcdc/nam_tcdc_gom_201310.nc,-1"
       ]
      },
      {
       "output_type": "stream",
       "stream": "stdout",
       "text": [
        "\r",
        "[746]Fail:http://barataria.tamu.edu/thredds/dodsC/nam_gom_monthly/tcdc/nam_tcdc_gom_201311.nc,-1"
       ]
      },
      {
       "output_type": "stream",
       "stream": "stdout",
       "text": [
        "\r",
        "[747]Fail:http://barataria.tamu.edu/thredds/dodsC/nam_gom_monthly/tcdc/nam_tcdc_gom_201312.nc,-1"
       ]
      },
      {
       "output_type": "stream",
       "stream": "stdout",
       "text": [
        "\r",
        "[748]Fail:http://barataria.tamu.edu/thredds/dodsC/nam_gom_monthly/tmp/nam_tmp_gom_200901.nc,-1"
       ]
      },
      {
       "output_type": "stream",
       "stream": "stdout",
       "text": [
        "\r",
        "[749]Fail:http://barataria.tamu.edu/thredds/dodsC/nam_gom_monthly/tmp/nam_tmp_gom_200902.nc,-1"
       ]
      },
      {
       "output_type": "stream",
       "stream": "stdout",
       "text": [
        "\r",
        "[750]Fail:http://barataria.tamu.edu/thredds/dodsC/nam_gom_monthly/tmp/nam_tmp_gom_200903.nc,-1"
       ]
      },
      {
       "output_type": "stream",
       "stream": "stdout",
       "text": [
        "\r",
        "[751]Fail:http://barataria.tamu.edu/thredds/dodsC/nam_gom_monthly/tmp/nam_tmp_gom_200904.nc,-1"
       ]
      },
      {
       "output_type": "stream",
       "stream": "stdout",
       "text": [
        "\r",
        "[752]Fail:http://barataria.tamu.edu/thredds/dodsC/nam_gom_monthly/tmp/nam_tmp_gom_200905.nc,-1"
       ]
      },
      {
       "output_type": "stream",
       "stream": "stdout",
       "text": [
        "\r",
        "[753]Fail:http://barataria.tamu.edu/thredds/dodsC/nam_gom_monthly/tmp/nam_tmp_gom_200906.nc,-1"
       ]
      },
      {
       "output_type": "stream",
       "stream": "stdout",
       "text": [
        "\r",
        "[754]Fail:http://barataria.tamu.edu/thredds/dodsC/nam_gom_monthly/tmp/nam_tmp_gom_200907.nc,-1"
       ]
      },
      {
       "output_type": "stream",
       "stream": "stdout",
       "text": [
        "\r",
        "[755]Fail:http://barataria.tamu.edu/thredds/dodsC/nam_gom_monthly/tmp/nam_tmp_gom_200908.nc,-1"
       ]
      },
      {
       "output_type": "stream",
       "stream": "stdout",
       "text": [
        "\r",
        "[756]Fail:http://barataria.tamu.edu/thredds/dodsC/nam_gom_monthly/tmp/nam_tmp_gom_200909.nc,-1"
       ]
      },
      {
       "output_type": "stream",
       "stream": "stdout",
       "text": [
        "\r",
        "[757]Fail:http://barataria.tamu.edu/thredds/dodsC/nam_gom_monthly/tmp/nam_tmp_gom_200910.nc,-1"
       ]
      },
      {
       "output_type": "stream",
       "stream": "stdout",
       "text": [
        "\r",
        "[758]Fail:http://barataria.tamu.edu/thredds/dodsC/nam_gom_monthly/tmp/nam_tmp_gom_200911.nc,-1"
       ]
      },
      {
       "output_type": "stream",
       "stream": "stdout",
       "text": [
        "\r",
        "[759]Fail:http://barataria.tamu.edu/thredds/dodsC/nam_gom_monthly/tmp/nam_tmp_gom_200912.nc,-1"
       ]
      },
      {
       "output_type": "stream",
       "stream": "stdout",
       "text": [
        "\r",
        "[760]Fail:http://barataria.tamu.edu/thredds/dodsC/nam_gom_monthly/tmp/nam_tmp_gom_201001.nc,-1"
       ]
      },
      {
       "output_type": "stream",
       "stream": "stdout",
       "text": [
        "\r",
        "[761]Fail:http://barataria.tamu.edu/thredds/dodsC/nam_gom_monthly/tmp/nam_tmp_gom_201002.nc,-1"
       ]
      },
      {
       "output_type": "stream",
       "stream": "stdout",
       "text": [
        "\r",
        "[762]Fail:http://barataria.tamu.edu/thredds/dodsC/nam_gom_monthly/tmp/nam_tmp_gom_201003.nc,-1"
       ]
      },
      {
       "output_type": "stream",
       "stream": "stdout",
       "text": [
        "\r",
        "[763]Fail:http://barataria.tamu.edu/thredds/dodsC/nam_gom_monthly/tmp/nam_tmp_gom_201004.nc,-1"
       ]
      },
      {
       "output_type": "stream",
       "stream": "stdout",
       "text": [
        "\r",
        "[764]Fail:http://barataria.tamu.edu/thredds/dodsC/nam_gom_monthly/tmp/nam_tmp_gom_201005.nc,-1"
       ]
      },
      {
       "output_type": "stream",
       "stream": "stdout",
       "text": [
        "\r",
        "[765]Fail:http://barataria.tamu.edu/thredds/dodsC/nam_gom_monthly/tmp/nam_tmp_gom_201006.nc,-1"
       ]
      },
      {
       "output_type": "stream",
       "stream": "stdout",
       "text": [
        "\r",
        "[766]Fail:http://barataria.tamu.edu/thredds/dodsC/nam_gom_monthly/tmp/nam_tmp_gom_201007.nc,-1"
       ]
      },
      {
       "output_type": "stream",
       "stream": "stdout",
       "text": [
        "\r",
        "[767]Fail:http://barataria.tamu.edu/thredds/dodsC/nam_gom_monthly/tmp/nam_tmp_gom_201008.nc,-1"
       ]
      },
      {
       "output_type": "stream",
       "stream": "stdout",
       "text": [
        "\r",
        "[768]Fail:http://barataria.tamu.edu/thredds/dodsC/nam_gom_monthly/tmp/nam_tmp_gom_201009.nc,-1"
       ]
      },
      {
       "output_type": "stream",
       "stream": "stdout",
       "text": [
        "\r",
        "[769]Fail:http://barataria.tamu.edu/thredds/dodsC/nam_gom_monthly/tmp/nam_tmp_gom_201010.nc,-1"
       ]
      },
      {
       "output_type": "stream",
       "stream": "stdout",
       "text": [
        "\r",
        "[770]Fail:http://barataria.tamu.edu/thredds/dodsC/nam_gom_monthly/tmp/nam_tmp_gom_201011.nc,-1"
       ]
      },
      {
       "output_type": "stream",
       "stream": "stdout",
       "text": [
        "\r",
        "[771]Fail:http://barataria.tamu.edu/thredds/dodsC/nam_gom_monthly/tmp/nam_tmp_gom_201012.nc,-1"
       ]
      },
      {
       "output_type": "stream",
       "stream": "stdout",
       "text": [
        "\r",
        "[772]Fail:http://barataria.tamu.edu/thredds/dodsC/nam_gom_monthly/tmp/nam_tmp_gom_201101.nc,-1"
       ]
      },
      {
       "output_type": "stream",
       "stream": "stdout",
       "text": [
        "\r",
        "[773]Fail:http://barataria.tamu.edu/thredds/dodsC/nam_gom_monthly/tmp/nam_tmp_gom_201102.nc,-1"
       ]
      },
      {
       "output_type": "stream",
       "stream": "stdout",
       "text": [
        "\r",
        "[774]Fail:http://barataria.tamu.edu/thredds/dodsC/nam_gom_monthly/tmp/nam_tmp_gom_201103.nc,-1"
       ]
      },
      {
       "output_type": "stream",
       "stream": "stdout",
       "text": [
        "\r",
        "[775]Fail:http://barataria.tamu.edu/thredds/dodsC/nam_gom_monthly/tmp/nam_tmp_gom_201104.nc,-1"
       ]
      },
      {
       "output_type": "stream",
       "stream": "stdout",
       "text": [
        "\r",
        "[776]Fail:http://barataria.tamu.edu/thredds/dodsC/nam_gom_monthly/tmp/nam_tmp_gom_201105.nc,-1"
       ]
      },
      {
       "output_type": "stream",
       "stream": "stdout",
       "text": [
        "\r",
        "[777]Fail:http://barataria.tamu.edu/thredds/dodsC/nam_gom_monthly/tmp/nam_tmp_gom_201106.nc,-1"
       ]
      },
      {
       "output_type": "stream",
       "stream": "stdout",
       "text": [
        "\r",
        "[778]Fail:http://barataria.tamu.edu/thredds/dodsC/nam_gom_monthly/tmp/nam_tmp_gom_201107.nc,-1"
       ]
      },
      {
       "output_type": "stream",
       "stream": "stdout",
       "text": [
        "\r",
        "[779]Fail:http://barataria.tamu.edu/thredds/dodsC/nam_gom_monthly/tmp/nam_tmp_gom_201108.nc,-1"
       ]
      },
      {
       "output_type": "stream",
       "stream": "stdout",
       "text": [
        "\r",
        "[780]Fail:http://barataria.tamu.edu/thredds/dodsC/nam_gom_monthly/tmp/nam_tmp_gom_201109.nc,-1"
       ]
      },
      {
       "output_type": "stream",
       "stream": "stdout",
       "text": [
        "\r",
        "[781]Fail:http://barataria.tamu.edu/thredds/dodsC/nam_gom_monthly/tmp/nam_tmp_gom_201110.nc,-1"
       ]
      },
      {
       "output_type": "stream",
       "stream": "stdout",
       "text": [
        "\r",
        "[782]Fail:http://barataria.tamu.edu/thredds/dodsC/nam_gom_monthly/tmp/nam_tmp_gom_201111.nc,-1"
       ]
      },
      {
       "output_type": "stream",
       "stream": "stdout",
       "text": [
        "\r",
        "[783]Fail:http://barataria.tamu.edu/thredds/dodsC/nam_gom_monthly/tmp/nam_tmp_gom_201112.nc,-1"
       ]
      },
      {
       "output_type": "stream",
       "stream": "stdout",
       "text": [
        "\r",
        "[784]Fail:http://barataria.tamu.edu/thredds/dodsC/nam_gom_monthly/tmp/nam_tmp_gom_201201.nc,-1"
       ]
      },
      {
       "output_type": "stream",
       "stream": "stdout",
       "text": [
        "\r",
        "[785]Fail:http://barataria.tamu.edu/thredds/dodsC/nam_gom_monthly/tmp/nam_tmp_gom_201202.nc,-1"
       ]
      },
      {
       "output_type": "stream",
       "stream": "stdout",
       "text": [
        "\r",
        "[786]Fail:http://barataria.tamu.edu/thredds/dodsC/nam_gom_monthly/tmp/nam_tmp_gom_201203.nc,-1"
       ]
      },
      {
       "output_type": "stream",
       "stream": "stdout",
       "text": [
        "\r",
        "[787]Fail:http://barataria.tamu.edu/thredds/dodsC/nam_gom_monthly/tmp/nam_tmp_gom_201204.nc,-1"
       ]
      },
      {
       "output_type": "stream",
       "stream": "stdout",
       "text": [
        "\r",
        "[788]Fail:http://barataria.tamu.edu/thredds/dodsC/nam_gom_monthly/tmp/nam_tmp_gom_201205.nc,-1"
       ]
      },
      {
       "output_type": "stream",
       "stream": "stdout",
       "text": [
        "\r",
        "[789]Fail:http://barataria.tamu.edu/thredds/dodsC/nam_gom_monthly/tmp/nam_tmp_gom_201206.nc,-1"
       ]
      },
      {
       "output_type": "stream",
       "stream": "stdout",
       "text": [
        "\r",
        "[790]Fail:http://barataria.tamu.edu/thredds/dodsC/nam_gom_monthly/tmp/nam_tmp_gom_201207.nc,-1"
       ]
      },
      {
       "output_type": "stream",
       "stream": "stdout",
       "text": [
        "\r",
        "[791]Fail:http://barataria.tamu.edu/thredds/dodsC/nam_gom_monthly/tmp/nam_tmp_gom_201208.nc,-1"
       ]
      },
      {
       "output_type": "stream",
       "stream": "stdout",
       "text": [
        "\r",
        "[792]Fail:http://barataria.tamu.edu/thredds/dodsC/nam_gom_monthly/tmp/nam_tmp_gom_201209.nc,-1"
       ]
      },
      {
       "output_type": "stream",
       "stream": "stdout",
       "text": [
        "\r",
        "[793]Fail:http://barataria.tamu.edu/thredds/dodsC/nam_gom_monthly/tmp/nam_tmp_gom_201210.nc,-1"
       ]
      },
      {
       "output_type": "stream",
       "stream": "stdout",
       "text": [
        "\r",
        "[794]Fail:http://barataria.tamu.edu/thredds/dodsC/nam_gom_monthly/tmp/nam_tmp_gom_201211.nc,-1"
       ]
      },
      {
       "output_type": "stream",
       "stream": "stdout",
       "text": [
        "\r",
        "[795]Fail:http://barataria.tamu.edu/thredds/dodsC/nam_gom_monthly/tmp/nam_tmp_gom_201212.nc,-1"
       ]
      },
      {
       "output_type": "stream",
       "stream": "stdout",
       "text": [
        "\r",
        "[796]Fail:http://barataria.tamu.edu/thredds/dodsC/nam_gom_monthly/tmp/nam_tmp_gom_201301.nc,-1"
       ]
      },
      {
       "output_type": "stream",
       "stream": "stdout",
       "text": [
        "\r",
        "[797]Fail:http://barataria.tamu.edu/thredds/dodsC/nam_gom_monthly/tmp/nam_tmp_gom_201302.nc,-1"
       ]
      },
      {
       "output_type": "stream",
       "stream": "stdout",
       "text": [
        "\r",
        "[798]Fail:http://barataria.tamu.edu/thredds/dodsC/nam_gom_monthly/tmp/nam_tmp_gom_201303.nc,-1"
       ]
      },
      {
       "output_type": "stream",
       "stream": "stdout",
       "text": [
        "\r",
        "[799]Fail:http://barataria.tamu.edu/thredds/dodsC/nam_gom_monthly/tmp/nam_tmp_gom_201304.nc,-1"
       ]
      },
      {
       "output_type": "stream",
       "stream": "stdout",
       "text": [
        "\r",
        "[800]Fail:http://barataria.tamu.edu/thredds/dodsC/nam_gom_monthly/tmp/nam_tmp_gom_201305.nc,-1"
       ]
      },
      {
       "output_type": "stream",
       "stream": "stdout",
       "text": [
        "\r",
        "[801]Fail:http://barataria.tamu.edu/thredds/dodsC/nam_gom_monthly/tmp/nam_tmp_gom_201306.nc,-1"
       ]
      },
      {
       "output_type": "stream",
       "stream": "stdout",
       "text": [
        "\r",
        "[802]Fail:http://barataria.tamu.edu/thredds/dodsC/nam_gom_monthly/tmp/nam_tmp_gom_201307.nc,-1"
       ]
      },
      {
       "output_type": "stream",
       "stream": "stdout",
       "text": [
        "\r",
        "[803]Fail:http://barataria.tamu.edu/thredds/dodsC/nam_gom_monthly/tmp/nam_tmp_gom_201308.nc,-1"
       ]
      },
      {
       "output_type": "stream",
       "stream": "stdout",
       "text": [
        "\r",
        "[804]Fail:http://barataria.tamu.edu/thredds/dodsC/nam_gom_monthly/tmp/nam_tmp_gom_201309.nc,-1"
       ]
      },
      {
       "output_type": "stream",
       "stream": "stdout",
       "text": [
        "\r",
        "[805]Fail:http://barataria.tamu.edu/thredds/dodsC/nam_gom_monthly/tmp/nam_tmp_gom_201310.nc,-1"
       ]
      },
      {
       "output_type": "stream",
       "stream": "stdout",
       "text": [
        "\r",
        "[806]Fail:http://barataria.tamu.edu/thredds/dodsC/nam_gom_monthly/tmp/nam_tmp_gom_201311.nc,-1"
       ]
      },
      {
       "output_type": "stream",
       "stream": "stdout",
       "text": [
        "\r",
        "[807]Fail:http://barataria.tamu.edu/thredds/dodsC/nam_gom_monthly/tmp/nam_tmp_gom_201312.nc,-1"
       ]
      },
      {
       "output_type": "stream",
       "stream": "stdout",
       "text": [
        "\r",
        "[808]Fail:http://barataria.tamu.edu/thredds/dodsC/nam_gom_monthly/ugrd/nam_ugrd_gom_200901.nc,-1"
       ]
      },
      {
       "output_type": "stream",
       "stream": "stdout",
       "text": [
        "\r",
        "[809]Fail:http://barataria.tamu.edu/thredds/dodsC/nam_gom_monthly/ugrd/nam_ugrd_gom_200902.nc,-1"
       ]
      },
      {
       "output_type": "stream",
       "stream": "stdout",
       "text": [
        "\r",
        "[810]Fail:http://barataria.tamu.edu/thredds/dodsC/nam_gom_monthly/ugrd/nam_ugrd_gom_200903.nc,-1"
       ]
      },
      {
       "output_type": "stream",
       "stream": "stdout",
       "text": [
        "\r",
        "[811]Fail:http://barataria.tamu.edu/thredds/dodsC/nam_gom_monthly/ugrd/nam_ugrd_gom_200904.nc,-1"
       ]
      },
      {
       "output_type": "stream",
       "stream": "stdout",
       "text": [
        "\r",
        "[812]Fail:http://barataria.tamu.edu/thredds/dodsC/nam_gom_monthly/ugrd/nam_ugrd_gom_200905.nc,-1"
       ]
      },
      {
       "output_type": "stream",
       "stream": "stdout",
       "text": [
        "\r",
        "[813]Fail:http://barataria.tamu.edu/thredds/dodsC/nam_gom_monthly/ugrd/nam_ugrd_gom_200906.nc,-1"
       ]
      },
      {
       "output_type": "stream",
       "stream": "stdout",
       "text": [
        "\r",
        "[814]Fail:http://barataria.tamu.edu/thredds/dodsC/nam_gom_monthly/ugrd/nam_ugrd_gom_200907.nc,-1"
       ]
      },
      {
       "output_type": "stream",
       "stream": "stdout",
       "text": [
        "\r",
        "[815]Fail:http://barataria.tamu.edu/thredds/dodsC/nam_gom_monthly/ugrd/nam_ugrd_gom_200908.nc,-1"
       ]
      },
      {
       "output_type": "stream",
       "stream": "stdout",
       "text": [
        "\r",
        "[816]Fail:http://barataria.tamu.edu/thredds/dodsC/nam_gom_monthly/ugrd/nam_ugrd_gom_200909.nc,-1"
       ]
      },
      {
       "output_type": "stream",
       "stream": "stdout",
       "text": [
        "\r",
        "[817]Fail:http://barataria.tamu.edu/thredds/dodsC/nam_gom_monthly/ugrd/nam_ugrd_gom_200910.nc,-1"
       ]
      },
      {
       "output_type": "stream",
       "stream": "stdout",
       "text": [
        "\r",
        "[818]Fail:http://barataria.tamu.edu/thredds/dodsC/nam_gom_monthly/ugrd/nam_ugrd_gom_200911.nc,-1"
       ]
      },
      {
       "output_type": "stream",
       "stream": "stdout",
       "text": [
        "\r",
        "[819]Fail:http://barataria.tamu.edu/thredds/dodsC/nam_gom_monthly/ugrd/nam_ugrd_gom_200912.nc,-1"
       ]
      },
      {
       "output_type": "stream",
       "stream": "stdout",
       "text": [
        "\r",
        "[820]Fail:http://barataria.tamu.edu/thredds/dodsC/nam_gom_monthly/ugrd/nam_ugrd_gom_201001.nc,-1"
       ]
      },
      {
       "output_type": "stream",
       "stream": "stdout",
       "text": [
        "\r",
        "[821]Fail:http://barataria.tamu.edu/thredds/dodsC/nam_gom_monthly/ugrd/nam_ugrd_gom_201002.nc,-1"
       ]
      },
      {
       "output_type": "stream",
       "stream": "stdout",
       "text": [
        "\r",
        "[822]Fail:http://barataria.tamu.edu/thredds/dodsC/nam_gom_monthly/ugrd/nam_ugrd_gom_201003.nc,-1"
       ]
      },
      {
       "output_type": "stream",
       "stream": "stdout",
       "text": [
        "\r",
        "[823]Fail:http://barataria.tamu.edu/thredds/dodsC/nam_gom_monthly/ugrd/nam_ugrd_gom_201004.nc,-1"
       ]
      },
      {
       "output_type": "stream",
       "stream": "stdout",
       "text": [
        "\r",
        "[824]Fail:http://barataria.tamu.edu/thredds/dodsC/nam_gom_monthly/ugrd/nam_ugrd_gom_201005.nc,-1"
       ]
      },
      {
       "output_type": "stream",
       "stream": "stdout",
       "text": [
        "\r",
        "[825]Fail:http://barataria.tamu.edu/thredds/dodsC/nam_gom_monthly/ugrd/nam_ugrd_gom_201006.nc,-1"
       ]
      },
      {
       "output_type": "stream",
       "stream": "stdout",
       "text": [
        "\r",
        "[826]Fail:http://barataria.tamu.edu/thredds/dodsC/nam_gom_monthly/ugrd/nam_ugrd_gom_201007.nc,-1"
       ]
      },
      {
       "output_type": "stream",
       "stream": "stdout",
       "text": [
        "\r",
        "[827]Fail:http://barataria.tamu.edu/thredds/dodsC/nam_gom_monthly/ugrd/nam_ugrd_gom_201008.nc,-1"
       ]
      },
      {
       "output_type": "stream",
       "stream": "stdout",
       "text": [
        "\r",
        "[828]Fail:http://barataria.tamu.edu/thredds/dodsC/nam_gom_monthly/ugrd/nam_ugrd_gom_201009.nc,-1"
       ]
      },
      {
       "output_type": "stream",
       "stream": "stdout",
       "text": [
        "\r",
        "[829]Fail:http://barataria.tamu.edu/thredds/dodsC/nam_gom_monthly/ugrd/nam_ugrd_gom_201010.nc,-1"
       ]
      },
      {
       "output_type": "stream",
       "stream": "stdout",
       "text": [
        "\r",
        "[830]Fail:http://barataria.tamu.edu/thredds/dodsC/nam_gom_monthly/ugrd/nam_ugrd_gom_201011.nc,-1"
       ]
      },
      {
       "output_type": "stream",
       "stream": "stdout",
       "text": [
        "\r",
        "[831]Fail:http://barataria.tamu.edu/thredds/dodsC/nam_gom_monthly/ugrd/nam_ugrd_gom_201012.nc,-1"
       ]
      },
      {
       "output_type": "stream",
       "stream": "stdout",
       "text": [
        "\r",
        "[832]Fail:http://barataria.tamu.edu/thredds/dodsC/nam_gom_monthly/ugrd/nam_ugrd_gom_201101.nc,-1"
       ]
      },
      {
       "output_type": "stream",
       "stream": "stdout",
       "text": [
        "\r",
        "[833]Fail:http://barataria.tamu.edu/thredds/dodsC/nam_gom_monthly/ugrd/nam_ugrd_gom_201102.nc,-1"
       ]
      },
      {
       "output_type": "stream",
       "stream": "stdout",
       "text": [
        "\r",
        "[834]Fail:http://barataria.tamu.edu/thredds/dodsC/nam_gom_monthly/ugrd/nam_ugrd_gom_201103.nc,-1"
       ]
      },
      {
       "output_type": "stream",
       "stream": "stdout",
       "text": [
        "\r",
        "[835]Fail:http://barataria.tamu.edu/thredds/dodsC/nam_gom_monthly/ugrd/nam_ugrd_gom_201104.nc,-1"
       ]
      },
      {
       "output_type": "stream",
       "stream": "stdout",
       "text": [
        "\r",
        "[836]Fail:http://barataria.tamu.edu/thredds/dodsC/nam_gom_monthly/ugrd/nam_ugrd_gom_201105.nc,-1"
       ]
      },
      {
       "output_type": "stream",
       "stream": "stdout",
       "text": [
        "\r",
        "[837]Fail:http://barataria.tamu.edu/thredds/dodsC/nam_gom_monthly/ugrd/nam_ugrd_gom_201106.nc,-1"
       ]
      },
      {
       "output_type": "stream",
       "stream": "stdout",
       "text": [
        "\r",
        "[838]Fail:http://barataria.tamu.edu/thredds/dodsC/nam_gom_monthly/ugrd/nam_ugrd_gom_201107.nc,-1"
       ]
      },
      {
       "output_type": "stream",
       "stream": "stdout",
       "text": [
        "\r",
        "[839]Fail:http://barataria.tamu.edu/thredds/dodsC/nam_gom_monthly/ugrd/nam_ugrd_gom_201108.nc,-1"
       ]
      },
      {
       "output_type": "stream",
       "stream": "stdout",
       "text": [
        "\r",
        "[840]Fail:http://barataria.tamu.edu/thredds/dodsC/nam_gom_monthly/ugrd/nam_ugrd_gom_201109.nc,-1"
       ]
      },
      {
       "output_type": "stream",
       "stream": "stdout",
       "text": [
        "\r",
        "[841]Fail:http://barataria.tamu.edu/thredds/dodsC/nam_gom_monthly/ugrd/nam_ugrd_gom_201110.nc,-1"
       ]
      },
      {
       "output_type": "stream",
       "stream": "stdout",
       "text": [
        "\r",
        "[842]Fail:http://barataria.tamu.edu/thredds/dodsC/nam_gom_monthly/ugrd/nam_ugrd_gom_201111.nc,-1"
       ]
      },
      {
       "output_type": "stream",
       "stream": "stdout",
       "text": [
        "\r",
        "[843]Fail:http://barataria.tamu.edu/thredds/dodsC/nam_gom_monthly/ugrd/nam_ugrd_gom_201112.nc,-1"
       ]
      },
      {
       "output_type": "stream",
       "stream": "stdout",
       "text": [
        "\r",
        "[844]Fail:http://barataria.tamu.edu/thredds/dodsC/nam_gom_monthly/ugrd/nam_ugrd_gom_201201.nc,-1"
       ]
      },
      {
       "output_type": "stream",
       "stream": "stdout",
       "text": [
        "\r",
        "[845]Fail:http://barataria.tamu.edu/thredds/dodsC/nam_gom_monthly/ugrd/nam_ugrd_gom_201202.nc,-1"
       ]
      },
      {
       "output_type": "stream",
       "stream": "stdout",
       "text": [
        "\r",
        "[846]Fail:http://barataria.tamu.edu/thredds/dodsC/nam_gom_monthly/ugrd/nam_ugrd_gom_201203.nc,-1"
       ]
      },
      {
       "output_type": "stream",
       "stream": "stdout",
       "text": [
        "\r",
        "[847]Fail:http://barataria.tamu.edu/thredds/dodsC/nam_gom_monthly/ugrd/nam_ugrd_gom_201204.nc,-1"
       ]
      },
      {
       "output_type": "stream",
       "stream": "stdout",
       "text": [
        "\r",
        "[848]Fail:http://barataria.tamu.edu/thredds/dodsC/nam_gom_monthly/ugrd/nam_ugrd_gom_201205.nc,-1"
       ]
      },
      {
       "output_type": "stream",
       "stream": "stdout",
       "text": [
        "\r",
        "[849]Fail:http://barataria.tamu.edu/thredds/dodsC/nam_gom_monthly/ugrd/nam_ugrd_gom_201206.nc,-1"
       ]
      },
      {
       "output_type": "stream",
       "stream": "stdout",
       "text": [
        "\r",
        "[850]Fail:http://barataria.tamu.edu/thredds/dodsC/nam_gom_monthly/ugrd/nam_ugrd_gom_201207.nc,-1"
       ]
      },
      {
       "output_type": "stream",
       "stream": "stdout",
       "text": [
        "\r",
        "[851]Fail:http://barataria.tamu.edu/thredds/dodsC/nam_gom_monthly/ugrd/nam_ugrd_gom_201208.nc,-1"
       ]
      },
      {
       "output_type": "stream",
       "stream": "stdout",
       "text": [
        "\r",
        "[852]Fail:http://barataria.tamu.edu/thredds/dodsC/nam_gom_monthly/ugrd/nam_ugrd_gom_201209.nc,-1"
       ]
      },
      {
       "output_type": "stream",
       "stream": "stdout",
       "text": [
        "\r",
        "[853]Fail:http://barataria.tamu.edu/thredds/dodsC/nam_gom_monthly/ugrd/nam_ugrd_gom_201210.nc,-1"
       ]
      },
      {
       "output_type": "stream",
       "stream": "stdout",
       "text": [
        "\r",
        "[854]Fail:http://barataria.tamu.edu/thredds/dodsC/nam_gom_monthly/ugrd/nam_ugrd_gom_201211.nc,-1"
       ]
      },
      {
       "output_type": "stream",
       "stream": "stdout",
       "text": [
        "\r",
        "[855]Fail:http://barataria.tamu.edu/thredds/dodsC/nam_gom_monthly/ugrd/nam_ugrd_gom_201212.nc,-1"
       ]
      },
      {
       "output_type": "stream",
       "stream": "stdout",
       "text": [
        "\r",
        "[856]Fail:http://barataria.tamu.edu/thredds/dodsC/nam_gom_monthly/ugrd/nam_ugrd_gom_201301.nc,-1"
       ]
      },
      {
       "output_type": "stream",
       "stream": "stdout",
       "text": [
        "\r",
        "[857]Fail:http://barataria.tamu.edu/thredds/dodsC/nam_gom_monthly/ugrd/nam_ugrd_gom_201302.nc,-1"
       ]
      },
      {
       "output_type": "stream",
       "stream": "stdout",
       "text": [
        "\r",
        "[858]Fail:http://barataria.tamu.edu/thredds/dodsC/nam_gom_monthly/ugrd/nam_ugrd_gom_201303.nc,-1"
       ]
      },
      {
       "output_type": "stream",
       "stream": "stdout",
       "text": [
        "\r",
        "[859]Fail:http://barataria.tamu.edu/thredds/dodsC/nam_gom_monthly/ugrd/nam_ugrd_gom_201304.nc,-1"
       ]
      },
      {
       "output_type": "stream",
       "stream": "stdout",
       "text": [
        "\r",
        "[860]Fail:http://barataria.tamu.edu/thredds/dodsC/nam_gom_monthly/ugrd/nam_ugrd_gom_201305.nc,-1"
       ]
      },
      {
       "output_type": "stream",
       "stream": "stdout",
       "text": [
        "\r",
        "[861]Fail:http://barataria.tamu.edu/thredds/dodsC/nam_gom_monthly/ugrd/nam_ugrd_gom_201306.nc,-1"
       ]
      },
      {
       "output_type": "stream",
       "stream": "stdout",
       "text": [
        "\r",
        "[862]Fail:http://barataria.tamu.edu/thredds/dodsC/nam_gom_monthly/ugrd/nam_ugrd_gom_201307.nc,-1"
       ]
      },
      {
       "output_type": "stream",
       "stream": "stdout",
       "text": [
        "\r",
        "[863]Fail:http://barataria.tamu.edu/thredds/dodsC/nam_gom_monthly/ugrd/nam_ugrd_gom_201308.nc,-1"
       ]
      },
      {
       "output_type": "stream",
       "stream": "stdout",
       "text": [
        "\r",
        "[864]Fail:http://barataria.tamu.edu/thredds/dodsC/nam_gom_monthly/ugrd/nam_ugrd_gom_201309.nc,-1"
       ]
      },
      {
       "output_type": "stream",
       "stream": "stdout",
       "text": [
        "\r",
        "[865]Fail:http://barataria.tamu.edu/thredds/dodsC/nam_gom_monthly/ugrd/nam_ugrd_gom_201310.nc,-1"
       ]
      },
      {
       "output_type": "stream",
       "stream": "stdout",
       "text": [
        "\r",
        "[866]Fail:http://dm2.caricoos.org/thredds/dodsC/content/swan/201409111200.nc,404"
       ]
      },
      {
       "output_type": "stream",
       "stream": "stdout",
       "text": [
        "\r",
        "[867]Fail:http://barataria.tamu.edu/thredds/dodsC/nam_gom_monthly/ugrd/nam_ugrd_gom_201311.nc,-1"
       ]
      },
      {
       "output_type": "stream",
       "stream": "stdout",
       "text": [
        "\r",
        "[868]Fail:http://barataria.tamu.edu/thredds/dodsC/nam_gom_monthly/ugrd/nam_ugrd_gom_201312.nc,-1"
       ]
      },
      {
       "output_type": "stream",
       "stream": "stdout",
       "text": [
        "\r",
        "[869]Fail:http://barataria.tamu.edu/thredds/dodsC/nam_gom_monthly/vgrd/nam_vgrd_gom_200901.nc,-1"
       ]
      },
      {
       "output_type": "stream",
       "stream": "stdout",
       "text": [
        "\r",
        "[870]Fail:http://barataria.tamu.edu/thredds/dodsC/nam_gom_monthly/vgrd/nam_vgrd_gom_200902.nc,-1"
       ]
      },
      {
       "output_type": "stream",
       "stream": "stdout",
       "text": [
        "\r",
        "[871]Fail:http://barataria.tamu.edu/thredds/dodsC/nam_gom_monthly/vgrd/nam_vgrd_gom_200903.nc,-1"
       ]
      },
      {
       "output_type": "stream",
       "stream": "stdout",
       "text": [
        "\r",
        "[872]Fail:http://barataria.tamu.edu/thredds/dodsC/nam_gom_monthly/vgrd/nam_vgrd_gom_200904.nc,-1"
       ]
      },
      {
       "output_type": "stream",
       "stream": "stdout",
       "text": [
        "\r",
        "[873]Fail:http://barataria.tamu.edu/thredds/dodsC/nam_gom_monthly/vgrd/nam_vgrd_gom_200905.nc,-1"
       ]
      },
      {
       "output_type": "stream",
       "stream": "stdout",
       "text": [
        "\r",
        "[874]Fail:http://barataria.tamu.edu/thredds/dodsC/nam_gom_monthly/vgrd/nam_vgrd_gom_200906.nc,-1"
       ]
      },
      {
       "output_type": "stream",
       "stream": "stdout",
       "text": [
        "\r",
        "[875]Fail:http://barataria.tamu.edu/thredds/dodsC/nam_gom_monthly/vgrd/nam_vgrd_gom_200907.nc,-1"
       ]
      },
      {
       "output_type": "stream",
       "stream": "stdout",
       "text": [
        "\r",
        "[876]Fail:http://barataria.tamu.edu/thredds/dodsC/nam_gom_monthly/vgrd/nam_vgrd_gom_200908.nc,-1"
       ]
      },
      {
       "output_type": "stream",
       "stream": "stdout",
       "text": [
        "\r",
        "[877]Fail:http://barataria.tamu.edu/thredds/dodsC/nam_gom_monthly/vgrd/nam_vgrd_gom_200909.nc,-1"
       ]
      },
      {
       "output_type": "stream",
       "stream": "stdout",
       "text": [
        "\r",
        "[878]Fail:http://barataria.tamu.edu/thredds/dodsC/nam_gom_monthly/vgrd/nam_vgrd_gom_200910.nc,-1"
       ]
      },
      {
       "output_type": "stream",
       "stream": "stdout",
       "text": [
        "\r",
        "[879]Fail:http://barataria.tamu.edu/thredds/dodsC/nam_gom_monthly/vgrd/nam_vgrd_gom_200911.nc,-1"
       ]
      },
      {
       "output_type": "stream",
       "stream": "stdout",
       "text": [
        "\r",
        "[880]Fail:http://barataria.tamu.edu/thredds/dodsC/nam_gom_monthly/vgrd/nam_vgrd_gom_200912.nc,-1"
       ]
      },
      {
       "output_type": "stream",
       "stream": "stdout",
       "text": [
        "\r",
        "[881]Fail:http://barataria.tamu.edu/thredds/dodsC/nam_gom_monthly/vgrd/nam_vgrd_gom_201001.nc,-1"
       ]
      },
      {
       "output_type": "stream",
       "stream": "stdout",
       "text": [
        "\r",
        "[882]Fail:http://barataria.tamu.edu/thredds/dodsC/nam_gom_monthly/vgrd/nam_vgrd_gom_201002.nc,-1"
       ]
      },
      {
       "output_type": "stream",
       "stream": "stdout",
       "text": [
        "\r",
        "[883]Fail:http://barataria.tamu.edu/thredds/dodsC/nam_gom_monthly/vgrd/nam_vgrd_gom_201003.nc,-1"
       ]
      },
      {
       "output_type": "stream",
       "stream": "stdout",
       "text": [
        "\r",
        "[884]Fail:http://barataria.tamu.edu/thredds/dodsC/nam_gom_monthly/vgrd/nam_vgrd_gom_201004.nc,-1"
       ]
      },
      {
       "output_type": "stream",
       "stream": "stdout",
       "text": [
        "\r",
        "[885]Fail:http://barataria.tamu.edu/thredds/dodsC/nam_gom_monthly/vgrd/nam_vgrd_gom_201005.nc,-1"
       ]
      },
      {
       "output_type": "stream",
       "stream": "stdout",
       "text": [
        "\r",
        "[886]Fail:http://barataria.tamu.edu/thredds/dodsC/nam_gom_monthly/vgrd/nam_vgrd_gom_201006.nc,-1"
       ]
      },
      {
       "output_type": "stream",
       "stream": "stdout",
       "text": [
        "\r",
        "[887]Fail:http://barataria.tamu.edu/thredds/dodsC/nam_gom_monthly/vgrd/nam_vgrd_gom_201007.nc,-1"
       ]
      },
      {
       "output_type": "stream",
       "stream": "stdout",
       "text": [
        "\r",
        "[888]Fail:http://barataria.tamu.edu/thredds/dodsC/nam_gom_monthly/vgrd/nam_vgrd_gom_201008.nc,-1"
       ]
      },
      {
       "output_type": "stream",
       "stream": "stdout",
       "text": [
        "\r",
        "[889]Fail:http://barataria.tamu.edu/thredds/dodsC/nam_gom_monthly/vgrd/nam_vgrd_gom_201009.nc,-1"
       ]
      },
      {
       "output_type": "stream",
       "stream": "stdout",
       "text": [
        "\r",
        "[890]Fail:http://barataria.tamu.edu/thredds/dodsC/nam_gom_monthly/vgrd/nam_vgrd_gom_201010.nc,-1"
       ]
      },
      {
       "output_type": "stream",
       "stream": "stdout",
       "text": [
        "\r",
        "[891]Fail:http://barataria.tamu.edu/thredds/dodsC/nam_gom_monthly/vgrd/nam_vgrd_gom_201011.nc,-1"
       ]
      },
      {
       "output_type": "stream",
       "stream": "stdout",
       "text": [
        "\r",
        "[892]Fail:http://barataria.tamu.edu/thredds/dodsC/nam_gom_monthly/vgrd/nam_vgrd_gom_201012.nc,-1"
       ]
      },
      {
       "output_type": "stream",
       "stream": "stdout",
       "text": [
        "\r",
        "[893]Fail:http://barataria.tamu.edu/thredds/dodsC/nam_gom_monthly/vgrd/nam_vgrd_gom_201101.nc,-1"
       ]
      },
      {
       "output_type": "stream",
       "stream": "stdout",
       "text": [
        "\r",
        "[894]Fail:http://barataria.tamu.edu/thredds/dodsC/nam_gom_monthly/vgrd/nam_vgrd_gom_201102.nc,-1"
       ]
      },
      {
       "output_type": "stream",
       "stream": "stdout",
       "text": [
        "\r",
        "[895]Fail:http://barataria.tamu.edu/thredds/dodsC/nam_gom_monthly/vgrd/nam_vgrd_gom_201103.nc,-1"
       ]
      },
      {
       "output_type": "stream",
       "stream": "stdout",
       "text": [
        "\r",
        "[896]Fail:http://barataria.tamu.edu/thredds/dodsC/nam_gom_monthly/vgrd/nam_vgrd_gom_201104.nc,-1"
       ]
      },
      {
       "output_type": "stream",
       "stream": "stdout",
       "text": [
        "\r",
        "[897]Fail:http://barataria.tamu.edu/thredds/dodsC/nam_gom_monthly/vgrd/nam_vgrd_gom_201105.nc,-1"
       ]
      },
      {
       "output_type": "stream",
       "stream": "stdout",
       "text": [
        "\r",
        "[898]Fail:http://barataria.tamu.edu/thredds/dodsC/nam_gom_monthly/vgrd/nam_vgrd_gom_201106.nc,-1"
       ]
      },
      {
       "output_type": "stream",
       "stream": "stdout",
       "text": [
        "\r",
        "[899]Fail:http://barataria.tamu.edu/thredds/dodsC/nam_gom_monthly/vgrd/nam_vgrd_gom_201107.nc,-1"
       ]
      },
      {
       "output_type": "stream",
       "stream": "stdout",
       "text": [
        "\r",
        "[900]Fail:http://barataria.tamu.edu/thredds/dodsC/nam_gom_monthly/vgrd/nam_vgrd_gom_201108.nc,-1"
       ]
      },
      {
       "output_type": "stream",
       "stream": "stdout",
       "text": [
        "\r",
        "[901]Fail:http://barataria.tamu.edu/thredds/dodsC/nam_gom_monthly/vgrd/nam_vgrd_gom_201109.nc,-1"
       ]
      },
      {
       "output_type": "stream",
       "stream": "stdout",
       "text": [
        "\r",
        "[902]Fail:http://barataria.tamu.edu/thredds/dodsC/nam_gom_monthly/vgrd/nam_vgrd_gom_201110.nc,-1"
       ]
      },
      {
       "output_type": "stream",
       "stream": "stdout",
       "text": [
        "\r",
        "[903]Fail:http://barataria.tamu.edu/thredds/dodsC/nam_gom_monthly/vgrd/nam_vgrd_gom_201111.nc,-1"
       ]
      },
      {
       "output_type": "stream",
       "stream": "stdout",
       "text": [
        "\r",
        "[904]Fail:http://barataria.tamu.edu/thredds/dodsC/nam_gom_monthly/vgrd/nam_vgrd_gom_201112.nc,-1"
       ]
      },
      {
       "output_type": "stream",
       "stream": "stdout",
       "text": [
        "\r",
        "[905]Fail:http://barataria.tamu.edu/thredds/dodsC/nam_gom_monthly/vgrd/nam_vgrd_gom_201201.nc,-1"
       ]
      },
      {
       "output_type": "stream",
       "stream": "stdout",
       "text": [
        "\r",
        "[906]Fail:http://barataria.tamu.edu/thredds/dodsC/nam_gom_monthly/vgrd/nam_vgrd_gom_201202.nc,-1"
       ]
      },
      {
       "output_type": "stream",
       "stream": "stdout",
       "text": [
        "\r",
        "[907]Fail:http://barataria.tamu.edu/thredds/dodsC/nam_gom_monthly/vgrd/nam_vgrd_gom_201203.nc,-1"
       ]
      },
      {
       "output_type": "stream",
       "stream": "stdout",
       "text": [
        "\r",
        "[908]Fail:http://barataria.tamu.edu/thredds/dodsC/nam_gom_monthly/vgrd/nam_vgrd_gom_201204.nc,-1"
       ]
      },
      {
       "output_type": "stream",
       "stream": "stdout",
       "text": [
        "\r",
        "[909]Fail:http://barataria.tamu.edu/thredds/dodsC/nam_gom_monthly/vgrd/nam_vgrd_gom_201205.nc,-1"
       ]
      },
      {
       "output_type": "stream",
       "stream": "stdout",
       "text": [
        "\r",
        "[910]Fail:http://barataria.tamu.edu/thredds/dodsC/nam_gom_monthly/vgrd/nam_vgrd_gom_201206.nc,-1"
       ]
      },
      {
       "output_type": "stream",
       "stream": "stdout",
       "text": [
        "\r",
        "[911]Fail:http://barataria.tamu.edu/thredds/dodsC/nam_gom_monthly/vgrd/nam_vgrd_gom_201207.nc,-1"
       ]
      },
      {
       "output_type": "stream",
       "stream": "stdout",
       "text": [
        "\r",
        "[912]Fail:http://barataria.tamu.edu/thredds/dodsC/nam_gom_monthly/vgrd/nam_vgrd_gom_201208.nc,-1"
       ]
      },
      {
       "output_type": "stream",
       "stream": "stdout",
       "text": [
        "\r",
        "[913]Fail:http://barataria.tamu.edu/thredds/dodsC/nam_gom_monthly/vgrd/nam_vgrd_gom_201209.nc,-1"
       ]
      },
      {
       "output_type": "stream",
       "stream": "stdout",
       "text": [
        "\r",
        "[914]Fail:http://barataria.tamu.edu/thredds/dodsC/nam_gom_monthly/vgrd/nam_vgrd_gom_201210.nc,-1"
       ]
      },
      {
       "output_type": "stream",
       "stream": "stdout",
       "text": [
        "\r",
        "[915]Fail:http://barataria.tamu.edu/thredds/dodsC/nam_gom_monthly/vgrd/nam_vgrd_gom_201211.nc,-1"
       ]
      },
      {
       "output_type": "stream",
       "stream": "stdout",
       "text": [
        "\r",
        "[916]Fail:http://barataria.tamu.edu/thredds/dodsC/nam_gom_monthly/vgrd/nam_vgrd_gom_201212.nc,-1"
       ]
      },
      {
       "output_type": "stream",
       "stream": "stdout",
       "text": [
        "\r",
        "[917]Fail:http://barataria.tamu.edu/thredds/dodsC/nam_gom_monthly/vgrd/nam_vgrd_gom_201301.nc,-1"
       ]
      },
      {
       "output_type": "stream",
       "stream": "stdout",
       "text": [
        "\r",
        "[918]Fail:http://barataria.tamu.edu/thredds/dodsC/nam_gom_monthly/vgrd/nam_vgrd_gom_201302.nc,-1"
       ]
      },
      {
       "output_type": "stream",
       "stream": "stdout",
       "text": [
        "\r",
        "[920]Fail:http://barataria.tamu.edu/thredds/dodsC/nam_gom_monthly/vgrd/nam_vgrd_gom_201304.nc,-1"
       ]
      },
      {
       "output_type": "stream",
       "stream": "stdout",
       "text": [
        "\r",
        "[921]Fail:http://barataria.tamu.edu/thredds/dodsC/nam_gom_monthly/vgrd/nam_vgrd_gom_201305.nc,-1"
       ]
      },
      {
       "output_type": "stream",
       "stream": "stdout",
       "text": [
        "\r",
        "[922]Fail:http://barataria.tamu.edu/thredds/dodsC/nam_gom_monthly/vgrd/nam_vgrd_gom_201306.nc,-1"
       ]
      },
      {
       "output_type": "stream",
       "stream": "stdout",
       "text": [
        "\r",
        "[923]Fail:http://barataria.tamu.edu/thredds/dodsC/nam_gom_monthly/vgrd/nam_vgrd_gom_201307.nc,-1"
       ]
      },
      {
       "output_type": "stream",
       "stream": "stdout",
       "text": [
        "\r",
        "[924]Fail:http://barataria.tamu.edu/thredds/dodsC/nam_gom_monthly/vgrd/nam_vgrd_gom_201308.nc,-1"
       ]
      },
      {
       "output_type": "stream",
       "stream": "stdout",
       "text": [
        "\r",
        "[925]Fail:http://barataria.tamu.edu/thredds/dodsC/nam_gom_monthly/vgrd/nam_vgrd_gom_201309.nc,-1"
       ]
      },
      {
       "output_type": "stream",
       "stream": "stdout",
       "text": [
        "\r",
        "[926]Fail:http://barataria.tamu.edu/thredds/dodsC/nam_gom_monthly/vgrd/nam_vgrd_gom_201310.nc,-1"
       ]
      },
      {
       "output_type": "stream",
       "stream": "stdout",
       "text": [
        "\r",
        "[927]Fail:http://barataria.tamu.edu/thredds/dodsC/nam_gom_monthly/vgrd/nam_vgrd_gom_201311.nc,-1"
       ]
      },
      {
       "output_type": "stream",
       "stream": "stdout",
       "text": [
        "\r",
        "[928]Fail:http://barataria.tamu.edu/thredds/dodsC/nam_gom_monthly/vgrd/nam_vgrd_gom_201312.nc,-1"
       ]
      },
      {
       "output_type": "stream",
       "stream": "stdout",
       "text": [
        "\r",
        "[929]Fail:http://dm2.caricoos.org/thredds/dodsC/content/swan/201409121200.nc,404"
       ]
      },
      {
       "output_type": "stream",
       "stream": "stdout",
       "text": [
        "\r",
        "[930]Fail:http://thredds.ucar.edu/thredds/dodsC/grib/Unidata/NMM/Primary/Best/LambertConformal_155X201-44p05N-89p52W,404"
       ]
      },
      {
       "output_type": "stream",
       "stream": "stdout",
       "text": [
        "\r",
        "[931]Fail:http://thredds.ucar.edu/thredds/dodsC/grib/Unidata/NMM/Primary/Best/LambertConformal_155X201-45p41N-90p17W,404"
       ]
      },
      {
       "output_type": "stream",
       "stream": "stdout",
       "text": [
        "\r",
        "[932]Fail:http://thredds.ucar.edu/thredds/dodsC/grib/Unidata/NMM/Primary/Best/LambertConformal_155X201-45p96N-88p24W,404"
       ]
      },
      {
       "output_type": "stream",
       "stream": "stdout",
       "text": [
        "\r",
        "[933]Fail:http://thredds.ucar.edu/thredds/dodsC/grib/Unidata/NMM/Primary/Best/LambertConformal_155X201-47p54N-84p84W,404"
       ]
      },
      {
       "output_type": "stream",
       "stream": "stdout",
       "text": [
        "\r",
        "[934]Fail:http://thredds.ucar.edu/thredds/dodsC/grib/Unidata/NMM/Secondary/Best/LambertConformal_155X201-39p67N-74p13W,404"
       ]
      },
      {
       "output_type": "stream",
       "stream": "stdout",
       "text": [
        "\r",
        "[935]Fail:http://thredds.ucar.edu/thredds/dodsC/grib/Unidata/NMM/Secondary/Best/LambertConformal_155X201-40p17N-84p61W,404"
       ]
      },
      {
       "output_type": "stream",
       "stream": "stdout",
       "text": [
        "\r",
        "[936]Fail:http://thredds.ucar.edu/thredds/dodsC/grib/Unidata/NMM/Secondary/Best/LambertConformal_155X201-40p63N-72p39W,404"
       ]
      },
      {
       "output_type": "stream",
       "stream": "stdout",
       "text": [
        "\r",
        "[937]Fail:http://thredds.ucar.edu/thredds/dodsC/grib/Unidata/NMM/Secondary/Best/LambertConformal_155X201-48p07N-111p0W,404"
       ]
      },
      {
       "output_type": "stream",
       "stream": "stdout",
       "text": [
        "\r",
        "[938]Fail:http://dm2.caricoos.org/thredds/dodsC/content/swan/201409131200.nc,404"
       ]
      },
      {
       "output_type": "stream",
       "stream": "stdout",
       "text": [
        "\r",
        "[939]Fail:http://thredds.ucar.edu/thredds/dodsC/grib/Unidata/NMM/Primary/Best/LambertConformal_155X201-38p10N-83p86W,404"
       ]
      },
      {
       "output_type": "stream",
       "stream": "stdout",
       "text": [
        "\r",
        "[940]Fail:http://thredds.ucar.edu/thredds/dodsC/grib/Unidata/NMM/Primary/Best/LambertConformal_155X201-38p48N-84p77W,404"
       ]
      },
      {
       "output_type": "stream",
       "stream": "stdout",
       "text": [
        "\r",
        "[941]Fail:http://thredds.ucar.edu/thredds/dodsC/grib/Unidata/NMM/Primary/Best/LambertConformal_155X201-41p14N-100p4W,404"
       ]
      },
      {
       "output_type": "stream",
       "stream": "stdout",
       "text": [
        "\r",
        "[942]Fail:http://thredds.ucar.edu/thredds/dodsC/grib/Unidata/NMM/Primary/Best/LambertConformal_155X201-46p67N-83p75W,404"
       ]
      },
      {
       "output_type": "stream",
       "stream": "stdout",
       "text": [
        "\r",
        "[943]Fail:http://thredds.ucar.edu/thredds/dodsC/grib/Unidata/NMM/Secondary/Best/LambertConformal_155X201-35p96N-91p26W,404"
       ]
      },
      {
       "output_type": "stream",
       "stream": "stdout",
       "text": [
        "\r",
        "[944]Fail:http://thredds.ucar.edu/thredds/dodsC/grib/Unidata/NMM/Secondary/Best/LambertConformal_155X201-36p44N-84p70W,404"
       ]
      },
      {
       "output_type": "stream",
       "stream": "stdout",
       "text": [
        "\r",
        "[945]Fail:http://thredds.ucar.edu/thredds/dodsC/grib/Unidata/NMM/Secondary/Best/LambertConformal_155X201-39p22N-84p70W,404"
       ]
      },
      {
       "output_type": "stream",
       "stream": "stdout",
       "text": [
        "\r",
        "[946]Fail:http://thredds.ucar.edu/thredds/dodsC/grib/Unidata/NMM/Secondary/Best/LambertConformal_155X201-46p43N-83p04W,404"
       ]
      },
      {
       "output_type": "stream",
       "stream": "stdout",
       "text": [
        "\r",
        "[947]Fail:http://thredds.ucar.edu/thredds/dodsC/grib/Unidata/NMM/Primary/Best/LambertConformal_155X201-31p28N-102p5W,404"
       ]
      },
      {
       "output_type": "stream",
       "stream": "stdout",
       "text": [
        "\r",
        "[948]Fail:http://thredds.ucar.edu/thredds/dodsC/grib/Unidata/NMM/Primary/Best/LambertConformal_155X201-31p33N-103p6W,404"
       ]
      },
      {
       "output_type": "stream",
       "stream": "stdout",
       "text": [
        "\r",
        "[949]Fail:http://thredds.ucar.edu/thredds/dodsC/grib/Unidata/NMM/Primary/Best/LambertConformal_155X201-32p40N-104p0W,404"
       ]
      },
      {
       "output_type": "stream",
       "stream": "stdout",
       "text": [
        "\r",
        "[950]Fail:http://thredds.ucar.edu/thredds/dodsC/grib/Unidata/NMM/Primary/Best/LambertConformal_155X201-32p77N-105p0W,404"
       ]
      },
      {
       "output_type": "stream",
       "stream": "stdout",
       "text": [
        "\r",
        "[951]Fail:http://thredds.ucar.edu/thredds/dodsC/grib/Unidata/NMM/Secondary/Best/LambertConformal_155X201-31p67N-95p88W,404"
       ]
      },
      {
       "output_type": "stream",
       "stream": "stdout",
       "text": [
        "\r",
        "[952]Fail:http://thredds.ucar.edu/thredds/dodsC/grib/Unidata/NMM/Secondary/Best/LambertConformal_155X201-35p20N-79p78W,404"
       ]
      },
      {
       "output_type": "stream",
       "stream": "stdout",
       "text": [
        "\r",
        "[953]Fail:http://thredds.ucar.edu/thredds/dodsC/grib/Unidata/NMM/Secondary/Best/LambertConformal_155X201-41p06N-99p44W,404"
       ]
      },
      {
       "output_type": "stream",
       "stream": "stdout",
       "text": [
        "\r",
        "[954]Fail:http://thredds.ucar.edu/thredds/dodsC/grib/Unidata/NMM/Secondary/Best/LambertConformal_155X201-41p29N-98p62W,404"
       ]
      },
      {
       "output_type": "stream",
       "stream": "stdout",
       "text": [
        "\r",
        "[955]Fail:http://dm2.caricoos.org/thredds/dodsC/content/swan/201409141200.nc,404"
       ]
      },
      {
       "output_type": "stream",
       "stream": "stdout",
       "text": [
        "\r",
        "[956]Fail:http://dm2.caricoos.org/thredds/dodsC/content/swan/201409151200.nc,404"
       ]
      },
      {
       "output_type": "stream",
       "stream": "stdout",
       "text": [
        "\r",
        "[957]Good:http://tds.gliders.ioos.us/thredds/dodsC/GLOS_unit_236-20121005T0023_Time.ncml,58.263814"
       ]
      },
      {
       "output_type": "stream",
       "stream": "stdout",
       "text": [
        "\r",
        "[958]Good:http://tds.gliders.ioos.us/thredds/dodsC/Rutgers-University_ru05-20130815T1650_Time.ncml,19.366558"
       ]
      },
      {
       "output_type": "stream",
       "stream": "stdout",
       "text": [
        "\r",
        "[959]Good:http://tds.gliders.ioos.us/thredds/dodsC/Rutgers-University_ru07-20130815T1701_Time.ncml,12.38991"
       ]
      },
      {
       "output_type": "stream",
       "stream": "stdout",
       "text": [
        "\r",
        "[960]Good:http://tds.gliders.ioos.us/thredds/dodsC/Rutgers-University_ru28-20130912T1650_Time.ncml,26.323978"
       ]
      },
      {
       "output_type": "stream",
       "stream": "stdout",
       "text": [
        "\r",
        "[961]Good:http://tds.gliders.ioos.us/thredds/dodsC/Rutgers-University_ru29-20130111T0724_Time.ncml,54.945046"
       ]
      },
      {
       "output_type": "stream",
       "stream": "stdout",
       "text": [
        "\r",
        "[962]Good:http://tds.gliders.ioos.us/thredds/dodsC/Rutgers-University_ru29-20131110T1400_Time.ncml,18.828554"
       ]
      },
      {
       "output_type": "stream",
       "stream": "stdout",
       "text": [
        "\r",
        "[963]Good:http://tds.gliders.ioos.us/thredds/dodsC/University-of-Massachusetts-Dartmouth_blue-20130906T1347_Time.ncml,29.33715"
       ]
      },
      {
       "output_type": "stream",
       "stream": "stdout",
       "text": [
        "\r",
        "[964]Fail:http://thredds.ucar.edu/thredds/dodsC/grib/Unidata/NMM/Primary/Best/LambertConformal_155X201-32p51N-104p0W,404"
       ]
      },
      {
       "output_type": "stream",
       "stream": "stdout",
       "text": [
        "\r",
        "[965]Fail:http://thredds.ucar.edu/thredds/dodsC/grib/Unidata/NMM/Primary/Best/LambertConformal_155X201-35p88N-80p08W,404"
       ]
      },
      {
       "output_type": "stream",
       "stream": "stdout",
       "text": [
        "\r",
        "[966]Fail:http://thredds.ucar.edu/thredds/dodsC/grib/Unidata/NMM/Primary/Best/LambertConformal_155X201-35p95N-75p52W,404"
       ]
      },
      {
       "output_type": "stream",
       "stream": "stdout",
       "text": [
        "\r",
        "[967]Fail:http://thredds.ucar.edu/thredds/dodsC/grib/Unidata/NMM/Primary/Best/LambertConformal_155X201-44p86N-66p97W,404"
       ]
      },
      {
       "output_type": "stream",
       "stream": "stdout",
       "text": [
        "\r",
        "[968]Fail:http://thredds.ucar.edu/thredds/dodsC/grib/Unidata/NMM/Secondary/Best/LambertConformal_155X201-34p52N-80p66W,404"
       ]
      },
      {
       "output_type": "stream",
       "stream": "stdout",
       "text": [
        "\r",
        "[969]Fail:http://thredds.ucar.edu/thredds/dodsC/grib/Unidata/NMM/Secondary/Best/LambertConformal_155X201-35p74N-79p83W,404"
       ]
      },
      {
       "output_type": "stream",
       "stream": "stdout",
       "text": [
        "\r",
        "[970]Fail:http://thredds.ucar.edu/thredds/dodsC/grib/Unidata/NMM/Secondary/Best/LambertConformal_155X201-44p37N-83p01W,404"
       ]
      },
      {
       "output_type": "stream",
       "stream": "stdout",
       "text": [
        "\r",
        "[971]Fail:http://thredds.ucar.edu/thredds/dodsC/grib/Unidata/NMM/Secondary/Best/LambertConformal_155X201-45p13N-74p86W,404"
       ]
      },
      {
       "output_type": "stream",
       "stream": "stdout",
       "text": [
        "\r",
        "[972]Fail:http://dm2.caricoos.org/thredds/dodsC/content/swan/201409161200.nc,404"
       ]
      },
      {
       "output_type": "stream",
       "stream": "stdout",
       "text": [
        "\r",
        "[973]Fail:http://thredds.ucar.edu/thredds/dodsC/grib/Unidata/NMM/Primary/Best/LambertConformal_155X201-33p47N-78p83W,404"
       ]
      },
      {
       "output_type": "stream",
       "stream": "stdout",
       "text": [
        "\r",
        "[974]Fail:http://thredds.ucar.edu/thredds/dodsC/grib/Unidata/NMM/Primary/Best/LambertConformal_155X201-35p27N-75p37W,404"
       ]
      },
      {
       "output_type": "stream",
       "stream": "stdout",
       "text": [
        "\r",
        "[975]Fail:http://thredds.ucar.edu/thredds/dodsC/grib/Unidata/NMM/Primary/Best/LambertConformal_155X201-35p29N-79p63W,404"
       ]
      },
      {
       "output_type": "stream",
       "stream": "stdout",
       "text": [
        "\r",
        "[976]Fail:http://thredds.ucar.edu/thredds/dodsC/grib/Unidata/NMM/Secondary/Best/LambertConformal_155X201-27p69N-82p85W,404"
       ]
      },
      {
       "output_type": "stream",
       "stream": "stdout",
       "text": [
        "\r",
        "[977]Fail:http://thredds.ucar.edu/thredds/dodsC/grib/Unidata/NMM/Secondary/Best/LambertConformal_155X201-44p86N-66p97W,404"
       ]
      },
      {
       "output_type": "stream",
       "stream": "stdout",
       "text": [
        "\r",
        "[978]Fail:http://thredds.ucar.edu/thredds/dodsC/grib/Unidata/NMM/Secondary/Best/LambertConformal_155X201-47p48N-68p60W,404"
       ]
      },
      {
       "output_type": "stream",
       "stream": "stdout",
       "text": [
        "\r",
        "[979]Fail:http://thredds.axiomalaska.com/thredds/dodsC/MB_DAS.nc,-1"
       ]
      },
      {
       "output_type": "stream",
       "stream": "stdout",
       "text": [
        "\r",
        "[980]Fail:http://ecowatch.ncddc.noaa.gov/thredds/dodsC/ncom_amseas_agg_20091119_20130404/Amseas_May_2010_-_Apr_04_2013_best.ncd,404"
       ]
      },
      {
       "output_type": "stream",
       "stream": "stdout",
       "text": [
        "\r",
        "[981]Fail:http://ecowatch.ncddc.noaa.gov/thredds/dodsC/ncom_amseas_agg/AmSeas_Apr_05_2013_-_Current_best.ncd,404"
       ]
      },
      {
       "output_type": "stream",
       "stream": "stdout",
       "text": [
        "\r",
        "[982]Fail:http://ecowatch.ncddc.noaa.gov/thredds/dodsC/ncom_us_east_agg/US_East_Apr_05_2013_-_Current_best.ncd,404"
       ]
      },
      {
       "output_type": "stream",
       "stream": "stdout",
       "text": [
        "\r",
        "[983]Fail:http://ecowatch.ncddc.noaa.gov/thredds/dodsC/ncom_us_east_before_depth_change_agg/US_East_Feb_2009_-_November_18_2009_best.ncd,404"
       ]
      },
      {
       "output_type": "stream",
       "stream": "stdout",
       "text": [
        "\r",
        "[984]Fail:http://ecowatch.ncddc.noaa.gov/thredds/dodsC/ncom_useast_agg_20091119_20130404/US_East_Nov_19,_2009_-_Apr_04_2013_best.ncd,404"
       ]
      },
      {
       "output_type": "stream",
       "stream": "stdout",
       "text": [
        "\r",
        "[985]Fail:http://dm2.caricoos.org/thredds/dodsC/content/swan/201409171200.nc,404"
       ]
      },
      {
       "output_type": "stream",
       "stream": "stdout",
       "text": [
        "\r",
        "[986]Fail:http://thredds.ucar.edu/thredds/dodsC/grib/Unidata/NMM/Primary/Best/LambertConformal_155X201-31p14N-83p38W,404"
       ]
      },
      {
       "output_type": "stream",
       "stream": "stdout",
       "text": [
        "\r",
        "[987]Fail:http://thredds.ucar.edu/thredds/dodsC/grib/Unidata/NMM/Primary/Best/LambertConformal_155X201-32p97N-79p30W,404"
       ]
      },
      {
       "output_type": "stream",
       "stream": "stdout",
       "text": [
        "\r",
        "[988]Fail:http://thredds.ucar.edu/thredds/dodsC/grib/Unidata/NMM/Primary/Best/LambertConformal_155X201-33p72N-78p01W,404"
       ]
      },
      {
       "output_type": "stream",
       "stream": "stdout",
       "text": [
        "\r",
        "[989]Fail:http://thredds.ucar.edu/thredds/dodsC/grib/Unidata/NMM/Primary/Best/LambertConformal_155X201-34p51N-76p30W,404"
       ]
      },
      {
       "output_type": "stream",
       "stream": "stdout",
       "text": [
        "\r",
        "[990]Fail:http://thredds.ucar.edu/thredds/dodsC/grib/Unidata/NMM/Secondary/Best/LambertConformal_155X201-28p85N-89p74W,404"
       ]
      },
      {
       "output_type": "stream",
       "stream": "stdout",
       "text": [
        "\r",
        "[991]Fail:http://thredds.ucar.edu/thredds/dodsC/grib/Unidata/NMM/Secondary/Best/LambertConformal_155X201-30p69N-84p83W,404"
       ]
      },
      {
       "output_type": "stream",
       "stream": "stdout",
       "text": [
        "\r",
        "[992]Fail:http://thredds.ucar.edu/thredds/dodsC/grib/Unidata/NMM/Secondary/Best/LambertConformal_155X201-31p30N-111p0W,404"
       ]
      },
      {
       "output_type": "stream",
       "stream": "stdout",
       "text": [
        "\r",
        "[993]Fail:http://thredds.ucar.edu/thredds/dodsC/grib/Unidata/NMM/Secondary/Best/LambertConformal_155X201-42p41N-81p68W,404"
       ]
      },
      {
       "output_type": "stream",
       "stream": "stdout",
       "text": [
        "\r",
        "[994]Fail:http://dm2.caricoos.org/thredds/dodsC/content/swan/201409181200.nc,404"
       ]
      },
      {
       "output_type": "stream",
       "stream": "stdout",
       "text": [
        "\r",
        "[995]Fail:http://thredds.ucar.edu/thredds/dodsC/grib/Unidata/NMM/Primary/Best/LambertConformal_155X201-29p68N-84p54W,404"
       ]
      },
      {
       "output_type": "stream",
       "stream": "stdout",
       "text": [
        "\r",
        "[996]Fail:http://thredds.ucar.edu/thredds/dodsC/grib/Unidata/NMM/Primary/Best/LambertConformal_155X201-31p23N-108p2W,404"
       ]
      },
      {
       "output_type": "stream",
       "stream": "stdout",
       "text": [
        "\r",
        "[997]Fail:http://thredds.ucar.edu/thredds/dodsC/grib/Unidata/NMM/Primary/Best/LambertConformal_155X201-33p16N-79p01W,404"
       ]
      },
      {
       "output_type": "stream",
       "stream": "stdout",
       "text": [
        "\r",
        "[998]Fail:http://thredds.ucar.edu/thredds/dodsC/grib/Unidata/NMM/Secondary/Best/LambertConformal_155X201-29p35N-82p93W,404"
       ]
      },
      {
       "output_type": "stream",
       "stream": "stdout",
       "text": [
        "\r",
        "[999]Fail:http://thredds.ucar.edu/thredds/dodsC/grib/Unidata/NMM/Secondary/Best/LambertConformal_155X201-29p61N-82p15W,404"
       ]
      },
      {
       "output_type": "stream",
       "stream": "stdout",
       "text": [
        "\r",
        "[1000]Fail:http://thredds.ucar.edu/thredds/dodsC/grib/Unidata/NMM/Secondary/Best/LambertConformal_155X201-29p98N-85p77W,404"
       ]
      },
      {
       "output_type": "stream",
       "stream": "stdout",
       "text": [
        "\r",
        "[1001]Fail:http://thredds.ucar.edu/thredds/dodsC/grib/Unidata/NMM/Secondary/Best/LambertConformal_155X201-31p21N-108p5W,404"
       ]
      },
      {
       "output_type": "stream",
       "stream": "stdout",
       "text": [
        "\r",
        "[1002]Fail:http://dm2.caricoos.org/thredds/dodsC/content/swan/201409191200.nc,404"
       ]
      },
      {
       "output_type": "stream",
       "stream": "stdout",
       "text": [
        "\r",
        "[1003]Fail:http://thredds.ucar.edu/thredds/dodsC/grib/Unidata/NMM/Primary/Best/LambertConformal_155X201-31p69N-112p5W,404"
       ]
      },
      {
       "output_type": "stream",
       "stream": "stdout",
       "text": [
        "\r",
        "[1004]Fail:http://thredds.ucar.edu/thredds/dodsC/grib/Unidata/NMM/Secondary/Best/LambertConformal_155X201-28p95N-80p84W,404"
       ]
      },
      {
       "output_type": "stream",
       "stream": "stdout",
       "text": [
        "\r",
        "[1005]Fail:http://dm2.caricoos.org/thredds/dodsC/content/swan/201409201200.nc,404"
       ]
      },
      {
       "output_type": "stream",
       "stream": "stdout",
       "text": [
        "\r",
        "[1006]Fail:http://dm2.caricoos.org/thredds/dodsC/content/swan/201409211200.nc,404"
       ]
      },
      {
       "output_type": "stream",
       "stream": "stdout",
       "text": [
        "\r",
        "[1007]Fail:http://oos.soest.hawaii.edu/thredds/dodsC/ais/ais_hi_20112012_agg,-1"
       ]
      },
      {
       "output_type": "stream",
       "stream": "stdout",
       "text": [
        "\r",
        "[1008]Good:http://oos.soest.hawaii.edu/thredds/dodsC/hioos/hfr/knaagg,1179.99002"
       ]
      },
      {
       "output_type": "stream",
       "stream": "stdout",
       "text": [
        "\r",
        "[1009]Fail:http://oos.soest.hawaii.edu/thredds/dodsC/hioos/hfr/kokagg,-1"
       ]
      },
      {
       "output_type": "stream",
       "stream": "stdout",
       "text": [
        "\r",
        "[1010]Good:http://oos.soest.hawaii.edu/thredds/dodsC/hioos/glider/sg139_8_agg,35.929296"
       ]
      },
      {
       "output_type": "stream",
       "stream": "stdout",
       "text": [
        "\r",
        "[1011]Good:http://oos.soest.hawaii.edu/thredds/dodsC/hioos/glider/sg523_4_agg,36.903744"
       ]
      },
      {
       "output_type": "stream",
       "stream": "stdout",
       "text": [
        "\r",
        "[1012]Fail:http://dm2.caricoos.org/thredds/dodsC/content/swan/201409221200.nc,404"
       ]
      },
      {
       "output_type": "stream",
       "stream": "stdout",
       "text": [
        "\r",
        "[1013]Fail:http://dm2.caricoos.org/thredds/dodsC/content/swan/201409231200.nc,404"
       ]
      },
      {
       "output_type": "stream",
       "stream": "stdout",
       "text": [
        "\r",
        "[1014]Good:http://hfrnet.ucsd.edu/thredds/dodsC/HFRNet/AKNS/6km/hourly/RTV,2624.082712"
       ]
      },
      {
       "output_type": "stream",
       "stream": "stdout",
       "text": [
        "\r",
        "[1015]Good:http://hfrnet.ucsd.edu/thredds/dodsC/HFRNet/PRVI/2km/hourly/GNOME,28344.349024"
       ]
      },
      {
       "output_type": "stream",
       "stream": "stdout",
       "text": [
        "\r",
        "[1016]Fail:http://hfrnet.ucsd.edu/thredds/dodsC/HFRNet/PRVI/2km/hourly/RTV,-1"
       ]
      },
      {
       "output_type": "stream",
       "stream": "stdout",
       "text": [
        "\r",
        "[1017]Good:http://hfrnet.ucsd.edu/thredds/dodsC/HFRNet/PRVI/6km/hourly/GNOME,3171.638728"
       ]
      },
      {
       "output_type": "stream",
       "stream": "stdout",
       "text": [
        "\r",
        "[1018]Good:http://hfrnet.ucsd.edu/thredds/dodsC/HFRNet/PRVI/6km/hourly/RTV,3171.638728"
       ]
      },
      {
       "output_type": "stream",
       "stream": "stdout",
       "text": [
        "\r",
        "[1019]Fail:http://hfrnet.ucsd.edu/thredds/dodsC/HFRNet/USEGC/1km/hourly/GNOME,-1"
       ]
      },
      {
       "output_type": "stream",
       "stream": "stdout",
       "text": [
        "\r",
        "[1020]Fail:http://hfrnet.ucsd.edu/thredds/dodsC/HFRNet/USEGC/1km/hourly/RTV,-1"
       ]
      },
      {
       "output_type": "stream",
       "stream": "stdout",
       "text": [
        "\r",
        "[1021]Fail:http://hfrnet.ucsd.edu/thredds/dodsC/HFRNet/USEGC/2km/hourly/GNOME,-1"
       ]
      },
      {
       "output_type": "stream",
       "stream": "stdout",
       "text": [
        "\r",
        "[1022]Good:http://hfrnet.ucsd.edu/thredds/dodsC/HFRNet/USEGC/6km/hourly/GNOME,61721.524248"
       ]
      },
      {
       "output_type": "stream",
       "stream": "stdout",
       "text": [
        "\r",
        "[1023]Fail:http://hfrnet.ucsd.edu/thredds/dodsC/HFRNet/USHI/1km/hourly/GNOME,-1"
       ]
      },
      {
       "output_type": "stream",
       "stream": "stdout",
       "text": [
        "\r",
        "[1024]Fail:http://hfrnet.ucsd.edu/thredds/dodsC/HFRNet/USHI/1km/hourly/RTV,-1"
       ]
      },
      {
       "output_type": "stream",
       "stream": "stdout",
       "text": [
        "\r",
        "[1025]Fail:http://hfrnet.ucsd.edu/thredds/dodsC/HFRNet/USHI/2km/hourly/GNOME,-1"
       ]
      },
      {
       "output_type": "stream",
       "stream": "stdout",
       "text": [
        "\r",
        "[1026]Good:http://hfrnet.ucsd.edu/thredds/dodsC/HFRNet/USHI/2km/hourly/RTV,75099.219612"
       ]
      },
      {
       "output_type": "stream",
       "stream": "stdout",
       "text": [
        "\r",
        "[1027]Good:http://hfrnet.ucsd.edu/thredds/dodsC/HFRNet/USHI/6km/hourly/GNOME,8375.416584"
       ]
      },
      {
       "output_type": "stream",
       "stream": "stdout",
       "text": [
        "\r",
        "[1028]Good:http://hfrnet.ucsd.edu/thredds/dodsC/HFRNet/USHI/6km/hourly/RTV,8375.416584"
       ]
      },
      {
       "output_type": "stream",
       "stream": "stdout",
       "text": [
        "\r",
        "[1029]Fail:http://hfrnet.ucsd.edu/thredds/dodsC/HFRNet/USWC/1km/hourly/GNOME,-1"
       ]
      },
      {
       "output_type": "stream",
       "stream": "stdout",
       "text": [
        "\r",
        "[1030]Fail:http://hfrnet.ucsd.edu/thredds/dodsC/HFRNet/USWC/1km/hourly/RTV,-1"
       ]
      },
      {
       "output_type": "stream",
       "stream": "stdout",
       "text": [
        "\r",
        "[1031]Fail:http://hfrnet.ucsd.edu/thredds/dodsC/HFRNet/USWC/2km/hourly/GNOME,-1"
       ]
      },
      {
       "output_type": "stream",
       "stream": "stdout",
       "text": [
        "\r",
        "[1032]Fail:http://hfrnet.ucsd.edu/thredds/dodsC/HFRNet/USWC/6km/hourly/GNOME,-1"
       ]
      },
      {
       "output_type": "stream",
       "stream": "stdout",
       "text": [
        "\r",
        "[1033]Good:http://hfrnet.ucsd.edu/thredds/dodsC/HFRNet/USWC/500m/hourly/RTV,3356.062856"
       ]
      },
      {
       "output_type": "stream",
       "stream": "stdout",
       "text": [
        "\r",
        "[1034]Good:http://sccoos-obs0.ucsd.edu/thredds/dodsC/SASS_SOS/UCI/NewportPier.ncml,81.42516"
       ]
      },
      {
       "output_type": "stream",
       "stream": "stdout",
       "text": [
        "\r",
        "[1035]Good:http://oos.soest.hawaii.edu/thredds/dodsC/hioos/nss/ns10agg,12.085932"
       ]
      },
      {
       "output_type": "stream",
       "stream": "stdout",
       "text": [
        "\r",
        "[1036]Fail:http://sos.maracoos.org/stable/dodsC/stationHRALBPH-agg.ncml,404"
       ]
      },
      {
       "output_type": "stream",
       "stream": "stdout",
       "text": [
        "\r",
        "[1037]Fail:http://sos.maracoos.org/stable/dodsC/stationHRALBPM-agg.ncml,404\r",
        "[1038]Fail:http://sos.maracoos.org/stable/dodsC/stationHRLCK8H-agg.ncml,404"
       ]
      },
      {
       "output_type": "stream",
       "stream": "stdout",
       "text": [
        "\r",
        "[1039]Fail:http://sos.maracoos.org/stable/dodsC/stationHRLCK8M-agg.ncml,404\r",
        "[1040]Fail:http://sos.maracoos.org/stable/dodsC/stationHRMARPH-agg.ncml,404"
       ]
      },
      {
       "output_type": "stream",
       "stream": "stdout",
       "text": [
        "\r",
        "[1041]Fail:http://sos.maracoos.org/stable/dodsC/stationHRPIER84-agg.ncml,404\r",
        "[1042]Fail:http://sos.maracoos.org/stable/dodsC/stationHRPMNTH-agg.ncml,404"
       ]
      },
      {
       "output_type": "stream",
       "stream": "stdout",
       "text": [
        "\r",
        "[1043]Fail:http://sos.maracoos.org/stable/dodsC/stationHRPMNTM-agg.ncml,404\r",
        "[1044]Fail:http://sos.maracoos.org/stable/dodsC/stationHRTVBM-agg.ncml,404"
       ]
      },
      {
       "output_type": "stream",
       "stream": "stdout",
       "text": [
        "\r",
        "[1045]Fail:http://sos.maracoos.org/stable/dodsC/stationHRWSTPTH-agg.ncml,404\r",
        "[1046]Fail:http://sos.maracoos.org/stable/dodsC/wflow397-agg.ncml,404"
       ]
      },
      {
       "output_type": "stream",
       "stream": "stdout",
       "text": [
        "\r",
        "[1047]Fail:http://sos.maracoos.org/stable/dodsC/wflow697-agg.ncml,404\r",
        "[1048]Fail:http://sos.maracoos.org/stable/dodsC/wflow700-agg.ncml,404"
       ]
      },
      {
       "output_type": "stream",
       "stream": "stdout",
       "text": [
        "\r",
        "[1049]Fail:http://sos.maracoos.org/stable/dodsC/wflow1127-agg.ncml,404\r",
        "[1050]Fail:http://sos.maracoos.org/stable/dodsC/wflow44554-agg.ncml,404"
       ]
      },
      {
       "output_type": "stream",
       "stream": "stdout",
       "text": [
        "\r",
        "[1051]Fail:http://sos.maracoos.org/stable/dodsC/wflow46182-agg.ncml,404\r",
        "[1052]Fail:http://sos.maracoos.org/stable/dodsC/wflow47091-agg.ncml,404"
       ]
      },
      {
       "output_type": "stream",
       "stream": "stdout",
       "text": [
        "\r",
        "[1053]Fail:http://sos.maracoos.org/stable/dodsC/wflow48242-agg.ncml,404\r",
        "[1054]Fail:http://sos.maracoos.org/stable/dodsC/wflow48328-agg.ncml,404"
       ]
      },
      {
       "output_type": "stream",
       "stream": "stdout",
       "text": [
        "\r",
        "[1055]Good:http://www.neracoos.org/thredds/dodsC/UMO/DSG/SOS/A01/Met/HistoricRealtime/Agg.ncml,13.714816"
       ]
      },
      {
       "output_type": "stream",
       "stream": "stdout",
       "text": [
        "\r",
        "[1056]Good:http://www.neracoos.org/thredds/dodsC/UMO/DSG/SOS/B01/Met/HistoricRealtime/Agg.ncml,13.677312\r",
        "[1057]Good:http://www.neracoos.org/thredds/dodsC/UMO/DSG/SOS/E01/Met/HistoricRealtime/Agg.ncml,34.5392"
       ]
      },
      {
       "output_type": "stream",
       "stream": "stdout",
       "text": [
        "\r",
        "[1058]Good:http://www.neracoos.org/thredds/dodsC/UMO/DSG/SOS/M01/Met/HistoricRealtime/Agg.ncml,13.152896"
       ]
      },
      {
       "output_type": "stream",
       "stream": "stdout",
       "text": [
        "\r",
        "[1059]Good:http://www.neracoos.org/thredds/dodsC/UMO/DSG/SOS/N01/Met/HistoricRealtime/Agg.ncml,12.316352"
       ]
      },
      {
       "output_type": "stream",
       "stream": "stdout",
       "text": [
        "\r",
        "[1060]Fail:http://thredds.axiomalaska.com/thredds/dodsC/CA_DAS.nc,-1"
       ]
      },
      {
       "output_type": "stream",
       "stream": "stdout",
       "text": [
        "\r",
        "[1061]Fail:http://thredds.axiomalaska.com/thredds/dodsC/CA_FCST.nc,-1"
       ]
      },
      {
       "output_type": "stream",
       "stream": "stdout",
       "text": [
        "\r",
        "[1062]Fail:http://thredds.axiomalaska.com/thredds/dodsC/COAMPS_3KM_AGG_AIR_TEMP.nc,-1"
       ]
      },
      {
       "output_type": "stream",
       "stream": "stdout",
       "text": [
        "\r",
        "[1063]Fail:http://thredds.axiomalaska.com/thredds/dodsC/COAMPS_3KM_AGG_WIND.nc,-1"
       ]
      },
      {
       "output_type": "stream",
       "stream": "stdout",
       "text": [
        "\r",
        "[1064]Fail:http://thredds.axiomalaska.com/thredds/dodsC/COAMPS_4KM_2M_AIR_TEMP.nc,-1"
       ]
      },
      {
       "output_type": "stream",
       "stream": "stdout",
       "text": [
        "\r",
        "[1065]Fail:http://thredds.axiomalaska.com/thredds/dodsC/COAMPS_4KM_10M_WIND.nc,-1"
       ]
      },
      {
       "output_type": "stream",
       "stream": "stdout",
       "text": [
        "\r",
        "[1066]Fail:http://thredds.axiomalaska.com/thredds/dodsC/COAMPS_4KM_AGG_AIR_TEMP.nc,-1"
       ]
      },
      {
       "output_type": "stream",
       "stream": "stdout",
       "text": [
        "\r",
        "[1067]Fail:http://thredds.axiomalaska.com/thredds/dodsC/COAMPS_4KM_AGG_WIND.nc,-1"
       ]
      },
      {
       "output_type": "stream",
       "stream": "stdout",
       "text": [
        "\r",
        "[1068]Fail:http://thredds.axiomalaska.com/thredds/dodsC/COAMPS_4KM_CLD_BASE.nc,-1"
       ]
      },
      {
       "output_type": "stream",
       "stream": "stdout",
       "text": [
        "\r",
        "[1069]Fail:http://thredds.axiomalaska.com/thredds/dodsC/COAMPS_4KM_GRND_SEA_TEMP.nc,-1"
       ]
      },
      {
       "output_type": "stream",
       "stream": "stdout",
       "text": [
        "\r",
        "[1070]Fail:http://thredds.axiomalaska.com/thredds/dodsC/COAMPS_4KM_RLTV_HUM.nc,-1"
       ]
      },
      {
       "output_type": "stream",
       "stream": "stdout",
       "text": [
        "\r",
        "[1071]Fail:http://thredds.axiomalaska.com/thredds/dodsC/COAMPS_4KM_TTL_PRCP.nc,-1"
       ]
      },
      {
       "output_type": "stream",
       "stream": "stdout",
       "text": [
        "\r",
        "[1072]Fail:http://thredds.axiomalaska.com/thredds/dodsC/COAMPS_4KM_VISIB.nc,-1"
       ]
      },
      {
       "output_type": "stream",
       "stream": "stdout",
       "text": [
        "\r",
        "[1073]Fail:http://thredds.axiomalaska.com/thredds/dodsC/COAMPS_MBAY_3KM_AIR_TEMP.nc,-1"
       ]
      },
      {
       "output_type": "stream",
       "stream": "stdout",
       "text": [
        "\r",
        "[1074]Fail:http://thredds.axiomalaska.com/thredds/dodsC/COAMPS_MBAY_3KM_GRND_SEA_TEMP.nc,-1"
       ]
      },
      {
       "output_type": "stream",
       "stream": "stdout",
       "text": [
        "\r",
        "[1075]Fail:http://thredds.axiomalaska.com/thredds/dodsC/COAMPS_MBAY_3KM_WIND_10M.nc,-1"
       ]
      },
      {
       "output_type": "stream",
       "stream": "stdout",
       "text": [
        "\r",
        "[1076]Fail:http://thredds.axiomalaska.com/thredds/dodsC/ERDATSSTA1DAY.nc,-1"
       ]
      },
      {
       "output_type": "stream",
       "stream": "stdout",
       "text": [
        "\r",
        "[1077]Fail:http://thredds.axiomalaska.com/thredds/dodsC/ERDATSSTA8DAY.nc,-1"
       ]
      },
      {
       "output_type": "stream",
       "stream": "stdout",
       "text": [
        "\r",
        "[1078]Good:http://thredds.axiomalaska.com/thredds/dodsC/ERDATSSTAMDAY.nc,2407.209636"
       ]
      },
      {
       "output_type": "stream",
       "stream": "stdout",
       "text": [
        "\r",
        "[1079]Fail:http://thredds.axiomalaska.com/thredds/dodsC/ERDMWCHLA1DAY.nc,-1"
       ]
      },
      {
       "output_type": "stream",
       "stream": "stdout",
       "text": [
        "\r",
        "[1080]Fail:http://thredds.axiomalaska.com/thredds/dodsC/ERDMWCHLA8DAY.nc,-1"
       ]
      },
      {
       "output_type": "stream",
       "stream": "stdout",
       "text": [
        "\r",
        "[1081]Good:http://thredds.axiomalaska.com/thredds/dodsC/ERDMWCHLAMDAY.nc,5348.972632"
       ]
      },
      {
       "output_type": "stream",
       "stream": "stdout",
       "text": [
        "\r",
        "[1082]Good:http://thredds.axiomalaska.com/thredds/dodsC/G1_SST_US_WEST_COAST.nc,48811.304504"
       ]
      },
      {
       "output_type": "stream",
       "stream": "stdout",
       "text": [
        "\r",
        "[1083]Fail:http://thredds.axiomalaska.com/thredds/dodsC/HYCOM.nc,-1"
       ]
      },
      {
       "output_type": "stream",
       "stream": "stdout",
       "text": [
        "\r",
        "[1084]Fail:http://thredds.axiomalaska.com/thredds/dodsC/MAURER.nc,-1"
       ]
      },
      {
       "output_type": "stream",
       "stream": "stdout",
       "text": [
        "\r",
        "[1085]Fail:http://thredds.axiomalaska.com/thredds/dodsC/MB_FCST.nc,-1"
       ]
      },
      {
       "output_type": "stream",
       "stream": "stdout",
       "text": [
        "\r",
        "[1086]Fail:http://thredds.axiomalaska.com/thredds/dodsC/NCOM_SOCAL.nc,-1"
       ]
      },
      {
       "output_type": "stream",
       "stream": "stdout",
       "text": [
        "\r",
        "[1087]Good:http://thredds.axiomalaska.com/thredds/dodsC/SCB_DAS.nc,3180.573184"
       ]
      },
      {
       "output_type": "stream",
       "stream": "stdout",
       "text": [
        "\r",
        "[1088]Fail:http://thredds.axiomalaska.com/thredds/dodsC/UCSC.nc,-1"
       ]
      },
      {
       "output_type": "stream",
       "stream": "stdout",
       "text": [
        "\r",
        "[1089]Good:http://opendap.co-ops.nos.noaa.gov/thredds/dodsC/NYOFS/fmrc/Aggregated_7_day_NYOFS_Fields_Forecast_best.ncd,157.924668"
       ]
      },
      {
       "output_type": "stream",
       "stream": "stdout",
       "text": [
        "\r",
        "[1090]Fail:http://thredds.axiomalaska.com/thredds/dodsC/Aquarius_SSS_Daily.nc,404"
       ]
      },
      {
       "output_type": "stream",
       "stream": "stdout",
       "text": [
        "\r",
        "[1091]Fail:http://thredds.axiomalaska.com/thredds/dodsC/Aquarius_SSS_Monthly.nc,404"
       ]
      },
      {
       "output_type": "stream",
       "stream": "stdout",
       "text": [
        "\r",
        "[1092]Fail:http://thredds.axiomalaska.com/thredds/dodsC/Aquarius_SSS_Trimonthly.nc,404"
       ]
      },
      {
       "output_type": "stream",
       "stream": "stdout",
       "text": [
        "\r",
        "[1093]Fail:http://thredds.axiomalaska.com/thredds/dodsC/Aquarius_SSS_Weekly.nc,404"
       ]
      },
      {
       "output_type": "stream",
       "stream": "stdout",
       "text": [
        "\r",
        "[1094]Fail:http://thredds.axiomalaska.com/thredds/dodsC/Aquarius_V3_SSS_Daily.nc,-1"
       ]
      },
      {
       "output_type": "stream",
       "stream": "stdout",
       "text": [
        "\r",
        "[1095]Good:http://thredds.axiomalaska.com/thredds/dodsC/Aquarius_V3_SSS_Monthly.nc,9.335664"
       ]
      },
      {
       "output_type": "stream",
       "stream": "stdout",
       "text": [
        "\r",
        "[1096]Good:http://thredds.axiomalaska.com/thredds/dodsC/Aquarius_V3_SSS_Weekly.nc,39.921736"
       ]
      },
      {
       "output_type": "stream",
       "stream": "stdout",
       "text": [
        "\r",
        "[1097]Fail:http://thredds.axiomalaska.com/thredds/dodsC/Aquarius_V3_scat_wind_speed_Daily.nc,-1"
       ]
      },
      {
       "output_type": "stream",
       "stream": "stdout",
       "text": [
        "\r",
        "[1098]Good:http://thredds.axiomalaska.com/thredds/dodsC/Aquarius_V3_scat_wind_speed_Weekly.nc,40.440144"
       ]
      },
      {
       "output_type": "stream",
       "stream": "stdout",
       "text": [
        "\r",
        "[1099]Fail:http://thredds.axiomalaska.com/thredds/dodsC/Aquarius_scat_wind_speed_Daily.nc,404"
       ]
      },
      {
       "output_type": "stream",
       "stream": "stdout",
       "text": [
        "\r",
        "[1100]Fail:http://thredds.axiomalaska.com/thredds/dodsC/Aquarius_scat_wind_speed_Monthly.nc,404"
       ]
      },
      {
       "output_type": "stream",
       "stream": "stdout",
       "text": [
        "\r",
        "[1101]Fail:http://thredds.axiomalaska.com/thredds/dodsC/Aquarius_scat_wind_speed_Trimonthly.nc,404"
       ]
      },
      {
       "output_type": "stream",
       "stream": "stdout",
       "text": [
        "\r",
        "[1102]Fail:http://thredds.axiomalaska.com/thredds/dodsC/Aquarius_scat_wind_speed_Weekly.nc,404"
       ]
      },
      {
       "output_type": "stream",
       "stream": "stdout",
       "text": [
        "\r",
        "[1103]Fail:http://thredds.axiomalaska.com/thredds/dodsC/CORDC.nc,-1"
       ]
      },
      {
       "output_type": "stream",
       "stream": "stdout",
       "text": [
        "\r",
        "[1104]Fail:http://thredds.axiomalaska.com/thredds/dodsC/G1_SST.nc,-1"
       ]
      },
      {
       "output_type": "stream",
       "stream": "stdout",
       "text": [
        "\r",
        "[1105]Fail:http://thredds.axiomalaska.com/thredds/dodsC/JPL_BERING_HINDCAST.nc,-1"
       ]
      },
      {
       "output_type": "stream",
       "stream": "stdout",
       "text": [
        "\r",
        "[1106]Fail:http://thredds.axiomalaska.com/thredds/dodsC/NCEP_SKIN_TEMP.nc,-1"
       ]
      },
      {
       "output_type": "stream",
       "stream": "stdout",
       "text": [
        "\r",
        "[1107]Fail:http://thredds.axiomalaska.com/thredds/dodsC/NDFD_Aggregate.nc,-1"
       ]
      },
      {
       "output_type": "stream",
       "stream": "stdout",
       "text": [
        "\r",
        "[1108]Good:http://thredds.axiomalaska.com/thredds/dodsC/NDFD_Maximum_Temperature.nc,2801.232524"
       ]
      },
      {
       "output_type": "stream",
       "stream": "stdout",
       "text": [
        "\r",
        "[1109]Fail:http://thredds.axiomalaska.com/thredds/dodsC/NDFD_Minimum_Temperature.nc,-1"
       ]
      },
      {
       "output_type": "stream",
       "stream": "stdout",
       "text": [
        "\r",
        "[1110]Fail:http://thredds.axiomalaska.com/thredds/dodsC/NDFD_Significant_height_of_wind_waves.nc,-1"
       ]
      },
      {
       "output_type": "stream",
       "stream": "stdout",
       "text": [
        "\r",
        "[1111]Fail:http://thredds.axiomalaska.com/thredds/dodsC/NDFD_Total_Precipitation.nc,-1"
       ]
      },
      {
       "output_type": "stream",
       "stream": "stdout",
       "text": [
        "\r",
        "[1112]Fail:http://thredds.axiomalaska.com/thredds/dodsC/NDFD_Total_Snowfall.nc,-1"
       ]
      },
      {
       "output_type": "stream",
       "stream": "stdout",
       "text": [
        "\r",
        "[1113]Fail:http://thredds.axiomalaska.com/thredds/dodsC/NDFD_Wind_Speed_Gust.nc,-1"
       ]
      },
      {
       "output_type": "stream",
       "stream": "stdout",
       "text": [
        "\r",
        "[1114]Good:http://thredds.axiomalaska.com/thredds/dodsC/NOAA_CSDL_ROMS.nc,3189.590776"
       ]
      },
      {
       "output_type": "stream",
       "stream": "stdout",
       "text": [
        "\r",
        "[1115]Good:http://thredds.axiomalaska.com/thredds/dodsC/NSIDC_SEA_ICE_CON.nc,6226.24788"
       ]
      },
      {
       "output_type": "stream",
       "stream": "stdout",
       "text": [
        "\r",
        "[1116]Fail:http://thredds.axiomalaska.com/thredds/dodsC/PMEL_CCCMA1.nc,-1"
       ]
      },
      {
       "output_type": "stream",
       "stream": "stdout",
       "text": [
        "\r",
        "[1117]Fail:http://thredds.axiomalaska.com/thredds/dodsC/PMEL_CFSR.nc,-1"
       ]
      },
      {
       "output_type": "stream",
       "stream": "stdout",
       "text": [
        "\r",
        "[1118]Fail:http://thredds.axiomalaska.com/thredds/dodsC/PMEL_CORE.nc,-1"
       ]
      },
      {
       "output_type": "stream",
       "stream": "stdout",
       "text": [
        "\r",
        "[1119]Fail:http://thredds.axiomalaska.com/thredds/dodsC/PMEL_ECHOG.nc,-1"
       ]
      },
      {
       "output_type": "stream",
       "stream": "stdout",
       "text": [
        "\r",
        "[1120]Good:http://thredds.axiomalaska.com/thredds/dodsC/PMEL_FORECAST.nc,2488.352448"
       ]
      },
      {
       "output_type": "stream",
       "stream": "stdout",
       "text": [
        "\r",
        "[1121]Fail:http://thredds.axiomalaska.com/thredds/dodsC/PMEL_MIROC.nc,-1"
       ]
      },
      {
       "output_type": "stream",
       "stream": "stdout",
       "text": [
        "\r",
        "[1122]Fail:http://thredds.axiomalaska.com/thredds/dodsC/PWS_DAS.nc,-1"
       ]
      },
      {
       "output_type": "stream",
       "stream": "stdout",
       "text": [
        "\r",
        "[1123]Fail:http://thredds.axiomalaska.com/thredds/dodsC/PWS_L0_FCST.nc,-1"
       ]
      },
      {
       "output_type": "stream",
       "stream": "stdout",
       "text": [
        "\r",
        "[1124]Fail:http://thredds.axiomalaska.com/thredds/dodsC/PWS_L1_FCST.nc,-1"
       ]
      },
      {
       "output_type": "stream",
       "stream": "stdout",
       "text": [
        "\r",
        "[1125]Fail:http://thredds.axiomalaska.com/thredds/dodsC/PWS_L2_FCST.nc,-1"
       ]
      },
      {
       "output_type": "stream",
       "stream": "stdout",
       "text": [
        "\r",
        "[1126]Fail:http://thredds.axiomalaska.com/thredds/dodsC/RAPID_REFRESH_ACC_TOTAL_PRCP.nc,-1"
       ]
      },
      {
       "output_type": "stream",
       "stream": "stdout",
       "text": [
        "\r",
        "[1127]Fail:http://thredds.axiomalaska.com/thredds/dodsC/RAPID_REFRESH_SKIN_TEMP.nc,-1"
       ]
      },
      {
       "output_type": "stream",
       "stream": "stdout",
       "text": [
        "\r",
        "[1128]Fail:http://thredds.axiomalaska.com/thredds/dodsC/RAPID_REFRESH_UV10M.nc,-1"
       ]
      },
      {
       "output_type": "stream",
       "stream": "stdout",
       "text": [
        "\r",
        "[1129]Fail:http://thredds.axiomalaska.com/thredds/dodsC/SNAP_A1B.nc,-1"
       ]
      },
      {
       "output_type": "stream",
       "stream": "stdout",
       "text": [
        "\r",
        "[1130]Fail:http://thredds.axiomalaska.com/thredds/dodsC/SNAP_B1_A2.nc,-1"
       ]
      },
      {
       "output_type": "stream",
       "stream": "stdout",
       "text": [
        "\r",
        "[1131]Fail:http://thredds.axiomalaska.com/thredds/dodsC/SNAP_JOHN_WALSH_HISTORICAL.nc,-1"
       ]
      },
      {
       "output_type": "stream",
       "stream": "stdout",
       "text": [
        "\r",
        "[1132]Fail:http://thredds.axiomalaska.com/thredds/dodsC/SNAP_JOHN_WALSH_RCP60.nc,-1"
       ]
      },
      {
       "output_type": "stream",
       "stream": "stdout",
       "text": [
        "\r",
        "[1133]Fail:http://thredds.axiomalaska.com/thredds/dodsC/SNAP_JOHN_WALSH_RCP85.nc,-1"
       ]
      },
      {
       "output_type": "stream",
       "stream": "stdout",
       "text": [
        "\r",
        "[1134]Good:http://thredds.axiomalaska.com/thredds/dodsC/SNAP_PRC_CRU.nc,27066.15148"
       ]
      },
      {
       "output_type": "stream",
       "stream": "stdout",
       "text": [
        "\r",
        "[1135]Good:http://thredds.axiomalaska.com/thredds/dodsC/SNAP_TAVE_CRU.nc,27832.17388"
       ]
      },
      {
       "output_type": "stream",
       "stream": "stdout",
       "text": [
        "\r",
        "[1136]Fail:http://thredds.axiomalaska.com/thredds/dodsC/WAVE_2.nc,-1"
       ]
      },
      {
       "output_type": "stream",
       "stream": "stdout",
       "text": [
        "\r",
        "[1137]Good:http://thredds.axiomalaska.com/thredds/dodsC/WAVE_3.nc,36161.823264"
       ]
      },
      {
       "output_type": "stream",
       "stream": "stdout",
       "text": [
        "\r",
        "[1138]Good:http://thredds.axiomalaska.com/thredds/dodsC/WRF_D01.nc,5084.23332"
       ]
      },
      {
       "output_type": "stream",
       "stream": "stdout",
       "text": [
        "\r",
        "[1139]Good:http://thredds.axiomalaska.com/thredds/dodsC/WRF_D02.nc,8601.006712"
       ]
      },
      {
       "output_type": "stream",
       "stream": "stdout",
       "text": [
        "\r",
        "Elapsed time=96.6383475343 minutes\n"
       ]
      }
     ]
    },
    {
     "cell_type": "markdown",
     "metadata": {},
     "source": [
      "yipes, that took forever with 10 second timeout.  How many more datasets did we get?"
     ]
    },
    {
     "cell_type": "code",
     "collapsed": false,
     "input": [
      "len(bad_data)-len(bad_data2)"
     ],
     "language": "python",
     "metadata": {},
     "outputs": [
      {
       "metadata": {},
       "output_type": "pyout",
       "prompt_number": 87,
       "text": [
        "46"
       ]
      }
     ],
     "prompt_number": 87
    },
    {
     "cell_type": "markdown",
     "metadata": {},
     "source": [
      "So how much data are we serving?"
     ]
    },
    {
     "cell_type": "code",
     "collapsed": false,
     "input": [
      "sum=0\n",
      "for ds in good_data:\n",
      "    sum +=ds[1]\n",
      "    \n",
      "print('{} terabytes'.format(sum/1.e6))"
     ],
     "language": "python",
     "metadata": {},
     "outputs": [
      {
       "output_type": "stream",
       "stream": "stdout",
       "text": [
        "39.2907689704 terabytes\n"
       ]
      }
     ],
     "prompt_number": 52
    },
    {
     "cell_type": "markdown",
     "metadata": {},
     "source": [
      "How much more data do we get if we allow 10 second timeout instead of 2?"
     ]
    },
    {
     "cell_type": "code",
     "collapsed": false,
     "input": [
      "sum=0\n",
      "for ds in good_data2:\n",
      "    sum +=ds[1]\n",
      "    \n",
      "print('{} terabytes'.format(sum/1.e6))"
     ],
     "language": "python",
     "metadata": {},
     "outputs": [
      {
       "output_type": "stream",
       "stream": "stdout",
       "text": [
        "0.37659873907 terabytes\n"
       ]
      }
     ],
     "prompt_number": 53
    },
    {
     "cell_type": "code",
     "collapsed": false,
     "input": [
      "url=[]\n",
      "size=[]\n",
      "for item in good_data:\n",
      "    url.append(item[0])\n",
      "    size.append(item[1])"
     ],
     "language": "python",
     "metadata": {},
     "outputs": [],
     "prompt_number": 59
    },
    {
     "cell_type": "code",
     "collapsed": false,
     "input": [
      "d={}\n",
      "d['url']=url\n",
      "d['size']=size"
     ],
     "language": "python",
     "metadata": {},
     "outputs": [],
     "prompt_number": 55
    },
    {
     "cell_type": "code",
     "collapsed": false,
     "input": [
      "good = pd.DataFrame(d)"
     ],
     "language": "python",
     "metadata": {},
     "outputs": [],
     "prompt_number": 88
    },
    {
     "cell_type": "code",
     "collapsed": false,
     "input": [
      "good.head()"
     ],
     "language": "python",
     "metadata": {},
     "outputs": [
      {
       "html": [
        "<div style=\"max-height:1000px;max-width:1500px;overflow:auto;\">\n",
        "<table border=\"1\" class=\"dataframe\">\n",
        "  <thead>\n",
        "    <tr style=\"text-align: right;\">\n",
        "      <th></th>\n",
        "      <th>size</th>\n",
        "      <th>url</th>\n",
        "    </tr>\n",
        "  </thead>\n",
        "  <tbody>\n",
        "    <tr>\n",
        "      <th>0</th>\n",
        "      <td> 160.935373</td>\n",
        "      <td> http://oos.soest.hawaii.edu/thredds/dodsC/paci...</td>\n",
        "    </tr>\n",
        "    <tr>\n",
        "      <th>1</th>\n",
        "      <td>  12.585632</td>\n",
        "      <td> http://www.neracoos.org/thredds/dodsC/UMO/DSG/...</td>\n",
        "    </tr>\n",
        "    <tr>\n",
        "      <th>2</th>\n",
        "      <td>  14.015040</td>\n",
        "      <td> http://www.neracoos.org/thredds/dodsC/UMO/DSG/...</td>\n",
        "    </tr>\n",
        "    <tr>\n",
        "      <th>3</th>\n",
        "      <td>   2.227600</td>\n",
        "      <td> http://tds.secoora.org/thredds/dodsC/cormp.ilm...</td>\n",
        "    </tr>\n",
        "    <tr>\n",
        "      <th>4</th>\n",
        "      <td>   0.042984</td>\n",
        "      <td> http://tds.secoora.org/thredds/dodsC/enp.bdvf1...</td>\n",
        "    </tr>\n",
        "  </tbody>\n",
        "</table>\n",
        "</div>"
       ],
       "metadata": {},
       "output_type": "pyout",
       "prompt_number": 89,
       "text": [
        "         size                                                url\n",
        "0  160.935373  http://oos.soest.hawaii.edu/thredds/dodsC/paci...\n",
        "1   12.585632  http://www.neracoos.org/thredds/dodsC/UMO/DSG/...\n",
        "2   14.015040  http://www.neracoos.org/thredds/dodsC/UMO/DSG/...\n",
        "3    2.227600  http://tds.secoora.org/thredds/dodsC/cormp.ilm...\n",
        "4    0.042984  http://tds.secoora.org/thredds/dodsC/enp.bdvf1..."
       ]
      }
     ],
     "prompt_number": 89
    },
    {
     "cell_type": "code",
     "collapsed": false,
     "input": [
      "df2=df.sort(['size'],ascending=0)"
     ],
     "language": "python",
     "metadata": {},
     "outputs": [],
     "prompt_number": 71
    },
    {
     "cell_type": "code",
     "collapsed": false,
     "input": [
      "df2.head()"
     ],
     "language": "python",
     "metadata": {},
     "outputs": [
      {
       "html": [
        "<div style=\"max-height:1000px;max-width:1500px;overflow:auto;\">\n",
        "<table border=\"1\" class=\"dataframe\">\n",
        "  <thead>\n",
        "    <tr style=\"text-align: right;\">\n",
        "      <th></th>\n",
        "      <th>size</th>\n",
        "      <th>url</th>\n",
        "    </tr>\n",
        "  </thead>\n",
        "  <tbody>\n",
        "    <tr>\n",
        "      <th>1007</th>\n",
        "      <td> 8077171.411440</td>\n",
        "      <td> http://ecowatch.ncddc.noaa.gov/thredds/dodsC/n...</td>\n",
        "    </tr>\n",
        "    <tr>\n",
        "      <th>190 </th>\n",
        "      <td> 3911780.956856</td>\n",
        "      <td> http://oos.soest.hawaii.edu/thredds/dodsC/paci...</td>\n",
        "    </tr>\n",
        "    <tr>\n",
        "      <th>1019</th>\n",
        "      <td> 3085310.257180</td>\n",
        "      <td> http://ecowatch.ncddc.noaa.gov/thredds/dodsC/n...</td>\n",
        "    </tr>\n",
        "    <tr>\n",
        "      <th>128 </th>\n",
        "      <td> 1498433.147160</td>\n",
        "      <td> http://ecowatch.ncddc.noaa.gov/thredds/dodsC/h...</td>\n",
        "    </tr>\n",
        "    <tr>\n",
        "      <th>129 </th>\n",
        "      <td> 1479018.284432</td>\n",
        "      <td> http://ecowatch.ncddc.noaa.gov/thredds/dodsC/h...</td>\n",
        "    </tr>\n",
        "  </tbody>\n",
        "</table>\n",
        "</div>"
       ],
       "metadata": {},
       "output_type": "pyout",
       "prompt_number": 76,
       "text": [
        "                size                                                url\n",
        "1007  8077171.411440  http://ecowatch.ncddc.noaa.gov/thredds/dodsC/n...\n",
        "190   3911780.956856  http://oos.soest.hawaii.edu/thredds/dodsC/paci...\n",
        "1019  3085310.257180  http://ecowatch.ncddc.noaa.gov/thredds/dodsC/n...\n",
        "128   1498433.147160  http://ecowatch.ncddc.noaa.gov/thredds/dodsC/h...\n",
        "129   1479018.284432  http://ecowatch.ncddc.noaa.gov/thredds/dodsC/h..."
       ]
      }
     ],
     "prompt_number": 76
    },
    {
     "cell_type": "code",
     "collapsed": false,
     "input": [
      "url=[]\n",
      "code=[]\n",
      "for item in bad_data:\n",
      "    url.append(item[0])\n",
      "    code.append(item[1])"
     ],
     "language": "python",
     "metadata": {},
     "outputs": [],
     "prompt_number": 91
    },
    {
     "cell_type": "code",
     "collapsed": false,
     "input": [
      "d={}\n",
      "d['url']=url\n",
      "d['code']=code\n",
      "bad = pd.DataFrame(d)"
     ],
     "language": "python",
     "metadata": {},
     "outputs": [],
     "prompt_number": 92
    },
    {
     "cell_type": "code",
     "collapsed": false,
     "input": [
      "bad.head()"
     ],
     "language": "python",
     "metadata": {},
     "outputs": [
      {
       "html": [
        "<div style=\"max-height:1000px;max-width:1500px;overflow:auto;\">\n",
        "<table border=\"1\" class=\"dataframe\">\n",
        "  <thead>\n",
        "    <tr style=\"text-align: right;\">\n",
        "      <th></th>\n",
        "      <th>code</th>\n",
        "      <th>url</th>\n",
        "    </tr>\n",
        "  </thead>\n",
        "  <tbody>\n",
        "    <tr>\n",
        "      <th>0</th>\n",
        "      <td> 404</td>\n",
        "      <td> http://www.neracoos.org/thredds/dodsC/UMO/DSG/...</td>\n",
        "    </tr>\n",
        "    <tr>\n",
        "      <th>1</th>\n",
        "      <td> 404</td>\n",
        "      <td> http://www.neracoos.org/thredds/dodsC/UMO/DSG/...</td>\n",
        "    </tr>\n",
        "    <tr>\n",
        "      <th>2</th>\n",
        "      <td> 404</td>\n",
        "      <td> http://www.neracoos.org/thredds/dodsC/UMO/DSG/...</td>\n",
        "    </tr>\n",
        "    <tr>\n",
        "      <th>3</th>\n",
        "      <td> 404</td>\n",
        "      <td> http://www.neracoos.org/thredds/dodsC/UMO/DSG/...</td>\n",
        "    </tr>\n",
        "    <tr>\n",
        "      <th>4</th>\n",
        "      <td> 404</td>\n",
        "      <td> http://www.neracoos.org/thredds/dodsC/UMO/DSG/...</td>\n",
        "    </tr>\n",
        "  </tbody>\n",
        "</table>\n",
        "</div>"
       ],
       "metadata": {},
       "output_type": "pyout",
       "prompt_number": 93,
       "text": [
        "   code                                                url\n",
        "0   404  http://www.neracoos.org/thredds/dodsC/UMO/DSG/...\n",
        "1   404  http://www.neracoos.org/thredds/dodsC/UMO/DSG/...\n",
        "2   404  http://www.neracoos.org/thredds/dodsC/UMO/DSG/...\n",
        "3   404  http://www.neracoos.org/thredds/dodsC/UMO/DSG/...\n",
        "4   404  http://www.neracoos.org/thredds/dodsC/UMO/DSG/..."
       ]
      }
     ],
     "prompt_number": 93
    },
    {
     "cell_type": "code",
     "collapsed": false,
     "input": [
      "bad.to_csv('bad.csv')"
     ],
     "language": "python",
     "metadata": {},
     "outputs": [],
     "prompt_number": 102
    },
    {
     "cell_type": "code",
     "collapsed": false,
     "input": [
      "good.to_csv('good.csv')"
     ],
     "language": "python",
     "metadata": {},
     "outputs": [],
     "prompt_number": 103
    },
    {
     "cell_type": "code",
     "collapsed": false,
     "input": [],
     "language": "python",
     "metadata": {},
     "outputs": []
    }
   ],
   "metadata": {}
  }
 ]
}