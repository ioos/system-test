{
 "metadata": {
  "name": ""
 },
 "nbformat": 3,
 "nbformat_minor": 0,
 "worksheets": [
  {
   "cells": [
    {
     "cell_type": "markdown",
     "metadata": {},
     "source": [
      "# IOOS System Test - Theme 3 - Scenario H - [Description](https://github.com/ioos/system-test/wiki/Development-of-Test-Themes#scenario3H)\n",
      "\n",
      "## Exploring Environmental Changes Affecting Polar Bears, part 2: Sea Ice Distance from Shore\n",
      "\n",
      "## Questions\n",
      "1. Can we discover, access and map the sea ice edge using NSIDC passive microwave satellite data?\n",
      "2. Can we discover, access and map the US and Canada distribution of polar bears from the Arctic Marine Synthesis, or some other source?\n",
      "3. Can we discover, access and map the Beaufort Sea coastline of Alaska and Canada, where Polar Bears are known to reside?\n",
      "4. What is the minimum distance between the shoreline containing known polar bear distributions and the closest sea ice edge through time?\n",
      "5. Are certain sections of the coastline more susceptible to long distances from sea ice?"
     ]
    },
    {
     "cell_type": "code",
     "collapsed": false,
     "input": [],
     "language": "python",
     "metadata": {},
     "outputs": []
    }
   ],
   "metadata": {}
  }
 ]
}