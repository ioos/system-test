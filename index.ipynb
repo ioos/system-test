{
 "metadata": {
  "name": "",
  "signature": "sha256:d22a5acaea5d4852b829b6c12f3b61750c65bc6a2a3181b1087f56eaf9c49eb8"
 },
 "nbformat": 3,
 "nbformat_minor": 0,
 "worksheets": [
  {
   "cells": [
    {
     "cell_type": "markdown",
     "metadata": {},
     "source": [
      "<img style='float: left' width=\"430px\" src=\"content/images/ioos_blue2.png\">\n",
      "<br>\n",
      "\n",
      "<br>\n",
      "\n",
      "<br>\n",
      "\n",
      "## [US Integrated Ocean Observing System](http://www.ioos.noaa.gov/)\n",
      "\n",
      "IOOS DMAC System Integration Test project"
     ]
    },
    {
     "cell_type": "markdown",
     "metadata": {},
     "source": [
      "1. [2015-09-28-OpeningPost.ipynb](content/downloads/notebooks/2015-09-28-OpeningPost.ipynb)\n",
      "\n",
      "1. [2015-10-12-fetching_data.ipynb](content/downloads/notebooks/2015-10-12-fetching_data.ipynb)"
     ]
    }
   ],
   "metadata": {}
  }
 ]
}