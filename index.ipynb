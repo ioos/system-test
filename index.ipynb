{
 "metadata": {
  "name": "",
  "signature": "sha256:c95c865ce24ac02d9d856df3b6512a2c47e78938d07414b5e60f92416fd6228a"
 },
 "nbformat": 3,
 "nbformat_minor": 0,
 "worksheets": [
  {
   "cells": [
    {
     "cell_type": "markdown",
     "metadata": {},
     "source": [
      "<img style='float: left' width=\"430px\" src=\"content/images/ioos_blue2.png\">\n",
      "<br>\n",
      "\n",
      "<br>\n",
      "\n",
      "<br>\n",
      "\n",
      "## [US Integrated Ocean Observing System](http://www.ioos.noaa.gov/)\n",
      "\n",
      "IOOS DMAC System Integration Test project"
     ]
    },
    {
     "cell_type": "markdown",
     "metadata": {},
     "source": [
      "1. [2015-09-28-OpeningPost.ipynb](content/downloads/notebooks/2015-09-28-OpeningPost.ipynb)\n",
      "\n",
      "2. [2015-10-12-fetching_data.ipynb](content/downloads/notebooks/2015-10-12-fetching_data.ipynb)\n",
      "\n",
      "3. [2015-10-26-HF_Radar_Currents_west_coast.ipynb](content/downloads/notebooks/2015-10-26-HF_Radar_Currents_west_coast.ipynb)"
     ]
    }
   ],
   "metadata": {}
  }
 ]
}