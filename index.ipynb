{
 "metadata": {
  "name": "",
  "signature": "sha256:988c3ee973fc6ac63c558ceb24c0116d3387d1497f052cca24d954d2be0b3489"
 },
 "nbformat": 3,
 "nbformat_minor": 0,
 "worksheets": [
  {
   "cells": [
    {
     "cell_type": "markdown",
     "metadata": {},
     "source": [
      "<img style='float: left' width=\"430px\" src=\"content/images/ioos_blue2.png\">"
     ]
    },
    {
     "cell_type": "markdown",
     "metadata": {},
     "source": [
      "[IOOS DMAC System Integration Test project notebooks](http://www.ioos.noaa.gov/)\n",
      "\n",
      "  1. [2015-09-28-OpeningPost.ipynb](content/downloads/notebooks/2015-09-28-OpeningPost.ipynb)\n",
      "  2. [2015-10-12-fetching_data.ipynb](content/downloads/notebooks/2015-10-12-fetching_data.ipynb)\n",
      "  3. [2015-10-26-HF_Radar_Currents_west_coast.ipynb](content/downloads/notebooks/2015-10-26-HF_Radar_Currents_west_coast.ipynb)\n",
      "  4. [2015-11-09-Scenario_1A_Model_Strings.ipynb](content/downloads/notebooks/2015-11-09-Scenario_1A_Model_Strings.ipynb)"
     ]
    }
   ],
   "metadata": {}
  }
 ]
}