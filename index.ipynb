{
 "cells": [
  {
   "cell_type": "markdown",
   "metadata": {},
   "source": [
    "<img style='float: left' width=\"430px\" src=\"content/images/ioos_blue2.png\">"
   ]
  },
  {
   "cell_type": "markdown",
   "metadata": {},
   "source": [
    "[IOOS DMAC System Integration Test project notebooks](http://www.ioos.noaa.gov/)\n",
    "\n",
    "  1. [2015-09-28-OpeningPost.ipynb](content/downloads/notebooks/2015-09-28-OpeningPost.ipynb)\n",
    "  2. [2015-10-12-fetching_data.ipynb](content/downloads/notebooks/2015-10-12-fetching_data.ipynb)\n",
    "  3. [2015-10-26-HF_Radar_Currents_west_coast.ipynb](content/downloads/notebooks/2015-10-26-HF_Radar_Currents_west_coast.ipynb)\n",
    "  4. [2015-11-09-Scenario_1A_Model_Strings.ipynb](content/downloads/notebooks/2015-11-09-Scenario_1A_Model_Strings.ipynb)\n",
    "  5. [2015-11-23-NGDC_CSW_QueryForIOOSRAs.ipynb](content/downloads/notebooks/2015-11-23-NGDC_CSW_QueryForIOOSRAs.ipynb)\n",
    "  6. [2015-12-07-NGDC_CSW_QueryForIOOSRAs_UUID.ipynb](content/downloads/notebooks/2015-12-07-NGDC_CSW_QueryForIOOSRAs_UUID.ipynb)"
   ]
  }
 ],
 "metadata": {
  "kernelspec": {
   "display_name": "Python 2",
   "language": "python",
   "name": "python2"
  },
  "language_info": {
   "codemirror_mode": {
    "name": "ipython",
    "version": 2
   },
   "file_extension": ".py",
   "mimetype": "text/x-python",
   "name": "python",
   "nbconvert_exporter": "python",
   "pygments_lexer": "ipython2",
   "version": "2.7.10"
  }
 },
 "nbformat": 4,
 "nbformat_minor": 0
}
