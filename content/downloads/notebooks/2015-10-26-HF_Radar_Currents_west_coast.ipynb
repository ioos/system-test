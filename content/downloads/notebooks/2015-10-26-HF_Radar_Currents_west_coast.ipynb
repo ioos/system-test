{
 "metadata": {
  "kernelspec": {
   "display_name": "Python 2",
   "language": "python",
   "name": "python2"
  },
  "language_info": {
   "codemirror_mode": {
    "name": "ipython",
    "version": 2
   },
   "file_extension": ".py",
   "mimetype": "text/x-python",
   "name": "python",
   "nbconvert_exporter": "python",
   "pygments_lexer": "ipython2",
   "version": "2.7.10"
  },
  "name": "",
  "signature": "sha256:de1add00f31c7e2a707969dba8cb2d2c19679dd5dceb306dd5dd8211e5af2386"
 },
 "nbformat": 3,
 "nbformat_minor": 0,
 "worksheets": [
  {
   "cells": [
    {
     "cell_type": "code",
     "collapsed": false,
     "input": [
      "\"\"\"\n",
      "The original notebook is HF_Radar_Currents_west_coast.ipynb in\n",
      "Theme_2_Extreme_Events/Scenario_2B/HF_Radar_Currents/\n",
      "\"\"\"\n",
      "\n",
      "title = \"Near real-time current data\"\n",
      "name = '2015-10-26-HF_Radar_Currents_west_coast'"
     ],
     "language": "python",
     "metadata": {},
     "outputs": [],
     "prompt_number": 1
    },
    {
     "cell_type": "code",
     "collapsed": false,
     "input": [
      "%matplotlib inline\n",
      "import seaborn\n",
      "seaborn.set(style='ticks')\n",
      "\n",
      "import os\n",
      "from datetime import datetime\n",
      "from IPython.core.display import HTML\n",
      "\n",
      "import warnings\n",
      "warnings.simplefilter(\"ignore\")\n",
      "\n",
      "# Metadata and markdown generation.\n",
      "hour = datetime.utcnow().strftime('%H:%M')\n",
      "comments = \"true\"\n",
      "\n",
      "date = '-'.join(name.split('-')[:3])\n",
      "slug = '-'.join(name.split('-')[3:])\n",
      "\n",
      "metadata = dict(title=title,\n",
      "                date=date,\n",
      "                hour=hour,\n",
      "                comments=comments,\n",
      "                slug=slug,\n",
      "                name=name)\n",
      "\n",
      "markdown = \"\"\"Title: {title}\n",
      "date:  {date} {hour}\n",
      "comments: {comments}\n",
      "slug: {slug}\n",
      "\n",
      "{{% notebook {name}.ipynb cells[2:] %}}\n",
      "\"\"\".format(**metadata)\n",
      "\n",
      "content = os.path.abspath(os.path.join(os.getcwd(), os.pardir,\n",
      "                                       os.pardir, '{}.md'.format(name)))\n",
      "\n",
      "with open('{}'.format(content), 'w') as f:\n",
      "    f.writelines(markdown)\n",
      "\n",
      "\n",
      "html = \"\"\"\n",
      "<small>\n",
      "<p> This post was written as an IPython notebook.  It is available for\n",
      "<a href=\"http://ioos.github.com/system-test/downloads/\n",
      "notebooks/%s.ipynb\">download</a>.  You can also try an interactive version on\n",
      "<a href=\"http://mybinder.org/repo/ioos/system-test/\">binder</a>.</p>\n",
      "<p></p>\n",
      "\"\"\" % (name)"
     ],
     "language": "python",
     "metadata": {},
     "outputs": [
      {
       "output_type": "stream",
       "stream": "stderr",
       "text": [
        "/home/filipe/miniconda/envs/ioos_blog/lib/python2.7/site-packages/matplotlib/__init__.py:872: UserWarning: axes.color_cycle is deprecated and replaced with axes.prop_cycle; please use the latter.\n",
        "  warnings.warn(self.msg_depr % (key, alt_key))\n"
       ]
      }
     ],
     "prompt_number": 2
    },
    {
     "cell_type": "markdown",
     "metadata": {},
     "source": [
      "The System Integration Test is divided into three main themes:\n",
      "\n",
      "- Baseline Assessment,\n",
      "- Extreme Events, and\n",
      "- Species Protection and Marine Habitat Classification.\n",
      "\n",
      "The second theme, extreme events, serves to test discovery, access,\n",
      "and usefulness of meteorological and oceanographic (metocean) data commonly needed to plan for or respond to extreme events such as coastal storms,\n",
      "oil spills, or search and rescue.\n",
      "The tests in this theme are focused around four questions:\n",
      "\n",
      "1. Is it possible to discover long enough records of metocean data to successfully perform extreme values analysis and predict extreme conditions for a given location?\n",
      "2. Is it possible to discover and compare modeled and observed metocean parameters for a given geographic location?\n",
      "3. What is the extent of relevant meteorological and oceanographic data available in near real-time that could be used to support rapid deployment of a common operational picture to support response?\n",
      "4. Is it possible to discover and use information about the consequences of an event (e.g. determining whether extreme water levels cause coastal flooding and to what extent)?\n",
      "\n",
      "We already known that [(2)](https://ioos.github.io/system-test/blog/2015/10/12/fetching_data/) is possible for sea surface height.\n",
      "We also know we can query very long time-series over OPeNDAP, while SOS is limited to ~1 week of data.\n",
      "Therefore, (1) is possible depending on the endpoint available for the data in question.\n",
      "Finally, to properly answer question (4) we need first to be able to do (3) correctly.\n",
      "\n",
      "The notebook shown below will try to answer (3) for ocean currents measured\n",
      "by HF-Radar.\n",
      "\n",
      "We are interested in looking at near real-time data to analyze extreme events for a certain area of interest.\n",
      "Let's start by defining a small **bounding box** for San Francisco Bay,\n",
      "and query data from the **past week up to now**."
     ]
    },
    {
     "cell_type": "code",
     "collapsed": false,
     "input": [
      "from datetime import datetime, timedelta\n",
      "\n",
      "\n",
      "bounding_box_type = \"box\"\n",
      "bounding_box = [-123, 36, -121, 40]\n",
      "\n",
      "# Temporal range.\n",
      "now = datetime.utcnow()\n",
      "start,  stop = now - timedelta(days=(7)), now\n",
      "\n",
      "# URL construction.\n",
      "iso_start = start.strftime('%Y-%m-%dT%H:%M:00Z')\n",
      "iso_end = stop.strftime('%Y-%m-%dT%H:%M:00Z')\n",
      "\n",
      "print('{} to {}'.format(iso_start, iso_end))"
     ],
     "language": "python",
     "metadata": {},
     "outputs": [
      {
       "output_type": "stream",
       "stream": "stdout",
       "text": [
        "2015-12-06T14:35:00Z to 2015-12-13T14:35:00Z\n"
       ]
      }
     ],
     "prompt_number": 3
    },
    {
     "cell_type": "markdown",
     "metadata": {},
     "source": [
      "The cell below defines the variable of choice: currents."
     ]
    },
    {
     "cell_type": "code",
     "collapsed": false,
     "input": [
      "data_dict = dict()\n",
      "sos_name = 'Currents'\n",
      "data_dict['currents'] = {\"names\": ['currents',\n",
      "                                   'surface_eastward_sea_water_velocity',\n",
      "                                   '*surface_eastward_sea_water_velocity*'],\n",
      "                         \"sos_name\": [sos_name]}"
     ],
     "language": "python",
     "metadata": {},
     "outputs": [],
     "prompt_number": 4
    },
    {
     "cell_type": "markdown",
     "metadata": {},
     "source": [
      "The next 3 cells are very similar to what we did in the [fetching data example](https://ioos.github.io/system-test/blog/2015/10/12/fetching_data/):\n",
      "\n",
      "1. Instantiate a csw object using the NGDC catalog.\n",
      "2. Create the `owslib.fes` filter.\n",
      "3. Apply the filter!"
     ]
    },
    {
     "cell_type": "code",
     "collapsed": false,
     "input": [
      "from owslib.csw import CatalogueServiceWeb\n",
      "\n",
      "\n",
      "endpoint = 'http://www.ngdc.noaa.gov/geoportal/csw'\n",
      "\n",
      "csw = CatalogueServiceWeb(endpoint, timeout=60)"
     ],
     "language": "python",
     "metadata": {},
     "outputs": [],
     "prompt_number": 5
    },
    {
     "cell_type": "code",
     "collapsed": false,
     "input": [
      "from owslib import fes\n",
      "from utilities import fes_date_filter\n",
      "                       \n",
      "begin, end = fes_date_filter(start, stop)\n",
      "bbox = fes.BBox(bounding_box)\n",
      "\n",
      "or_filt = fes.Or([fes.PropertyIsLike(propertyname='apiso:AnyText',\n",
      "                                     literal=('*%s*' % val),\n",
      "                                     escapeChar='\\\\', wildCard='*',\n",
      "                                     singleChar='?') for val in\n",
      "                  data_dict['currents']['names']])\n",
      "\n",
      "val = 'Averages'\n",
      "not_filt = fes.Not([fes.PropertyIsLike(propertyname='apiso:AnyText',\n",
      "                                       literal=('*%s*' % val),\n",
      "                                       escapeChar='\\\\',\n",
      "                                       wildCard='*',\n",
      "                                       singleChar='?')])\n",
      "\n",
      "filter_list = [fes.And([bbox, begin, end, or_filt, not_filt])]"
     ],
     "language": "python",
     "metadata": {},
     "outputs": [],
     "prompt_number": 6
    },
    {
     "cell_type": "code",
     "collapsed": false,
     "input": [
      "csw.getrecords2(constraints=filter_list, maxrecords=1000, esn='full')"
     ],
     "language": "python",
     "metadata": {},
     "outputs": [],
     "prompt_number": 7
    },
    {
     "cell_type": "markdown",
     "metadata": {},
     "source": [
      "The OPeNDAP URLs found were;"
     ]
    },
    {
     "cell_type": "code",
     "collapsed": false,
     "input": [
      "from utilities import service_urls\n",
      "\n",
      "dap_urls = service_urls(csw.records, service='odp:url')\n",
      "\n",
      "print(\"Total DAP: {}\".format(len(dap_urls)))\n",
      "print(\"\\n\".join(dap_urls))"
     ],
     "language": "python",
     "metadata": {},
     "outputs": [
      {
       "output_type": "stream",
       "stream": "stdout",
       "text": [
        "Total DAP: 12\n",
        "http://hfrnet.ucsd.edu/thredds/dodsC/HFRNet/USWC/1km/hourly/GNOME\n",
        "http://hfrnet.ucsd.edu/thredds/dodsC/HFRNet/USWC/1km/hourly/RTV\n",
        "http://hfrnet.ucsd.edu/thredds/dodsC/HFRNet/USWC/2km/hourly/GNOME\n",
        "http://hfrnet.ucsd.edu/thredds/dodsC/HFRNet/USWC/2km/hourly/RTV\n",
        "http://hfrnet.ucsd.edu/thredds/dodsC/HFRNet/USWC/500m/hourly/GNOME\n",
        "http://hfrnet.ucsd.edu/thredds/dodsC/HFRNet/USWC/500m/hourly/RTV\n",
        "http://hfrnet.ucsd.edu/thredds/dodsC/HFRNet/USWC/6km/hourly/GNOME\n",
        "http://hfrnet.ucsd.edu/thredds/dodsC/HFRNet/USWC/6km/hourly/RTV\n",
        "http://oos.soest.hawaii.edu/thredds/dodsC/hioos/tide_pac\n",
        "http://oos.soest.hawaii.edu/thredds/dodsC/pacioos/hycom/global\n",
        "http://oos.soest.hawaii.edu/thredds/dodsC/pacioos/scud/pac\n",
        "http://thredds.axiomdatascience.com/thredds/dodsC/CA_DAS.nc\n"
       ]
      }
     ],
     "prompt_number": 8
    },
    {
     "cell_type": "markdown",
     "metadata": {},
     "source": [
      "We found 12 endpoints for currents data.\n",
      "Note that the last four look like model data, while all others are HF-Radar endpoints.\n",
      "\n",
      "Can we find more near real-time data?\n",
      "\n",
      "Let's try the Center for Operational Oceanographic Products and Services (CO-OPS) and the National Data Buoy Center (NDBC).\n",
      "\n",
      "Both services can be queried using the `pyoos` library."
     ]
    },
    {
     "cell_type": "code",
     "collapsed": false,
     "input": [
      "from pandas import read_csv\n",
      "\n",
      "box_str = ','.join(str(e) for e in bounding_box)\n",
      "\n",
      "url = (('http://opendap.co-ops.nos.noaa.gov/ioos-dif-sos/SOS?'\n",
      "        'service=SOS&request=GetObservation&version=1.0.0&'\n",
      "        'observedProperty=%s&bin=1&'\n",
      "        'offering=urn:ioos:network:NOAA.NOS.CO-OPS:CurrentsActive&'\n",
      "        'featureOfInterest=BBOX:%s&responseFormat=text/csv') % (sos_name,\n",
      "                                                                box_str))\n",
      "\n",
      "obs_loc_df = read_csv(url)"
     ],
     "language": "python",
     "metadata": {},
     "outputs": [],
     "prompt_number": 9
    },
    {
     "cell_type": "code",
     "collapsed": false,
     "input": [
      "from utilities.ioos import processStationInfo\n",
      "\n",
      "st_list = processStationInfo(obs_loc_df, \"coops\")\n",
      "\n",
      "print(st_list)"
     ],
     "language": "python",
     "metadata": {},
     "outputs": [
      {
       "output_type": "stream",
       "stream": "stdout",
       "text": [
        "urn:ioos:station:NOAA.NOS.CO-OPS:s06010\n",
        "urn:ioos:station:NOAA.NOS.CO-OPS:s08010\n",
        "Number of stations in bbox 2\n",
        "{'urn:ioos:station:NOAA.NOS.CO-OPS:s06010': {'lat': 38.034599999999998, 'source': 'coops', 'lon': -122.12520000000001}, 'urn:ioos:station:NOAA.NOS.CO-OPS:s08010': {'lat': 37.916200000000003, 'source': 'coops', 'lon': -122.42230000000001}}\n"
       ]
      }
     ],
     "prompt_number": 10
    },
    {
     "cell_type": "markdown",
     "metadata": {},
     "source": [
      "We got a few CO-OPS stations inside the time/box queried.\n",
      "How about NDBC buoys?"
     ]
    },
    {
     "cell_type": "code",
     "collapsed": false,
     "input": [
      "box_str = ','.join(str(e) for e in bounding_box)\n",
      "\n",
      "url = (('http://sdf.ndbc.noaa.gov/sos/server.php?'\n",
      "        'request=GetObservation&service=SOS&'\n",
      "        'version=1.0.0&'\n",
      "        'offering=urn:ioos:network:noaa.nws.ndbc:all&'\n",
      "        'featureofinterest=BBOX:%s&'\n",
      "        'observedproperty=%s&'\n",
      "        'responseformat=text/csv&') % (box_str, sos_name))"
     ],
     "language": "python",
     "metadata": {},
     "outputs": [],
     "prompt_number": 11
    },
    {
     "cell_type": "code",
     "collapsed": false,
     "input": [
      "obs_loc_df = read_csv(url)\n",
      "\n",
      "len(obs_loc_df)"
     ],
     "language": "python",
     "metadata": {},
     "outputs": [
      {
       "metadata": {},
       "output_type": "pyout",
       "prompt_number": 12,
       "text": [
        "0"
       ]
      }
     ],
     "prompt_number": 12
    },
    {
     "cell_type": "markdown",
     "metadata": {},
     "source": [
      "No recent observation were found for NDBC buoys!\n",
      "\n",
      "We need to get the data from the stations identified above.\n",
      "\n",
      "(There is some boilerplate code in the cell below to show a progress bar.\n",
      "That can be useful when downloading from many stations,\n",
      "but it is not necessary.)"
     ]
    },
    {
     "cell_type": "code",
     "collapsed": false,
     "input": [
      "import uuid\n",
      "from IPython.display import HTML, Javascript, display\n",
      "from utilities.ioos import coopsCurrentRequest, ndbcSOSRequest\n",
      "\n",
      "\n",
      "divid = str(uuid.uuid4())\n",
      "pb = HTML(\"\"\"\n",
      "<div style=\"border: 1px solid black; width:500px\">\n",
      "  <div id=\"%s\" style=\"background-color:blue; width:0%%\">&nbsp;</div>\n",
      "</div>\n",
      "\"\"\" % divid)\n",
      "\n",
      "display(pb)\n",
      "\n",
      "count = 0\n",
      "for station_index in st_list.keys():\n",
      "    st = station_index.split(\":\")[-1]\n",
      "    tides_dt_start = start.strftime('%Y%m%d %H:%M')\n",
      "    tides_dt_end = stop.strftime('%Y%m%d %H:%M')\n",
      "\n",
      "    if st_list[station_index]['source'] == \"coops\":\n",
      "        df = coopsCurrentRequest(st, tides_dt_start, tides_dt_end)\n",
      "    elif st_list[station_index]['source'] == \"ndbc\":\n",
      "        df = ndbcSOSRequest(station_index, date_range_string)\n",
      "\n",
      "    if (df is not None) and (len(df) > 0):\n",
      "        st_list[station_index]['hasObsData'] = True\n",
      "    else:\n",
      "        st_list[station_index]['hasObsData'] = False\n",
      "    st_list[station_index]['obsData'] = df\n",
      "\n",
      "    print('{}'.format(station_index))\n",
      "\n",
      "    count += 1\n",
      "    percent_compelte = (float(count)/float(len(st_list.keys()))) * 100\n",
      "    display(Javascript(\"$('div#%s').width('%i%%')\" %\n",
      "                       (divid, int(percent_compelte))))"
     ],
     "language": "python",
     "metadata": {},
     "outputs": [
      {
       "html": [
        "\n",
        "<div style=\"border: 1px solid black; width:500px\">\n",
        "  <div id=\"91b8f193-ebaa-468b-9ccc-fcc281e5b6f1\" style=\"background-color:blue; width:0%\">&nbsp;</div>\n",
        "</div>\n"
       ],
       "metadata": {},
       "output_type": "display_data",
       "text": [
        "<IPython.core.display.HTML at 0x7fd5ad0d7f90>"
       ]
      },
      {
       "output_type": "stream",
       "stream": "stdout",
       "text": [
        "urn:ioos:station:NOAA.NOS.CO-OPS:s06010\n"
       ]
      },
      {
       "javascript": [
        "$('div#91b8f193-ebaa-468b-9ccc-fcc281e5b6f1').width('50%')"
       ],
       "metadata": {},
       "output_type": "display_data",
       "text": [
        "<IPython.core.display.Javascript at 0x7fd5ad0d7f10>"
       ]
      },
      {
       "output_type": "stream",
       "stream": "stdout",
       "text": [
        "urn:ioos:station:NOAA.NOS.CO-OPS:s08010\n"
       ]
      },
      {
       "javascript": [
        "$('div#91b8f193-ebaa-468b-9ccc-fcc281e5b6f1').width('100%')"
       ],
       "metadata": {},
       "output_type": "display_data",
       "text": [
        "<IPython.core.display.Javascript at 0x7fd5ad0d7f50>"
       ]
      }
     ],
     "prompt_number": 13
    },
    {
     "cell_type": "markdown",
     "metadata": {},
     "source": [
      "We found two CO-OPS stations and downloaded the data for both.\n",
      "Now let's get the data for the HF-Radar we found.\n",
      "The function `get_hr_radar_dap_data` filters the OPeNDAP endpoints\n",
      "returning the the data only for HF-Radar that are near the observations.\n",
      "\n",
      "(We are downloading only 6 km HF-Radar from GNOME.\n",
      "The function can be adapted to get any other resolution and source.)"
     ]
    },
    {
     "cell_type": "code",
     "collapsed": false,
     "input": [
      "from utilities.ioos import get_hr_radar_dap_data\n",
      "\n",
      "df_list = get_hr_radar_dap_data(dap_urls, st_list, start, stop)"
     ],
     "language": "python",
     "metadata": {},
     "outputs": [
      {
       "output_type": "stream",
       "stream": "stdout",
       "text": [
        "http://hfrnet.ucsd.edu/thredds/dodsC/HFRNet/USWC/6km/hourly/GNOME\n",
        "lat, lon, dist = 144 132"
       ]
      },
      {
       "output_type": "stream",
       "stream": "stdout",
       "text": [
        "\n",
        "lat, lon, dist = 142 127"
       ]
      },
      {
       "output_type": "stream",
       "stream": "stdout",
       "text": [
        "\n"
       ]
      }
     ],
     "prompt_number": 14
    },
    {
     "cell_type": "markdown",
     "metadata": {},
     "source": [
      "The models endpoints found in the CSW search are all global.\n",
      "Global model runs are not very useful when looking at such a small scale like the San Francisco Bay.\n",
      "\n",
      "Since we do know that the SFO ports operational model exits,\n",
      "we can hard-code a data search for SFO and data points near the observations."
     ]
    },
    {
     "cell_type": "code",
     "collapsed": false,
     "input": [
      "def findSFOIndexs(lats, lons, lat_lon_list):\n",
      "    index_list, dist_list = [], []\n",
      "    for val in lat_lon_list:\n",
      "        point1 = Point(val[1], val[0])\n",
      "        dist = 999999999\n",
      "        index = -1\n",
      "        for k in range(0, len(lats)):\n",
      "            point2 = Point(lons[k], lats[k])\n",
      "            val = point1.distance(point2)\n",
      "            if val < dist:\n",
      "                index = k\n",
      "                dist = val\n",
      "        index_list.append(index)\n",
      "        dist_list.append(dist)\n",
      "    print(index_list, dist_list)\n",
      "    return index_list, dist_list\n",
      "\n",
      "\n",
      "def buildSFOUrls(start,  stop):\n",
      "    \"\"\"\n",
      "    Multiple files for time step, were only looking at Nowcast (past) values\n",
      "    times are 3z, 9z, 15z, 21z\n",
      "\n",
      "    \"\"\"\n",
      "    url_list = []\n",
      "    time_list = ['03z', '09z', '15z', '21z']\n",
      "    delta = stop - start\n",
      "    for i in range((delta.days)+1):\n",
      "        model_file_date = start + timedelta(days=i)\n",
      "        base_url = ('http://opendap.co-ops.nos.noaa.gov/'\n",
      "                    'thredds/dodsC/NOAA/SFBOFS/MODELS/')\n",
      "        val_month, val_year, val_day = '', '', ''\n",
      "        # Month.\n",
      "        if model_file_date.month < 10:\n",
      "            val_month = \"0\" + str(model_file_date.month)\n",
      "        else:\n",
      "            val_month = str(model_file_date.month)\n",
      "        # Year.\n",
      "        val_year = str(model_file_date.year)\n",
      "        # Day.\n",
      "        if model_file_date.day < 10:\n",
      "            val_day = \"0\" + str(model_file_date.day)\n",
      "        else:\n",
      "            val_day = str(model_file_date.day)\n",
      "        file_name = '/nos.sfbofs.stations.nowcast.'\n",
      "        file_name += val_year + val_month + val_day\n",
      "        for t in time_list:\n",
      "            t_val = '.t' + t + '.nc'\n",
      "            url_list.append(base_url + val_year + val_month +\n",
      "                            file_name + t_val)\n",
      "    return url_list"
     ],
     "language": "python",
     "metadata": {},
     "outputs": [],
     "prompt_number": 15
    },
    {
     "cell_type": "code",
     "collapsed": false,
     "input": [
      "from utilities.ioos import extractSFOModelData\n",
      "\n",
      "st_known = st_list.keys()\n",
      "\n",
      "name_list, lat_lon_list = [], []\n",
      "for st in st_list:\n",
      "    if st in st_known:\n",
      "        lat = st_list[st]['lat']\n",
      "        lon = st_list[st]['lon']\n",
      "        name_list.append(st)\n",
      "        lat_lon_list.append([lat, lon])\n",
      "\n",
      "model_data = extractSFOModelData(lat_lon_list, name_list, start, stop)"
     ],
     "language": "python",
     "metadata": {},
     "outputs": [
      {
       "output_type": "stream",
       "stream": "stdout",
       "text": [
        "NetCDF: file not found\n"
       ]
      }
     ],
     "prompt_number": 16
    },
    {
     "cell_type": "markdown",
     "metadata": {},
     "source": [
      "Let's visualize everything we got so far."
     ]
    },
    {
     "cell_type": "code",
     "collapsed": false,
     "input": [
      "import matplotlib.pyplot as plt\n",
      "\n",
      "\n",
      "for station_index in st_list.keys():\n",
      "    df = st_list[station_index]['obsData']\n",
      "    if st_list[station_index]['hasObsData']:\n",
      "        fig = plt.figure(figsize=(16, 3))\n",
      "        plt.plot(df.index, df['sea_water_speed (cm/s)'])\n",
      "        fig.suptitle('Station:'+station_index, fontsize=14)\n",
      "        plt.xlabel('Date', fontsize=14)\n",
      "        plt.ylabel('sea_water_speed (cm/s)', fontsize=14)\n",
      "\n",
      "        if station_index in model_data:\n",
      "            df_model = model_data[station_index]['data']\n",
      "            plt.plot(df_model.index, df_model['sea_water_speed (cm/s)'])\n",
      "        for ent in df_list:\n",
      "            if ent['ws_pts'] > 4:\n",
      "                if station_index == ent['name']:\n",
      "                    df = ent['data']\n",
      "                    plt.plot(df.index, df['sea_water_speed (cm/s)'])\n",
      "                    ent['valid'] = True\n",
      "    l = plt.legend(('Station Obs', 'Model', 'HF Radar'), loc='upper left')"
     ],
     "language": "python",
     "metadata": {},
     "outputs": [
      {
       "metadata": {},
       "output_type": "display_data",
       "png": "[encoded data removed]",
       "text": [
        "<matplotlib.figure.Figure at 0x7fd5ac89cf50>"
       ]
      },
      {
       "metadata": {},
       "output_type": "display_data",
       "png": "[encoded data removed]",
       "text": [
        "<matplotlib.figure.Figure at 0x7fd5ac915310>"
       ]
      }
     ],
     "prompt_number": 17
    },
    {
     "cell_type": "markdown",
     "metadata": {},
     "source": [
      "Any comparison will only make sense if we put that in a geographic context.\n",
      "So let's create map and place the observations, model grid point, and HF-Radar\n",
      "grid point on it."
     ]
    },
    {
     "cell_type": "code",
     "collapsed": false,
     "input": [
      "import folium\n",
      "from utilities import get_coordinates\n",
      "\n",
      "station = st_list[list(st_list.keys())[0]]\n",
      "mapa = folium.Map(location=[station[\"lat\"], station[\"lon\"]], zoom_start=10)\n",
      "mapa.line(get_coordinates(bounding_box),\n",
      "          line_color='#FF0000',\n",
      "          line_weight=5)\n",
      "\n",
      "for st in st_list:\n",
      "    lat = st_list[st]['lat']\n",
      "    lon = st_list[st]['lon']\n",
      "\n",
      "    popupString = ('<b>Obs Location:</b><br>' + st + '<br><b>Source:</b><br>' +\n",
      "                   st_list[st]['source'])\n",
      "\n",
      "    if 'hasObsData' in st_list[st] and st_list[st]['hasObsData'] == False:\n",
      "        mapa.circle_marker([lat, lon], popup=popupString, radius=1000,\n",
      "                           line_color='#FF0000', fill_color='#FF0000',\n",
      "                           fill_opacity=0.2)\n",
      "\n",
      "    elif st_list[st]['source'] == \"coops\":\n",
      "        mapa.simple_marker([lat, lon], popup=popupString,\n",
      "                           marker_color=\"darkblue\", marker_icon=\"star\")\n",
      "    elif st_list[st]['source'] == \"ndbc\":\n",
      "        mapa.simple_marker([lat, lon], popup=popupString,\n",
      "                           marker_color=\"darkblue\", marker_icon=\"star\")\n",
      "\n",
      "try:\n",
      "    for ent in df_list:\n",
      "        lat = ent['lat']\n",
      "        lon = ent['lon']\n",
      "        popupstring = (\"HF Radar: [\" + str(lat) + \":\"+str(lon) + \"]\" +\n",
      "                       \"<br>for<br>\" + ent['name'])\n",
      "        mapa.circle_marker([lat, lon], popup=popupstring, radius=500,\n",
      "                           line_color='#FF0000', fill_color='#FF0000',\n",
      "                           fill_opacity=0.5)\n",
      "except:\n",
      "    pass\n",
      "\n",
      "try:\n",
      "    for st in model_data:\n",
      "        lat = model_data[st]['lat']\n",
      "        lon = model_data[st]['lon']\n",
      "        popupstring = (\"HF Radar: [\" + str(lat) + \":\" + str(lon) + \"]\" +\n",
      "                       \"<br>for<br>\" + ent['name'])\n",
      "        mapa.circle_marker([lat, lon], popup=popupstring, radius=500,\n",
      "                           line_color='#66FF33', fill_color='#66FF33',\n",
      "                           fill_opacity=0.5)\n",
      "except:\n",
      "    pass"
     ],
     "language": "python",
     "metadata": {},
     "outputs": [],
     "prompt_number": 18
    },
    {
     "cell_type": "markdown",
     "metadata": {},
     "source": [
      "Bonus: we can add WMS tile layer for today's HF-Radar data on the map.\n",
      "To enable the layer we must click on the top right menu of the interactive map."
     ]
    },
    {
     "cell_type": "code",
     "collapsed": false,
     "input": [
      "now = datetime.utcnow()\n",
      "mapa.add_tile_layer(tile_name='hfradar 2km',\n",
      "                    tile_url=('http://hfradar.ndbc.noaa.gov/tilesavg.php?'\n",
      "                              's=10&e=100&x={x}&y={y}&z={z}&t=' +\n",
      "                              str(now.year) + '-' + str(now.month) +\n",
      "                              '-' + str(now.day) + ' ' +\n",
      "                              str(now.hour-2) + ':00:00&rez=2'),\n",
      "                   attr='NDBC/NOAA')\n",
      "\n",
      "mapa.add_layers_to_map()\n",
      "\n",
      "mapa"
     ],
     "language": "python",
     "metadata": {},
     "outputs": [
      {
       "html": [
        "<iframe srcdoc=\"<!DOCTYPE html>\n",
        "<head>\n",
        "  <meta http-equiv=&quot;content-type&quot; content=&quot;text/html; charset=UTF-8&quot; />\n",
        "   <link rel=&quot;stylesheet&quot; href=&quot;https://rawgit.com/andrewgiessel/leafletstuff/master/leaflet.css&quot; />\n",
        "   <script src=&quot;https://cdnjs.cloudflare.com/ajax/libs/leaflet/0.7.3/leaflet.js&quot;></script>\n",
        "\n",
        "   <script src=&quot;https://ajax.googleapis.com/ajax/libs/jquery/1.11.1/jquery.min.js&quot;></script>\n",
        "\n",
        "   <link rel=&quot;stylesheet&quot; href=&quot;https://maxcdn.bootstrapcdn.com/bootstrap/3.2.0/css/bootstrap.min.css&quot;>\n",
        "   <link rel=&quot;stylesheet&quot; href=&quot;https://maxcdn.bootstrapcdn.com/bootstrap/3.2.0/css/bootstrap-theme.min.css&quot;>\n",
        "   <script src=&quot;https://maxcdn.bootstrapcdn.com/bootstrap/3.2.0/js/bootstrap.min.js&quot;></script>\n",
        "\n",
        "   <link href=&quot;https://maxcdn.bootstrapcdn.com/font-awesome/4.1.0/css/font-awesome.min.css&quot; rel=&quot;stylesheet&quot;>\n",
        "\n",
        "   <link rel=&quot;stylesheet&quot; href=&quot;https://rawgit.com/lvoogdt/Leaflet.awesome-markers/2.0/develop/dist/leaflet.awesome-markers.css&quot;>\n",
        "   <script src=&quot;https://rawgithub.com/lvoogdt/Leaflet.awesome-markers/2.0/develop/dist/leaflet.awesome-markers.js&quot;></script>\n",
        "\n",
        "\n",
        "   <link rel=&quot;stylesheet&quot; href=&quot;https://cdnjs.cloudflare.com/ajax/libs/leaflet.markercluster/0.4.0/MarkerCluster.Default.css&quot;>\n",
        "   <link rel=&quot;stylesheet&quot; href=&quot;https://cdnjs.cloudflare.com/ajax/libs/leaflet.markercluster/0.4.0/MarkerCluster.css&quot;>\n",
        "   <script src=&quot;https://cdnjs.cloudflare.com/ajax/libs/leaflet.markercluster/0.4.0/leaflet.markercluster-src.js&quot;></script>\n",
        "   <script src=&quot;https://cdnjs.cloudflare.com/ajax/libs/leaflet.markercluster/0.4.0/leaflet.markercluster.js&quot;></script>\n",
        "\n",
        "   <link rel=&quot;stylesheet&quot; href=&quot;https://birdage.github.io/Leaflet.awesome-markers/dist/leaflet.awesome.rotate.css&quot;>\n",
        "\n",
        "   \n",
        "   \n",
        "   \n",
        "   \n",
        "\n",
        "   <style>\n",
        "\n",
        "      html, body {\n",
        "        width: 100%;\n",
        "        height: 100%;\n",
        "        margin: 0;\n",
        "        padding: 0;\n",
        "      }\n",
        "\n",
        "      #map {\n",
        "        position:absolute;\n",
        "        top:0;\n",
        "        bottom:0;\n",
        "        right:0;\n",
        "        left:0;\n",
        "      }\n",
        "\n",
        "   </style>\n",
        "</head>\n",
        "\n",
        "<body>\n",
        "\n",
        "   <div class=&quot;folium-map&quot; id=&quot;folium_52d140e9ffd94af285592607f28ee36c&quot; style=&quot;width: 100%; height: 100%&quot;></div>\n",
        "\n",
        "   <script>\n",
        "\n",
        "      \n",
        "\n",
        "      var base_tile = L.tileLayer('https://{s}.tile.openstreetmap.org/{z}/{x}/{y}.png', {\n",
        "          maxZoom: 18,\n",
        "          minZoom: 1,\n",
        "          attribution: 'Map data (c) <a href=&quot;http://openstreetmap.org&quot;>OpenStreetMap</a> contributors'\n",
        "      });\n",
        "\n",
        "      var baseLayer = {\n",
        "        &quot;Base Layer&quot;: base_tile\n",
        "      };\n",
        "\n",
        "      /*\n",
        "      addition of the wms layers\n",
        "      */\n",
        "\n",
        "      \n",
        "\n",
        "      /*\n",
        "      addition of the tile layers\n",
        "      */\n",
        "      \n",
        "      var hfradar_2km = L.tileLayer('http://hfradar.ndbc.noaa.gov/tilesavg.php?s=10&e=100&x={x}&y={y}&z={z}&t=2015-12-13 12:00:00&rez=2',{\n",
        "                            'minZoom': 0,\n",
        "                            'maxZoom': 18,\n",
        "                            'tms': false,\n",
        "                            'continuousWorld': false,\n",
        "                            'noWrap': false,\n",
        "                            'zoomOffset': 0,\n",
        "                            'zoomReverse': false,\n",
        "                            'opacity': 1 \n",
        "                            });\n",
        "      \n",
        "\n",
        "      /*\n",
        "      list of layers to be added\n",
        "      */\n",
        "      var layer_list = {\n",
        "      \n",
        "      &quot;hfradar_2km&quot;: hfradar_2km\n",
        "\n",
        "      \n",
        "      };\n",
        "\n",
        "      /*\n",
        "      Bounding box.\n",
        "      */\n",
        "      var southWest = L.latLng(-90, -180),\n",
        "          northEast = L.latLng(90, 180),\n",
        "          bounds = L.latLngBounds(southWest, northEast);\n",
        "\n",
        "      /*\n",
        "      Creates the map and adds the selected layers\n",
        "      */\n",
        "      var map = L.map('folium_52d140e9ffd94af285592607f28ee36c', {\n",
        "                                       center:[38.0346, -122.1252],\n",
        "                                       zoom: 10,\n",
        "                                       maxBounds: bounds,\n",
        "                                       layers: [base_tile]\n",
        "                                     });\n",
        "\n",
        "      L.control.layers(baseLayer, layer_list).addTo(map);\n",
        "\n",
        "      /*\n",
        "      addition of the image layers\n",
        "      */\n",
        "      \n",
        "      \n",
        "      //cluster group\n",
        "      var clusteredmarkers = L.markerClusterGroup();\n",
        "      //section for adding clustered markers\n",
        "      \n",
        "      //add the clustered markers to the group anyway\n",
        "      map.addLayer(clusteredmarkers);\n",
        "\n",
        "      \n",
        "      var marker_1_icon = L.AwesomeMarkers.icon({ icon: 'star',markerColor: 'darkblue',prefix: 'glyphicon',extraClasses: 'fa-rotate-0'});\n",
        "      var marker_1 = L.marker([38.0346, \n",
        "\t\t\t\t\t\t\t-122.1252],\n",
        "\t\t\t\t\t\t\t{'icon':marker_1_icon}\n",
        "\t\t\t\t\t\t\t);\n",
        "      marker_1.bindPopup(&quot;<b>Obs Location:</b><br>urn:ioos:station:NOAA.NOS.CO-OPS:s06010<br><b>Source:</b><br>coops&quot;);\n",
        "      marker_1._popup.options.maxWidth = 300;\n",
        "      map.addLayer(marker_1)\n",
        "      \n",
        "      var marker_2_icon = L.AwesomeMarkers.icon({ icon: 'star',markerColor: 'darkblue',prefix: 'glyphicon',extraClasses: 'fa-rotate-0'});\n",
        "      var marker_2 = L.marker([37.9162, \n",
        "\t\t\t\t\t\t\t-122.4223],\n",
        "\t\t\t\t\t\t\t{'icon':marker_2_icon}\n",
        "\t\t\t\t\t\t\t);\n",
        "      marker_2.bindPopup(&quot;<b>Obs Location:</b><br>urn:ioos:station:NOAA.NOS.CO-OPS:s08010<br><b>Source:</b><br>coops&quot;);\n",
        "      marker_2._popup.options.maxWidth = 300;\n",
        "      map.addLayer(marker_2)\n",
        "      \n",
        "\n",
        "      \n",
        "      var circle_1 = L.circle([38.0174, -122.115], 500, {\n",
        "                            color: '#FF0000',\n",
        "                            fillColor: '#FF0000',\n",
        "                            fillOpacity: 0.5\n",
        "                            });\n",
        "      circle_1.bindPopup(&quot;HF Radar: [38.0174:-122.115]<br>for<br>urn:ioos:station:NOAA.NOS.CO-OPS:s06010&quot;);\n",
        "      circle_1._popup.options.maxWidth = 300;\n",
        "      map.addLayer(circle_1)\n",
        "      \n",
        "      var circle_2 = L.circle([37.9095, -122.427], 500, {\n",
        "                            color: '#FF0000',\n",
        "                            fillColor: '#FF0000',\n",
        "                            fillOpacity: 0.5\n",
        "                            });\n",
        "      circle_2.bindPopup(&quot;HF Radar: [37.9095:-122.427]<br>for<br>urn:ioos:station:NOAA.NOS.CO-OPS:s08010&quot;);\n",
        "      circle_2._popup.options.maxWidth = 300;\n",
        "      map.addLayer(circle_2)\n",
        "      \n",
        "      var circle_3 = L.circle([38.0342, -122.125], 500, {\n",
        "                            color: '#66FF33',\n",
        "                            fillColor: '#66FF33',\n",
        "                            fillOpacity: 0.5\n",
        "                            });\n",
        "      circle_3.bindPopup(&quot;HF Radar: [38.0342:-122.125]<br>for<br>urn:ioos:station:NOAA.NOS.CO-OPS:s08010&quot;);\n",
        "      circle_3._popup.options.maxWidth = 300;\n",
        "      map.addLayer(circle_3)\n",
        "      \n",
        "      var circle_4 = L.circle([37.9161, -122.421], 500, {\n",
        "                            color: '#66FF33',\n",
        "                            fillColor: '#66FF33',\n",
        "                            fillOpacity: 0.5\n",
        "                            });\n",
        "      circle_4.bindPopup(&quot;HF Radar: [37.9161:-122.421]<br>for<br>urn:ioos:station:NOAA.NOS.CO-OPS:s08010&quot;);\n",
        "      circle_4._popup.options.maxWidth = 300;\n",
        "      map.addLayer(circle_4)\n",
        "      \n",
        "\n",
        "      \n",
        "      var latLngs = [ [36, -123],  [36, -121],  [40, -121],  [40, -123],  [36, -123], ];\n",
        "var line_1 = L.polyline(latLngs,{\n",
        "color: '#FF0000',\n",
        "weight: 5,\n",
        "\n",
        "});\n",
        "      \n",
        "      map.addLayer(line_1);\n",
        "      \n",
        "\n",
        "      \n",
        "\n",
        "      \n",
        "\n",
        "      \n",
        "\n",
        "\n",
        "\n",
        "   </script>\n",
        "\n",
        "</body>\" style=\"width: 100%; height: 500px; border: none\"></iframe>"
       ],
       "metadata": {},
       "output_type": "pyout",
       "prompt_number": 19,
       "text": [
        "<folium.folium.Map at 0x7fd5a6ee3e50>"
       ]
      }
     ],
     "prompt_number": 19
    },
    {
     "cell_type": "markdown",
     "metadata": {},
     "source": [
      "Map legend:\n",
      "\n",
      "- Blue: observed station\n",
      "- Green: model grid point\n",
      "- Red: HF Radar grid point"
     ]
    },
    {
     "cell_type": "markdown",
     "metadata": {},
     "source": [
      "In the beginning we raised the question:\n",
      "\n",
      "    What is the extent of relevant meteorological and oceanographic data available in near real-time that could be used to support rapid deployment of a common operational picture to support response?\n",
      "\n",
      "In order to answer that we tested how to get currents data for an area of interest, like the San Fransisco Bay.\n",
      "\n",
      "The main downside was the fact that we had to augment the catalog search by hard-coding a known model for the area, the SFBOFS Model.\n",
      "Still, the catalog was successful in finding near real-time observations from surrounding buoys/moorings, and HF-radar.\n",
      "\n",
      "You can see the original IOOS System Test notebook [here](http://nbviewer.ipython.org/github/ioos/system-test/blob/master/Theme_2_Extreme_Events/Scenario_2B/HF_Radar_Currents/HF_Radar_Currents_west_coast.ipynb)."
     ]
    },
    {
     "cell_type": "code",
     "collapsed": false,
     "input": [
      "HTML(html)"
     ],
     "language": "python",
     "metadata": {},
     "outputs": [
      {
       "html": [
        "\n",
        "<small>\n",
        "<p> This post was written as an IPython notebook.  It is available for\n",
        "<a href=\"http://ioos.github.com/system-test/downloads/\n",
        "notebooks/2015-10-26-HF_Radar_Currents_west_coast.ipynb\">download</a>.  You can also try an interactive version on\n",
        "<a href=\"http://mybinder.org/repo/ioos/system-test/\">binder</a>.</p>\n",
        "<p></p>\n"
       ],
       "metadata": {},
       "output_type": "pyout",
       "prompt_number": 20,
       "text": [
        "<IPython.core.display.HTML at 0x7fd5ad0d7450>"
       ]
      }
     ],
     "prompt_number": 20
    }
   ],
   "metadata": {}
  }
 ]
}