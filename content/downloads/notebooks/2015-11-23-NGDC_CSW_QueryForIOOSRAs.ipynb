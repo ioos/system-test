{
 "cells": [
  {
   "cell_type": "code",
   "execution_count": 1,
   "metadata": {
    "collapsed": false
   },
   "outputs": [],
   "source": [
    "\"\"\"\n",
    "The original notebook is NGDC_CSW_QueryForIOOSRAs.ipynb\n",
    "\n",
    "Created by Emilio Mayorga, 2/10/2014\n",
    "\"\"\"\n",
    "\n",
    "title = 'Catalog based search for the IOOS Regional Associations acronyms'\n",
    "name = '2015-11-23-NGDC_CSW_QueryForIOOSRAs'"
   ]
  },
  {
   "cell_type": "code",
   "execution_count": 2,
   "metadata": {
    "collapsed": false
   },
   "outputs": [
    {
     "name": "stderr",
     "output_type": "stream",
     "text": [
      "/home/filipe/miniconda/envs/ioos_blog/lib/python2.7/site-packages/matplotlib/__init__.py:872: UserWarning: axes.color_cycle is deprecated and replaced with axes.prop_cycle; please use the latter.\n",
      "  warnings.warn(self.msg_depr % (key, alt_key))\n"
     ]
    }
   ],
   "source": [
    "%matplotlib inline\n",
    "import seaborn\n",
    "seaborn.set(style='ticks')\n",
    "\n",
    "import os\n",
    "from datetime import datetime\n",
    "from IPython.core.display import HTML\n",
    "\n",
    "import warnings\n",
    "warnings.simplefilter(\"ignore\")\n",
    "\n",
    "# Metadata and markdown generation.\n",
    "hour = datetime.utcnow().strftime('%H:%M')\n",
    "comments = \"true\"\n",
    "\n",
    "date = '-'.join(name.split('-')[:3])\n",
    "slug = '-'.join(name.split('-')[3:])\n",
    "\n",
    "metadata = dict(title=title,\n",
    "                date=date,\n",
    "                hour=hour,\n",
    "                comments=comments,\n",
    "                slug=slug,\n",
    "                name=name)\n",
    "\n",
    "markdown = \"\"\"Title: {title}\n",
    "date:  {date} {hour}\n",
    "comments: {comments}\n",
    "slug: {slug}\n",
    "\n",
    "{{% notebook {name}.ipynb cells[2:] %}}\n",
    "\"\"\".format(**metadata)\n",
    "\n",
    "content = os.path.abspath(os.path.join(os.getcwd(), os.pardir,\n",
    "                                       os.pardir, '{}.md'.format(name)))\n",
    "\n",
    "with open('{}'.format(content), 'w') as f:\n",
    "    f.writelines(markdown)\n",
    "\n",
    "\n",
    "html = \"\"\"\n",
    "<small>\n",
    "<p> This post was written as an IPython notebook.  It is available for\n",
    "<a href=\"http://ioos.github.com/system-test/downloads/\n",
    "notebooks/%s.ipynb\">download</a> or\n",
    "<a href=\"http://mybinder.org/repo/ioos/system-test/\">run it on binder</a>.</p>\n",
    "<p></p>\n",
    "\"\"\" % (name)"
   ]
  },
  {
   "cell_type": "markdown",
   "metadata": {},
   "source": [
    "The goal of this post is to investigate if it is possible to query the NGDC CSW Catalog to extract records matching an IOOS RA acronym, like SECOORA for example.\n",
    "\n",
    "In the cell above we do the usual: instantiate a Catalogue Service Web (`csw`) using the [NGDC](https://www.ngdc.noaa.gov/) catalog endpoint."
   ]
  },
  {
   "cell_type": "code",
   "execution_count": 3,
   "metadata": {
    "collapsed": false
   },
   "outputs": [],
   "source": [
    "from owslib.csw import CatalogueServiceWeb\n",
    "\n",
    "endpoint = 'http://www.ngdc.noaa.gov/geoportal/csw'\n",
    "csw = CatalogueServiceWeb(endpoint, timeout=30)"
   ]
  },
  {
   "cell_type": "markdown",
   "metadata": {},
   "source": [
    "We need a list of all the Regional Associations I know. (With a little help of Google of course ;-)"
   ]
  },
  {
   "cell_type": "code",
   "execution_count": 4,
   "metadata": {
    "collapsed": false
   },
   "outputs": [],
   "source": [
    "ioos_ras = ['AOOS',      # Alaska\n",
    "            'CaRA',      # Caribbean\n",
    "            'CeNCOOS',   # Central and Northern California\n",
    "            'GCOOS',     # Gulf of Mexico\n",
    "            'GLOS',      # Great Lakes\n",
    "            'MARACOOS',  # Mid-Atlantic\n",
    "            'NANOOS',    # Pacific Northwest \n",
    "            'NERACOOS',  # Northeast Atlantic \n",
    "            'PacIOOS',   # Pacific Islands \n",
    "            'SCCOOS',    # Southern California\n",
    "            'SECOORA']   # Southeast Atlantic"
   ]
  },
  {
   "cell_type": "markdown",
   "metadata": {},
   "source": [
    "To streamline the query we can create a function that creates the `fes` filter and returns the records."
   ]
  },
  {
   "cell_type": "code",
   "execution_count": 5,
   "metadata": {
    "collapsed": false
   },
   "outputs": [],
   "source": [
    "from owslib.fes import PropertyIsEqualTo\n",
    "\n",
    "def query_ra(csw, ra='SECOORA'):\n",
    "    q = PropertyIsEqualTo(propertyname='apiso:Keywords', literal=ra)\n",
    "    csw.getrecords2(constraints=[q], maxrecords=100, esn='full')\n",
    "    return csw"
   ]
  },
  {
   "cell_type": "raw",
   "metadata": {},
   "source": [
    "Here is what we got:"
   ]
  },
  {
   "cell_type": "code",
   "execution_count": 6,
   "metadata": {
    "collapsed": false
   },
   "outputs": [
    {
     "name": "stdout",
     "output_type": "stream",
     "text": [
      "    AOOS has   1 record\n",
      "    CaRA has   0 record\n",
      " CeNCOOS has   7 records\n",
      "   GCOOS has   5 records\n",
      "    GLOS has  15 records\n",
      "MARACOOS has 100 records\n",
      "  NANOOS has   1 record\n",
      "NERACOOS has 100 records\n",
      " PacIOOS has   0 record\n",
      "  SCCOOS has  23 records\n",
      " SECOORA has  71 records\n"
     ]
    }
   ],
   "source": [
    "for ra in ioos_ras:\n",
    "    csw = query_ra(csw, ra)\n",
    "    ret = csw.results['returned']\n",
    "    word = 'records' if ret > 1 else 'record'\n",
    "    print(\"{0:>8} has {1:>3} {2}\".format(ra, ret, word))\n",
    "    csw.records.clear()"
   ]
  },
  {
   "cell_type": "markdown",
   "metadata": {},
   "source": [
    "I would not trust those number completely.\n",
    "Surely some of the RA listed above have more than 0/1 record.\n",
    "\n",
    "Note that we have more information in the `csw.records`.\n",
    "Let's inspect one of SECOORA's stations for example."
   ]
  },
  {
   "cell_type": "code",
   "execution_count": 7,
   "metadata": {
    "collapsed": false
   },
   "outputs": [
    {
     "name": "stdout",
     "output_type": "stream",
     "text": [
      "id_usf.tas.ngwlms\n"
     ]
    }
   ],
   "source": [
    "from utilities import get_coops_metadata\n",
    "\n",
    "csw = query_ra(csw, 'SECOORA')\n",
    "key = csw.records.keys()[0]\n",
    "\n",
    "print(key)"
   ]
  },
  {
   "cell_type": "markdown",
   "metadata": {},
   "source": [
    "We can verify the station type, title, and last date of modification."
   ]
  },
  {
   "cell_type": "code",
   "execution_count": 8,
   "metadata": {
    "collapsed": false
   },
   "outputs": [
    {
     "data": {
      "text/plain": [
       "('downloadableData', 'usf.tas.ngwlms', '2015-11-25T01:32:42-07:00')"
      ]
     },
     "execution_count": 8,
     "metadata": {},
     "output_type": "execute_result"
    }
   ],
   "source": [
    "station = csw.records[key]\n",
    "\n",
    "station.type, station.title, station.modified"
   ]
  },
  {
   "cell_type": "markdown",
   "metadata": {},
   "source": [
    "The `subjects` field contains the variables and some useful keywords."
   ]
  },
  {
   "cell_type": "code",
   "execution_count": 9,
   "metadata": {
    "collapsed": false
   },
   "outputs": [
    {
     "data": {
      "text/plain": [
       "['air_pressure',\n",
       " 'air_temperature',\n",
       " 'water_surface_height_above_reference_datum',\n",
       " 'wind_from_direction',\n",
       " 'wind_speed_of_gust',\n",
       " 'wind_speed',\n",
       " 'SECOORA',\n",
       " 'air_pressure',\n",
       " 'air_temperature',\n",
       " 'water_surface_height_above_reference_datum',\n",
       " 'wind_from_direction',\n",
       " 'wind_speed_of_gust',\n",
       " 'wind_speed',\n",
       " 'latitude',\n",
       " 'longitude',\n",
       " 'time',\n",
       " 'climatologyMeteorologyAtmosphere']"
      ]
     },
     "execution_count": 9,
     "metadata": {},
     "output_type": "execute_result"
    }
   ],
   "source": [
    "station.subjects"
   ]
  },
  {
   "cell_type": "markdown",
   "metadata": {},
   "source": [
    "And we can access the full `XML` description for the station."
   ]
  },
  {
   "cell_type": "code",
   "execution_count": 10,
   "metadata": {
    "collapsed": false
   },
   "outputs": [
    {
     "name": "stdout",
     "output_type": "stream",
     "text": [
      "<csw:Record xmlns:csw=\"http://www.opengis.net/cat/csw/2.0.2\" xmlns:dc=\"http://purl.org/dc/elements/1.1/\" xmlns:dcmiBox=\"http://dublincore.org/documents/2000/07/11/dcmi-box/\" xmlns:dct=\"http://purl.org/dc/terms/\" xmlns:gml=\"http://www.opengis.net/gml\" xmlns:ows=\"http://www.opengis.net/ows\" xmlns:xsd=\"http://www.w3.org/2001/XMLSchema\">\n",
      "<dc:identifier scheme=\"urn:x-esri:specification:ServiceType:ArcIMS:Metadata:FileID\">id_usf.tas.ngwlms</dc:identifier>\n",
      "<dc:identifier scheme=\"urn:x-esri:specification:ServiceType:ArcIMS:Metadata:DocID\">{9DDE8E32-EB36-4E72-B2CC-A47D51151271}</dc:identifier>\n",
      "<dc:title>usf.tas.ngwlms</dc:title>\n",
      "<dc:type scheme=\"urn:x-esri:specification:ServiceType:ArcIMS:Metadata:ContentType\">downloadableData</dc:type>\n",
      "<dc:type scheme=\"urn:x-esri:specification:ServiceType:ArcIMS:Metadata:ContentType\">liveData</dc:type>\n",
      "<dc:subject>air_pressure</dc:subject>\n",
      "<dc:subject>air_temperature</dc:subject>\n",
      "<dc:subject>water_surface_height_above_reference_datum</dc:subject>\n",
      "<dc:subject>wind_from_direction</dc:subject>\n",
      "<dc:subject>wind_speed_of_gust</dc:subject>\n",
      "<dc:subject>wind_speed</dc:subject>\n",
      "<dc:subject>SECOORA</dc:subject>\n",
      "<dc:subject>air_pressure</dc:subject>\n",
      "<dc:subject>air_temperature</dc:subject>\n",
      "<dc:subject>water_surface_height_above_reference_datum</dc:subject>\n",
      "<dc:subject>wind_from_direction</dc:subject>\n",
      "<dc:subject>wind_speed_of_gust</dc:subject>\n",
      "<dc:subject>wind_speed</dc:subject>\n",
      "<dc:subject>latitude</dc:subject>\n",
      "<dc:subject>longitude</dc:subject>\n",
      "<dc:subject>time</dc:subject>\n",
      "<dc:subject>climatologyMeteorologyAtmosphere</dc:subject>\n",
      "<dct:modified>2015-11-25T01:32:42-07:00</dct:modified>\n",
      "<dct:references scheme=\"urn:x-esri:specification:ServiceType:distribution:url\">http://tds.secoora.org/thredds/dodsC/usf.tas.ngwlms.nc.html</dct:references>\n",
      "<dct:references scheme=\"urn:x-esri:specification:ServiceType:distribution:url\">http://www.ncdc.noaa.gov/oa/wct/wct-jnlp-beta.php?singlefile=http://tds.secoora.org/thredds/dodsC/usf.tas.ngwlms.nc</dct:references>\n",
      "<dct:references scheme=\"urn:x-esri:specification:ServiceType:sos:url\">http://tds.secoora.org/thredds/sos/usf.tas.ngwlms.nc?service=SOS&amp;version=1.0.0&amp;request=GetCapabilities</dct:references>\n",
      "<dct:references scheme=\"urn:x-esri:specification:ServiceType:odp:url\">http://tds.secoora.org/thredds/dodsC/usf.tas.ngwlms.nc</dct:references>\n",
      "<dct:references scheme=\"urn:x-esri:specification:ServiceType:download:url\">http://tds.secoora.org/thredds/dodsC/usf.tas.ngwlms.nc.html</dct:references>\n",
      "<ows:WGS84BoundingBox>\n",
      "<ows:LowerCorner>-82.75800323486328 28.1560001373291</ows:LowerCorner>\n",
      "<ows:UpperCorner>-82.75800323486328 28.1560001373291</ows:UpperCorner>\n",
      "</ows:WGS84BoundingBox>\n",
      "<ows:BoundingBox>\n",
      "<ows:LowerCorner>-82.75800323486328 28.1560001373291</ows:LowerCorner>\n",
      "<ows:UpperCorner>-82.75800323486328 28.1560001373291</ows:UpperCorner>\n",
      "</ows:BoundingBox>\n",
      "<dc:source>{B3EA8869-B726-4E39-898A-299E53ABBC98}</dc:source>\n",
      "</csw:Record>\n",
      "\n"
     ]
    }
   ],
   "source": [
    "print(station.xml)"
   ]
  },
  {
   "cell_type": "markdown",
   "metadata": {},
   "source": [
    "This query is very simple but also very powerful.\n",
    "We can quickly assess the data available for a certain Regional Association data with just a few line of code."
   ]
  },
  {
   "cell_type": "code",
   "execution_count": 11,
   "metadata": {
    "collapsed": false
   },
   "outputs": [
    {
     "data": {
      "text/html": [
       "\n",
       "<small>\n",
       "<p> This post was written as an IPython notebook.  It is available for\n",
       "<a href=\"http://ioos.github.com/system-test/downloads/\n",
       "notebooks/2015-11-23-NGDC_CSW_QueryForIOOSRAs.ipynb\">download</a> or\n",
       "<a href=\"http://mybinder.org/repo/ioos/system-test/\">run it on binder</a>.</p>\n",
       "<p></p>\n"
      ],
      "text/plain": [
       "<IPython.core.display.HTML at 0x7f97a2ae0ad0>"
      ]
     },
     "execution_count": 11,
     "metadata": {},
     "output_type": "execute_result"
    }
   ],
   "source": [
    "HTML(html)"
   ]
  }
 ],
 "metadata": {
  "kernelspec": {
   "display_name": "Python 2",
   "language": "python",
   "name": "python2"
  },
  "language_info": {
   "codemirror_mode": {
    "name": "ipython",
    "version": 2
   },
   "file_extension": ".py",
   "mimetype": "text/x-python",
   "name": "python",
   "nbconvert_exporter": "python",
   "pygments_lexer": "ipython2",
   "version": "2.7.10"
  }
 },
 "nbformat": 4,
 "nbformat_minor": 0
}
